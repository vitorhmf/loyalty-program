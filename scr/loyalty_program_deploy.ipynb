{
 "cells": [
  {
   "cell_type": "markdown",
   "metadata": {},
   "source": [
    "# 0. Imports"
   ]
  },
  {
   "cell_type": "markdown",
   "metadata": {},
   "source": [
    "### 0.1 Libs"
   ]
  },
  {
   "cell_type": "code",
   "execution_count": 137,
   "metadata": {},
   "outputs": [],
   "source": [
    "import re\n",
    "import warnings\n",
    "import inflection\n",
    "import sqlite3\n",
    "import pickle\n",
    "\n",
    "\n",
    "import numpy            as np\n",
    "import pandas           as pd\n",
    "import seaborn          as sns\n",
    "import umap.umap_       as umap\n",
    "import matplotlib.cm    as cm\n",
    "import scipy.stats      as st\n",
    "\n",
    "from IPython.display        import Image\n",
    "from sqlalchemy             import create_engine\n",
    "from pandas_profiling       import ProfileReport\n",
    "\n",
    "from plotly                 import express          as px\n",
    "from matplotlib             import pyplot           as plt\n",
    "\n",
    "from scipy                  import stats            as ss\n",
    "from scipy.cluster          import hierarchy        as hc\n",
    "\n",
    "from sklearn                import cluster          as c\n",
    "from sklearn                import metrics          as m\n",
    "from sklearn                import preprocessing    as pp\n",
    "from sklearn                import decomposition    as dd\n",
    "from sklearn                import ensemble         as en\n",
    "from sklearn                import mixture          as mx\n",
    "from sklearn                import manifold         as mn"
   ]
  },
  {
   "cell_type": "markdown",
   "metadata": {},
   "source": [
    "### 0.2 Helper Functions"
   ]
  },
  {
   "cell_type": "code",
   "execution_count": 138,
   "metadata": {},
   "outputs": [],
   "source": [
    "warnings.simplefilter(\"ignore\")\n",
    "\n",
    "def numerical_metrics(numerical_attributes):\n",
    "    #ct = central tendency\n",
    "    ct_mean = pd.DataFrame(numerical_attributes.apply(np.mean)).T\n",
    "    ct_median = pd.DataFrame(numerical_attributes.apply(np.median)).T\n",
    "\n",
    "    #d = dispersion\n",
    "    d_std = pd.DataFrame(numerical_attributes.apply(np.std)).T\n",
    "    d_min = pd.DataFrame(numerical_attributes.apply(min)).T\n",
    "    d_max = pd.DataFrame(numerical_attributes.apply(max)).T\n",
    "    d_range = pd.DataFrame(numerical_attributes.apply(lambda x: x.max() - x.min())).T\n",
    "    d_skew = pd.DataFrame(numerical_attributes.apply(lambda x: x.skew())).T\n",
    "    d_kurtosis = pd.DataFrame(numerical_attributes.apply(lambda x: x.kurtosis())).T\n",
    "\n",
    "    concat = pd.concat([d_min,d_max,d_range,ct_mean,ct_median,d_std,d_skew,d_kurtosis]).T.reset_index()\n",
    "    concat.columns=['Attributes','Min','Max','Range','Mean','Median','STD','Skew','Kurtosis']\n",
    "\n",
    "    return concat"
   ]
  },
  {
   "cell_type": "markdown",
   "metadata": {},
   "source": [
    "### 0.3 Loading Data"
   ]
  },
  {
   "cell_type": "code",
   "execution_count": 139,
   "metadata": {},
   "outputs": [],
   "source": [
    "# df_raw = pd.read_csv('../data/data.csv', encoding= 'unicode_escape')\n",
    "\n",
    "path_s3 = 's3://vhmf-insiders-dataset/'\n",
    "df_raw = pd.read_csv(path_s3 + 'data.csv', encoding= 'unicode_escape')"
   ]
  },
  {
   "cell_type": "markdown",
   "metadata": {},
   "source": [
    "# 1. Data Description"
   ]
  },
  {
   "cell_type": "markdown",
   "metadata": {},
   "source": [
    "### 1.0 Rename Columns"
   ]
  },
  {
   "cell_type": "code",
   "execution_count": 86,
   "metadata": {},
   "outputs": [
    {
     "data": {
      "text/plain": [
       "Index(['InvoiceNo', 'StockCode', 'Description', 'Quantity', 'InvoiceDate',\n",
       "       'UnitPrice', 'CustomerID', 'Country'],\n",
       "      dtype='object')"
      ]
     },
     "execution_count": 86,
     "metadata": {},
     "output_type": "execute_result"
    }
   ],
   "source": [
    "df1 = df_raw.copy()\n",
    "\n",
    "df1.columns"
   ]
  },
  {
   "cell_type": "code",
   "execution_count": 87,
   "metadata": {},
   "outputs": [
    {
     "data": {
      "text/html": [
       "<div>\n",
       "<style scoped>\n",
       "    .dataframe tbody tr th:only-of-type {\n",
       "        vertical-align: middle;\n",
       "    }\n",
       "\n",
       "    .dataframe tbody tr th {\n",
       "        vertical-align: top;\n",
       "    }\n",
       "\n",
       "    .dataframe thead th {\n",
       "        text-align: right;\n",
       "    }\n",
       "</style>\n",
       "<table border=\"1\" class=\"dataframe\">\n",
       "  <thead>\n",
       "    <tr style=\"text-align: right;\">\n",
       "      <th></th>\n",
       "      <th>invoice_no</th>\n",
       "      <th>stock_code</th>\n",
       "      <th>description</th>\n",
       "      <th>quantity</th>\n",
       "      <th>invoice_date</th>\n",
       "      <th>unit_price</th>\n",
       "      <th>customer_id</th>\n",
       "      <th>country</th>\n",
       "    </tr>\n",
       "  </thead>\n",
       "  <tbody>\n",
       "    <tr>\n",
       "      <th>0</th>\n",
       "      <td>536365</td>\n",
       "      <td>85123A</td>\n",
       "      <td>WHITE HANGING HEART T-LIGHT HOLDER</td>\n",
       "      <td>6</td>\n",
       "      <td>12/1/2010 8:26</td>\n",
       "      <td>2.55</td>\n",
       "      <td>17850.0</td>\n",
       "      <td>United Kingdom</td>\n",
       "    </tr>\n",
       "    <tr>\n",
       "      <th>1</th>\n",
       "      <td>536365</td>\n",
       "      <td>71053</td>\n",
       "      <td>WHITE METAL LANTERN</td>\n",
       "      <td>6</td>\n",
       "      <td>12/1/2010 8:26</td>\n",
       "      <td>3.39</td>\n",
       "      <td>17850.0</td>\n",
       "      <td>United Kingdom</td>\n",
       "    </tr>\n",
       "    <tr>\n",
       "      <th>2</th>\n",
       "      <td>536365</td>\n",
       "      <td>84406B</td>\n",
       "      <td>CREAM CUPID HEARTS COAT HANGER</td>\n",
       "      <td>8</td>\n",
       "      <td>12/1/2010 8:26</td>\n",
       "      <td>2.75</td>\n",
       "      <td>17850.0</td>\n",
       "      <td>United Kingdom</td>\n",
       "    </tr>\n",
       "    <tr>\n",
       "      <th>3</th>\n",
       "      <td>536365</td>\n",
       "      <td>84029G</td>\n",
       "      <td>KNITTED UNION FLAG HOT WATER BOTTLE</td>\n",
       "      <td>6</td>\n",
       "      <td>12/1/2010 8:26</td>\n",
       "      <td>3.39</td>\n",
       "      <td>17850.0</td>\n",
       "      <td>United Kingdom</td>\n",
       "    </tr>\n",
       "    <tr>\n",
       "      <th>4</th>\n",
       "      <td>536365</td>\n",
       "      <td>84029E</td>\n",
       "      <td>RED WOOLLY HOTTIE WHITE HEART.</td>\n",
       "      <td>6</td>\n",
       "      <td>12/1/2010 8:26</td>\n",
       "      <td>3.39</td>\n",
       "      <td>17850.0</td>\n",
       "      <td>United Kingdom</td>\n",
       "    </tr>\n",
       "  </tbody>\n",
       "</table>\n",
       "</div>"
      ],
      "text/plain": [
       "  invoice_no stock_code                          description  quantity  \\\n",
       "0     536365     85123A   WHITE HANGING HEART T-LIGHT HOLDER         6   \n",
       "1     536365      71053                  WHITE METAL LANTERN         6   \n",
       "2     536365     84406B       CREAM CUPID HEARTS COAT HANGER         8   \n",
       "3     536365     84029G  KNITTED UNION FLAG HOT WATER BOTTLE         6   \n",
       "4     536365     84029E       RED WOOLLY HOTTIE WHITE HEART.         6   \n",
       "\n",
       "     invoice_date  unit_price  customer_id         country  \n",
       "0  12/1/2010 8:26        2.55      17850.0  United Kingdom  \n",
       "1  12/1/2010 8:26        3.39      17850.0  United Kingdom  \n",
       "2  12/1/2010 8:26        2.75      17850.0  United Kingdom  \n",
       "3  12/1/2010 8:26        3.39      17850.0  United Kingdom  \n",
       "4  12/1/2010 8:26        3.39      17850.0  United Kingdom  "
      ]
     },
     "execution_count": 87,
     "metadata": {},
     "output_type": "execute_result"
    }
   ],
   "source": [
    "cols_old = ['InvoiceNo', 'StockCode', 'Description', 'Quantity', 'InvoiceDate',\n",
    "       'UnitPrice', 'CustomerID', 'Country']\n",
    "\n",
    "snakecase = lambda x: inflection.underscore(x)\n",
    "\n",
    "cols_new = list( map(snakecase, cols_old))\n",
    "\n",
    "df1.columns = cols_new\n",
    "\n",
    "df1.head()"
   ]
  },
  {
   "cell_type": "markdown",
   "metadata": {},
   "source": [
    "### 1.1 Data Dimentions"
   ]
  },
  {
   "cell_type": "code",
   "execution_count": 88,
   "metadata": {},
   "outputs": [
    {
     "name": "stdout",
     "output_type": "stream",
     "text": [
      "Number of Rows:541909\n",
      "Number of Columns:8\n",
      "Number of Clients:4373\n"
     ]
    }
   ],
   "source": [
    "print(f'Number of Rows:{df1.shape[0]}')\n",
    "print(f'Number of Columns:{df1.shape[1]}')\n",
    "print('Number of Clients:{}'.format(len(df1['customer_id'].unique())))"
   ]
  },
  {
   "cell_type": "markdown",
   "metadata": {},
   "source": [
    "### 1.4 Fillout NA"
   ]
  },
  {
   "cell_type": "code",
   "execution_count": 89,
   "metadata": {},
   "outputs": [
    {
     "name": "stdout",
     "output_type": "stream",
     "text": [
      "Removed data: 25%\n",
      "New number of rows: 406829\n"
     ]
    }
   ],
   "source": [
    "df1 = df1.dropna(subset=['description', 'customer_id'])\n",
    "print('Removed data: {:.0%}'.format( 1-(df1.shape[0] / df_raw.shape[0])))\n",
    "print(f'New number of rows: {df1.shape[0]}')"
   ]
  },
  {
   "cell_type": "markdown",
   "metadata": {},
   "source": [
    "### 1.5 Change Types"
   ]
  },
  {
   "cell_type": "code",
   "execution_count": 90,
   "metadata": {},
   "outputs": [
    {
     "data": {
      "text/html": [
       "<div>\n",
       "<style scoped>\n",
       "    .dataframe tbody tr th:only-of-type {\n",
       "        vertical-align: middle;\n",
       "    }\n",
       "\n",
       "    .dataframe tbody tr th {\n",
       "        vertical-align: top;\n",
       "    }\n",
       "\n",
       "    .dataframe thead th {\n",
       "        text-align: right;\n",
       "    }\n",
       "</style>\n",
       "<table border=\"1\" class=\"dataframe\">\n",
       "  <thead>\n",
       "    <tr style=\"text-align: right;\">\n",
       "      <th></th>\n",
       "      <th>invoice_no</th>\n",
       "      <th>stock_code</th>\n",
       "      <th>description</th>\n",
       "      <th>quantity</th>\n",
       "      <th>invoice_date</th>\n",
       "      <th>unit_price</th>\n",
       "      <th>customer_id</th>\n",
       "      <th>country</th>\n",
       "    </tr>\n",
       "  </thead>\n",
       "  <tbody>\n",
       "    <tr>\n",
       "      <th>0</th>\n",
       "      <td>536365</td>\n",
       "      <td>85123A</td>\n",
       "      <td>WHITE HANGING HEART T-LIGHT HOLDER</td>\n",
       "      <td>6</td>\n",
       "      <td>2010-12-01</td>\n",
       "      <td>2.55</td>\n",
       "      <td>17850</td>\n",
       "      <td>United Kingdom</td>\n",
       "    </tr>\n",
       "    <tr>\n",
       "      <th>1</th>\n",
       "      <td>536365</td>\n",
       "      <td>71053</td>\n",
       "      <td>WHITE METAL LANTERN</td>\n",
       "      <td>6</td>\n",
       "      <td>2010-12-01</td>\n",
       "      <td>3.39</td>\n",
       "      <td>17850</td>\n",
       "      <td>United Kingdom</td>\n",
       "    </tr>\n",
       "    <tr>\n",
       "      <th>2</th>\n",
       "      <td>536365</td>\n",
       "      <td>84406B</td>\n",
       "      <td>CREAM CUPID HEARTS COAT HANGER</td>\n",
       "      <td>8</td>\n",
       "      <td>2010-12-01</td>\n",
       "      <td>2.75</td>\n",
       "      <td>17850</td>\n",
       "      <td>United Kingdom</td>\n",
       "    </tr>\n",
       "    <tr>\n",
       "      <th>3</th>\n",
       "      <td>536365</td>\n",
       "      <td>84029G</td>\n",
       "      <td>KNITTED UNION FLAG HOT WATER BOTTLE</td>\n",
       "      <td>6</td>\n",
       "      <td>2010-12-01</td>\n",
       "      <td>3.39</td>\n",
       "      <td>17850</td>\n",
       "      <td>United Kingdom</td>\n",
       "    </tr>\n",
       "    <tr>\n",
       "      <th>4</th>\n",
       "      <td>536365</td>\n",
       "      <td>84029E</td>\n",
       "      <td>RED WOOLLY HOTTIE WHITE HEART.</td>\n",
       "      <td>6</td>\n",
       "      <td>2010-12-01</td>\n",
       "      <td>3.39</td>\n",
       "      <td>17850</td>\n",
       "      <td>United Kingdom</td>\n",
       "    </tr>\n",
       "  </tbody>\n",
       "</table>\n",
       "</div>"
      ],
      "text/plain": [
       "  invoice_no stock_code                          description  quantity  \\\n",
       "0     536365     85123A   WHITE HANGING HEART T-LIGHT HOLDER         6   \n",
       "1     536365      71053                  WHITE METAL LANTERN         6   \n",
       "2     536365     84406B       CREAM CUPID HEARTS COAT HANGER         8   \n",
       "3     536365     84029G  KNITTED UNION FLAG HOT WATER BOTTLE         6   \n",
       "4     536365     84029E       RED WOOLLY HOTTIE WHITE HEART.         6   \n",
       "\n",
       "  invoice_date  unit_price  customer_id         country  \n",
       "0   2010-12-01        2.55        17850  United Kingdom  \n",
       "1   2010-12-01        3.39        17850  United Kingdom  \n",
       "2   2010-12-01        2.75        17850  United Kingdom  \n",
       "3   2010-12-01        3.39        17850  United Kingdom  \n",
       "4   2010-12-01        3.39        17850  United Kingdom  "
      ]
     },
     "execution_count": 90,
     "metadata": {},
     "output_type": "execute_result"
    }
   ],
   "source": [
    "df1['customer_id'] = df1['customer_id'].astype(int)\n",
    "\n",
    "df1['invoice_date'] = pd.to_datetime(df1['invoice_date'])\n",
    "df1['invoice_date'] = df1['invoice_date'].dt.strftime('%Y-%m-%d')\n",
    "df1['invoice_date'] = pd.to_datetime(df1['invoice_date'])\n",
    "\n",
    "df1.head()"
   ]
  },
  {
   "cell_type": "markdown",
   "metadata": {},
   "source": [
    "# 2. Data Filtering "
   ]
  },
  {
   "cell_type": "markdown",
   "metadata": {},
   "source": [
    "### 2.1 Bad Users"
   ]
  },
  {
   "cell_type": "code",
   "execution_count": 91,
   "metadata": {},
   "outputs": [],
   "source": [
    "df2 = df1.copy()"
   ]
  },
  {
   "cell_type": "code",
   "execution_count": 92,
   "metadata": {},
   "outputs": [],
   "source": [
    "df2 = df2[~df2['customer_id'].isin([16446])]  # Maior número de devolução do conjunto de dados\n",
    "df2 = df2[~df2['customer_id'].isin([17548, 16546, 15823, 13672, 12346, 13762, 18268, 14557, 16878, 13364, 14792, 12607, 12454, 18274, 12558])]  # itens devolvidos >= itens comprados\n",
    "\n"
   ]
  },
  {
   "cell_type": "markdown",
   "metadata": {},
   "source": [
    "### 2.2 Cat Attributes"
   ]
  },
  {
   "cell_type": "code",
   "execution_count": 93,
   "metadata": {},
   "outputs": [],
   "source": [
    "# Stock Code != ['POST', 'D', 'M', 'PADS', 'DOT', 'CRUK']\n",
    "# df2 = df2[~df2['stock_code'].isin(['POST', 'D', 'DOT', 'M', 'S', 'AMAZONFEE', 'm', 'DCGSSBOY', 'DCGSSGIRL', 'PADS', 'B', 'CRUK'])]\n",
    "df2 = df2[~df2['stock_code'].isin(['POST', 'D', 'M', 'PADS', 'DOT', 'CRUK'])]\n",
    "\n",
    "# Description\n",
    "df2 = df2.drop(columns = 'description', axis = 1)"
   ]
  },
  {
   "cell_type": "markdown",
   "metadata": {},
   "source": [
    "### 2.3 Num Attributes"
   ]
  },
  {
   "cell_type": "code",
   "execution_count": 94,
   "metadata": {},
   "outputs": [],
   "source": [
    "# Unit Price > 0.04 \n",
    "df2 = df2.loc[df2['unit_price'] >= 0.04, :]\n",
    "\n",
    "# Quantity\n",
    "df_returns = df2.loc[df2['quantity']<0, :]\n",
    "df_purchases = df2.loc[df2['quantity']>0, :]"
   ]
  },
  {
   "cell_type": "markdown",
   "metadata": {},
   "source": [
    "# 3. Feature Engineering"
   ]
  },
  {
   "cell_type": "markdown",
   "metadata": {},
   "source": [
    "### 3.0 Dataset"
   ]
  },
  {
   "cell_type": "code",
   "execution_count": 95,
   "metadata": {},
   "outputs": [],
   "source": [
    "df3 = df2.copy()\n",
    "\n",
    "# Data Reference\n",
    "df_ref = df3.drop (['invoice_no', 'stock_code',\n",
    "                    'quantity', 'invoice_date', 'unit_price',\n",
    "                    'country'], axis=1).drop_duplicates(ignore_index=True)"
   ]
  },
  {
   "cell_type": "markdown",
   "metadata": {},
   "source": [
    "### 3.1 Gross Revenue"
   ]
  },
  {
   "cell_type": "code",
   "execution_count": 96,
   "metadata": {},
   "outputs": [
    {
     "data": {
      "text/plain": [
       "customer_id       0\n",
       "gross_revenue    27\n",
       "dtype: int64"
      ]
     },
     "execution_count": 96,
     "metadata": {},
     "output_type": "execute_result"
    }
   ],
   "source": [
    "# Monetary (Gross Revenue)\n",
    "df_purchases['gross_revenue'] = df_purchases['quantity'] * df_purchases['unit_price']\n",
    "df_monetary = df_purchases[['customer_id', 'gross_revenue']].groupby('customer_id').sum().reset_index()\n",
    "df_ref = pd.merge (df_ref, df_monetary, on = 'customer_id', how = 'left')\n",
    "\n",
    "df_ref.isna().sum()"
   ]
  },
  {
   "cell_type": "markdown",
   "metadata": {},
   "source": [
    "### 3.2 Recency - Day from last purchase"
   ]
  },
  {
   "cell_type": "code",
   "execution_count": 97,
   "metadata": {},
   "outputs": [
    {
     "data": {
      "text/plain": [
       "customer_id       0\n",
       "gross_revenue    27\n",
       "recency_days     27\n",
       "dtype: int64"
      ]
     },
     "execution_count": 97,
     "metadata": {},
     "output_type": "execute_result"
    }
   ],
   "source": [
    "# Recency\n",
    "df_recency = df_purchases[['customer_id', 'invoice_date']].groupby('customer_id').max().reset_index()\n",
    "df_recency['recency_days'] = (df_purchases['invoice_date'].max() - df_recency['invoice_date']).dt.days\n",
    "df_recency = df_recency[['customer_id', 'recency_days']].copy()\n",
    "df_ref = pd.merge(df_ref, df_recency, on = 'customer_id', how = 'left')\n",
    "\n",
    "df_ref.isna().sum()"
   ]
  },
  {
   "cell_type": "markdown",
   "metadata": {},
   "source": [
    "### 3.3 Quantity of purchases"
   ]
  },
  {
   "cell_type": "code",
   "execution_count": 98,
   "metadata": {},
   "outputs": [],
   "source": [
    "df_count = (df_purchases[['customer_id', 'invoice_no']].drop_duplicates()\n",
    "                                                       .groupby('customer_id')\n",
    "                                                       .count()\n",
    "                                                       .reset_index()\n",
    "                                                       .rename(columns={'invoice_no':'purchases_no'}))\n",
    "\n",
    "df_ref = pd.merge(df_ref, df_count, on = 'customer_id', how = 'left')"
   ]
  },
  {
   "cell_type": "markdown",
   "metadata": {},
   "source": [
    "### 3.4 Quantity of diferent products purchased"
   ]
  },
  {
   "cell_type": "code",
   "execution_count": 99,
   "metadata": {},
   "outputs": [
    {
     "data": {
      "text/plain": [
       "customer_id       0\n",
       "gross_revenue    27\n",
       "recency_days     27\n",
       "purchases_no     27\n",
       "products_no      27\n",
       "dtype: int64"
      ]
     },
     "execution_count": 99,
     "metadata": {},
     "output_type": "execute_result"
    }
   ],
   "source": [
    "df_prod = (df_purchases[['customer_id', 'stock_code']].groupby('customer_id')\n",
    "                                                      .count()\n",
    "                                                      .reset_index()\n",
    "                                                      .rename(columns={'stock_code':'products_no'}))\n",
    "\n",
    "df_ref = pd.merge(df_ref, df_prod, on = 'customer_id', how = 'left')\n",
    "df_ref.isna().sum()"
   ]
  },
  {
   "cell_type": "markdown",
   "metadata": {},
   "source": [
    "### 3.5 Quantity of items purchased\n"
   ]
  },
  {
   "cell_type": "code",
   "execution_count": 100,
   "metadata": {},
   "outputs": [
    {
     "data": {
      "text/plain": [
       "customer_id       0\n",
       "gross_revenue    27\n",
       "recency_days     27\n",
       "purchases_no     27\n",
       "products_no      27\n",
       "items_no         27\n",
       "dtype: int64"
      ]
     },
     "execution_count": 100,
     "metadata": {},
     "output_type": "execute_result"
    }
   ],
   "source": [
    "df_prod = (df_purchases[['customer_id', 'quantity']].groupby('customer_id')\n",
    "                                                    .sum()\n",
    "                                                    .reset_index()\n",
    "                                                    .rename(columns={'quantity':'items_no'}))\n",
    "\n",
    "df_ref = pd.merge(df_ref, df_prod, on = 'customer_id', how = 'left')\n",
    "df_ref.isna().sum()\n"
   ]
  },
  {
   "cell_type": "markdown",
   "metadata": {},
   "source": [
    "### 3.6 Frequency Purchase"
   ]
  },
  {
   "cell_type": "code",
   "execution_count": 101,
   "metadata": {},
   "outputs": [
    {
     "data": {
      "text/plain": [
       "customer_id       0\n",
       "gross_revenue    27\n",
       "recency_days     27\n",
       "purchases_no     27\n",
       "products_no      27\n",
       "items_no         27\n",
       "frequency        27\n",
       "dtype: int64"
      ]
     },
     "execution_count": 101,
     "metadata": {},
     "output_type": "execute_result"
    }
   ],
   "source": [
    "df_aux = (df_purchases[['customer_id', 'invoice_no', 'invoice_date']].drop_duplicates()\n",
    "                                                                     .groupby('customer_id')\n",
    "                                                                     .agg(max_    = ('invoice_date', 'max'),\n",
    "                                                                          min_    = ('invoice_date', 'min'),\n",
    "                                                                          days_   = ('invoice_date', lambda x: ((x.max() - x.min()).days) + 1),\n",
    "                                                                          buy_    = ('invoice_no', 'count') ) ).reset_index()\n",
    "\n",
    "df_aux['frequency'] = df_aux[['buy_', 'days_']].apply(lambda x: x['buy_'] / x['days_'] if x['days_'] != 0 else 0, axis = 1)\n",
    "\n",
    "# Merge\n",
    "df_ref = pd.merge(df_ref, df_aux[['customer_id', 'frequency']], on = 'customer_id', how = 'left')\n",
    "df_ref.isna().sum()"
   ]
  },
  {
   "cell_type": "markdown",
   "metadata": {},
   "source": [
    "### 3.7 Returns"
   ]
  },
  {
   "cell_type": "code",
   "execution_count": 102,
   "metadata": {},
   "outputs": [
    {
     "data": {
      "text/html": [
       "<div>\n",
       "<style scoped>\n",
       "    .dataframe tbody tr th:only-of-type {\n",
       "        vertical-align: middle;\n",
       "    }\n",
       "\n",
       "    .dataframe tbody tr th {\n",
       "        vertical-align: top;\n",
       "    }\n",
       "\n",
       "    .dataframe thead th {\n",
       "        text-align: right;\n",
       "    }\n",
       "</style>\n",
       "<table border=\"1\" class=\"dataframe\">\n",
       "  <thead>\n",
       "    <tr style=\"text-align: right;\">\n",
       "      <th></th>\n",
       "      <th>invoice_no</th>\n",
       "      <th>stock_code</th>\n",
       "      <th>quantity</th>\n",
       "      <th>invoice_date</th>\n",
       "      <th>unit_price</th>\n",
       "      <th>customer_id</th>\n",
       "      <th>country</th>\n",
       "    </tr>\n",
       "  </thead>\n",
       "  <tbody>\n",
       "    <tr>\n",
       "      <th>154</th>\n",
       "      <td>C536383</td>\n",
       "      <td>35004C</td>\n",
       "      <td>-1</td>\n",
       "      <td>2010-12-01</td>\n",
       "      <td>4.65</td>\n",
       "      <td>15311</td>\n",
       "      <td>United Kingdom</td>\n",
       "    </tr>\n",
       "    <tr>\n",
       "      <th>939</th>\n",
       "      <td>C536506</td>\n",
       "      <td>22960</td>\n",
       "      <td>-6</td>\n",
       "      <td>2010-12-01</td>\n",
       "      <td>4.25</td>\n",
       "      <td>17897</td>\n",
       "      <td>United Kingdom</td>\n",
       "    </tr>\n",
       "    <tr>\n",
       "      <th>1441</th>\n",
       "      <td>C536543</td>\n",
       "      <td>22632</td>\n",
       "      <td>-1</td>\n",
       "      <td>2010-12-01</td>\n",
       "      <td>2.10</td>\n",
       "      <td>17841</td>\n",
       "      <td>United Kingdom</td>\n",
       "    </tr>\n",
       "    <tr>\n",
       "      <th>1442</th>\n",
       "      <td>C536543</td>\n",
       "      <td>22355</td>\n",
       "      <td>-2</td>\n",
       "      <td>2010-12-01</td>\n",
       "      <td>0.85</td>\n",
       "      <td>17841</td>\n",
       "      <td>United Kingdom</td>\n",
       "    </tr>\n",
       "    <tr>\n",
       "      <th>1973</th>\n",
       "      <td>C536548</td>\n",
       "      <td>22244</td>\n",
       "      <td>-4</td>\n",
       "      <td>2010-12-01</td>\n",
       "      <td>1.95</td>\n",
       "      <td>12472</td>\n",
       "      <td>Germany</td>\n",
       "    </tr>\n",
       "  </tbody>\n",
       "</table>\n",
       "</div>"
      ],
      "text/plain": [
       "     invoice_no stock_code  quantity invoice_date  unit_price  customer_id  \\\n",
       "154     C536383     35004C        -1   2010-12-01        4.65        15311   \n",
       "939     C536506      22960        -6   2010-12-01        4.25        17897   \n",
       "1441    C536543      22632        -1   2010-12-01        2.10        17841   \n",
       "1442    C536543      22355        -2   2010-12-01        0.85        17841   \n",
       "1973    C536548      22244        -4   2010-12-01        1.95        12472   \n",
       "\n",
       "             country  \n",
       "154   United Kingdom  \n",
       "939   United Kingdom  \n",
       "1441  United Kingdom  \n",
       "1442  United Kingdom  \n",
       "1973         Germany  "
      ]
     },
     "execution_count": 102,
     "metadata": {},
     "output_type": "execute_result"
    }
   ],
   "source": [
    "df_returns.head()"
   ]
  },
  {
   "cell_type": "code",
   "execution_count": 103,
   "metadata": {},
   "outputs": [
    {
     "data": {
      "text/plain": [
       "customer_id       0\n",
       "gross_revenue    27\n",
       "recency_days     27\n",
       "purchases_no     27\n",
       "products_no      27\n",
       "items_no         27\n",
       "frequency        27\n",
       "returns_no        0\n",
       "dtype: int64"
      ]
     },
     "execution_count": 103,
     "metadata": {},
     "output_type": "execute_result"
    }
   ],
   "source": [
    "# Return Number\n",
    "df_returns = df_returns[['customer_id', 'quantity']].groupby('customer_id').sum().reset_index().rename(columns={'quantity' : 'returns_no'})\n",
    "df_returns['returns_no'] = df_returns['returns_no'] * -1\n",
    "\n",
    "df_ref = pd.merge(df_ref, df_returns, how = 'left', on='customer_id')\n",
    "df_ref.loc[df_ref['returns_no'].isna(), 'returns_no'] = 0\n",
    "\n",
    "df_ref.isna().sum()"
   ]
  },
  {
   "cell_type": "markdown",
   "metadata": {},
   "source": [
    "### 3.8 Satisfaction Rate"
   ]
  },
  {
   "cell_type": "code",
   "execution_count": 104,
   "metadata": {},
   "outputs": [],
   "source": [
    "df_ref['satisfaction_rate'] = 1 - df_ref['returns_no'] / df_ref['items_no']"
   ]
  },
  {
   "cell_type": "code",
   "execution_count": 105,
   "metadata": {},
   "outputs": [
    {
     "data": {
      "text/plain": [
       "customer_id           0\n",
       "gross_revenue        27\n",
       "recency_days         27\n",
       "purchases_no         27\n",
       "products_no          27\n",
       "items_no             27\n",
       "frequency            27\n",
       "returns_no            0\n",
       "satisfaction_rate    27\n",
       "dtype: int64"
      ]
     },
     "execution_count": 105,
     "metadata": {},
     "output_type": "execute_result"
    }
   ],
   "source": [
    "df_ref.isna().sum()"
   ]
  },
  {
   "cell_type": "markdown",
   "metadata": {},
   "source": [
    "### 3.9 Recurrence"
   ]
  },
  {
   "cell_type": "code",
   "execution_count": 106,
   "metadata": {},
   "outputs": [
    {
     "data": {
      "text/plain": [
       "customer_id           0\n",
       "gross_revenue        27\n",
       "recency_days         27\n",
       "purchases_no         27\n",
       "products_no          27\n",
       "items_no             27\n",
       "frequency            27\n",
       "returns_no            0\n",
       "satisfaction_rate    27\n",
       "recorrence           27\n",
       "dtype: int64"
      ]
     },
     "execution_count": 106,
     "metadata": {},
     "output_type": "execute_result"
    }
   ],
   "source": [
    "df_purchases['invoice_month'] = df_purchases['invoice_date'].dt.month\n",
    "df_aux = df_purchases[['customer_id', 'invoice_month']].drop_duplicates().groupby(['customer_id']).count().reset_index()\n",
    "df_aux = df_aux.rename(columns={'invoice_month':'recorrence'})\n",
    "\n",
    "# Merge\n",
    "df_ref = pd.merge(df_ref, df_aux[['customer_id', 'recorrence']], on = 'customer_id', how = 'left')\n",
    "df_ref.isna().sum()\n",
    "\n",
    "                                                                  "
   ]
  },
  {
   "cell_type": "markdown",
   "metadata": {},
   "source": [
    "# 4. Exploratory Data Analysis"
   ]
  },
  {
   "cell_type": "markdown",
   "metadata": {},
   "source": [
    "### 4.1 Profile Report"
   ]
  },
  {
   "cell_type": "code",
   "execution_count": 107,
   "metadata": {},
   "outputs": [
    {
     "data": {
      "text/plain": [
       "customer_id          0\n",
       "gross_revenue        0\n",
       "recency_days         0\n",
       "purchases_no         0\n",
       "products_no          0\n",
       "items_no             0\n",
       "frequency            0\n",
       "returns_no           0\n",
       "satisfaction_rate    0\n",
       "recorrence           0\n",
       "dtype: int64"
      ]
     },
     "execution_count": 107,
     "metadata": {},
     "output_type": "execute_result"
    }
   ],
   "source": [
    "df4 = df_ref.dropna().copy()\n",
    "df4.isna().sum()"
   ]
  },
  {
   "cell_type": "markdown",
   "metadata": {},
   "source": [
    "# 5 Data Preparation"
   ]
  },
  {
   "cell_type": "markdown",
   "metadata": {},
   "source": [
    "#### 4.2.0 Data Preparation"
   ]
  },
  {
   "cell_type": "code",
   "execution_count": 108,
   "metadata": {},
   "outputs": [
    {
     "data": {
      "text/html": [
       "<div>\n",
       "<style scoped>\n",
       "    .dataframe tbody tr th:only-of-type {\n",
       "        vertical-align: middle;\n",
       "    }\n",
       "\n",
       "    .dataframe tbody tr th {\n",
       "        vertical-align: top;\n",
       "    }\n",
       "\n",
       "    .dataframe thead th {\n",
       "        text-align: right;\n",
       "    }\n",
       "</style>\n",
       "<table border=\"1\" class=\"dataframe\">\n",
       "  <thead>\n",
       "    <tr style=\"text-align: right;\">\n",
       "      <th></th>\n",
       "      <th>customer_id</th>\n",
       "      <th>gross_revenue</th>\n",
       "      <th>recency_days</th>\n",
       "      <th>purchases_no</th>\n",
       "      <th>products_no</th>\n",
       "      <th>items_no</th>\n",
       "      <th>frequency</th>\n",
       "      <th>returns_no</th>\n",
       "      <th>satisfaction_rate</th>\n",
       "      <th>recorrence</th>\n",
       "    </tr>\n",
       "  </thead>\n",
       "  <tbody>\n",
       "    <tr>\n",
       "      <th>0</th>\n",
       "      <td>17850</td>\n",
       "      <td>5391.21</td>\n",
       "      <td>372.0</td>\n",
       "      <td>34.0</td>\n",
       "      <td>297.0</td>\n",
       "      <td>1733.0</td>\n",
       "      <td>17.000000</td>\n",
       "      <td>40.0</td>\n",
       "      <td>0.976919</td>\n",
       "      <td>1.0</td>\n",
       "    </tr>\n",
       "    <tr>\n",
       "      <th>1</th>\n",
       "      <td>13047</td>\n",
       "      <td>3232.59</td>\n",
       "      <td>56.0</td>\n",
       "      <td>9.0</td>\n",
       "      <td>171.0</td>\n",
       "      <td>1390.0</td>\n",
       "      <td>0.028302</td>\n",
       "      <td>35.0</td>\n",
       "      <td>0.974820</td>\n",
       "      <td>7.0</td>\n",
       "    </tr>\n",
       "    <tr>\n",
       "      <th>2</th>\n",
       "      <td>12583</td>\n",
       "      <td>6705.38</td>\n",
       "      <td>2.0</td>\n",
       "      <td>15.0</td>\n",
       "      <td>232.0</td>\n",
       "      <td>5028.0</td>\n",
       "      <td>0.040323</td>\n",
       "      <td>50.0</td>\n",
       "      <td>0.990056</td>\n",
       "      <td>11.0</td>\n",
       "    </tr>\n",
       "    <tr>\n",
       "      <th>3</th>\n",
       "      <td>13748</td>\n",
       "      <td>948.25</td>\n",
       "      <td>95.0</td>\n",
       "      <td>5.0</td>\n",
       "      <td>28.0</td>\n",
       "      <td>439.0</td>\n",
       "      <td>0.017921</td>\n",
       "      <td>0.0</td>\n",
       "      <td>1.000000</td>\n",
       "      <td>3.0</td>\n",
       "    </tr>\n",
       "    <tr>\n",
       "      <th>4</th>\n",
       "      <td>15100</td>\n",
       "      <td>876.00</td>\n",
       "      <td>333.0</td>\n",
       "      <td>3.0</td>\n",
       "      <td>3.0</td>\n",
       "      <td>80.0</td>\n",
       "      <td>0.073171</td>\n",
       "      <td>22.0</td>\n",
       "      <td>0.725000</td>\n",
       "      <td>2.0</td>\n",
       "    </tr>\n",
       "  </tbody>\n",
       "</table>\n",
       "</div>"
      ],
      "text/plain": [
       "   customer_id  gross_revenue  recency_days  purchases_no  products_no  \\\n",
       "0        17850        5391.21         372.0          34.0        297.0   \n",
       "1        13047        3232.59          56.0           9.0        171.0   \n",
       "2        12583        6705.38           2.0          15.0        232.0   \n",
       "3        13748         948.25          95.0           5.0         28.0   \n",
       "4        15100         876.00         333.0           3.0          3.0   \n",
       "\n",
       "   items_no  frequency  returns_no  satisfaction_rate  recorrence  \n",
       "0    1733.0  17.000000        40.0           0.976919         1.0  \n",
       "1    1390.0   0.028302        35.0           0.974820         7.0  \n",
       "2    5028.0   0.040323        50.0           0.990056        11.0  \n",
       "3     439.0   0.017921         0.0           1.000000         3.0  \n",
       "4      80.0   0.073171        22.0           0.725000         2.0  "
      ]
     },
     "execution_count": 108,
     "metadata": {},
     "output_type": "execute_result"
    }
   ],
   "source": [
    "df4.head()"
   ]
  },
  {
   "cell_type": "code",
   "execution_count": 109,
   "metadata": {},
   "outputs": [],
   "source": [
    "# Features Selection\n",
    "df43 = df4.drop(columns = ['customer_id', 'recency_days', 'purchases_no', 'returns_no', 'satisfaction_rate'], axis=1).copy()"
   ]
  },
  {
   "cell_type": "code",
   "execution_count": 110,
   "metadata": {},
   "outputs": [],
   "source": [
    "mm = pp.MinMaxScaler()\n",
    "\n",
    "gross_revenue_scaler = pickle.load(open('features/gross_revenue_scaler.pkl', 'rb'))\n",
    "df43['gross_revenue'] = mm.fit_transform(df43[['gross_revenue']])\n",
    "\n",
    "products_no_scaler = pickle.load(open('features/products_no_scaler.pkl', 'rb'))\n",
    "df43['products_no'] = mm.fit_transform(df43[['products_no']])\n",
    "\n",
    "items_no_scaler = pickle.load(open('features/items_no_scaler.pkl', 'rb'))\n",
    "df43['items_no'] = mm.fit_transform(df43[['items_no']])\n",
    "\n",
    "frequency_scaler = pickle.load(open('features/frequency_scaler.pkl', 'rb'))\n",
    "df43['frequency'] = mm.fit_transform(df43[['frequency']])\n",
    "\n",
    "recorrence_scaler = pickle.load(open('features/recorrence_scaler.pkl', 'rb'))\n",
    "df43['recorrence'] = mm.fit_transform(df43[['recorrence']])\n"
   ]
  },
  {
   "cell_type": "code",
   "execution_count": 111,
   "metadata": {},
   "outputs": [
    {
     "data": {
      "text/html": [
       "<div>\n",
       "<style scoped>\n",
       "    .dataframe tbody tr th:only-of-type {\n",
       "        vertical-align: middle;\n",
       "    }\n",
       "\n",
       "    .dataframe tbody tr th {\n",
       "        vertical-align: top;\n",
       "    }\n",
       "\n",
       "    .dataframe thead th {\n",
       "        text-align: right;\n",
       "    }\n",
       "</style>\n",
       "<table border=\"1\" class=\"dataframe\">\n",
       "  <thead>\n",
       "    <tr style=\"text-align: right;\">\n",
       "      <th></th>\n",
       "      <th>gross_revenue</th>\n",
       "      <th>products_no</th>\n",
       "      <th>items_no</th>\n",
       "      <th>frequency</th>\n",
       "      <th>recorrence</th>\n",
       "    </tr>\n",
       "  </thead>\n",
       "  <tbody>\n",
       "    <tr>\n",
       "      <th>0</th>\n",
       "      <td>0.019301</td>\n",
       "      <td>0.037770</td>\n",
       "      <td>0.008799</td>\n",
       "      <td>1.000000</td>\n",
       "      <td>0.000000</td>\n",
       "    </tr>\n",
       "    <tr>\n",
       "      <th>1</th>\n",
       "      <td>0.011567</td>\n",
       "      <td>0.021692</td>\n",
       "      <td>0.007056</td>\n",
       "      <td>0.001345</td>\n",
       "      <td>0.545455</td>\n",
       "    </tr>\n",
       "    <tr>\n",
       "      <th>2</th>\n",
       "      <td>0.024009</td>\n",
       "      <td>0.029476</td>\n",
       "      <td>0.025538</td>\n",
       "      <td>0.002052</td>\n",
       "      <td>0.909091</td>\n",
       "    </tr>\n",
       "    <tr>\n",
       "      <th>3</th>\n",
       "      <td>0.003384</td>\n",
       "      <td>0.003445</td>\n",
       "      <td>0.002225</td>\n",
       "      <td>0.000734</td>\n",
       "      <td>0.181818</td>\n",
       "    </tr>\n",
       "    <tr>\n",
       "      <th>4</th>\n",
       "      <td>0.003125</td>\n",
       "      <td>0.000255</td>\n",
       "      <td>0.000401</td>\n",
       "      <td>0.003985</td>\n",
       "      <td>0.090909</td>\n",
       "    </tr>\n",
       "  </tbody>\n",
       "</table>\n",
       "</div>"
      ],
      "text/plain": [
       "   gross_revenue  products_no  items_no  frequency  recorrence\n",
       "0       0.019301     0.037770  0.008799   1.000000    0.000000\n",
       "1       0.011567     0.021692  0.007056   0.001345    0.545455\n",
       "2       0.024009     0.029476  0.025538   0.002052    0.909091\n",
       "3       0.003384     0.003445  0.002225   0.000734    0.181818\n",
       "4       0.003125     0.000255  0.000401   0.003985    0.090909"
      ]
     },
     "execution_count": 111,
     "metadata": {},
     "output_type": "execute_result"
    }
   ],
   "source": [
    "X = df43.copy()\n",
    "X.head()"
   ]
  },
  {
   "cell_type": "markdown",
   "metadata": {},
   "source": [
    "# 6. Machine Learning Modelling"
   ]
  },
  {
   "cell_type": "markdown",
   "metadata": {},
   "source": [
    "### 6.1 K-Means"
   ]
  },
  {
   "cell_type": "code",
   "execution_count": 30,
   "metadata": {},
   "outputs": [],
   "source": [
    "# model definition\n",
    "k=6\n",
    "kmeans = c.KMeans(init='random',\n",
    "                  n_clusters=k,\n",
    "                  n_init=300,\n",
    "                  max_iter=300,\n",
    "                  random_state=42)\n",
    "\n",
    "# model training\n",
    "kmeans.fit(X)\n",
    "\n",
    "# clustering\n",
    "labels = kmeans.labels_"
   ]
  },
  {
   "cell_type": "markdown",
   "metadata": {},
   "source": [
    "### 6.2 Cluster Validation"
   ]
  },
  {
   "cell_type": "code",
   "execution_count": 31,
   "metadata": {},
   "outputs": [
    {
     "name": "stdout",
     "output_type": "stream",
     "text": [
      "SS Value: 0.749401061479475\n"
     ]
    }
   ],
   "source": [
    "# SS\n",
    "print('SS Value: {}'.format(m.silhouette_score(X, labels, metric='euclidean')))"
   ]
  },
  {
   "cell_type": "markdown",
   "metadata": {},
   "source": [
    "# 7. Evaluation - Cluster Analysis"
   ]
  },
  {
   "cell_type": "markdown",
   "metadata": {},
   "source": [
    "### 7.1 Visualization Inspection"
   ]
  },
  {
   "cell_type": "code",
   "execution_count": 32,
   "metadata": {},
   "outputs": [
    {
     "data": {
      "text/html": [
       "<div>\n",
       "<style scoped>\n",
       "    .dataframe tbody tr th:only-of-type {\n",
       "        vertical-align: middle;\n",
       "    }\n",
       "\n",
       "    .dataframe tbody tr th {\n",
       "        vertical-align: top;\n",
       "    }\n",
       "\n",
       "    .dataframe thead th {\n",
       "        text-align: right;\n",
       "    }\n",
       "</style>\n",
       "<table border=\"1\" class=\"dataframe\">\n",
       "  <thead>\n",
       "    <tr style=\"text-align: right;\">\n",
       "      <th></th>\n",
       "      <th>gross_revenue</th>\n",
       "      <th>products_no</th>\n",
       "      <th>items_no</th>\n",
       "      <th>frequency</th>\n",
       "      <th>recorrence</th>\n",
       "      <th>cluster</th>\n",
       "    </tr>\n",
       "  </thead>\n",
       "  <tbody>\n",
       "    <tr>\n",
       "      <th>0</th>\n",
       "      <td>0.019301</td>\n",
       "      <td>0.037770</td>\n",
       "      <td>0.008799</td>\n",
       "      <td>1.000000</td>\n",
       "      <td>0.000000</td>\n",
       "      <td>5</td>\n",
       "    </tr>\n",
       "    <tr>\n",
       "      <th>1</th>\n",
       "      <td>0.011567</td>\n",
       "      <td>0.021692</td>\n",
       "      <td>0.007056</td>\n",
       "      <td>0.001345</td>\n",
       "      <td>0.545455</td>\n",
       "      <td>0</td>\n",
       "    </tr>\n",
       "    <tr>\n",
       "      <th>2</th>\n",
       "      <td>0.024009</td>\n",
       "      <td>0.029476</td>\n",
       "      <td>0.025538</td>\n",
       "      <td>0.002052</td>\n",
       "      <td>0.909091</td>\n",
       "      <td>2</td>\n",
       "    </tr>\n",
       "    <tr>\n",
       "      <th>3</th>\n",
       "      <td>0.003384</td>\n",
       "      <td>0.003445</td>\n",
       "      <td>0.002225</td>\n",
       "      <td>0.000734</td>\n",
       "      <td>0.181818</td>\n",
       "      <td>3</td>\n",
       "    </tr>\n",
       "    <tr>\n",
       "      <th>4</th>\n",
       "      <td>0.003125</td>\n",
       "      <td>0.000255</td>\n",
       "      <td>0.000401</td>\n",
       "      <td>0.003985</td>\n",
       "      <td>0.090909</td>\n",
       "      <td>4</td>\n",
       "    </tr>\n",
       "  </tbody>\n",
       "</table>\n",
       "</div>"
      ],
      "text/plain": [
       "   gross_revenue  products_no  items_no  frequency  recorrence  cluster\n",
       "0       0.019301     0.037770  0.008799   1.000000    0.000000        5\n",
       "1       0.011567     0.021692  0.007056   0.001345    0.545455        0\n",
       "2       0.024009     0.029476  0.025538   0.002052    0.909091        2\n",
       "3       0.003384     0.003445  0.002225   0.000734    0.181818        3\n",
       "4       0.003125     0.000255  0.000401   0.003985    0.090909        4"
      ]
     },
     "execution_count": 32,
     "metadata": {},
     "output_type": "execute_result"
    }
   ],
   "source": [
    "df9 = X.copy()\n",
    "df9['cluster'] = labels\n",
    "df9.head()\n",
    "\n"
   ]
  },
  {
   "cell_type": "markdown",
   "metadata": {},
   "source": [
    "### 7.2 Cluster Profile"
   ]
  },
  {
   "cell_type": "code",
   "execution_count": 148,
   "metadata": {},
   "outputs": [],
   "source": [
    "df92 = df4.copy().reset_index(drop=True)\n",
    "\n",
    "df92['cluster'] = labels\n",
    "\n",
    "# Change dtypes\n",
    "df92['recency_days']    = df92['recency_days'].astype(int)\n",
    "df92['purchases_no']    = df92['purchases_no'].astype(int)\n",
    "df92['products_no']     = df92['products_no'].astype(int)\n",
    "df92['items_no']        = df92['items_no'].astype(int)"
   ]
  },
  {
   "cell_type": "code",
   "execution_count": 149,
   "metadata": {},
   "outputs": [],
   "source": [
    "# Number of customer\n",
    "df_cluster = df92[['customer_id', 'cluster']].groupby('cluster').count().reset_index()\n",
    "df_cluster['perc_customer'] = (df_cluster['customer_id'] / df_cluster['customer_id'].sum())*100\n",
    "\n",
    "# Avg gross revenue\n",
    "df_avg_gross_revenue = df92[['gross_revenue', 'cluster']].groupby('cluster').mean().reset_index()\n",
    "df_cluster = pd.merge(df_cluster, df_avg_gross_revenue, how='inner', on = 'cluster')\n",
    "\n",
    "# Avg purchases_no\n",
    "df_avg_purchases_no = df92[['purchases_no', 'cluster']].groupby('cluster').mean().reset_index()\n",
    "df_cluster = pd.merge(df_cluster, df_avg_purchases_no, how='inner', on='cluster')\n",
    "\n",
    "# Avg products_no\n",
    "df_avg_products_no = df92[['products_no', 'cluster']].groupby('cluster').mean().reset_index()\n",
    "df_cluster = pd.merge(df_cluster, df_avg_products_no, how='inner', on='cluster')\n",
    "\n",
    "# Avg items_no\n",
    "df_avg_items_no = df92[['items_no', 'cluster']].groupby('cluster').mean().reset_index()\n",
    "df_cluster = pd.merge(df_cluster, df_avg_items_no, how='inner', on='cluster')\n",
    "\n",
    "# Avg frequency\n",
    "df_avg_frequency = df92[['frequency', 'cluster']].groupby('cluster').mean().reset_index()\n",
    "df_cluster = pd.merge(df_cluster, df_avg_frequency, how='inner', on='cluster')\n",
    "\n",
    "# Avg recorrence\n",
    "df_recorrence = df92[['recorrence', 'cluster']].groupby('cluster').mean().reset_index()\n",
    "df_cluster = pd.merge(df_cluster, df_recorrence, how='inner', on='cluster')\n"
   ]
  },
  {
   "cell_type": "code",
   "execution_count": 150,
   "metadata": {},
   "outputs": [
    {
     "data": {
      "text/html": [
       "<div>\n",
       "<style scoped>\n",
       "    .dataframe tbody tr th:only-of-type {\n",
       "        vertical-align: middle;\n",
       "    }\n",
       "\n",
       "    .dataframe tbody tr th {\n",
       "        vertical-align: top;\n",
       "    }\n",
       "\n",
       "    .dataframe thead th {\n",
       "        text-align: right;\n",
       "    }\n",
       "</style>\n",
       "<table border=\"1\" class=\"dataframe\">\n",
       "  <thead>\n",
       "    <tr style=\"text-align: right;\">\n",
       "      <th></th>\n",
       "      <th>cluster</th>\n",
       "      <th>customer_id</th>\n",
       "      <th>perc_customer</th>\n",
       "      <th>gross_revenue</th>\n",
       "      <th>purchases_no</th>\n",
       "      <th>products_no</th>\n",
       "      <th>items_no</th>\n",
       "      <th>frequency</th>\n",
       "      <th>recorrence</th>\n",
       "    </tr>\n",
       "  </thead>\n",
       "  <tbody>\n",
       "    <tr>\n",
       "      <th>2</th>\n",
       "      <td>2</td>\n",
       "      <td>162</td>\n",
       "      <td>3.750868</td>\n",
       "      <td>19509.810864</td>\n",
       "      <td>28.882716</td>\n",
       "      <td>558.006173</td>\n",
       "      <td>10972.228395</td>\n",
       "      <td>0.081103</td>\n",
       "      <td>11.018519</td>\n",
       "    </tr>\n",
       "    <tr>\n",
       "      <th>0</th>\n",
       "      <td>0</td>\n",
       "      <td>263</td>\n",
       "      <td>6.089373</td>\n",
       "      <td>4862.485779</td>\n",
       "      <td>11.517110</td>\n",
       "      <td>238.045627</td>\n",
       "      <td>3046.779468</td>\n",
       "      <td>0.037414</td>\n",
       "      <td>7.885932</td>\n",
       "    </tr>\n",
       "    <tr>\n",
       "      <th>1</th>\n",
       "      <td>1</td>\n",
       "      <td>430</td>\n",
       "      <td>9.956008</td>\n",
       "      <td>2836.961326</td>\n",
       "      <td>6.934884</td>\n",
       "      <td>164.525581</td>\n",
       "      <td>1634.597674</td>\n",
       "      <td>0.027310</td>\n",
       "      <td>5.383721</td>\n",
       "    </tr>\n",
       "    <tr>\n",
       "      <th>3</th>\n",
       "      <td>3</td>\n",
       "      <td>915</td>\n",
       "      <td>21.185460</td>\n",
       "      <td>1525.778459</td>\n",
       "      <td>4.109290</td>\n",
       "      <td>93.321311</td>\n",
       "      <td>936.793443</td>\n",
       "      <td>0.025535</td>\n",
       "      <td>3.424044</td>\n",
       "    </tr>\n",
       "    <tr>\n",
       "      <th>4</th>\n",
       "      <td>4</td>\n",
       "      <td>918</td>\n",
       "      <td>21.254920</td>\n",
       "      <td>833.931373</td>\n",
       "      <td>2.298475</td>\n",
       "      <td>51.145969</td>\n",
       "      <td>499.606754</td>\n",
       "      <td>0.037875</td>\n",
       "      <td>2.000000</td>\n",
       "    </tr>\n",
       "    <tr>\n",
       "      <th>5</th>\n",
       "      <td>5</td>\n",
       "      <td>1631</td>\n",
       "      <td>37.763371</td>\n",
       "      <td>425.130681</td>\n",
       "      <td>1.126303</td>\n",
       "      <td>24.630901</td>\n",
       "      <td>245.707541</td>\n",
       "      <td>1.009846</td>\n",
       "      <td>1.000613</td>\n",
       "    </tr>\n",
       "  </tbody>\n",
       "</table>\n",
       "</div>"
      ],
      "text/plain": [
       "   cluster  customer_id  perc_customer  gross_revenue  purchases_no  \\\n",
       "2        2          162       3.750868   19509.810864     28.882716   \n",
       "0        0          263       6.089373    4862.485779     11.517110   \n",
       "1        1          430       9.956008    2836.961326      6.934884   \n",
       "3        3          915      21.185460    1525.778459      4.109290   \n",
       "4        4          918      21.254920     833.931373      2.298475   \n",
       "5        5         1631      37.763371     425.130681      1.126303   \n",
       "\n",
       "   products_no      items_no  frequency  recorrence  \n",
       "2   558.006173  10972.228395   0.081103   11.018519  \n",
       "0   238.045627   3046.779468   0.037414    7.885932  \n",
       "1   164.525581   1634.597674   0.027310    5.383721  \n",
       "3    93.321311    936.793443   0.025535    3.424044  \n",
       "4    51.145969    499.606754   0.037875    2.000000  \n",
       "5    24.630901    245.707541   1.009846    1.000613  "
      ]
     },
     "execution_count": 150,
     "metadata": {},
     "output_type": "execute_result"
    }
   ],
   "source": [
    "df_cluster.sort_values('gross_revenue', ascending=False)"
   ]
  },
  {
   "cell_type": "code",
   "execution_count": 151,
   "metadata": {},
   "outputs": [
    {
     "data": {
      "text/html": [
       "<div>\n",
       "<style scoped>\n",
       "    .dataframe tbody tr th:only-of-type {\n",
       "        vertical-align: middle;\n",
       "    }\n",
       "\n",
       "    .dataframe tbody tr th {\n",
       "        vertical-align: top;\n",
       "    }\n",
       "\n",
       "    .dataframe thead th {\n",
       "        text-align: right;\n",
       "    }\n",
       "</style>\n",
       "<table border=\"1\" class=\"dataframe\">\n",
       "  <thead>\n",
       "    <tr style=\"text-align: right;\">\n",
       "      <th></th>\n",
       "      <th>customer_id</th>\n",
       "      <th>gross_revenue</th>\n",
       "      <th>recency_days</th>\n",
       "      <th>purchases_no</th>\n",
       "      <th>products_no</th>\n",
       "      <th>items_no</th>\n",
       "      <th>frequency</th>\n",
       "      <th>returns_no</th>\n",
       "      <th>satisfaction_rate</th>\n",
       "      <th>recorrence</th>\n",
       "      <th>cluster</th>\n",
       "    </tr>\n",
       "  </thead>\n",
       "  <tbody>\n",
       "    <tr>\n",
       "      <th>0</th>\n",
       "      <td>17850</td>\n",
       "      <td>5391.21</td>\n",
       "      <td>372</td>\n",
       "      <td>34</td>\n",
       "      <td>297</td>\n",
       "      <td>1733</td>\n",
       "      <td>17.000000</td>\n",
       "      <td>40.0</td>\n",
       "      <td>0.976919</td>\n",
       "      <td>1.0</td>\n",
       "      <td>5</td>\n",
       "    </tr>\n",
       "    <tr>\n",
       "      <th>1</th>\n",
       "      <td>13047</td>\n",
       "      <td>3232.59</td>\n",
       "      <td>56</td>\n",
       "      <td>9</td>\n",
       "      <td>171</td>\n",
       "      <td>1390</td>\n",
       "      <td>0.028302</td>\n",
       "      <td>35.0</td>\n",
       "      <td>0.974820</td>\n",
       "      <td>7.0</td>\n",
       "      <td>0</td>\n",
       "    </tr>\n",
       "    <tr>\n",
       "      <th>2</th>\n",
       "      <td>12583</td>\n",
       "      <td>6705.38</td>\n",
       "      <td>2</td>\n",
       "      <td>15</td>\n",
       "      <td>232</td>\n",
       "      <td>5028</td>\n",
       "      <td>0.040323</td>\n",
       "      <td>50.0</td>\n",
       "      <td>0.990056</td>\n",
       "      <td>11.0</td>\n",
       "      <td>2</td>\n",
       "    </tr>\n",
       "    <tr>\n",
       "      <th>3</th>\n",
       "      <td>13748</td>\n",
       "      <td>948.25</td>\n",
       "      <td>95</td>\n",
       "      <td>5</td>\n",
       "      <td>28</td>\n",
       "      <td>439</td>\n",
       "      <td>0.017921</td>\n",
       "      <td>0.0</td>\n",
       "      <td>1.000000</td>\n",
       "      <td>3.0</td>\n",
       "      <td>3</td>\n",
       "    </tr>\n",
       "    <tr>\n",
       "      <th>4</th>\n",
       "      <td>15100</td>\n",
       "      <td>876.00</td>\n",
       "      <td>333</td>\n",
       "      <td>3</td>\n",
       "      <td>3</td>\n",
       "      <td>80</td>\n",
       "      <td>0.073171</td>\n",
       "      <td>22.0</td>\n",
       "      <td>0.725000</td>\n",
       "      <td>2.0</td>\n",
       "      <td>4</td>\n",
       "    </tr>\n",
       "  </tbody>\n",
       "</table>\n",
       "</div>"
      ],
      "text/plain": [
       "   customer_id  gross_revenue  recency_days  purchases_no  products_no  \\\n",
       "0        17850        5391.21           372            34          297   \n",
       "1        13047        3232.59            56             9          171   \n",
       "2        12583        6705.38             2            15          232   \n",
       "3        13748         948.25            95             5           28   \n",
       "4        15100         876.00           333             3            3   \n",
       "\n",
       "   items_no  frequency  returns_no  satisfaction_rate  recorrence  cluster  \n",
       "0      1733  17.000000        40.0           0.976919         1.0        5  \n",
       "1      1390   0.028302        35.0           0.974820         7.0        0  \n",
       "2      5028   0.040323        50.0           0.990056        11.0        2  \n",
       "3       439   0.017921         0.0           1.000000         3.0        3  \n",
       "4        80   0.073171        22.0           0.725000         2.0        4  "
      ]
     },
     "execution_count": 151,
     "metadata": {},
     "output_type": "execute_result"
    }
   ],
   "source": [
    "df92.head()"
   ]
  },
  {
   "cell_type": "code",
   "execution_count": 152,
   "metadata": {},
   "outputs": [],
   "source": [
    "# Cluster Name\n",
    "\n",
    "df92['cluster_name'] = 'NA'\n",
    "\n",
    "for i in range(len(df92)):\n",
    "    if (df92.loc[i, 'cluster'] == 2):\n",
    "        df92.loc[i, 'cluster_name'] = 'insider'\n",
    "    elif (df92.loc[i, 'cluster'] == 0):\n",
    "        df92.loc[i, 'cluster_name'] = 'pre_insider1'\n",
    "    elif (df92.loc[i, 'cluster'] == 1):\n",
    "        df92.loc[i, 'cluster_name'] = 'pre_insider2'\n",
    "    elif (df92.loc[i, 'cluster'] == 3):\n",
    "        df92.loc[i, 'cluster_name'] = 'sporadic1'\n",
    "    elif (df92.loc[i, 'cluster'] == 4):\n",
    "        df92.loc[i, 'cluster_name'] = 'sporadic2'\n",
    "    else:\n",
    "        df92.loc[i, 'cluster_name'] = 'sporadic3' "
   ]
  },
  {
   "cell_type": "markdown",
   "metadata": {},
   "source": [
    "# 8. Deploy"
   ]
  },
  {
   "cell_type": "code",
   "execution_count": 141,
   "metadata": {},
   "outputs": [
    {
     "data": {
      "text/plain": [
       "customer_id            int64\n",
       "gross_revenue        float64\n",
       "recency_days           int64\n",
       "purchases_no           int64\n",
       "products_no            int64\n",
       "items_no               int64\n",
       "frequency            float64\n",
       "returns_no           float64\n",
       "satisfaction_rate    float64\n",
       "recorrence           float64\n",
       "cluster                int32\n",
       "cluster_name          object\n",
       "dtype: object"
      ]
     },
     "execution_count": 141,
     "metadata": {},
     "output_type": "execute_result"
    }
   ],
   "source": [
    "df92.dtypes"
   ]
  },
  {
   "cell_type": "code",
   "execution_count": 162,
   "metadata": {},
   "outputs": [
    {
     "data": {
      "text/plain": [
       "319"
      ]
     },
     "execution_count": 162,
     "metadata": {},
     "output_type": "execute_result"
    }
   ],
   "source": [
    "# Database Conection\n",
    "#endpoint_local = 'sqlite:////home/vitor/Repos/loyalty-program//data/insiders_db.sqlite'\n",
    "\n",
    "host = 'database-insiders.cohf4nijv2pv.sa-east-1.rds.amazonaws.com'\n",
    "port = '5432'\n",
    "database = 'postgres'\n",
    "user = 'postgres'\n",
    "pwd = 'comunidadeds!'\n",
    "\n",
    "endpoint_aws = f'postgresql://{user}:{pwd}@{host}:{port}/{database}'\n",
    "\n",
    "engine = create_engine(endpoint_aws)\n",
    "connection = engine.connect()\n",
    "\n",
    "# # 1. Drop Table\n",
    "# query_drop_insiders = \"\"\" \n",
    "#     DROP TABLE insiders\n",
    "# \"\"\"\n",
    "\n",
    "# # 2. Create Table\n",
    "# query_create_table_insiders = \"\"\" \n",
    "#     CREATE TABLE insiders(\n",
    "#         customer_id         INTEGER,\n",
    "#         gross_revenue       REAL,\n",
    "#         recency_days        INTEGER,\n",
    "#         purchases_no        INTEGER,\n",
    "#         products_no         INTEGER,\n",
    "#         items_no            INTEGER,\n",
    "#         frequency           REAL,\n",
    "#         returns_no          INTEGER,\n",
    "#         satisfaction_rate   REAL,\n",
    "#         recorrence          REAL,\n",
    "#         cluster             INTEGER,\n",
    "#         cluster_name        VARCHAR(15)\n",
    "#     )\n",
    "# \"\"\"\n",
    "\n",
    "# engine.execute(query_create_table_insiders)\n",
    "\n",
    "# 3. Insert Data\n",
    "df92.to_sql('insiders', con=engine, if_exists='append', index=False)"
   ]
  },
  {
   "cell_type": "code",
   "execution_count": 163,
   "metadata": {},
   "outputs": [
    {
     "data": {
      "text/html": [
       "<div>\n",
       "<style scoped>\n",
       "    .dataframe tbody tr th:only-of-type {\n",
       "        vertical-align: middle;\n",
       "    }\n",
       "\n",
       "    .dataframe tbody tr th {\n",
       "        vertical-align: top;\n",
       "    }\n",
       "\n",
       "    .dataframe thead th {\n",
       "        text-align: right;\n",
       "    }\n",
       "</style>\n",
       "<table border=\"1\" class=\"dataframe\">\n",
       "  <thead>\n",
       "    <tr style=\"text-align: right;\">\n",
       "      <th></th>\n",
       "      <th>customer_id</th>\n",
       "      <th>gross_revenue</th>\n",
       "      <th>recency_days</th>\n",
       "      <th>purchases_no</th>\n",
       "      <th>products_no</th>\n",
       "      <th>items_no</th>\n",
       "      <th>frequency</th>\n",
       "      <th>returns_no</th>\n",
       "      <th>satisfaction_rate</th>\n",
       "      <th>recorrence</th>\n",
       "      <th>cluster</th>\n",
       "      <th>cluster_name</th>\n",
       "    </tr>\n",
       "  </thead>\n",
       "  <tbody>\n",
       "    <tr>\n",
       "      <th>0</th>\n",
       "      <td>17850</td>\n",
       "      <td>5391.21</td>\n",
       "      <td>372</td>\n",
       "      <td>34</td>\n",
       "      <td>297</td>\n",
       "      <td>1733</td>\n",
       "      <td>17.000000</td>\n",
       "      <td>40</td>\n",
       "      <td>0.976919</td>\n",
       "      <td>1.0</td>\n",
       "      <td>5</td>\n",
       "      <td>sporadic3</td>\n",
       "    </tr>\n",
       "    <tr>\n",
       "      <th>1</th>\n",
       "      <td>13047</td>\n",
       "      <td>3232.59</td>\n",
       "      <td>56</td>\n",
       "      <td>9</td>\n",
       "      <td>171</td>\n",
       "      <td>1390</td>\n",
       "      <td>0.028302</td>\n",
       "      <td>35</td>\n",
       "      <td>0.974820</td>\n",
       "      <td>7.0</td>\n",
       "      <td>0</td>\n",
       "      <td>pre_insider1</td>\n",
       "    </tr>\n",
       "    <tr>\n",
       "      <th>2</th>\n",
       "      <td>12583</td>\n",
       "      <td>6705.38</td>\n",
       "      <td>2</td>\n",
       "      <td>15</td>\n",
       "      <td>232</td>\n",
       "      <td>5028</td>\n",
       "      <td>0.040323</td>\n",
       "      <td>50</td>\n",
       "      <td>0.990056</td>\n",
       "      <td>11.0</td>\n",
       "      <td>2</td>\n",
       "      <td>insider</td>\n",
       "    </tr>\n",
       "    <tr>\n",
       "      <th>3</th>\n",
       "      <td>13748</td>\n",
       "      <td>948.25</td>\n",
       "      <td>95</td>\n",
       "      <td>5</td>\n",
       "      <td>28</td>\n",
       "      <td>439</td>\n",
       "      <td>0.017921</td>\n",
       "      <td>0</td>\n",
       "      <td>1.000000</td>\n",
       "      <td>3.0</td>\n",
       "      <td>3</td>\n",
       "      <td>sporadic1</td>\n",
       "    </tr>\n",
       "    <tr>\n",
       "      <th>4</th>\n",
       "      <td>15100</td>\n",
       "      <td>876.00</td>\n",
       "      <td>333</td>\n",
       "      <td>3</td>\n",
       "      <td>3</td>\n",
       "      <td>80</td>\n",
       "      <td>0.073171</td>\n",
       "      <td>22</td>\n",
       "      <td>0.725000</td>\n",
       "      <td>2.0</td>\n",
       "      <td>4</td>\n",
       "      <td>sporadic2</td>\n",
       "    </tr>\n",
       "  </tbody>\n",
       "</table>\n",
       "</div>"
      ],
      "text/plain": [
       "   customer_id  gross_revenue  recency_days  purchases_no  products_no  \\\n",
       "0        17850        5391.21           372            34          297   \n",
       "1        13047        3232.59            56             9          171   \n",
       "2        12583        6705.38             2            15          232   \n",
       "3        13748         948.25            95             5           28   \n",
       "4        15100         876.00           333             3            3   \n",
       "\n",
       "   items_no  frequency  returns_no  satisfaction_rate  recorrence  cluster  \\\n",
       "0      1733  17.000000          40           0.976919         1.0        5   \n",
       "1      1390   0.028302          35           0.974820         7.0        0   \n",
       "2      5028   0.040323          50           0.990056        11.0        2   \n",
       "3       439   0.017921           0           1.000000         3.0        3   \n",
       "4        80   0.073171          22           0.725000         2.0        4   \n",
       "\n",
       "   cluster_name  \n",
       "0     sporadic3  \n",
       "1  pre_insider1  \n",
       "2       insider  \n",
       "3     sporadic1  \n",
       "4     sporadic2  "
      ]
     },
     "execution_count": 163,
     "metadata": {},
     "output_type": "execute_result"
    }
   ],
   "source": [
    "# # Consulting database\n",
    "# query = \"\"\"\n",
    "#     SELECT * FROM insiders\n",
    "# \"\"\"\n",
    "\n",
    "# df = pd.read_sql_query(query, engine)\n",
    "\n",
    "# df.head()"
   ]
  },
  {
   "cell_type": "code",
   "execution_count": 165,
   "metadata": {},
   "outputs": [],
   "source": [
    "connection.close()"
   ]
  }
 ],
 "metadata": {
  "kernelspec": {
   "display_name": "Python 3.9.0 64-bit ('LoyaltyProgram')",
   "language": "python",
   "name": "python3"
  },
  "language_info": {
   "codemirror_mode": {
    "name": "ipython",
    "version": 3
   },
   "file_extension": ".py",
   "mimetype": "text/x-python",
   "name": "python",
   "nbconvert_exporter": "python",
   "pygments_lexer": "ipython3",
   "version": "3.9.0"
  },
  "orig_nbformat": 4,
  "vscode": {
   "interpreter": {
    "hash": "b3aea487c2939026990446acc39d0068ca11417f375febde9f2cd58727f0d4dc"
   }
  }
 },
 "nbformat": 4,
 "nbformat_minor": 2
}
