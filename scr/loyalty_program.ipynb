{
 "cells": [
  {
   "cell_type": "markdown",
   "metadata": {},
   "source": [
    "# 0. Imports"
   ]
  },
  {
   "cell_type": "markdown",
   "metadata": {},
   "source": [
    "### 0.1 Libs"
   ]
  },
  {
   "cell_type": "code",
   "execution_count": 73,
   "metadata": {},
   "outputs": [],
   "source": [
    "import re\n",
    "import s3fs\n",
    "import inflection\n",
    "import sqlite3\n",
    "import pickle\n",
    "\n",
    "\n",
    "import numpy            as np\n",
    "import pandas           as pd\n",
    "import seaborn          as sns\n",
    "import umap.umap_       as umap\n",
    "import matplotlib.cm    as cm\n",
    "import scipy.stats      as st\n",
    "\n",
    "from IPython.display        import Image\n",
    "from sqlalchemy             import create_engine\n",
    "\n",
    "from plotly                 import express          as px\n",
    "from matplotlib             import pyplot           as plt\n",
    "\n",
    "from scipy                  import stats            as ss\n",
    "from scipy.cluster          import hierarchy        as hc\n",
    "\n",
    "from sklearn                import cluster          as c\n",
    "from sklearn                import metrics          as m\n",
    "from sklearn                import preprocessing    as pp\n",
    "from sklearn                import decomposition    as dd\n",
    "from sklearn                import ensemble         as en\n",
    "from sklearn                import mixture          as mx\n",
    "from sklearn                import manifold         as mn"
   ]
  },
  {
   "cell_type": "markdown",
   "metadata": {},
   "source": [
    "### 0.2 Helper Functions"
   ]
  },
  {
   "cell_type": "code",
   "execution_count": 2,
   "metadata": {},
   "outputs": [],
   "source": [
    "def numerical_metrics(numerical_attributes):\n",
    "    #ct = central tendency\n",
    "    ct_mean = pd.DataFrame(numerical_attributes.apply(np.mean)).T\n",
    "    ct_median = pd.DataFrame(numerical_attributes.apply(np.median)).T\n",
    "\n",
    "    #d = dispersion\n",
    "    d_std = pd.DataFrame(numerical_attributes.apply(np.std)).T\n",
    "    d_min = pd.DataFrame(numerical_attributes.apply(min)).T\n",
    "    d_max = pd.DataFrame(numerical_attributes.apply(max)).T\n",
    "    d_range = pd.DataFrame(numerical_attributes.apply(lambda x: x.max() - x.min())).T\n",
    "    d_skew = pd.DataFrame(numerical_attributes.apply(lambda x: x.skew())).T\n",
    "    d_kurtosis = pd.DataFrame(numerical_attributes.apply(lambda x: x.kurtosis())).T\n",
    "\n",
    "    concat = pd.concat([d_min,d_max,d_range,ct_mean,ct_median,d_std,d_skew,d_kurtosis]).T.reset_index()\n",
    "    concat.coluconcatns=['Attributes','Min','Max','Range','Mean','Median','STD','Skew','Kurtosis']\n",
    "\n",
    "    return concat"
   ]
  },
  {
   "cell_type": "markdown",
   "metadata": {},
   "source": [
    "### 0.3 Loading Data"
   ]
  },
  {
   "cell_type": "code",
   "execution_count": 3,
   "metadata": {},
   "outputs": [],
   "source": [
    "#path_local = '/home/vitor/Repos/loyalty-program/'\n",
    "\n",
    "path_s3 = 's3://vhmf-insiders-dataset/'\n",
    "df_raw = pd.read_csv(path_s3 + 'data.csv', encoding= 'unicode_escape')"
   ]
  },
  {
   "cell_type": "markdown",
   "metadata": {},
   "source": [
    "# 1. Data Description"
   ]
  },
  {
   "cell_type": "markdown",
   "metadata": {},
   "source": [
    "### 1.0 Rename Columns"
   ]
  },
  {
   "cell_type": "code",
   "execution_count": 4,
   "metadata": {},
   "outputs": [
    {
     "data": {
      "text/plain": [
       "Index(['InvoiceNo', 'StockCode', 'Description', 'Quantity', 'InvoiceDate',\n",
       "       'UnitPrice', 'CustomerID', 'Country'],\n",
       "      dtype='object')"
      ]
     },
     "execution_count": 4,
     "metadata": {},
     "output_type": "execute_result"
    }
   ],
   "source": [
    "df1 = df_raw.copy()\n",
    "\n",
    "df1.columns"
   ]
  },
  {
   "cell_type": "code",
   "execution_count": 5,
   "metadata": {},
   "outputs": [
    {
     "data": {
      "text/html": [
       "<div>\n",
       "<style scoped>\n",
       "    .dataframe tbody tr th:only-of-type {\n",
       "        vertical-align: middle;\n",
       "    }\n",
       "\n",
       "    .dataframe tbody tr th {\n",
       "        vertical-align: top;\n",
       "    }\n",
       "\n",
       "    .dataframe thead th {\n",
       "        text-align: right;\n",
       "    }\n",
       "</style>\n",
       "<table border=\"1\" class=\"dataframe\">\n",
       "  <thead>\n",
       "    <tr style=\"text-align: right;\">\n",
       "      <th></th>\n",
       "      <th>invoice_no</th>\n",
       "      <th>stock_code</th>\n",
       "      <th>description</th>\n",
       "      <th>quantity</th>\n",
       "      <th>invoice_date</th>\n",
       "      <th>unit_price</th>\n",
       "      <th>customer_id</th>\n",
       "      <th>country</th>\n",
       "    </tr>\n",
       "  </thead>\n",
       "  <tbody>\n",
       "    <tr>\n",
       "      <th>0</th>\n",
       "      <td>536365</td>\n",
       "      <td>85123A</td>\n",
       "      <td>WHITE HANGING HEART T-LIGHT HOLDER</td>\n",
       "      <td>6</td>\n",
       "      <td>12/1/2010 8:26</td>\n",
       "      <td>2.55</td>\n",
       "      <td>17850.0</td>\n",
       "      <td>United Kingdom</td>\n",
       "    </tr>\n",
       "    <tr>\n",
       "      <th>1</th>\n",
       "      <td>536365</td>\n",
       "      <td>71053</td>\n",
       "      <td>WHITE METAL LANTERN</td>\n",
       "      <td>6</td>\n",
       "      <td>12/1/2010 8:26</td>\n",
       "      <td>3.39</td>\n",
       "      <td>17850.0</td>\n",
       "      <td>United Kingdom</td>\n",
       "    </tr>\n",
       "    <tr>\n",
       "      <th>2</th>\n",
       "      <td>536365</td>\n",
       "      <td>84406B</td>\n",
       "      <td>CREAM CUPID HEARTS COAT HANGER</td>\n",
       "      <td>8</td>\n",
       "      <td>12/1/2010 8:26</td>\n",
       "      <td>2.75</td>\n",
       "      <td>17850.0</td>\n",
       "      <td>United Kingdom</td>\n",
       "    </tr>\n",
       "    <tr>\n",
       "      <th>3</th>\n",
       "      <td>536365</td>\n",
       "      <td>84029G</td>\n",
       "      <td>KNITTED UNION FLAG HOT WATER BOTTLE</td>\n",
       "      <td>6</td>\n",
       "      <td>12/1/2010 8:26</td>\n",
       "      <td>3.39</td>\n",
       "      <td>17850.0</td>\n",
       "      <td>United Kingdom</td>\n",
       "    </tr>\n",
       "    <tr>\n",
       "      <th>4</th>\n",
       "      <td>536365</td>\n",
       "      <td>84029E</td>\n",
       "      <td>RED WOOLLY HOTTIE WHITE HEART.</td>\n",
       "      <td>6</td>\n",
       "      <td>12/1/2010 8:26</td>\n",
       "      <td>3.39</td>\n",
       "      <td>17850.0</td>\n",
       "      <td>United Kingdom</td>\n",
       "    </tr>\n",
       "  </tbody>\n",
       "</table>\n",
       "</div>"
      ],
      "text/plain": [
       "  invoice_no stock_code                          description  quantity  \\\n",
       "0     536365     85123A   WHITE HANGING HEART T-LIGHT HOLDER         6   \n",
       "1     536365      71053                  WHITE METAL LANTERN         6   \n",
       "2     536365     84406B       CREAM CUPID HEARTS COAT HANGER         8   \n",
       "3     536365     84029G  KNITTED UNION FLAG HOT WATER BOTTLE         6   \n",
       "4     536365     84029E       RED WOOLLY HOTTIE WHITE HEART.         6   \n",
       "\n",
       "     invoice_date  unit_price  customer_id         country  \n",
       "0  12/1/2010 8:26        2.55      17850.0  United Kingdom  \n",
       "1  12/1/2010 8:26        3.39      17850.0  United Kingdom  \n",
       "2  12/1/2010 8:26        2.75      17850.0  United Kingdom  \n",
       "3  12/1/2010 8:26        3.39      17850.0  United Kingdom  \n",
       "4  12/1/2010 8:26        3.39      17850.0  United Kingdom  "
      ]
     },
     "execution_count": 5,
     "metadata": {},
     "output_type": "execute_result"
    }
   ],
   "source": [
    "cols_old = ['InvoiceNo', 'StockCode', 'Description', 'Quantity', 'InvoiceDate',\n",
    "       'UnitPrice', 'CustomerID', 'Country']\n",
    "\n",
    "snakecase = lambda x: inflection.underscore(x)\n",
    "\n",
    "cols_new = list( map(snakecase, cols_old))\n",
    "\n",
    "df1.columns = cols_new\n",
    "\n",
    "df1.head()"
   ]
  },
  {
   "cell_type": "markdown",
   "metadata": {},
   "source": [
    "### 1.1 Data Dimentions"
   ]
  },
  {
   "cell_type": "code",
   "execution_count": 6,
   "metadata": {},
   "outputs": [
    {
     "name": "stdout",
     "output_type": "stream",
     "text": [
      "Number of Rows:541909\n",
      "Number of Columns:8\n",
      "Number of Clients:4373\n"
     ]
    }
   ],
   "source": [
    "print(f'Number of Rows:{df1.shape[0]}')\n",
    "print(f'Number of Columns:{df1.shape[1]}')\n",
    "print('Number of Clients:{}'.format(len(df1['customer_id'].unique())))"
   ]
  },
  {
   "cell_type": "markdown",
   "metadata": {},
   "source": [
    "### 1.2 Data Types"
   ]
  },
  {
   "cell_type": "code",
   "execution_count": 7,
   "metadata": {},
   "outputs": [
    {
     "data": {
      "text/plain": [
       "invoice_no       object\n",
       "stock_code       object\n",
       "description      object\n",
       "quantity          int64\n",
       "invoice_date     object\n",
       "unit_price      float64\n",
       "customer_id     float64\n",
       "country          object\n",
       "dtype: object"
      ]
     },
     "execution_count": 7,
     "metadata": {},
     "output_type": "execute_result"
    }
   ],
   "source": [
    "df1.dtypes"
   ]
  },
  {
   "cell_type": "markdown",
   "metadata": {},
   "source": [
    "### 1.3 Check NA"
   ]
  },
  {
   "cell_type": "code",
   "execution_count": 8,
   "metadata": {},
   "outputs": [
    {
     "data": {
      "text/plain": [
       "invoice_no           0\n",
       "stock_code           0\n",
       "description       1454\n",
       "quantity             0\n",
       "invoice_date         0\n",
       "unit_price           0\n",
       "customer_id     135080\n",
       "country              0\n",
       "dtype: int64"
      ]
     },
     "execution_count": 8,
     "metadata": {},
     "output_type": "execute_result"
    }
   ],
   "source": [
    "df1.isna().sum()"
   ]
  },
  {
   "cell_type": "markdown",
   "metadata": {},
   "source": [
    "### 1.4 Fillout NA"
   ]
  },
  {
   "cell_type": "code",
   "execution_count": 9,
   "metadata": {},
   "outputs": [],
   "source": [
    "# Analise detalhada do Na\n",
    "df_missing = df1.loc[df1['customer_id'].isna(), :]\n",
    "df_not_missing = df1.loc[~df1['customer_id'].isna(), :]"
   ]
  },
  {
   "cell_type": "code",
   "execution_count": 10,
   "metadata": {},
   "outputs": [
    {
     "data": {
      "text/html": [
       "<div>\n",
       "<style scoped>\n",
       "    .dataframe tbody tr th:only-of-type {\n",
       "        vertical-align: middle;\n",
       "    }\n",
       "\n",
       "    .dataframe tbody tr th {\n",
       "        vertical-align: top;\n",
       "    }\n",
       "\n",
       "    .dataframe thead th {\n",
       "        text-align: right;\n",
       "    }\n",
       "</style>\n",
       "<table border=\"1\" class=\"dataframe\">\n",
       "  <thead>\n",
       "    <tr style=\"text-align: right;\">\n",
       "      <th></th>\n",
       "      <th>invoice_no</th>\n",
       "      <th>stock_code</th>\n",
       "      <th>description</th>\n",
       "      <th>quantity</th>\n",
       "      <th>invoice_date</th>\n",
       "      <th>unit_price</th>\n",
       "      <th>country</th>\n",
       "      <th>customer_id</th>\n",
       "    </tr>\n",
       "  </thead>\n",
       "  <tbody>\n",
       "    <tr>\n",
       "      <th>0</th>\n",
       "      <td>536365</td>\n",
       "      <td>85123A</td>\n",
       "      <td>WHITE HANGING HEART T-LIGHT HOLDER</td>\n",
       "      <td>6</td>\n",
       "      <td>12/1/2010 8:26</td>\n",
       "      <td>2.55</td>\n",
       "      <td>United Kingdom</td>\n",
       "      <td>17850.0</td>\n",
       "    </tr>\n",
       "    <tr>\n",
       "      <th>1</th>\n",
       "      <td>536365</td>\n",
       "      <td>71053</td>\n",
       "      <td>WHITE METAL LANTERN</td>\n",
       "      <td>6</td>\n",
       "      <td>12/1/2010 8:26</td>\n",
       "      <td>3.39</td>\n",
       "      <td>United Kingdom</td>\n",
       "      <td>17850.0</td>\n",
       "    </tr>\n",
       "    <tr>\n",
       "      <th>2</th>\n",
       "      <td>536365</td>\n",
       "      <td>84406B</td>\n",
       "      <td>CREAM CUPID HEARTS COAT HANGER</td>\n",
       "      <td>8</td>\n",
       "      <td>12/1/2010 8:26</td>\n",
       "      <td>2.75</td>\n",
       "      <td>United Kingdom</td>\n",
       "      <td>17850.0</td>\n",
       "    </tr>\n",
       "    <tr>\n",
       "      <th>3</th>\n",
       "      <td>536365</td>\n",
       "      <td>84029G</td>\n",
       "      <td>KNITTED UNION FLAG HOT WATER BOTTLE</td>\n",
       "      <td>6</td>\n",
       "      <td>12/1/2010 8:26</td>\n",
       "      <td>3.39</td>\n",
       "      <td>United Kingdom</td>\n",
       "      <td>17850.0</td>\n",
       "    </tr>\n",
       "    <tr>\n",
       "      <th>4</th>\n",
       "      <td>536365</td>\n",
       "      <td>84029E</td>\n",
       "      <td>RED WOOLLY HOTTIE WHITE HEART.</td>\n",
       "      <td>6</td>\n",
       "      <td>12/1/2010 8:26</td>\n",
       "      <td>3.39</td>\n",
       "      <td>United Kingdom</td>\n",
       "      <td>17850.0</td>\n",
       "    </tr>\n",
       "  </tbody>\n",
       "</table>\n",
       "</div>"
      ],
      "text/plain": [
       "  invoice_no stock_code                          description  quantity  \\\n",
       "0     536365     85123A   WHITE HANGING HEART T-LIGHT HOLDER         6   \n",
       "1     536365      71053                  WHITE METAL LANTERN         6   \n",
       "2     536365     84406B       CREAM CUPID HEARTS COAT HANGER         8   \n",
       "3     536365     84029G  KNITTED UNION FLAG HOT WATER BOTTLE         6   \n",
       "4     536365     84029E       RED WOOLLY HOTTIE WHITE HEART.         6   \n",
       "\n",
       "     invoice_date  unit_price         country  customer_id  \n",
       "0  12/1/2010 8:26        2.55  United Kingdom      17850.0  \n",
       "1  12/1/2010 8:26        3.39  United Kingdom      17850.0  \n",
       "2  12/1/2010 8:26        2.75  United Kingdom      17850.0  \n",
       "3  12/1/2010 8:26        3.39  United Kingdom      17850.0  \n",
       "4  12/1/2010 8:26        3.39  United Kingdom      17850.0  "
      ]
     },
     "execution_count": 10,
     "metadata": {},
     "output_type": "execute_result"
    }
   ],
   "source": [
    "# Criar um id para os valores faltantes e assim não descartar as informações registradas\n",
    "\n",
    "# create reference\n",
    "df_backup = pd.DataFrame(df_missing['invoice_no'].drop_duplicates())\n",
    "df_backup['customer_id'] = np.arange(19000, 19000+len(df_backup), 1)\n",
    "\n",
    "\n",
    "# Merge with original dataframe\n",
    "df1 = pd.merge(df1, df_backup, on = 'invoice_no', how = 'left')\n",
    "\n",
    "# **Coalesce\n",
    "df1['customer_id'] = df1['customer_id_x'].combine_first(df1['customer_id_y'])\n",
    "\n",
    "# drop extra columns\n",
    "df1 = df1.drop(columns = ['customer_id_x', 'customer_id_y'], axis=1)\n",
    "\n",
    "df1.head()"
   ]
  },
  {
   "cell_type": "code",
   "execution_count": 11,
   "metadata": {},
   "outputs": [
    {
     "data": {
      "text/plain": [
       "invoice_no         0\n",
       "stock_code         0\n",
       "description     1454\n",
       "quantity           0\n",
       "invoice_date       0\n",
       "unit_price         0\n",
       "country            0\n",
       "customer_id        0\n",
       "dtype: int64"
      ]
     },
     "execution_count": 11,
     "metadata": {},
     "output_type": "execute_result"
    }
   ],
   "source": [
    "df1.isna().sum()"
   ]
  },
  {
   "cell_type": "markdown",
   "metadata": {},
   "source": [
    "### 1.5 Change Types"
   ]
  },
  {
   "cell_type": "code",
   "execution_count": 12,
   "metadata": {},
   "outputs": [
    {
     "data": {
      "text/html": [
       "<div>\n",
       "<style scoped>\n",
       "    .dataframe tbody tr th:only-of-type {\n",
       "        vertical-align: middle;\n",
       "    }\n",
       "\n",
       "    .dataframe tbody tr th {\n",
       "        vertical-align: top;\n",
       "    }\n",
       "\n",
       "    .dataframe thead th {\n",
       "        text-align: right;\n",
       "    }\n",
       "</style>\n",
       "<table border=\"1\" class=\"dataframe\">\n",
       "  <thead>\n",
       "    <tr style=\"text-align: right;\">\n",
       "      <th></th>\n",
       "      <th>invoice_no</th>\n",
       "      <th>stock_code</th>\n",
       "      <th>description</th>\n",
       "      <th>quantity</th>\n",
       "      <th>invoice_date</th>\n",
       "      <th>unit_price</th>\n",
       "      <th>country</th>\n",
       "      <th>customer_id</th>\n",
       "    </tr>\n",
       "  </thead>\n",
       "  <tbody>\n",
       "    <tr>\n",
       "      <th>0</th>\n",
       "      <td>536365</td>\n",
       "      <td>85123A</td>\n",
       "      <td>WHITE HANGING HEART T-LIGHT HOLDER</td>\n",
       "      <td>6</td>\n",
       "      <td>2010-12-01</td>\n",
       "      <td>2.55</td>\n",
       "      <td>United Kingdom</td>\n",
       "      <td>17850</td>\n",
       "    </tr>\n",
       "    <tr>\n",
       "      <th>1</th>\n",
       "      <td>536365</td>\n",
       "      <td>71053</td>\n",
       "      <td>WHITE METAL LANTERN</td>\n",
       "      <td>6</td>\n",
       "      <td>2010-12-01</td>\n",
       "      <td>3.39</td>\n",
       "      <td>United Kingdom</td>\n",
       "      <td>17850</td>\n",
       "    </tr>\n",
       "    <tr>\n",
       "      <th>2</th>\n",
       "      <td>536365</td>\n",
       "      <td>84406B</td>\n",
       "      <td>CREAM CUPID HEARTS COAT HANGER</td>\n",
       "      <td>8</td>\n",
       "      <td>2010-12-01</td>\n",
       "      <td>2.75</td>\n",
       "      <td>United Kingdom</td>\n",
       "      <td>17850</td>\n",
       "    </tr>\n",
       "    <tr>\n",
       "      <th>3</th>\n",
       "      <td>536365</td>\n",
       "      <td>84029G</td>\n",
       "      <td>KNITTED UNION FLAG HOT WATER BOTTLE</td>\n",
       "      <td>6</td>\n",
       "      <td>2010-12-01</td>\n",
       "      <td>3.39</td>\n",
       "      <td>United Kingdom</td>\n",
       "      <td>17850</td>\n",
       "    </tr>\n",
       "    <tr>\n",
       "      <th>4</th>\n",
       "      <td>536365</td>\n",
       "      <td>84029E</td>\n",
       "      <td>RED WOOLLY HOTTIE WHITE HEART.</td>\n",
       "      <td>6</td>\n",
       "      <td>2010-12-01</td>\n",
       "      <td>3.39</td>\n",
       "      <td>United Kingdom</td>\n",
       "      <td>17850</td>\n",
       "    </tr>\n",
       "  </tbody>\n",
       "</table>\n",
       "</div>"
      ],
      "text/plain": [
       "  invoice_no stock_code                          description  quantity  \\\n",
       "0     536365     85123A   WHITE HANGING HEART T-LIGHT HOLDER         6   \n",
       "1     536365      71053                  WHITE METAL LANTERN         6   \n",
       "2     536365     84406B       CREAM CUPID HEARTS COAT HANGER         8   \n",
       "3     536365     84029G  KNITTED UNION FLAG HOT WATER BOTTLE         6   \n",
       "4     536365     84029E       RED WOOLLY HOTTIE WHITE HEART.         6   \n",
       "\n",
       "  invoice_date  unit_price         country  customer_id  \n",
       "0   2010-12-01        2.55  United Kingdom        17850  \n",
       "1   2010-12-01        3.39  United Kingdom        17850  \n",
       "2   2010-12-01        2.75  United Kingdom        17850  \n",
       "3   2010-12-01        3.39  United Kingdom        17850  \n",
       "4   2010-12-01        3.39  United Kingdom        17850  "
      ]
     },
     "execution_count": 12,
     "metadata": {},
     "output_type": "execute_result"
    }
   ],
   "source": [
    "df1['customer_id'] = df1['customer_id'].astype(int)\n",
    "\n",
    "df1['invoice_date'] = pd.to_datetime(df1['invoice_date'])\n",
    "df1['invoice_date'] = df1['invoice_date'].dt.strftime('%Y-%m-%d')\n",
    "df1['invoice_date'] = pd.to_datetime(df1['invoice_date'])\n",
    "\n",
    "df1.head()"
   ]
  },
  {
   "cell_type": "code",
   "execution_count": 13,
   "metadata": {},
   "outputs": [
    {
     "data": {
      "text/plain": [
       "invoice_no              object\n",
       "stock_code              object\n",
       "description             object\n",
       "quantity                 int64\n",
       "invoice_date    datetime64[ns]\n",
       "unit_price             float64\n",
       "country                 object\n",
       "customer_id              int64\n",
       "dtype: object"
      ]
     },
     "execution_count": 13,
     "metadata": {},
     "output_type": "execute_result"
    }
   ],
   "source": [
    "df1.dtypes"
   ]
  },
  {
   "cell_type": "markdown",
   "metadata": {},
   "source": [
    "### 1.6 Descriptive Statistics"
   ]
  },
  {
   "cell_type": "markdown",
   "metadata": {},
   "source": [
    "#### 1.6.0  Datasets"
   ]
  },
  {
   "cell_type": "code",
   "execution_count": 14,
   "metadata": {},
   "outputs": [],
   "source": [
    "num_attributes = df1.select_dtypes(include = ['int64', 'float64'])\n",
    "cat_attributes = df1.select_dtypes(exclude = ['int64', 'float64', 'datetime64[ns]'])"
   ]
  },
  {
   "cell_type": "markdown",
   "metadata": {},
   "source": [
    "#### 1.6.1 Nummerical Attributes"
   ]
  },
  {
   "cell_type": "code",
   "execution_count": 15,
   "metadata": {},
   "outputs": [
    {
     "name": "stderr",
     "output_type": "stream",
     "text": [
      "/tmp/ipykernel_4893/1127210125.py:15: UserWarning: Pandas doesn't allow columns to be created via a new attribute name - see https://pandas.pydata.org/pandas-docs/stable/indexing.html#attribute-access\n",
      "  concat.coluconcatns=['Attributes','Min','Max','Range','Mean','Median','STD','Skew','Kurtosis']\n"
     ]
    },
    {
     "data": {
      "text/html": [
       "<div>\n",
       "<style scoped>\n",
       "    .dataframe tbody tr th:only-of-type {\n",
       "        vertical-align: middle;\n",
       "    }\n",
       "\n",
       "    .dataframe tbody tr th {\n",
       "        vertical-align: top;\n",
       "    }\n",
       "\n",
       "    .dataframe thead th {\n",
       "        text-align: right;\n",
       "    }\n",
       "</style>\n",
       "<table border=\"1\" class=\"dataframe\">\n",
       "  <thead>\n",
       "    <tr style=\"text-align: right;\">\n",
       "      <th></th>\n",
       "      <th>index</th>\n",
       "      <th>0</th>\n",
       "      <th>0</th>\n",
       "      <th>0</th>\n",
       "      <th>0</th>\n",
       "      <th>0</th>\n",
       "      <th>0</th>\n",
       "      <th>0</th>\n",
       "      <th>0</th>\n",
       "    </tr>\n",
       "  </thead>\n",
       "  <tbody>\n",
       "    <tr>\n",
       "      <th>0</th>\n",
       "      <td>quantity</td>\n",
       "      <td>-80995.00</td>\n",
       "      <td>80995.0</td>\n",
       "      <td>161990.00</td>\n",
       "      <td>9.552250</td>\n",
       "      <td>3.00</td>\n",
       "      <td>218.080957</td>\n",
       "      <td>-0.264076</td>\n",
       "      <td>119769.160031</td>\n",
       "    </tr>\n",
       "    <tr>\n",
       "      <th>1</th>\n",
       "      <td>unit_price</td>\n",
       "      <td>-11062.06</td>\n",
       "      <td>38970.0</td>\n",
       "      <td>50032.06</td>\n",
       "      <td>4.611114</td>\n",
       "      <td>2.08</td>\n",
       "      <td>96.759764</td>\n",
       "      <td>186.506972</td>\n",
       "      <td>59005.719097</td>\n",
       "    </tr>\n",
       "    <tr>\n",
       "      <th>2</th>\n",
       "      <td>customer_id</td>\n",
       "      <td>12346.00</td>\n",
       "      <td>22709.0</td>\n",
       "      <td>10363.00</td>\n",
       "      <td>16688.840453</td>\n",
       "      <td>16249.00</td>\n",
       "      <td>2911.408666</td>\n",
       "      <td>0.487449</td>\n",
       "      <td>-0.804287</td>\n",
       "    </tr>\n",
       "  </tbody>\n",
       "</table>\n",
       "</div>"
      ],
      "text/plain": [
       "         index         0        0          0             0         0  \\\n",
       "0     quantity -80995.00  80995.0  161990.00      9.552250      3.00   \n",
       "1   unit_price -11062.06  38970.0   50032.06      4.611114      2.08   \n",
       "2  customer_id  12346.00  22709.0   10363.00  16688.840453  16249.00   \n",
       "\n",
       "             0           0              0  \n",
       "0   218.080957   -0.264076  119769.160031  \n",
       "1    96.759764  186.506972   59005.719097  \n",
       "2  2911.408666    0.487449      -0.804287  "
      ]
     },
     "execution_count": 15,
     "metadata": {},
     "output_type": "execute_result"
    }
   ],
   "source": [
    "numerical_metrics(num_attributes)"
   ]
  },
  {
   "cell_type": "markdown",
   "metadata": {},
   "source": [
    "#### 1.6.2 Categorical Attributes"
   ]
  },
  {
   "cell_type": "code",
   "execution_count": 16,
   "metadata": {},
   "outputs": [
    {
     "data": {
      "text/html": [
       "<div>\n",
       "<style scoped>\n",
       "    .dataframe tbody tr th:only-of-type {\n",
       "        vertical-align: middle;\n",
       "    }\n",
       "\n",
       "    .dataframe tbody tr th {\n",
       "        vertical-align: top;\n",
       "    }\n",
       "\n",
       "    .dataframe thead th {\n",
       "        text-align: right;\n",
       "    }\n",
       "</style>\n",
       "<table border=\"1\" class=\"dataframe\">\n",
       "  <thead>\n",
       "    <tr style=\"text-align: right;\">\n",
       "      <th></th>\n",
       "      <th>invoice_no</th>\n",
       "      <th>stock_code</th>\n",
       "      <th>description</th>\n",
       "      <th>country</th>\n",
       "    </tr>\n",
       "  </thead>\n",
       "  <tbody>\n",
       "    <tr>\n",
       "      <th>0</th>\n",
       "      <td>536365</td>\n",
       "      <td>85123A</td>\n",
       "      <td>WHITE HANGING HEART T-LIGHT HOLDER</td>\n",
       "      <td>United Kingdom</td>\n",
       "    </tr>\n",
       "    <tr>\n",
       "      <th>1</th>\n",
       "      <td>536365</td>\n",
       "      <td>71053</td>\n",
       "      <td>WHITE METAL LANTERN</td>\n",
       "      <td>United Kingdom</td>\n",
       "    </tr>\n",
       "    <tr>\n",
       "      <th>2</th>\n",
       "      <td>536365</td>\n",
       "      <td>84406B</td>\n",
       "      <td>CREAM CUPID HEARTS COAT HANGER</td>\n",
       "      <td>United Kingdom</td>\n",
       "    </tr>\n",
       "    <tr>\n",
       "      <th>3</th>\n",
       "      <td>536365</td>\n",
       "      <td>84029G</td>\n",
       "      <td>KNITTED UNION FLAG HOT WATER BOTTLE</td>\n",
       "      <td>United Kingdom</td>\n",
       "    </tr>\n",
       "    <tr>\n",
       "      <th>4</th>\n",
       "      <td>536365</td>\n",
       "      <td>84029E</td>\n",
       "      <td>RED WOOLLY HOTTIE WHITE HEART.</td>\n",
       "      <td>United Kingdom</td>\n",
       "    </tr>\n",
       "  </tbody>\n",
       "</table>\n",
       "</div>"
      ],
      "text/plain": [
       "  invoice_no stock_code                          description         country\n",
       "0     536365     85123A   WHITE HANGING HEART T-LIGHT HOLDER  United Kingdom\n",
       "1     536365      71053                  WHITE METAL LANTERN  United Kingdom\n",
       "2     536365     84406B       CREAM CUPID HEARTS COAT HANGER  United Kingdom\n",
       "3     536365     84029G  KNITTED UNION FLAG HOT WATER BOTTLE  United Kingdom\n",
       "4     536365     84029E       RED WOOLLY HOTTIE WHITE HEART.  United Kingdom"
      ]
     },
     "execution_count": 16,
     "metadata": {},
     "output_type": "execute_result"
    }
   ],
   "source": [
    "cat_attributes.head()"
   ]
  },
  {
   "cell_type": "markdown",
   "metadata": {},
   "source": [
    "##### Invoice No"
   ]
  },
  {
   "cell_type": "code",
   "execution_count": 17,
   "metadata": {},
   "outputs": [
    {
     "name": "stdout",
     "output_type": "stream",
     "text": [
      "Total invoice_no with letter: 9291\n",
      "Total invoice_no with letter and negative quantity value: 9288\n"
     ]
    }
   ],
   "source": [
    "# Quantidade de registros com letras\n",
    "df_letter_invoice = df1.loc[df1['invoice_no'].apply(lambda x: bool(re.search('[^0-9]+', x))), :]\n",
    "print(f'Total invoice_no with letter: {len(df_letter_invoice)}')\n",
    "print('Total invoice_no with letter and negative quantity value: {}'.format(len(df_letter_invoice[df_letter_invoice['quantity']<0])))"
   ]
  },
  {
   "cell_type": "markdown",
   "metadata": {},
   "source": [
    "##### Stock Code"
   ]
  },
  {
   "cell_type": "code",
   "execution_count": 18,
   "metadata": {},
   "outputs": [
    {
     "data": {
      "text/plain": [
       "array(['POST', 'D', 'DOT', 'M', 'S', 'AMAZONFEE', 'm', 'DCGSSBOY',\n",
       "       'DCGSSGIRL', 'PADS', 'B', 'CRUK'], dtype=object)"
      ]
     },
     "execution_count": 18,
     "metadata": {},
     "output_type": "execute_result"
    }
   ],
   "source": [
    "# The stock_code should be a number\n",
    "df1.loc[df1['stock_code'].apply(lambda x: bool(re.search('^[a-zA-Z]+$', x))), :]\n",
    "df1.loc[df1['stock_code'].apply(lambda x: bool(re.search('^[a-zA-Z]+$', x))), 'stock_code'].unique()\n",
    "\n",
    "# task: remove stock_code in ['POST', 'D', 'M', 'PADS', 'DOT', 'CRUK']"
   ]
  },
  {
   "cell_type": "markdown",
   "metadata": {},
   "source": [
    "##### Description"
   ]
  },
  {
   "cell_type": "code",
   "execution_count": 19,
   "metadata": {},
   "outputs": [],
   "source": [
    "# Task: delete description"
   ]
  },
  {
   "cell_type": "markdown",
   "metadata": {},
   "source": [
    "##### Country"
   ]
  },
  {
   "cell_type": "code",
   "execution_count": 20,
   "metadata": {},
   "outputs": [
    {
     "data": {
      "text/plain": [
       "38"
      ]
     },
     "execution_count": 20,
     "metadata": {},
     "output_type": "execute_result"
    }
   ],
   "source": [
    "len(df1['country'].unique())"
   ]
  },
  {
   "cell_type": "code",
   "execution_count": 21,
   "metadata": {},
   "outputs": [
    {
     "data": {
      "text/plain": [
       "United Kingdom    0.914320\n",
       "Germany           0.017521\n",
       "France            0.015790\n",
       "EIRE              0.015124\n",
       "Spain             0.004674\n",
       "Name: country, dtype: float64"
      ]
     },
     "execution_count": 21,
     "metadata": {},
     "output_type": "execute_result"
    }
   ],
   "source": [
    "df1['country'].value_counts(normalize = True).head()"
   ]
  },
  {
   "cell_type": "code",
   "execution_count": 22,
   "metadata": {},
   "outputs": [
    {
     "data": {
      "text/html": [
       "<div>\n",
       "<style scoped>\n",
       "    .dataframe tbody tr th:only-of-type {\n",
       "        vertical-align: middle;\n",
       "    }\n",
       "\n",
       "    .dataframe tbody tr th {\n",
       "        vertical-align: top;\n",
       "    }\n",
       "\n",
       "    .dataframe thead th {\n",
       "        text-align: right;\n",
       "    }\n",
       "</style>\n",
       "<table border=\"1\" class=\"dataframe\">\n",
       "  <thead>\n",
       "    <tr style=\"text-align: right;\">\n",
       "      <th></th>\n",
       "      <th>country</th>\n",
       "      <th>customer_id</th>\n",
       "    </tr>\n",
       "  </thead>\n",
       "  <tbody>\n",
       "    <tr>\n",
       "      <th>36</th>\n",
       "      <td>United Kingdom</td>\n",
       "      <td>7587</td>\n",
       "    </tr>\n",
       "    <tr>\n",
       "      <th>14</th>\n",
       "      <td>Germany</td>\n",
       "      <td>95</td>\n",
       "    </tr>\n",
       "    <tr>\n",
       "      <th>13</th>\n",
       "      <td>France</td>\n",
       "      <td>90</td>\n",
       "    </tr>\n",
       "    <tr>\n",
       "      <th>10</th>\n",
       "      <td>EIRE</td>\n",
       "      <td>44</td>\n",
       "    </tr>\n",
       "    <tr>\n",
       "      <th>31</th>\n",
       "      <td>Spain</td>\n",
       "      <td>31</td>\n",
       "    </tr>\n",
       "  </tbody>\n",
       "</table>\n",
       "</div>"
      ],
      "text/plain": [
       "           country  customer_id\n",
       "36  United Kingdom         7587\n",
       "14         Germany           95\n",
       "13          France           90\n",
       "10            EIRE           44\n",
       "31           Spain           31"
      ]
     },
     "execution_count": 22,
     "metadata": {},
     "output_type": "execute_result"
    }
   ],
   "source": [
    "df1[['customer_id', 'country']].drop_duplicates().groupby('country').count().reset_index().sort_values('customer_id', ascending=False).head()"
   ]
  },
  {
   "cell_type": "markdown",
   "metadata": {},
   "source": [
    "# 2. Data Filtering "
   ]
  },
  {
   "cell_type": "code",
   "execution_count": 23,
   "metadata": {},
   "outputs": [],
   "source": [
    "df2 = df1.copy()"
   ]
  },
  {
   "cell_type": "code",
   "execution_count": 24,
   "metadata": {},
   "outputs": [],
   "source": [
    "# ==== Bad Users ====\n",
    "\n",
    "df2 = df2[~df2['customer_id'].isin([16446])]  # Maior número de devolução do conjunto de dados\n",
    "df2 = df2[~df2['customer_id'].isin([17548, 16546, 15823, 13672, 12346, 13762, 18268, 14557, 16878, 13364, 14792, 12607, 12454, 18274, 12558])]  # itens devolvidos >= itens comprados\n",
    "\n",
    "# ==== Cat Attributes ====\n",
    "\n",
    "# Stock Code != ['POST', 'D', 'M', 'PADS', 'DOT', 'CRUK']\n",
    "df2 = df2[~df2['stock_code'].isin(['POST', 'D', 'DOT', 'M', 'S', 'AMAZONFEE', 'm', 'DCGSSBOY', 'DCGSSGIRL', 'PADS', 'B', 'CRUK'])]\n",
    "\n",
    "# Description\n",
    "df2 = df2.drop(columns = 'description', axis = 1)\n",
    "\n",
    "# Country\n",
    "df2 = df2[~df2['country'].isin(['European Community', 'Unspecified'])]\n",
    "\n",
    "\n",
    "# ==== Num Attributes ====\n",
    "\n",
    "# Unit Price > 0.04 \n",
    "df2 = df2.loc[df2['unit_price'] >= 0.04, :]\n",
    "\n",
    "# Quantity\n",
    "df_returns = df2.loc[df2['quantity']<0, :]\n",
    "df_purchases = df2.loc[df2['quantity']>0, :]\n"
   ]
  },
  {
   "cell_type": "markdown",
   "metadata": {},
   "source": [
    "# 3. Feature Engineering"
   ]
  },
  {
   "cell_type": "markdown",
   "metadata": {},
   "source": [
    "### 3.0 Dataset"
   ]
  },
  {
   "cell_type": "code",
   "execution_count": 25,
   "metadata": {},
   "outputs": [],
   "source": [
    "df3 = df2.copy()\n",
    "\n",
    "# Data Reference\n",
    "df_ref = df3.drop (['invoice_no', 'stock_code',\n",
    "                    'quantity', 'invoice_date', 'unit_price',\n",
    "                    'country'], axis=1).drop_duplicates(ignore_index=True)"
   ]
  },
  {
   "cell_type": "markdown",
   "metadata": {},
   "source": [
    "### 3.1 Gross Revenue"
   ]
  },
  {
   "cell_type": "code",
   "execution_count": 26,
   "metadata": {},
   "outputs": [
    {
     "name": "stderr",
     "output_type": "stream",
     "text": [
      "/tmp/ipykernel_4893/3206053974.py:2: SettingWithCopyWarning: \n",
      "A value is trying to be set on a copy of a slice from a DataFrame.\n",
      "Try using .loc[row_indexer,col_indexer] = value instead\n",
      "\n",
      "See the caveats in the documentation: https://pandas.pydata.org/pandas-docs/stable/user_guide/indexing.html#returning-a-view-versus-a-copy\n",
      "  df_purchases['gross_revenue'] = df_purchases['quantity'] * df_purchases['unit_price']\n"
     ]
    },
    {
     "data": {
      "text/plain": [
       "customer_id       0\n",
       "gross_revenue    91\n",
       "dtype: int64"
      ]
     },
     "execution_count": 26,
     "metadata": {},
     "output_type": "execute_result"
    }
   ],
   "source": [
    "# Monetary (Gross Revenue)\n",
    "df_purchases['gross_revenue'] = df_purchases['quantity'] * df_purchases['unit_price']\n",
    "df_monetary = df_purchases[['customer_id', 'gross_revenue']].groupby('customer_id').sum().reset_index()\n",
    "df_ref = pd.merge (df_ref, df_monetary, on = 'customer_id', how = 'left')\n",
    "\n",
    "df_ref.isna().sum()"
   ]
  },
  {
   "cell_type": "markdown",
   "metadata": {},
   "source": [
    "### 3.2 Recency - Day from last purchase"
   ]
  },
  {
   "cell_type": "code",
   "execution_count": 27,
   "metadata": {},
   "outputs": [
    {
     "data": {
      "text/plain": [
       "customer_id       0\n",
       "gross_revenue    91\n",
       "recency_days     91\n",
       "dtype: int64"
      ]
     },
     "execution_count": 27,
     "metadata": {},
     "output_type": "execute_result"
    }
   ],
   "source": [
    "# Recency\n",
    "df_recency = df_purchases[['customer_id', 'invoice_date']].groupby('customer_id').max().reset_index()\n",
    "df_recency['recency_days'] = (df_purchases['invoice_date'].max() - df_recency['invoice_date']).dt.days\n",
    "df_recency = df_recency[['customer_id', 'recency_days']].copy()\n",
    "df_ref = pd.merge(df_ref, df_recency, on = 'customer_id', how = 'left')\n",
    "\n",
    "df_ref.isna().sum()"
   ]
  },
  {
   "cell_type": "markdown",
   "metadata": {},
   "source": [
    "### 3.3 Quantity of purchases"
   ]
  },
  {
   "cell_type": "code",
   "execution_count": 28,
   "metadata": {},
   "outputs": [],
   "source": [
    "df_count = (df_purchases[['customer_id', 'invoice_no']].drop_duplicates()\n",
    "                                                       .groupby('customer_id')\n",
    "                                                       .count()\n",
    "                                                       .reset_index()\n",
    "                                                       .rename(columns={'invoice_no':'purchases_no'}))\n",
    "\n",
    "df_ref = pd.merge(df_ref, df_count, on = 'customer_id', how = 'left')"
   ]
  },
  {
   "cell_type": "markdown",
   "metadata": {},
   "source": [
    "### 3.4 Quantity of diferent products purchased"
   ]
  },
  {
   "cell_type": "code",
   "execution_count": 29,
   "metadata": {},
   "outputs": [
    {
     "data": {
      "text/plain": [
       "customer_id       0\n",
       "gross_revenue    91\n",
       "recency_days     91\n",
       "purchases_no     91\n",
       "products_no      91\n",
       "dtype: int64"
      ]
     },
     "execution_count": 29,
     "metadata": {},
     "output_type": "execute_result"
    }
   ],
   "source": [
    "df_prod = (df_purchases[['customer_id', 'stock_code']].groupby('customer_id')\n",
    "                                                      .count()\n",
    "                                                      .reset_index()\n",
    "                                                      .rename(columns={'stock_code':'products_no'}))\n",
    "\n",
    "df_ref = pd.merge(df_ref, df_prod, on = 'customer_id', how = 'left')\n",
    "df_ref.isna().sum()"
   ]
  },
  {
   "cell_type": "markdown",
   "metadata": {},
   "source": [
    "### 3.5 Quantity of items purchased\n"
   ]
  },
  {
   "cell_type": "code",
   "execution_count": 30,
   "metadata": {},
   "outputs": [
    {
     "data": {
      "text/plain": [
       "customer_id       0\n",
       "gross_revenue    91\n",
       "recency_days     91\n",
       "purchases_no     91\n",
       "products_no      91\n",
       "items_no         91\n",
       "dtype: int64"
      ]
     },
     "execution_count": 30,
     "metadata": {},
     "output_type": "execute_result"
    }
   ],
   "source": [
    "df_prod = (df_purchases[['customer_id', 'quantity']].groupby('customer_id')\n",
    "                                                    .sum()\n",
    "                                                    .reset_index()\n",
    "                                                    .rename(columns={'quantity':'items_no'}))\n",
    "\n",
    "df_ref = pd.merge(df_ref, df_prod, on = 'customer_id', how = 'left')\n",
    "df_ref.isna().sum()\n"
   ]
  },
  {
   "cell_type": "markdown",
   "metadata": {},
   "source": [
    "### 3.6 Frequency Purchase"
   ]
  },
  {
   "cell_type": "code",
   "execution_count": 31,
   "metadata": {},
   "outputs": [
    {
     "data": {
      "text/plain": [
       "customer_id       0\n",
       "gross_revenue    91\n",
       "recency_days     91\n",
       "purchases_no     91\n",
       "products_no      91\n",
       "items_no         91\n",
       "frequency        91\n",
       "dtype: int64"
      ]
     },
     "execution_count": 31,
     "metadata": {},
     "output_type": "execute_result"
    }
   ],
   "source": [
    "df_aux = (df_purchases[['customer_id', 'invoice_no', 'invoice_date']].drop_duplicates()\n",
    "                                                                     .groupby('customer_id')\n",
    "                                                                     .agg(max_    = ('invoice_date', 'max'),\n",
    "                                                                          min_    = ('invoice_date', 'min'),\n",
    "                                                                          days_   = ('invoice_date', lambda x: ((x.max() - x.min()).days) + 1),\n",
    "                                                                          buy_    = ('invoice_no', 'count') ) ).reset_index()\n",
    "\n",
    "df_aux['frequency'] = df_aux[['buy_', 'days_']].apply(lambda x: x['buy_'] / x['days_'] if x['days_'] != 0 else 0, axis = 1)\n",
    "\n",
    "# Merge\n",
    "df_ref = pd.merge(df_ref, df_aux[['customer_id', 'frequency']], on = 'customer_id', how = 'left')\n",
    "df_ref.isna().sum()"
   ]
  },
  {
   "cell_type": "markdown",
   "metadata": {},
   "source": [
    "### 3.7 Returns"
   ]
  },
  {
   "cell_type": "code",
   "execution_count": 32,
   "metadata": {},
   "outputs": [
    {
     "data": {
      "text/html": [
       "<div>\n",
       "<style scoped>\n",
       "    .dataframe tbody tr th:only-of-type {\n",
       "        vertical-align: middle;\n",
       "    }\n",
       "\n",
       "    .dataframe tbody tr th {\n",
       "        vertical-align: top;\n",
       "    }\n",
       "\n",
       "    .dataframe thead th {\n",
       "        text-align: right;\n",
       "    }\n",
       "</style>\n",
       "<table border=\"1\" class=\"dataframe\">\n",
       "  <thead>\n",
       "    <tr style=\"text-align: right;\">\n",
       "      <th></th>\n",
       "      <th>invoice_no</th>\n",
       "      <th>stock_code</th>\n",
       "      <th>quantity</th>\n",
       "      <th>invoice_date</th>\n",
       "      <th>unit_price</th>\n",
       "      <th>country</th>\n",
       "      <th>customer_id</th>\n",
       "    </tr>\n",
       "  </thead>\n",
       "  <tbody>\n",
       "    <tr>\n",
       "      <th>154</th>\n",
       "      <td>C536383</td>\n",
       "      <td>35004C</td>\n",
       "      <td>-1</td>\n",
       "      <td>2010-12-01</td>\n",
       "      <td>4.65</td>\n",
       "      <td>United Kingdom</td>\n",
       "      <td>15311</td>\n",
       "    </tr>\n",
       "    <tr>\n",
       "      <th>939</th>\n",
       "      <td>C536506</td>\n",
       "      <td>22960</td>\n",
       "      <td>-6</td>\n",
       "      <td>2010-12-01</td>\n",
       "      <td>4.25</td>\n",
       "      <td>United Kingdom</td>\n",
       "      <td>17897</td>\n",
       "    </tr>\n",
       "    <tr>\n",
       "      <th>1441</th>\n",
       "      <td>C536543</td>\n",
       "      <td>22632</td>\n",
       "      <td>-1</td>\n",
       "      <td>2010-12-01</td>\n",
       "      <td>2.10</td>\n",
       "      <td>United Kingdom</td>\n",
       "      <td>17841</td>\n",
       "    </tr>\n",
       "    <tr>\n",
       "      <th>1442</th>\n",
       "      <td>C536543</td>\n",
       "      <td>22355</td>\n",
       "      <td>-2</td>\n",
       "      <td>2010-12-01</td>\n",
       "      <td>0.85</td>\n",
       "      <td>United Kingdom</td>\n",
       "      <td>17841</td>\n",
       "    </tr>\n",
       "    <tr>\n",
       "      <th>1973</th>\n",
       "      <td>C536548</td>\n",
       "      <td>22244</td>\n",
       "      <td>-4</td>\n",
       "      <td>2010-12-01</td>\n",
       "      <td>1.95</td>\n",
       "      <td>Germany</td>\n",
       "      <td>12472</td>\n",
       "    </tr>\n",
       "  </tbody>\n",
       "</table>\n",
       "</div>"
      ],
      "text/plain": [
       "     invoice_no stock_code  quantity invoice_date  unit_price         country  \\\n",
       "154     C536383     35004C        -1   2010-12-01        4.65  United Kingdom   \n",
       "939     C536506      22960        -6   2010-12-01        4.25  United Kingdom   \n",
       "1441    C536543      22632        -1   2010-12-01        2.10  United Kingdom   \n",
       "1442    C536543      22355        -2   2010-12-01        0.85  United Kingdom   \n",
       "1973    C536548      22244        -4   2010-12-01        1.95         Germany   \n",
       "\n",
       "      customer_id  \n",
       "154         15311  \n",
       "939         17897  \n",
       "1441        17841  \n",
       "1442        17841  \n",
       "1973        12472  "
      ]
     },
     "execution_count": 32,
     "metadata": {},
     "output_type": "execute_result"
    }
   ],
   "source": [
    "df_returns.head()"
   ]
  },
  {
   "cell_type": "code",
   "execution_count": 33,
   "metadata": {},
   "outputs": [
    {
     "data": {
      "text/plain": [
       "customer_id       0\n",
       "gross_revenue    91\n",
       "recency_days     91\n",
       "purchases_no     91\n",
       "products_no      91\n",
       "items_no         91\n",
       "frequency        91\n",
       "returns_no        0\n",
       "dtype: int64"
      ]
     },
     "execution_count": 33,
     "metadata": {},
     "output_type": "execute_result"
    }
   ],
   "source": [
    "# Return Number\n",
    "df_returns = df_returns[['customer_id', 'quantity']].groupby('customer_id').sum().reset_index().rename(columns={'quantity' : 'returns_no'})\n",
    "df_returns['returns_no'] = df_returns['returns_no'] * -1\n",
    "\n",
    "df_ref = pd.merge(df_ref, df_returns, how = 'left', on='customer_id')\n",
    "df_ref.loc[df_ref['returns_no'].isna(), 'returns_no'] = 0\n",
    "\n",
    "df_ref.isna().sum()"
   ]
  },
  {
   "cell_type": "markdown",
   "metadata": {},
   "source": [
    "### 3.8 Satisfaction Rate"
   ]
  },
  {
   "cell_type": "code",
   "execution_count": 34,
   "metadata": {},
   "outputs": [],
   "source": [
    "df_ref['satisfaction_rate'] = 1 - df_ref['returns_no'] / df_ref['items_no']"
   ]
  },
  {
   "cell_type": "code",
   "execution_count": 35,
   "metadata": {},
   "outputs": [
    {
     "data": {
      "text/plain": [
       "customer_id           0\n",
       "gross_revenue        91\n",
       "recency_days         91\n",
       "purchases_no         91\n",
       "products_no          91\n",
       "items_no             91\n",
       "frequency            91\n",
       "returns_no            0\n",
       "satisfaction_rate    91\n",
       "dtype: int64"
      ]
     },
     "execution_count": 35,
     "metadata": {},
     "output_type": "execute_result"
    }
   ],
   "source": [
    "df_ref.isna().sum()"
   ]
  },
  {
   "cell_type": "markdown",
   "metadata": {},
   "source": [
    "# 4. Exploratory Data Analysis"
   ]
  },
  {
   "cell_type": "code",
   "execution_count": 36,
   "metadata": {},
   "outputs": [
    {
     "data": {
      "text/plain": [
       "customer_id          0\n",
       "gross_revenue        0\n",
       "recency_days         0\n",
       "purchases_no         0\n",
       "products_no          0\n",
       "items_no             0\n",
       "frequency            0\n",
       "returns_no           0\n",
       "satisfaction_rate    0\n",
       "dtype: int64"
      ]
     },
     "execution_count": 36,
     "metadata": {},
     "output_type": "execute_result"
    }
   ],
   "source": [
    "df4 = df_ref.dropna().copy()\n",
    "df4.isna().sum()"
   ]
  },
  {
   "cell_type": "code",
   "execution_count": 37,
   "metadata": {},
   "outputs": [
    {
     "name": "stdout",
     "output_type": "stream",
     "text": [
      "(5771, 9)\n",
      "(5680, 9)\n"
     ]
    }
   ],
   "source": [
    "print(df_ref.shape)\n",
    "print(df4.shape)"
   ]
  },
  {
   "cell_type": "markdown",
   "metadata": {},
   "source": [
    "### 4.3 Data Space Study "
   ]
  },
  {
   "cell_type": "markdown",
   "metadata": {},
   "source": [
    "#### 4.3.0 Data Preparation"
   ]
  },
  {
   "cell_type": "code",
   "execution_count": 76,
   "metadata": {},
   "outputs": [],
   "source": [
    "df43 = df4.drop(columns = ['customer_id', 'returns_no'], axis=1).copy()"
   ]
  },
  {
   "cell_type": "code",
   "execution_count": 78,
   "metadata": {},
   "outputs": [],
   "source": [
    "mm = pp.MinMaxScaler()\n",
    "\n",
    "gross_revenue_scaler = pickle.load(open('features/gross_revenue_scaler.pkl', 'rb'))\n",
    "df43['gross_revenue'] = mm.fit_transform(df43[['gross_revenue']])\n",
    "\n",
    "recency_days_scaler = pickle.load(open('features/recency_days_scaler.pkl', 'rb'))\n",
    "df43['recency_days'] = mm.fit_transform(df43[['recency_days']])\n",
    "\n",
    "purchases_no_scaler = pickle.load(open('features/purchases_no_scaler.pkl', 'rb'))\n",
    "df43['purchases_no'] = mm.fit_transform(df43[['purchases_no']])\n",
    "\n",
    "products_no_scaler = pickle.load(open('features/products_no_scaler.pkl', 'rb'))\n",
    "df43['products_no'] = mm.fit_transform(df43[['products_no']])\n",
    "\n",
    "items_no_scaler = pickle.load(open('features/items_no_scaler.pkl', 'rb'))\n",
    "df43['items_no'] = mm.fit_transform(df43[['items_no']])\n",
    "\n",
    "frequency_scaler = pickle.load(open('features/frequency_scaler.pkl', 'rb'))\n",
    "df43['frequency'] = mm.fit_transform(df43[['frequency']])\n",
    "\n",
    "satisfaction_rate_scaler = pickle.load(open('features/satisfaction_rate_scaler.pkl', 'rb'))\n",
    "df43['satisfaction_rate'] = mm.fit_transform(df43[['satisfaction_rate']])"
   ]
  },
  {
   "cell_type": "markdown",
   "metadata": {},
   "source": [
    "#### 4.3.2 UMAP"
   ]
  },
  {
   "cell_type": "code",
   "execution_count": 83,
   "metadata": {},
   "outputs": [
    {
     "data": {
      "text/plain": [
       "<AxesSubplot:xlabel='embedding_x', ylabel='embedding_y'>"
      ]
     },
     "execution_count": 83,
     "metadata": {},
     "output_type": "execute_result"
    },
    {
     "data": {
      "image/png": "[encoded data removed]",
      "text/plain": [
       "<Figure size 1440x576 with 1 Axes>"
      ]
     },
     "metadata": {},
     "output_type": "display_data"
    }
   ],
   "source": [
    "reducer = umap.UMAP(random_state=42)\n",
    "embedding = reducer.fit_transform (X)\n",
    "\n",
    "# reducer = pickle.load(open('features/umap_reducer.pkl', 'rb'))\n",
    "# embedding = reducer.transform(X)\n",
    "\n",
    "# embedding\n",
    "df_umap = pd.DataFrame()\n",
    "df_umap['embedding_x'] = embedding[:, 0]\n",
    "df_umap['embedding_y'] = embedding[:, 1]\n",
    "\n",
    "# plto UMAP\n",
    "sns.scatterplot( x='embedding_x',\n",
    "                 y='embedding_y',\n",
    "                 data = df_umap)"
   ]
  },
  {
   "cell_type": "markdown",
   "metadata": {},
   "source": [
    "# 5. Hyperparameter Fine-Tunning"
   ]
  },
  {
   "cell_type": "markdown",
   "metadata": {},
   "source": [
    "#### 5.0 Cluster Range"
   ]
  },
  {
   "cell_type": "code",
   "execution_count": 47,
   "metadata": {},
   "outputs": [],
   "source": [
    "clusters = np.arange(2, 11, 1)"
   ]
  },
  {
   "cell_type": "markdown",
   "metadata": {},
   "source": [
    "### 5.1 Tree Based Embedding"
   ]
  },
  {
   "cell_type": "code",
   "execution_count": 48,
   "metadata": {},
   "outputs": [],
   "source": [
    "# Tree Based Embedding\n",
    "X = df_tree.copy()"
   ]
  },
  {
   "cell_type": "code",
   "execution_count": 49,
   "metadata": {},
   "outputs": [],
   "source": [
    "# KMeans\n",
    "kmeans_list = []\n",
    "for k in clusters:\n",
    "    # model definition\n",
    "    kmeans_model = c.KMeans(init='random',\n",
    "                            n_clusters=k,\n",
    "                            n_init=10,\n",
    "                            max_iter=300,\n",
    "                            random_state=42)\n",
    "\n",
    "    # model training\n",
    "    kmeans_model.fit(X)\n",
    "\n",
    "    # clustering\n",
    "    labels = kmeans_model.predict(X) \n",
    "\n",
    "    # model performance (SS)\n",
    "    sil = m.silhouette_score(X, labels, metric='euclidean')\n",
    "    kmeans_list.append(sil)\n",
    "\n",
    "# GMM\n",
    "gmm_list = []\n",
    "for k in clusters:\n",
    "    # model definition\n",
    "    gmm_model = mx.GaussianMixture(n_components=k)\n",
    "\n",
    "    # model training\n",
    "    gmm_model.fit(X)\n",
    "\n",
    "    # model predict\n",
    "    labels = gmm_model.predict(X)\n",
    "\n",
    "    # model performance\n",
    "    sil = m.silhouette_score(X, labels, metric='euclidean')\n",
    "    gmm_list.append(sil)\n",
    "\n",
    "# HC\n",
    "hc_list = []\n",
    "for k in clusters:\n",
    "    # model definition and training\n",
    "    hc_model = hc.linkage(X, 'ward')\n",
    "\n",
    "    # model predict\n",
    "    labels = hc.fcluster(hc_model, k, criterion='maxclust')\n",
    "\n",
    "    # model performance\n",
    "    sil = m.silhouette_score(X, labels, metric='euclidean')\n",
    "    hc_list.append(sil)"
   ]
  },
  {
   "cell_type": "code",
   "execution_count": 50,
   "metadata": {},
   "outputs": [
    {
     "data": {
      "text/html": [
       "<style type=\"text/css\">\n",
       "#T_b27b9_row0_col8, #T_b27b9_row1_col6, #T_b27b9_row2_col7 {\n",
       "  background-color: blue;\n",
       "}\n",
       "</style>\n",
       "<table id=\"T_b27b9\">\n",
       "  <thead>\n",
       "    <tr>\n",
       "      <th class=\"blank level0\" >&nbsp;</th>\n",
       "      <th id=\"T_b27b9_level0_col0\" class=\"col_heading level0 col0\" >2</th>\n",
       "      <th id=\"T_b27b9_level0_col1\" class=\"col_heading level0 col1\" >3</th>\n",
       "      <th id=\"T_b27b9_level0_col2\" class=\"col_heading level0 col2\" >4</th>\n",
       "      <th id=\"T_b27b9_level0_col3\" class=\"col_heading level0 col3\" >5</th>\n",
       "      <th id=\"T_b27b9_level0_col4\" class=\"col_heading level0 col4\" >6</th>\n",
       "      <th id=\"T_b27b9_level0_col5\" class=\"col_heading level0 col5\" >7</th>\n",
       "      <th id=\"T_b27b9_level0_col6\" class=\"col_heading level0 col6\" >8</th>\n",
       "      <th id=\"T_b27b9_level0_col7\" class=\"col_heading level0 col7\" >9</th>\n",
       "      <th id=\"T_b27b9_level0_col8\" class=\"col_heading level0 col8\" >10</th>\n",
       "    </tr>\n",
       "  </thead>\n",
       "  <tbody>\n",
       "    <tr>\n",
       "      <th id=\"T_b27b9_level0_row0\" class=\"row_heading level0 row0\" >KMeans</th>\n",
       "      <td id=\"T_b27b9_row0_col0\" class=\"data row0 col0\" >0.392671</td>\n",
       "      <td id=\"T_b27b9_row0_col1\" class=\"data row0 col1\" >0.425820</td>\n",
       "      <td id=\"T_b27b9_row0_col2\" class=\"data row0 col2\" >0.450263</td>\n",
       "      <td id=\"T_b27b9_row0_col3\" class=\"data row0 col3\" >0.432313</td>\n",
       "      <td id=\"T_b27b9_row0_col4\" class=\"data row0 col4\" >0.463077</td>\n",
       "      <td id=\"T_b27b9_row0_col5\" class=\"data row0 col5\" >0.479293</td>\n",
       "      <td id=\"T_b27b9_row0_col6\" class=\"data row0 col6\" >0.484259</td>\n",
       "      <td id=\"T_b27b9_row0_col7\" class=\"data row0 col7\" >0.497900</td>\n",
       "      <td id=\"T_b27b9_row0_col8\" class=\"data row0 col8\" >0.500613</td>\n",
       "    </tr>\n",
       "    <tr>\n",
       "      <th id=\"T_b27b9_level0_row1\" class=\"row_heading level0 row1\" >GMM</th>\n",
       "      <td id=\"T_b27b9_row1_col0\" class=\"data row1 col0\" >0.392671</td>\n",
       "      <td id=\"T_b27b9_row1_col1\" class=\"data row1 col1\" >0.423859</td>\n",
       "      <td id=\"T_b27b9_row1_col2\" class=\"data row1 col2\" >0.439253</td>\n",
       "      <td id=\"T_b27b9_row1_col3\" class=\"data row1 col3\" >0.386743</td>\n",
       "      <td id=\"T_b27b9_row1_col4\" class=\"data row1 col4\" >0.459171</td>\n",
       "      <td id=\"T_b27b9_row1_col5\" class=\"data row1 col5\" >0.464213</td>\n",
       "      <td id=\"T_b27b9_row1_col6\" class=\"data row1 col6\" >0.478290</td>\n",
       "      <td id=\"T_b27b9_row1_col7\" class=\"data row1 col7\" >0.455916</td>\n",
       "      <td id=\"T_b27b9_row1_col8\" class=\"data row1 col8\" >0.450973</td>\n",
       "    </tr>\n",
       "    <tr>\n",
       "      <th id=\"T_b27b9_level0_row2\" class=\"row_heading level0 row2\" >HC</th>\n",
       "      <td id=\"T_b27b9_row2_col0\" class=\"data row2 col0\" >0.359090</td>\n",
       "      <td id=\"T_b27b9_row2_col1\" class=\"data row2 col1\" >0.423250</td>\n",
       "      <td id=\"T_b27b9_row2_col2\" class=\"data row2 col2\" >0.422717</td>\n",
       "      <td id=\"T_b27b9_row2_col3\" class=\"data row2 col3\" >0.426854</td>\n",
       "      <td id=\"T_b27b9_row2_col4\" class=\"data row2 col4\" >0.447895</td>\n",
       "      <td id=\"T_b27b9_row2_col5\" class=\"data row2 col5\" >0.450772</td>\n",
       "      <td id=\"T_b27b9_row2_col6\" class=\"data row2 col6\" >0.468286</td>\n",
       "      <td id=\"T_b27b9_row2_col7\" class=\"data row2 col7\" >0.483697</td>\n",
       "      <td id=\"T_b27b9_row2_col8\" class=\"data row2 col8\" >0.473702</td>\n",
       "    </tr>\n",
       "  </tbody>\n",
       "</table>\n"
      ],
      "text/plain": [
       "<pandas.io.formats.style.Styler at 0x7f4e35929370>"
      ]
     },
     "execution_count": 50,
     "metadata": {},
     "output_type": "execute_result"
    }
   ],
   "source": [
    "# Tree Based Embedding Result\n",
    "df_results_tree = pd.DataFrame(\n",
    "    {'KMeans': kmeans_list,\n",
    "     'GMM': gmm_list,\n",
    "     'HC': hc_list}\n",
    "     ).T\n",
    "\n",
    "df_results_tree.columns = clusters\n",
    "df_results_tree = df_results_tree.style.highlight_max(color = 'blue', axis=1)\n",
    "\n",
    "df_results_tree"
   ]
  },
  {
   "cell_type": "markdown",
   "metadata": {},
   "source": [
    "### 5.2 UMAP Embedding"
   ]
  },
  {
   "cell_type": "code",
   "execution_count": 51,
   "metadata": {},
   "outputs": [],
   "source": [
    "# UMAP Embedding\n",
    "X = df_umap.copy()"
   ]
  },
  {
   "cell_type": "code",
   "execution_count": 52,
   "metadata": {},
   "outputs": [],
   "source": [
    "# KMeans\n",
    "kmeans_list = []\n",
    "for k in clusters:\n",
    "    # model definition\n",
    "    kmeans_model = c.KMeans(init='random',\n",
    "                            n_clusters=k,\n",
    "                            n_init=10,\n",
    "                            max_iter=300,\n",
    "                            random_state=42)\n",
    "\n",
    "    # model training\n",
    "    kmeans_model.fit(X)\n",
    "\n",
    "    # clustering\n",
    "    labels = kmeans_model.predict(X) \n",
    "\n",
    "    # model performance (SS)\n",
    "    sil = m.silhouette_score(X, labels, metric='euclidean')\n",
    "    kmeans_list.append(sil)\n",
    "\n",
    "# GMM\n",
    "gmm_list = []\n",
    "for k in clusters:\n",
    "    # model definition\n",
    "    gmm_model = mx.GaussianMixture(n_components=k)\n",
    "\n",
    "    # model training\n",
    "    gmm_model.fit(X)\n",
    "\n",
    "    # model predict\n",
    "    labels = gmm_model.predict(X)\n",
    "\n",
    "    # model performance\n",
    "    sil = m.silhouette_score(X, labels, metric='euclidean')\n",
    "    gmm_list.append(sil)\n",
    "\n",
    "# HC\n",
    "hc_list = []\n",
    "for k in clusters:\n",
    "    # model definition and training\n",
    "    hc_model = hc.linkage(X, 'ward')\n",
    "\n",
    "    # model predict\n",
    "    labels = hc.fcluster(hc_model, k, criterion='maxclust')\n",
    "\n",
    "    # model performance\n",
    "    sil = m.silhouette_score(X, labels, metric='euclidean')\n",
    "    hc_list.append(sil)"
   ]
  },
  {
   "cell_type": "code",
   "execution_count": 53,
   "metadata": {},
   "outputs": [
    {
     "data": {
      "text/html": [
       "<style type=\"text/css\">\n",
       "#T_10d4d_row0_col5, #T_10d4d_row1_col8, #T_10d4d_row2_col6 {\n",
       "  background-color: blue;\n",
       "}\n",
       "</style>\n",
       "<table id=\"T_10d4d\">\n",
       "  <thead>\n",
       "    <tr>\n",
       "      <th class=\"blank level0\" >&nbsp;</th>\n",
       "      <th id=\"T_10d4d_level0_col0\" class=\"col_heading level0 col0\" >2</th>\n",
       "      <th id=\"T_10d4d_level0_col1\" class=\"col_heading level0 col1\" >3</th>\n",
       "      <th id=\"T_10d4d_level0_col2\" class=\"col_heading level0 col2\" >4</th>\n",
       "      <th id=\"T_10d4d_level0_col3\" class=\"col_heading level0 col3\" >5</th>\n",
       "      <th id=\"T_10d4d_level0_col4\" class=\"col_heading level0 col4\" >6</th>\n",
       "      <th id=\"T_10d4d_level0_col5\" class=\"col_heading level0 col5\" >7</th>\n",
       "      <th id=\"T_10d4d_level0_col6\" class=\"col_heading level0 col6\" >8</th>\n",
       "      <th id=\"T_10d4d_level0_col7\" class=\"col_heading level0 col7\" >9</th>\n",
       "      <th id=\"T_10d4d_level0_col8\" class=\"col_heading level0 col8\" >10</th>\n",
       "    </tr>\n",
       "  </thead>\n",
       "  <tbody>\n",
       "    <tr>\n",
       "      <th id=\"T_10d4d_level0_row0\" class=\"row_heading level0 row0\" >KMeans</th>\n",
       "      <td id=\"T_10d4d_row0_col0\" class=\"data row0 col0\" >0.451914</td>\n",
       "      <td id=\"T_10d4d_row0_col1\" class=\"data row0 col1\" >0.489377</td>\n",
       "      <td id=\"T_10d4d_row0_col2\" class=\"data row0 col2\" >0.513561</td>\n",
       "      <td id=\"T_10d4d_row0_col3\" class=\"data row0 col3\" >0.517846</td>\n",
       "      <td id=\"T_10d4d_row0_col4\" class=\"data row0 col4\" >0.528539</td>\n",
       "      <td id=\"T_10d4d_row0_col5\" class=\"data row0 col5\" >0.544201</td>\n",
       "      <td id=\"T_10d4d_row0_col6\" class=\"data row0 col6\" >0.496887</td>\n",
       "      <td id=\"T_10d4d_row0_col7\" class=\"data row0 col7\" >0.509659</td>\n",
       "      <td id=\"T_10d4d_row0_col8\" class=\"data row0 col8\" >0.532397</td>\n",
       "    </tr>\n",
       "    <tr>\n",
       "      <th id=\"T_10d4d_level0_row1\" class=\"row_heading level0 row1\" >GMM</th>\n",
       "      <td id=\"T_10d4d_row1_col0\" class=\"data row1 col0\" >0.449727</td>\n",
       "      <td id=\"T_10d4d_row1_col1\" class=\"data row1 col1\" >0.474247</td>\n",
       "      <td id=\"T_10d4d_row1_col2\" class=\"data row1 col2\" >0.471365</td>\n",
       "      <td id=\"T_10d4d_row1_col3\" class=\"data row1 col3\" >0.394265</td>\n",
       "      <td id=\"T_10d4d_row1_col4\" class=\"data row1 col4\" >0.403038</td>\n",
       "      <td id=\"T_10d4d_row1_col5\" class=\"data row1 col5\" >0.408390</td>\n",
       "      <td id=\"T_10d4d_row1_col6\" class=\"data row1 col6\" >0.444276</td>\n",
       "      <td id=\"T_10d4d_row1_col7\" class=\"data row1 col7\" >0.450295</td>\n",
       "      <td id=\"T_10d4d_row1_col8\" class=\"data row1 col8\" >0.486285</td>\n",
       "    </tr>\n",
       "    <tr>\n",
       "      <th id=\"T_10d4d_level0_row2\" class=\"row_heading level0 row2\" >HC</th>\n",
       "      <td id=\"T_10d4d_row2_col0\" class=\"data row2 col0\" >0.438135</td>\n",
       "      <td id=\"T_10d4d_row2_col1\" class=\"data row2 col1\" >0.469278</td>\n",
       "      <td id=\"T_10d4d_row2_col2\" class=\"data row2 col2\" >0.478514</td>\n",
       "      <td id=\"T_10d4d_row2_col3\" class=\"data row2 col3\" >0.462431</td>\n",
       "      <td id=\"T_10d4d_row2_col4\" class=\"data row2 col4\" >0.499209</td>\n",
       "      <td id=\"T_10d4d_row2_col5\" class=\"data row2 col5\" >0.534862</td>\n",
       "      <td id=\"T_10d4d_row2_col6\" class=\"data row2 col6\" >0.547641</td>\n",
       "      <td id=\"T_10d4d_row2_col7\" class=\"data row2 col7\" >0.544051</td>\n",
       "      <td id=\"T_10d4d_row2_col8\" class=\"data row2 col8\" >0.497785</td>\n",
       "    </tr>\n",
       "  </tbody>\n",
       "</table>\n"
      ],
      "text/plain": [
       "<pandas.io.formats.style.Styler at 0x7f4e35cd53a0>"
      ]
     },
     "execution_count": 53,
     "metadata": {},
     "output_type": "execute_result"
    }
   ],
   "source": [
    "# UMAP Embedding Result\n",
    "df_results_umap = pd.DataFrame(\n",
    "    {'KMeans': kmeans_list,\n",
    "     'GMM': gmm_list,\n",
    "     'HC': hc_list}\n",
    "     ).T\n",
    "\n",
    "df_results_umap.columns = clusters\n",
    "df_results_umap = df_results_umap.style.highlight_max(color = 'blue', axis=1)\n",
    "\n",
    "df_results_umap"
   ]
  },
  {
   "cell_type": "markdown",
   "metadata": {},
   "source": [
    "### 5.3 TSNE Embedding"
   ]
  },
  {
   "cell_type": "code",
   "execution_count": 54,
   "metadata": {},
   "outputs": [],
   "source": [
    "# TSNE Embedding\n",
    "X = df_tsne.copy()"
   ]
  },
  {
   "cell_type": "code",
   "execution_count": 55,
   "metadata": {},
   "outputs": [],
   "source": [
    "# KMeans\n",
    "kmeans_list = []\n",
    "for k in clusters:\n",
    "    # model definition\n",
    "    kmeans_model = c.KMeans(init='random',\n",
    "                            n_clusters=k,\n",
    "                            n_init=10,\n",
    "                            max_iter=300,\n",
    "                            random_state=42)\n",
    "\n",
    "    # model training\n",
    "    kmeans_model.fit(X)\n",
    "\n",
    "    # clustering\n",
    "    labels = kmeans_model.predict(X) \n",
    "\n",
    "    # model performance (SS)\n",
    "    sil = m.silhouette_score(X, labels, metric='euclidean')\n",
    "    kmeans_list.append(sil)\n",
    "\n",
    "# GMM\n",
    "gmm_list = []\n",
    "for k in clusters:\n",
    "    # model definition\n",
    "    gmm_model = mx.GaussianMixture(n_components=k)\n",
    "\n",
    "    # model training\n",
    "    gmm_model.fit(X)\n",
    "\n",
    "    # model predict\n",
    "    labels = gmm_model.predict(X)\n",
    "\n",
    "    # model performance\n",
    "    sil = m.silhouette_score(X, labels, metric='euclidean')\n",
    "    gmm_list.append(sil)\n",
    "\n",
    "# HC\n",
    "hc_list = []\n",
    "for k in clusters:\n",
    "    # model definition and training\n",
    "    hc_model = hc.linkage(X, 'ward')\n",
    "\n",
    "    # model predict\n",
    "    labels = hc.fcluster(hc_model, k, criterion='maxclust')\n",
    "\n",
    "    # model performance\n",
    "    sil = m.silhouette_score(X, labels, metric='euclidean')\n",
    "    hc_list.append(sil)"
   ]
  },
  {
   "cell_type": "code",
   "execution_count": 56,
   "metadata": {},
   "outputs": [],
   "source": [
    "# TSNE Embedding Result\n",
    "df_results_tsne = pd.DataFrame(\n",
    "    {'KMeans': kmeans_list,\n",
    "     'GMM': gmm_list,\n",
    "     'HC': hc_list}\n",
    "     ).T\n",
    "\n",
    "df_results_tsne.columns = clusters\n",
    "df_results_tsne = df_results_tsne.style.highlight_max(color = 'blue', axis=1)"
   ]
  },
  {
   "cell_type": "markdown",
   "metadata": {},
   "source": [
    "### 5.4 Summarize Results"
   ]
  },
  {
   "cell_type": "code",
   "execution_count": 57,
   "metadata": {},
   "outputs": [
    {
     "data": {
      "text/html": [
       "<style type=\"text/css\">\n",
       "#T_cc11a_row0_col8, #T_cc11a_row1_col4, #T_cc11a_row2_col8 {\n",
       "  background-color: blue;\n",
       "}\n",
       "</style>\n",
       "<table id=\"T_cc11a\">\n",
       "  <thead>\n",
       "    <tr>\n",
       "      <th class=\"blank level0\" >&nbsp;</th>\n",
       "      <th id=\"T_cc11a_level0_col0\" class=\"col_heading level0 col0\" >2</th>\n",
       "      <th id=\"T_cc11a_level0_col1\" class=\"col_heading level0 col1\" >3</th>\n",
       "      <th id=\"T_cc11a_level0_col2\" class=\"col_heading level0 col2\" >4</th>\n",
       "      <th id=\"T_cc11a_level0_col3\" class=\"col_heading level0 col3\" >5</th>\n",
       "      <th id=\"T_cc11a_level0_col4\" class=\"col_heading level0 col4\" >6</th>\n",
       "      <th id=\"T_cc11a_level0_col5\" class=\"col_heading level0 col5\" >7</th>\n",
       "      <th id=\"T_cc11a_level0_col6\" class=\"col_heading level0 col6\" >8</th>\n",
       "      <th id=\"T_cc11a_level0_col7\" class=\"col_heading level0 col7\" >9</th>\n",
       "      <th id=\"T_cc11a_level0_col8\" class=\"col_heading level0 col8\" >10</th>\n",
       "    </tr>\n",
       "  </thead>\n",
       "  <tbody>\n",
       "    <tr>\n",
       "      <th id=\"T_cc11a_level0_row0\" class=\"row_heading level0 row0\" >KMeans</th>\n",
       "      <td id=\"T_cc11a_row0_col0\" class=\"data row0 col0\" >0.328885</td>\n",
       "      <td id=\"T_cc11a_row0_col1\" class=\"data row0 col1\" >0.360084</td>\n",
       "      <td id=\"T_cc11a_row0_col2\" class=\"data row0 col2\" >0.363660</td>\n",
       "      <td id=\"T_cc11a_row0_col3\" class=\"data row0 col3\" >0.414553</td>\n",
       "      <td id=\"T_cc11a_row0_col4\" class=\"data row0 col4\" >0.421630</td>\n",
       "      <td id=\"T_cc11a_row0_col5\" class=\"data row0 col5\" >0.406529</td>\n",
       "      <td id=\"T_cc11a_row0_col6\" class=\"data row0 col6\" >0.413212</td>\n",
       "      <td id=\"T_cc11a_row0_col7\" class=\"data row0 col7\" >0.414413</td>\n",
       "      <td id=\"T_cc11a_row0_col8\" class=\"data row0 col8\" >0.444109</td>\n",
       "    </tr>\n",
       "    <tr>\n",
       "      <th id=\"T_cc11a_level0_row1\" class=\"row_heading level0 row1\" >GMM</th>\n",
       "      <td id=\"T_cc11a_row1_col0\" class=\"data row1 col0\" >0.315580</td>\n",
       "      <td id=\"T_cc11a_row1_col1\" class=\"data row1 col1\" >0.326746</td>\n",
       "      <td id=\"T_cc11a_row1_col2\" class=\"data row1 col2\" >0.363427</td>\n",
       "      <td id=\"T_cc11a_row1_col3\" class=\"data row1 col3\" >0.410340</td>\n",
       "      <td id=\"T_cc11a_row1_col4\" class=\"data row1 col4\" >0.413738</td>\n",
       "      <td id=\"T_cc11a_row1_col5\" class=\"data row1 col5\" >0.389903</td>\n",
       "      <td id=\"T_cc11a_row1_col6\" class=\"data row1 col6\" >0.377801</td>\n",
       "      <td id=\"T_cc11a_row1_col7\" class=\"data row1 col7\" >0.375821</td>\n",
       "      <td id=\"T_cc11a_row1_col8\" class=\"data row1 col8\" >0.343201</td>\n",
       "    </tr>\n",
       "    <tr>\n",
       "      <th id=\"T_cc11a_level0_row2\" class=\"row_heading level0 row2\" >HC</th>\n",
       "      <td id=\"T_cc11a_row2_col0\" class=\"data row2 col0\" >0.310493</td>\n",
       "      <td id=\"T_cc11a_row2_col1\" class=\"data row2 col1\" >0.326895</td>\n",
       "      <td id=\"T_cc11a_row2_col2\" class=\"data row2 col2\" >0.322324</td>\n",
       "      <td id=\"T_cc11a_row2_col3\" class=\"data row2 col3\" >0.347902</td>\n",
       "      <td id=\"T_cc11a_row2_col4\" class=\"data row2 col4\" >0.366283</td>\n",
       "      <td id=\"T_cc11a_row2_col5\" class=\"data row2 col5\" >0.343363</td>\n",
       "      <td id=\"T_cc11a_row2_col6\" class=\"data row2 col6\" >0.356453</td>\n",
       "      <td id=\"T_cc11a_row2_col7\" class=\"data row2 col7\" >0.373898</td>\n",
       "      <td id=\"T_cc11a_row2_col8\" class=\"data row2 col8\" >0.384758</td>\n",
       "    </tr>\n",
       "  </tbody>\n",
       "</table>\n"
      ],
      "text/plain": [
       "<pandas.io.formats.style.Styler at 0x7f4e35915580>"
      ]
     },
     "execution_count": 57,
     "metadata": {},
     "output_type": "execute_result"
    }
   ],
   "source": [
    "# TSNE Embedding Results\n",
    "df_results_tsne"
   ]
  },
  {
   "cell_type": "code",
   "execution_count": 58,
   "metadata": {},
   "outputs": [
    {
     "data": {
      "text/html": [
       "<style type=\"text/css\">\n",
       "#T_b27b9_row0_col8, #T_b27b9_row1_col6, #T_b27b9_row2_col7 {\n",
       "  background-color: blue;\n",
       "}\n",
       "</style>\n",
       "<table id=\"T_b27b9\">\n",
       "  <thead>\n",
       "    <tr>\n",
       "      <th class=\"blank level0\" >&nbsp;</th>\n",
       "      <th id=\"T_b27b9_level0_col0\" class=\"col_heading level0 col0\" >2</th>\n",
       "      <th id=\"T_b27b9_level0_col1\" class=\"col_heading level0 col1\" >3</th>\n",
       "      <th id=\"T_b27b9_level0_col2\" class=\"col_heading level0 col2\" >4</th>\n",
       "      <th id=\"T_b27b9_level0_col3\" class=\"col_heading level0 col3\" >5</th>\n",
       "      <th id=\"T_b27b9_level0_col4\" class=\"col_heading level0 col4\" >6</th>\n",
       "      <th id=\"T_b27b9_level0_col5\" class=\"col_heading level0 col5\" >7</th>\n",
       "      <th id=\"T_b27b9_level0_col6\" class=\"col_heading level0 col6\" >8</th>\n",
       "      <th id=\"T_b27b9_level0_col7\" class=\"col_heading level0 col7\" >9</th>\n",
       "      <th id=\"T_b27b9_level0_col8\" class=\"col_heading level0 col8\" >10</th>\n",
       "    </tr>\n",
       "  </thead>\n",
       "  <tbody>\n",
       "    <tr>\n",
       "      <th id=\"T_b27b9_level0_row0\" class=\"row_heading level0 row0\" >KMeans</th>\n",
       "      <td id=\"T_b27b9_row0_col0\" class=\"data row0 col0\" >0.392671</td>\n",
       "      <td id=\"T_b27b9_row0_col1\" class=\"data row0 col1\" >0.425820</td>\n",
       "      <td id=\"T_b27b9_row0_col2\" class=\"data row0 col2\" >0.450263</td>\n",
       "      <td id=\"T_b27b9_row0_col3\" class=\"data row0 col3\" >0.432313</td>\n",
       "      <td id=\"T_b27b9_row0_col4\" class=\"data row0 col4\" >0.463077</td>\n",
       "      <td id=\"T_b27b9_row0_col5\" class=\"data row0 col5\" >0.479293</td>\n",
       "      <td id=\"T_b27b9_row0_col6\" class=\"data row0 col6\" >0.484259</td>\n",
       "      <td id=\"T_b27b9_row0_col7\" class=\"data row0 col7\" >0.497900</td>\n",
       "      <td id=\"T_b27b9_row0_col8\" class=\"data row0 col8\" >0.500613</td>\n",
       "    </tr>\n",
       "    <tr>\n",
       "      <th id=\"T_b27b9_level0_row1\" class=\"row_heading level0 row1\" >GMM</th>\n",
       "      <td id=\"T_b27b9_row1_col0\" class=\"data row1 col0\" >0.392671</td>\n",
       "      <td id=\"T_b27b9_row1_col1\" class=\"data row1 col1\" >0.423859</td>\n",
       "      <td id=\"T_b27b9_row1_col2\" class=\"data row1 col2\" >0.439253</td>\n",
       "      <td id=\"T_b27b9_row1_col3\" class=\"data row1 col3\" >0.386743</td>\n",
       "      <td id=\"T_b27b9_row1_col4\" class=\"data row1 col4\" >0.459171</td>\n",
       "      <td id=\"T_b27b9_row1_col5\" class=\"data row1 col5\" >0.464213</td>\n",
       "      <td id=\"T_b27b9_row1_col6\" class=\"data row1 col6\" >0.478290</td>\n",
       "      <td id=\"T_b27b9_row1_col7\" class=\"data row1 col7\" >0.455916</td>\n",
       "      <td id=\"T_b27b9_row1_col8\" class=\"data row1 col8\" >0.450973</td>\n",
       "    </tr>\n",
       "    <tr>\n",
       "      <th id=\"T_b27b9_level0_row2\" class=\"row_heading level0 row2\" >HC</th>\n",
       "      <td id=\"T_b27b9_row2_col0\" class=\"data row2 col0\" >0.359090</td>\n",
       "      <td id=\"T_b27b9_row2_col1\" class=\"data row2 col1\" >0.423250</td>\n",
       "      <td id=\"T_b27b9_row2_col2\" class=\"data row2 col2\" >0.422717</td>\n",
       "      <td id=\"T_b27b9_row2_col3\" class=\"data row2 col3\" >0.426854</td>\n",
       "      <td id=\"T_b27b9_row2_col4\" class=\"data row2 col4\" >0.447895</td>\n",
       "      <td id=\"T_b27b9_row2_col5\" class=\"data row2 col5\" >0.450772</td>\n",
       "      <td id=\"T_b27b9_row2_col6\" class=\"data row2 col6\" >0.468286</td>\n",
       "      <td id=\"T_b27b9_row2_col7\" class=\"data row2 col7\" >0.483697</td>\n",
       "      <td id=\"T_b27b9_row2_col8\" class=\"data row2 col8\" >0.473702</td>\n",
       "    </tr>\n",
       "  </tbody>\n",
       "</table>\n"
      ],
      "text/plain": [
       "<pandas.io.formats.style.Styler at 0x7f4e35929370>"
      ]
     },
     "execution_count": 58,
     "metadata": {},
     "output_type": "execute_result"
    }
   ],
   "source": [
    "# Tree Based Embedding Results\n",
    "df_results_tree"
   ]
  },
  {
   "cell_type": "code",
   "execution_count": 59,
   "metadata": {},
   "outputs": [
    {
     "data": {
      "text/html": [
       "<style type=\"text/css\">\n",
       "#T_10d4d_row0_col5, #T_10d4d_row1_col8, #T_10d4d_row2_col6 {\n",
       "  background-color: blue;\n",
       "}\n",
       "</style>\n",
       "<table id=\"T_10d4d\">\n",
       "  <thead>\n",
       "    <tr>\n",
       "      <th class=\"blank level0\" >&nbsp;</th>\n",
       "      <th id=\"T_10d4d_level0_col0\" class=\"col_heading level0 col0\" >2</th>\n",
       "      <th id=\"T_10d4d_level0_col1\" class=\"col_heading level0 col1\" >3</th>\n",
       "      <th id=\"T_10d4d_level0_col2\" class=\"col_heading level0 col2\" >4</th>\n",
       "      <th id=\"T_10d4d_level0_col3\" class=\"col_heading level0 col3\" >5</th>\n",
       "      <th id=\"T_10d4d_level0_col4\" class=\"col_heading level0 col4\" >6</th>\n",
       "      <th id=\"T_10d4d_level0_col5\" class=\"col_heading level0 col5\" >7</th>\n",
       "      <th id=\"T_10d4d_level0_col6\" class=\"col_heading level0 col6\" >8</th>\n",
       "      <th id=\"T_10d4d_level0_col7\" class=\"col_heading level0 col7\" >9</th>\n",
       "      <th id=\"T_10d4d_level0_col8\" class=\"col_heading level0 col8\" >10</th>\n",
       "    </tr>\n",
       "  </thead>\n",
       "  <tbody>\n",
       "    <tr>\n",
       "      <th id=\"T_10d4d_level0_row0\" class=\"row_heading level0 row0\" >KMeans</th>\n",
       "      <td id=\"T_10d4d_row0_col0\" class=\"data row0 col0\" >0.451914</td>\n",
       "      <td id=\"T_10d4d_row0_col1\" class=\"data row0 col1\" >0.489377</td>\n",
       "      <td id=\"T_10d4d_row0_col2\" class=\"data row0 col2\" >0.513561</td>\n",
       "      <td id=\"T_10d4d_row0_col3\" class=\"data row0 col3\" >0.517846</td>\n",
       "      <td id=\"T_10d4d_row0_col4\" class=\"data row0 col4\" >0.528539</td>\n",
       "      <td id=\"T_10d4d_row0_col5\" class=\"data row0 col5\" >0.544201</td>\n",
       "      <td id=\"T_10d4d_row0_col6\" class=\"data row0 col6\" >0.496887</td>\n",
       "      <td id=\"T_10d4d_row0_col7\" class=\"data row0 col7\" >0.509659</td>\n",
       "      <td id=\"T_10d4d_row0_col8\" class=\"data row0 col8\" >0.532397</td>\n",
       "    </tr>\n",
       "    <tr>\n",
       "      <th id=\"T_10d4d_level0_row1\" class=\"row_heading level0 row1\" >GMM</th>\n",
       "      <td id=\"T_10d4d_row1_col0\" class=\"data row1 col0\" >0.449727</td>\n",
       "      <td id=\"T_10d4d_row1_col1\" class=\"data row1 col1\" >0.474247</td>\n",
       "      <td id=\"T_10d4d_row1_col2\" class=\"data row1 col2\" >0.471365</td>\n",
       "      <td id=\"T_10d4d_row1_col3\" class=\"data row1 col3\" >0.394265</td>\n",
       "      <td id=\"T_10d4d_row1_col4\" class=\"data row1 col4\" >0.403038</td>\n",
       "      <td id=\"T_10d4d_row1_col5\" class=\"data row1 col5\" >0.408390</td>\n",
       "      <td id=\"T_10d4d_row1_col6\" class=\"data row1 col6\" >0.444276</td>\n",
       "      <td id=\"T_10d4d_row1_col7\" class=\"data row1 col7\" >0.450295</td>\n",
       "      <td id=\"T_10d4d_row1_col8\" class=\"data row1 col8\" >0.486285</td>\n",
       "    </tr>\n",
       "    <tr>\n",
       "      <th id=\"T_10d4d_level0_row2\" class=\"row_heading level0 row2\" >HC</th>\n",
       "      <td id=\"T_10d4d_row2_col0\" class=\"data row2 col0\" >0.438135</td>\n",
       "      <td id=\"T_10d4d_row2_col1\" class=\"data row2 col1\" >0.469278</td>\n",
       "      <td id=\"T_10d4d_row2_col2\" class=\"data row2 col2\" >0.478514</td>\n",
       "      <td id=\"T_10d4d_row2_col3\" class=\"data row2 col3\" >0.462431</td>\n",
       "      <td id=\"T_10d4d_row2_col4\" class=\"data row2 col4\" >0.499209</td>\n",
       "      <td id=\"T_10d4d_row2_col5\" class=\"data row2 col5\" >0.534862</td>\n",
       "      <td id=\"T_10d4d_row2_col6\" class=\"data row2 col6\" >0.547641</td>\n",
       "      <td id=\"T_10d4d_row2_col7\" class=\"data row2 col7\" >0.544051</td>\n",
       "      <td id=\"T_10d4d_row2_col8\" class=\"data row2 col8\" >0.497785</td>\n",
       "    </tr>\n",
       "  </tbody>\n",
       "</table>\n"
      ],
      "text/plain": [
       "<pandas.io.formats.style.Styler at 0x7f4e35cd53a0>"
      ]
     },
     "execution_count": 59,
     "metadata": {},
     "output_type": "execute_result"
    }
   ],
   "source": [
    "# UMAP Embedding Results\n",
    "df_results_umap"
   ]
  },
  {
   "cell_type": "code",
   "execution_count": 60,
   "metadata": {},
   "outputs": [],
   "source": [
    "# Selecting the best embedding\n",
    "\n",
    "# UMAP Embedding\n",
    "X = df_umap.copy()"
   ]
  },
  {
   "cell_type": "markdown",
   "metadata": {},
   "source": [
    "# 6. Machine Learning Modelling"
   ]
  },
  {
   "cell_type": "markdown",
   "metadata": {},
   "source": [
    "### 6.1 K-Means"
   ]
  },
  {
   "cell_type": "code",
   "execution_count": 61,
   "metadata": {},
   "outputs": [],
   "source": [
    "# model definition\n",
    "k=7\n",
    "kmeans = c.KMeans(init='random',\n",
    "                  n_clusters=k,\n",
    "                  n_init=10,\n",
    "                  max_iter=300,\n",
    "                  random_state=42)\n",
    "\n",
    "# model training\n",
    "kmeans.fit(X)\n",
    "\n",
    "# clustering\n",
    "labels = kmeans.labels_"
   ]
  },
  {
   "cell_type": "markdown",
   "metadata": {},
   "source": [
    "### 6.2 GMM"
   ]
  },
  {
   "cell_type": "code",
   "execution_count": 62,
   "metadata": {},
   "outputs": [],
   "source": [
    "# k=8\n",
    "# # model definition\n",
    "# gmm_model = mx.GaussianMixture(n_components=k, n_init = 300, random_state=32)\n",
    "\n",
    "# # model training\n",
    "# gmm_model.fit(X)\n",
    "\n",
    "# # model predict\n",
    "# labels = gmm_model.predict(X)"
   ]
  },
  {
   "cell_type": "markdown",
   "metadata": {},
   "source": [
    "### 6.3 Cluster Validation"
   ]
  },
  {
   "cell_type": "code",
   "execution_count": 63,
   "metadata": {},
   "outputs": [
    {
     "name": "stdout",
     "output_type": "stream",
     "text": [
      "WSS Value:68502.828125\n",
      "SS Value: 0.5442012548446655\n"
     ]
    }
   ],
   "source": [
    "# WSS\n",
    "print(f'WSS Value:{kmeans.inertia_}')\n",
    "\n",
    "# SS\n",
    "print('SS Value: {}'.format(m.silhouette_score(X, labels, metric='euclidean')))"
   ]
  },
  {
   "cell_type": "markdown",
   "metadata": {},
   "source": [
    "# 7. Evaluation - Cluster Analysis"
   ]
  },
  {
   "cell_type": "markdown",
   "metadata": {},
   "source": [
    "### 7.1 Visualization Inspection"
   ]
  },
  {
   "cell_type": "code",
   "execution_count": 64,
   "metadata": {},
   "outputs": [
    {
     "data": {
      "text/html": [
       "<div>\n",
       "<style scoped>\n",
       "    .dataframe tbody tr th:only-of-type {\n",
       "        vertical-align: middle;\n",
       "    }\n",
       "\n",
       "    .dataframe tbody tr th {\n",
       "        vertical-align: top;\n",
       "    }\n",
       "\n",
       "    .dataframe thead th {\n",
       "        text-align: right;\n",
       "    }\n",
       "</style>\n",
       "<table border=\"1\" class=\"dataframe\">\n",
       "  <thead>\n",
       "    <tr style=\"text-align: right;\">\n",
       "      <th></th>\n",
       "      <th>embedding_x</th>\n",
       "      <th>embedding_y</th>\n",
       "      <th>cluster</th>\n",
       "    </tr>\n",
       "  </thead>\n",
       "  <tbody>\n",
       "    <tr>\n",
       "      <th>0</th>\n",
       "      <td>-1.432703</td>\n",
       "      <td>18.723133</td>\n",
       "      <td>0</td>\n",
       "    </tr>\n",
       "    <tr>\n",
       "      <th>1</th>\n",
       "      <td>8.773641</td>\n",
       "      <td>8.070630</td>\n",
       "      <td>6</td>\n",
       "    </tr>\n",
       "    <tr>\n",
       "      <th>2</th>\n",
       "      <td>13.612189</td>\n",
       "      <td>15.767739</td>\n",
       "      <td>5</td>\n",
       "    </tr>\n",
       "    <tr>\n",
       "      <th>3</th>\n",
       "      <td>5.652030</td>\n",
       "      <td>4.920546</td>\n",
       "      <td>6</td>\n",
       "    </tr>\n",
       "    <tr>\n",
       "      <th>4</th>\n",
       "      <td>-2.404759</td>\n",
       "      <td>6.497142</td>\n",
       "      <td>2</td>\n",
       "    </tr>\n",
       "  </tbody>\n",
       "</table>\n",
       "</div>"
      ],
      "text/plain": [
       "   embedding_x  embedding_y  cluster\n",
       "0    -1.432703    18.723133        0\n",
       "1     8.773641     8.070630        6\n",
       "2    13.612189    15.767739        5\n",
       "3     5.652030     4.920546        6\n",
       "4    -2.404759     6.497142        2"
      ]
     },
     "execution_count": 64,
     "metadata": {},
     "output_type": "execute_result"
    }
   ],
   "source": [
    "df9 = X.copy()\n",
    "df9['cluster'] = labels\n",
    "df9.head()"
   ]
  },
  {
   "cell_type": "code",
   "execution_count": 65,
   "metadata": {},
   "outputs": [
    {
     "data": {
      "text/plain": [
       "<AxesSubplot:xlabel='embedding_x', ylabel='embedding_y'>"
      ]
     },
     "execution_count": 65,
     "metadata": {},
     "output_type": "execute_result"
    },
    {
     "data": {
      "image/png": "[encoded data removed]",
      "text/plain": [
       "<Figure size 1440x576 with 1 Axes>"
      ]
     },
     "metadata": {},
     "output_type": "display_data"
    }
   ],
   "source": [
    "sns.scatterplot(x='embedding_x', y='embedding_y', hue='cluster', data=df9, palette='deep')"
   ]
  },
  {
   "cell_type": "markdown",
   "metadata": {},
   "source": [
    "### 7.2 Cluster Profile"
   ]
  },
  {
   "cell_type": "code",
   "execution_count": 66,
   "metadata": {},
   "outputs": [
    {
     "data": {
      "text/html": [
       "<div>\n",
       "<style scoped>\n",
       "    .dataframe tbody tr th:only-of-type {\n",
       "        vertical-align: middle;\n",
       "    }\n",
       "\n",
       "    .dataframe tbody tr th {\n",
       "        vertical-align: top;\n",
       "    }\n",
       "\n",
       "    .dataframe thead th {\n",
       "        text-align: right;\n",
       "    }\n",
       "</style>\n",
       "<table border=\"1\" class=\"dataframe\">\n",
       "  <thead>\n",
       "    <tr style=\"text-align: right;\">\n",
       "      <th></th>\n",
       "      <th>customer_id</th>\n",
       "      <th>gross_revenue</th>\n",
       "      <th>recency_days</th>\n",
       "      <th>purchases_no</th>\n",
       "      <th>products_no</th>\n",
       "      <th>items_no</th>\n",
       "      <th>frequency</th>\n",
       "      <th>returns_no</th>\n",
       "      <th>satisfaction_rate</th>\n",
       "    </tr>\n",
       "  </thead>\n",
       "  <tbody>\n",
       "    <tr>\n",
       "      <th>0</th>\n",
       "      <td>17850</td>\n",
       "      <td>5391.21</td>\n",
       "      <td>372.0</td>\n",
       "      <td>34.0</td>\n",
       "      <td>297.0</td>\n",
       "      <td>1733.0</td>\n",
       "      <td>17.000000</td>\n",
       "      <td>40.0</td>\n",
       "      <td>0.976919</td>\n",
       "    </tr>\n",
       "    <tr>\n",
       "      <th>1</th>\n",
       "      <td>13047</td>\n",
       "      <td>3232.59</td>\n",
       "      <td>56.0</td>\n",
       "      <td>9.0</td>\n",
       "      <td>171.0</td>\n",
       "      <td>1390.0</td>\n",
       "      <td>0.028302</td>\n",
       "      <td>35.0</td>\n",
       "      <td>0.974820</td>\n",
       "    </tr>\n",
       "    <tr>\n",
       "      <th>2</th>\n",
       "      <td>12583</td>\n",
       "      <td>6705.38</td>\n",
       "      <td>2.0</td>\n",
       "      <td>15.0</td>\n",
       "      <td>232.0</td>\n",
       "      <td>5028.0</td>\n",
       "      <td>0.040323</td>\n",
       "      <td>50.0</td>\n",
       "      <td>0.990056</td>\n",
       "    </tr>\n",
       "    <tr>\n",
       "      <th>3</th>\n",
       "      <td>13748</td>\n",
       "      <td>948.25</td>\n",
       "      <td>95.0</td>\n",
       "      <td>5.0</td>\n",
       "      <td>28.0</td>\n",
       "      <td>439.0</td>\n",
       "      <td>0.017921</td>\n",
       "      <td>0.0</td>\n",
       "      <td>1.000000</td>\n",
       "    </tr>\n",
       "    <tr>\n",
       "      <th>4</th>\n",
       "      <td>15100</td>\n",
       "      <td>876.00</td>\n",
       "      <td>333.0</td>\n",
       "      <td>3.0</td>\n",
       "      <td>3.0</td>\n",
       "      <td>80.0</td>\n",
       "      <td>0.073171</td>\n",
       "      <td>22.0</td>\n",
       "      <td>0.725000</td>\n",
       "    </tr>\n",
       "  </tbody>\n",
       "</table>\n",
       "</div>"
      ],
      "text/plain": [
       "   customer_id  gross_revenue  recency_days  purchases_no  products_no  \\\n",
       "0        17850        5391.21         372.0          34.0        297.0   \n",
       "1        13047        3232.59          56.0           9.0        171.0   \n",
       "2        12583        6705.38           2.0          15.0        232.0   \n",
       "3        13748         948.25          95.0           5.0         28.0   \n",
       "4        15100         876.00         333.0           3.0          3.0   \n",
       "\n",
       "   items_no  frequency  returns_no  satisfaction_rate  \n",
       "0    1733.0  17.000000        40.0           0.976919  \n",
       "1    1390.0   0.028302        35.0           0.974820  \n",
       "2    5028.0   0.040323        50.0           0.990056  \n",
       "3     439.0   0.017921         0.0           1.000000  \n",
       "4      80.0   0.073171        22.0           0.725000  "
      ]
     },
     "execution_count": 66,
     "metadata": {},
     "output_type": "execute_result"
    }
   ],
   "source": [
    "df92 = df4.copy()\n",
    "df92.head()"
   ]
  },
  {
   "cell_type": "code",
   "execution_count": 67,
   "metadata": {},
   "outputs": [],
   "source": [
    "df92['cluster'] = labels\n",
    "\n",
    "# Change dtypes\n",
    "df92['recency_days']    = df92['recency_days'].astype(int)\n",
    "df92['purchases_no']    = df92['purchases_no'].astype(int)\n",
    "df92['products_no']     = df92['products_no'].astype(int)\n",
    "df92['items_no']        = df92['items_no'].astype(int)"
   ]
  },
  {
   "cell_type": "code",
   "execution_count": 68,
   "metadata": {},
   "outputs": [
    {
     "data": {
      "text/html": [
       "<div>\n",
       "<style scoped>\n",
       "    .dataframe tbody tr th:only-of-type {\n",
       "        vertical-align: middle;\n",
       "    }\n",
       "\n",
       "    .dataframe tbody tr th {\n",
       "        vertical-align: top;\n",
       "    }\n",
       "\n",
       "    .dataframe thead th {\n",
       "        text-align: right;\n",
       "    }\n",
       "</style>\n",
       "<table border=\"1\" class=\"dataframe\">\n",
       "  <thead>\n",
       "    <tr style=\"text-align: right;\">\n",
       "      <th></th>\n",
       "      <th>cluster</th>\n",
       "      <th>customer_id</th>\n",
       "      <th>perc_customer</th>\n",
       "      <th>gross_revenue</th>\n",
       "      <th>recency_days</th>\n",
       "      <th>purchases_no</th>\n",
       "      <th>products_no</th>\n",
       "      <th>items_no</th>\n",
       "      <th>frequency</th>\n",
       "      <th>satisfaction_rate</th>\n",
       "    </tr>\n",
       "  </thead>\n",
       "  <tbody>\n",
       "    <tr>\n",
       "      <th>5</th>\n",
       "      <td>5</td>\n",
       "      <td>1776</td>\n",
       "      <td>31.267606</td>\n",
       "      <td>3794.247821</td>\n",
       "      <td>17.877815</td>\n",
       "      <td>7.537725</td>\n",
       "      <td>166.684122</td>\n",
       "      <td>2202.689189</td>\n",
       "      <td>0.044555</td>\n",
       "      <td>0.982405</td>\n",
       "    </tr>\n",
       "    <tr>\n",
       "      <th>6</th>\n",
       "      <td>6</td>\n",
       "      <td>665</td>\n",
       "      <td>11.707746</td>\n",
       "      <td>1360.009278</td>\n",
       "      <td>82.255639</td>\n",
       "      <td>3.639098</td>\n",
       "      <td>70.063158</td>\n",
       "      <td>849.106767</td>\n",
       "      <td>0.028307</td>\n",
       "      <td>0.994776</td>\n",
       "    </tr>\n",
       "    <tr>\n",
       "      <th>1</th>\n",
       "      <td>1</td>\n",
       "      <td>509</td>\n",
       "      <td>8.961268</td>\n",
       "      <td>900.279980</td>\n",
       "      <td>23.650295</td>\n",
       "      <td>1.007859</td>\n",
       "      <td>74.119843</td>\n",
       "      <td>331.512770</td>\n",
       "      <td>0.999345</td>\n",
       "      <td>0.998902</td>\n",
       "    </tr>\n",
       "    <tr>\n",
       "      <th>0</th>\n",
       "      <td>0</td>\n",
       "      <td>521</td>\n",
       "      <td>9.172535</td>\n",
       "      <td>815.475413</td>\n",
       "      <td>342.721689</td>\n",
       "      <td>1.182342</td>\n",
       "      <td>68.978887</td>\n",
       "      <td>267.715931</td>\n",
       "      <td>0.980236</td>\n",
       "      <td>0.997811</td>\n",
       "    </tr>\n",
       "    <tr>\n",
       "      <th>2</th>\n",
       "      <td>2</td>\n",
       "      <td>875</td>\n",
       "      <td>15.404930</td>\n",
       "      <td>737.406731</td>\n",
       "      <td>243.556571</td>\n",
       "      <td>1.622857</td>\n",
       "      <td>45.843429</td>\n",
       "      <td>310.273143</td>\n",
       "      <td>0.695963</td>\n",
       "      <td>0.978070</td>\n",
       "    </tr>\n",
       "    <tr>\n",
       "      <th>4</th>\n",
       "      <td>4</td>\n",
       "      <td>655</td>\n",
       "      <td>11.531690</td>\n",
       "      <td>724.550748</td>\n",
       "      <td>78.141985</td>\n",
       "      <td>1.071756</td>\n",
       "      <td>55.418321</td>\n",
       "      <td>321.204580</td>\n",
       "      <td>1.049582</td>\n",
       "      <td>0.997557</td>\n",
       "    </tr>\n",
       "    <tr>\n",
       "      <th>3</th>\n",
       "      <td>3</td>\n",
       "      <td>679</td>\n",
       "      <td>11.954225</td>\n",
       "      <td>550.290118</td>\n",
       "      <td>180.017673</td>\n",
       "      <td>1.022091</td>\n",
       "      <td>50.804124</td>\n",
       "      <td>217.095729</td>\n",
       "      <td>1.016200</td>\n",
       "      <td>0.998870</td>\n",
       "    </tr>\n",
       "  </tbody>\n",
       "</table>\n",
       "</div>"
      ],
      "text/plain": [
       "   cluster  customer_id  perc_customer  gross_revenue  recency_days  \\\n",
       "5        5         1776      31.267606    3794.247821     17.877815   \n",
       "6        6          665      11.707746    1360.009278     82.255639   \n",
       "1        1          509       8.961268     900.279980     23.650295   \n",
       "0        0          521       9.172535     815.475413    342.721689   \n",
       "2        2          875      15.404930     737.406731    243.556571   \n",
       "4        4          655      11.531690     724.550748     78.141985   \n",
       "3        3          679      11.954225     550.290118    180.017673   \n",
       "\n",
       "   purchases_no  products_no     items_no  frequency  satisfaction_rate  \n",
       "5      7.537725   166.684122  2202.689189   0.044555           0.982405  \n",
       "6      3.639098    70.063158   849.106767   0.028307           0.994776  \n",
       "1      1.007859    74.119843   331.512770   0.999345           0.998902  \n",
       "0      1.182342    68.978887   267.715931   0.980236           0.997811  \n",
       "2      1.622857    45.843429   310.273143   0.695963           0.978070  \n",
       "4      1.071756    55.418321   321.204580   1.049582           0.997557  \n",
       "3      1.022091    50.804124   217.095729   1.016200           0.998870  "
      ]
     },
     "execution_count": 68,
     "metadata": {},
     "output_type": "execute_result"
    }
   ],
   "source": [
    "# Number of customer\n",
    "df_cluster = df92[['customer_id', 'cluster']].groupby('cluster').count().reset_index()\n",
    "df_cluster['perc_customer'] = (df_cluster['customer_id'] / df_cluster['customer_id'].sum())*100\n",
    "\n",
    "# Avg gross revenue\n",
    "df_avg_gross_revenue = df92[['gross_revenue', 'cluster']].groupby('cluster').mean().reset_index()\n",
    "df_cluster = pd.merge(df_cluster, df_avg_gross_revenue, how='inner', on = 'cluster')\n",
    "\n",
    "# Avg recency\n",
    "df_avg_recency = df92[['recency_days', 'cluster']].groupby('cluster').mean().reset_index()\n",
    "df_cluster = pd.merge(df_cluster, df_avg_recency, how='inner', on='cluster')\n",
    "\n",
    "# Avg purchases_no\n",
    "df_avg_purchases_no = df92[['purchases_no', 'cluster']].groupby('cluster').mean().reset_index()\n",
    "df_cluster = pd.merge(df_cluster, df_avg_purchases_no, how='inner', on='cluster')\n",
    "\n",
    "# Avg products_no\n",
    "df_avg_products_no = df92[['products_no', 'cluster']].groupby('cluster').mean().reset_index()\n",
    "df_cluster = pd.merge(df_cluster, df_avg_products_no, how='inner', on='cluster')\n",
    "\n",
    "# Avg items_no\n",
    "df_avg_items_no = df92[['items_no', 'cluster']].groupby('cluster').mean().reset_index()\n",
    "df_cluster = pd.merge(df_cluster, df_avg_items_no, how='inner', on='cluster')\n",
    "\n",
    "# Avg frequency\n",
    "df_frequency = df92[['frequency', 'cluster']].groupby('cluster').mean().reset_index()\n",
    "df_cluster = pd.merge(df_cluster, df_frequency, how='inner', on='cluster')\n",
    "\n",
    "# Avg satisfaction_rate\n",
    "df_satisfaction_rate = df92[['satisfaction_rate', 'cluster']].groupby('cluster').mean().reset_index()\n",
    "df_cluster = pd.merge(df_cluster, df_satisfaction_rate, how='inner', on='cluster')\n",
    "\n",
    "\n",
    "df_cluster.sort_values('gross_revenue', ascending=False)\n"
   ]
  },
  {
   "cell_type": "markdown",
   "metadata": {},
   "source": [
    "- 1° (5): Insiders\n",
    "- 2° (0): Pre-Insider - aumentar qtde de produtos comprados (cross sell), aumentar a frequencia (cupom de desconto)\n",
    "- 3° (4): Cluster Even More Products\n",
    "- 4° (6): Cluster Spend Money\n",
    "- 5° (3): Improve Recency\n",
    "- 6° (2): Less then 1K\n",
    "- 7° (1): More then 3 months"
   ]
  },
  {
   "cell_type": "markdown",
   "metadata": {},
   "source": [
    "# 8. Deploy To Production"
   ]
  },
  {
   "cell_type": "markdown",
   "metadata": {},
   "source": [
    "### 8.1 Insert into SQLite"
   ]
  },
  {
   "cell_type": "code",
   "execution_count": 69,
   "metadata": {},
   "outputs": [
    {
     "data": {
      "text/plain": [
       "customer_id            int64\n",
       "gross_revenue        float64\n",
       "recency_days           int64\n",
       "purchases_no           int64\n",
       "products_no            int64\n",
       "items_no               int64\n",
       "frequency            float64\n",
       "returns_no           float64\n",
       "satisfaction_rate    float64\n",
       "cluster                int32\n",
       "dtype: object"
      ]
     },
     "execution_count": 69,
     "metadata": {},
     "output_type": "execute_result"
    }
   ],
   "source": [
    "df92.dtypes"
   ]
  },
  {
   "cell_type": "code",
   "execution_count": 70,
   "metadata": {},
   "outputs": [
    {
     "data": {
      "text/plain": [
       "680"
      ]
     },
     "execution_count": 70,
     "metadata": {},
     "output_type": "execute_result"
    }
   ],
   "source": [
    "# Database Conection\n",
    "#endpoint_local = 'sqlite:////home/vitor/Repos/loyalty-program//data/insiders_db.sqlite'\n",
    "\n",
    "host = 'database-insiders.cohf4nijv2pv.sa-east-1.rds.amazonaws.com'\n",
    "port = '5432'\n",
    "database = 'postgres'\n",
    "user = 'postgres'\n",
    "pwd = 'comunidadeds!'\n",
    "\n",
    "endpoint_aws = f'postgresql://{user}:{pwd}@{host}:{port}/{database}'\n",
    "engine = create_engine(endpoint_aws)\n",
    "connection = engine.connect()\n",
    "\n",
    "\n",
    "# # Create Table\n",
    "# query_create_table_insiders = \"\"\" \n",
    "#     CREATE TABLE insiders(\n",
    "#         customer_id         INTEGER,\n",
    "#         gross_revenue       REAL,\n",
    "#         recency_days        INTEGER,\n",
    "#         purchases_no        INTEGER,\n",
    "#         products_no         INTEGER,\n",
    "#         items_no            INTEGER,\n",
    "#         frequency           REAL,\n",
    "#         returns_no          INTEGER,\n",
    "#         satisfaction_rate   REAL,\n",
    "#         cluster             INTEGER\n",
    "#     )\n",
    "# \"\"\"\n",
    "\n",
    "# conn.execute(query_create_table_insiders)\n",
    "\n",
    "# Insert Data\n",
    "df92.to_sql('insiders', con=engine, if_exists='append', index=False)\n",
    "\n",
    "\n",
    "\n"
   ]
  },
  {
   "cell_type": "code",
   "execution_count": 71,
   "metadata": {},
   "outputs": [],
   "source": [
    "# Consulting database\n",
    "# query = \"\"\"\n",
    "#     SELECT * FROM insiders\n",
    "# \"\"\"\n",
    "\n",
    "# df = pd.read_sql_query(query, engine)\n",
    "\n",
    "# df.head()"
   ]
  },
  {
   "cell_type": "code",
   "execution_count": 72,
   "metadata": {},
   "outputs": [],
   "source": [
    "connection.close()"
   ]
  }
 ],
 "metadata": {
  "kernelspec": {
   "display_name": "Python 3.9.0 64-bit ('LoyaltyProgram')",
   "language": "python",
   "name": "python3"
  },
  "language_info": {
   "codemirror_mode": {
    "name": "ipython",
    "version": 3
   },
   "file_extension": ".py",
   "mimetype": "text/x-python",
   "name": "python",
   "nbconvert_exporter": "python",
   "pygments_lexer": "ipython3",
   "version": "3.9.0"
  },
  "orig_nbformat": 4,
  "vscode": {
   "interpreter": {
    "hash": "b3aea487c2939026990446acc39d0068ca11417f375febde9f2cd58727f0d4dc"
   }
  }
 },
 "nbformat": 4,
 "nbformat_minor": 2
}
