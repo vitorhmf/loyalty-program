{
 "cells": [
  {
   "cell_type": "markdown",
   "metadata": {},
   "source": [
    "# 0. Imports"
   ]
  },
  {
   "cell_type": "markdown",
   "metadata": {},
   "source": [
    "### 0.1 Libs"
   ]
  },
  {
   "cell_type": "code",
   "execution_count": 1,
   "metadata": {},
   "outputs": [
    {
     "name": "stderr",
     "output_type": "stream",
     "text": [
      "/home/vitor/.pyenv/versions/3.9.0/envs/LoyaltyProgram/lib/python3.9/site-packages/tqdm/auto.py:22: TqdmWarning: IProgress not found. Please update jupyter and ipywidgets. See https://ipywidgets.readthedocs.io/en/stable/user_install.html\n",
      "  from .autonotebook import tqdm as notebook_tqdm\n"
     ]
    }
   ],
   "source": [
    "import re\n",
    "import warnings\n",
    "import inflection\n",
    "import sqlite3\n",
    "\n",
    "\n",
    "import numpy            as np\n",
    "import pandas           as pd\n",
    "import seaborn          as sns\n",
    "import umap.umap_       as umap\n",
    "import matplotlib.cm    as cm\n",
    "import scipy.stats      as st\n",
    "\n",
    "from IPython.display        import Image\n",
    "from sqlalchemy             import create_engine\n",
    "from pandas_profiling       import ProfileReport\n",
    "\n",
    "from plotly                 import express          as px\n",
    "from matplotlib             import pyplot           as plt\n",
    "\n",
    "from scipy                  import stats            as ss\n",
    "from scipy.cluster          import hierarchy        as hc\n",
    "\n",
    "from sklearn                import cluster          as c\n",
    "from sklearn                import metrics          as m\n",
    "from sklearn                import preprocessing    as pp\n",
    "from sklearn                import decomposition    as dd\n",
    "from sklearn                import ensemble         as en\n",
    "from sklearn                import mixture          as mx\n",
    "from sklearn                import manifold         as mn"
   ]
  },
  {
   "cell_type": "markdown",
   "metadata": {},
   "source": [
    "### 0.2 Helper Functions"
   ]
  },
  {
   "cell_type": "code",
   "execution_count": 2,
   "metadata": {},
   "outputs": [],
   "source": [
    "warnings.simplefilter(\"ignore\")\n",
    "\n",
    "def numerical_metrics(numerical_attributes):\n",
    "    #ct = central tendency\n",
    "    ct_mean = pd.DataFrame(numerical_attributes.apply(np.mean)).T\n",
    "    ct_median = pd.DataFrame(numerical_attributes.apply(np.median)).T\n",
    "\n",
    "    #d = dispersion\n",
    "    d_std = pd.DataFrame(numerical_attributes.apply(np.std)).T\n",
    "    d_min = pd.DataFrame(numerical_attributes.apply(min)).T\n",
    "    d_max = pd.DataFrame(numerical_attributes.apply(max)).T\n",
    "    d_range = pd.DataFrame(numerical_attributes.apply(lambda x: x.max() - x.min())).T\n",
    "    d_skew = pd.DataFrame(numerical_attributes.apply(lambda x: x.skew())).T\n",
    "    d_kurtosis = pd.DataFrame(numerical_attributes.apply(lambda x: x.kurtosis())).T\n",
    "\n",
    "    concat = pd.concat([d_min,d_max,d_range,ct_mean,ct_median,d_std,d_skew,d_kurtosis]).T.reset_index()\n",
    "    concat.columns=['Attributes','Min','Max','Range','Mean','Median','STD','Skew','Kurtosis']\n",
    "\n",
    "    return concat"
   ]
  },
  {
   "cell_type": "markdown",
   "metadata": {},
   "source": [
    "### 0.3 Loading Data"
   ]
  },
  {
   "cell_type": "code",
   "execution_count": 3,
   "metadata": {},
   "outputs": [],
   "source": [
    "df_raw = pd.read_csv('../data/data.csv', encoding= 'unicode_escape')"
   ]
  },
  {
   "cell_type": "markdown",
   "metadata": {},
   "source": [
    "# 1. Data Description"
   ]
  },
  {
   "cell_type": "markdown",
   "metadata": {},
   "source": [
    "### 1.0 Rename Columns"
   ]
  },
  {
   "cell_type": "code",
   "execution_count": 4,
   "metadata": {},
   "outputs": [
    {
     "data": {
      "text/plain": [
       "Index(['InvoiceNo', 'StockCode', 'Description', 'Quantity', 'InvoiceDate',\n",
       "       'UnitPrice', 'CustomerID', 'Country'],\n",
       "      dtype='object')"
      ]
     },
     "execution_count": 4,
     "metadata": {},
     "output_type": "execute_result"
    }
   ],
   "source": [
    "df1 = df_raw.copy()\n",
    "\n",
    "df1.columns"
   ]
  },
  {
   "cell_type": "code",
   "execution_count": 5,
   "metadata": {},
   "outputs": [
    {
     "data": {
      "text/html": [
       "<div>\n",
       "<style scoped>\n",
       "    .dataframe tbody tr th:only-of-type {\n",
       "        vertical-align: middle;\n",
       "    }\n",
       "\n",
       "    .dataframe tbody tr th {\n",
       "        vertical-align: top;\n",
       "    }\n",
       "\n",
       "    .dataframe thead th {\n",
       "        text-align: right;\n",
       "    }\n",
       "</style>\n",
       "<table border=\"1\" class=\"dataframe\">\n",
       "  <thead>\n",
       "    <tr style=\"text-align: right;\">\n",
       "      <th></th>\n",
       "      <th>invoice_no</th>\n",
       "      <th>stock_code</th>\n",
       "      <th>description</th>\n",
       "      <th>quantity</th>\n",
       "      <th>invoice_date</th>\n",
       "      <th>unit_price</th>\n",
       "      <th>customer_id</th>\n",
       "      <th>country</th>\n",
       "    </tr>\n",
       "  </thead>\n",
       "  <tbody>\n",
       "    <tr>\n",
       "      <th>0</th>\n",
       "      <td>536365</td>\n",
       "      <td>85123A</td>\n",
       "      <td>WHITE HANGING HEART T-LIGHT HOLDER</td>\n",
       "      <td>6</td>\n",
       "      <td>12/1/2010 8:26</td>\n",
       "      <td>2.55</td>\n",
       "      <td>17850.0</td>\n",
       "      <td>United Kingdom</td>\n",
       "    </tr>\n",
       "    <tr>\n",
       "      <th>1</th>\n",
       "      <td>536365</td>\n",
       "      <td>71053</td>\n",
       "      <td>WHITE METAL LANTERN</td>\n",
       "      <td>6</td>\n",
       "      <td>12/1/2010 8:26</td>\n",
       "      <td>3.39</td>\n",
       "      <td>17850.0</td>\n",
       "      <td>United Kingdom</td>\n",
       "    </tr>\n",
       "    <tr>\n",
       "      <th>2</th>\n",
       "      <td>536365</td>\n",
       "      <td>84406B</td>\n",
       "      <td>CREAM CUPID HEARTS COAT HANGER</td>\n",
       "      <td>8</td>\n",
       "      <td>12/1/2010 8:26</td>\n",
       "      <td>2.75</td>\n",
       "      <td>17850.0</td>\n",
       "      <td>United Kingdom</td>\n",
       "    </tr>\n",
       "    <tr>\n",
       "      <th>3</th>\n",
       "      <td>536365</td>\n",
       "      <td>84029G</td>\n",
       "      <td>KNITTED UNION FLAG HOT WATER BOTTLE</td>\n",
       "      <td>6</td>\n",
       "      <td>12/1/2010 8:26</td>\n",
       "      <td>3.39</td>\n",
       "      <td>17850.0</td>\n",
       "      <td>United Kingdom</td>\n",
       "    </tr>\n",
       "    <tr>\n",
       "      <th>4</th>\n",
       "      <td>536365</td>\n",
       "      <td>84029E</td>\n",
       "      <td>RED WOOLLY HOTTIE WHITE HEART.</td>\n",
       "      <td>6</td>\n",
       "      <td>12/1/2010 8:26</td>\n",
       "      <td>3.39</td>\n",
       "      <td>17850.0</td>\n",
       "      <td>United Kingdom</td>\n",
       "    </tr>\n",
       "  </tbody>\n",
       "</table>\n",
       "</div>"
      ],
      "text/plain": [
       "  invoice_no stock_code                          description  quantity  \\\n",
       "0     536365     85123A   WHITE HANGING HEART T-LIGHT HOLDER         6   \n",
       "1     536365      71053                  WHITE METAL LANTERN         6   \n",
       "2     536365     84406B       CREAM CUPID HEARTS COAT HANGER         8   \n",
       "3     536365     84029G  KNITTED UNION FLAG HOT WATER BOTTLE         6   \n",
       "4     536365     84029E       RED WOOLLY HOTTIE WHITE HEART.         6   \n",
       "\n",
       "     invoice_date  unit_price  customer_id         country  \n",
       "0  12/1/2010 8:26        2.55      17850.0  United Kingdom  \n",
       "1  12/1/2010 8:26        3.39      17850.0  United Kingdom  \n",
       "2  12/1/2010 8:26        2.75      17850.0  United Kingdom  \n",
       "3  12/1/2010 8:26        3.39      17850.0  United Kingdom  \n",
       "4  12/1/2010 8:26        3.39      17850.0  United Kingdom  "
      ]
     },
     "execution_count": 5,
     "metadata": {},
     "output_type": "execute_result"
    }
   ],
   "source": [
    "cols_old = ['InvoiceNo', 'StockCode', 'Description', 'Quantity', 'InvoiceDate',\n",
    "       'UnitPrice', 'CustomerID', 'Country']\n",
    "\n",
    "snakecase = lambda x: inflection.underscore(x)\n",
    "\n",
    "cols_new = list( map(snakecase, cols_old))\n",
    "\n",
    "df1.columns = cols_new\n",
    "\n",
    "df1.head()"
   ]
  },
  {
   "cell_type": "markdown",
   "metadata": {},
   "source": [
    "### 1.1 Data Dimentions"
   ]
  },
  {
   "cell_type": "code",
   "execution_count": 6,
   "metadata": {},
   "outputs": [
    {
     "name": "stdout",
     "output_type": "stream",
     "text": [
      "Number of Rows:541909\n",
      "Number of Columns:8\n",
      "Number of Clients:4373\n"
     ]
    }
   ],
   "source": [
    "print(f'Number of Rows:{df1.shape[0]}')\n",
    "print(f'Number of Columns:{df1.shape[1]}')\n",
    "print('Number of Clients:{}'.format(len(df1['customer_id'].unique())))"
   ]
  },
  {
   "cell_type": "code",
   "execution_count": 7,
   "metadata": {},
   "outputs": [
    {
     "name": "stdout",
     "output_type": "stream",
     "text": [
      "First day: 1/10/2011 10:04\n",
      "Last day: 9/9/2011 9:52\n"
     ]
    }
   ],
   "source": [
    "print('First day: {}'.format(df1['invoice_date'].min()))\n",
    "print('Last day: {}'.format(df1['invoice_date'].max()))"
   ]
  },
  {
   "cell_type": "markdown",
   "metadata": {},
   "source": [
    "### 1.2 Data Types"
   ]
  },
  {
   "cell_type": "code",
   "execution_count": 8,
   "metadata": {},
   "outputs": [
    {
     "data": {
      "text/plain": [
       "invoice_no       object\n",
       "stock_code       object\n",
       "description      object\n",
       "quantity          int64\n",
       "invoice_date     object\n",
       "unit_price      float64\n",
       "customer_id     float64\n",
       "country          object\n",
       "dtype: object"
      ]
     },
     "execution_count": 8,
     "metadata": {},
     "output_type": "execute_result"
    }
   ],
   "source": [
    "df1.dtypes"
   ]
  },
  {
   "cell_type": "markdown",
   "metadata": {},
   "source": [
    "### 1.3 Check NA"
   ]
  },
  {
   "cell_type": "code",
   "execution_count": 9,
   "metadata": {},
   "outputs": [
    {
     "data": {
      "text/plain": [
       "invoice_no           0\n",
       "stock_code           0\n",
       "description       1454\n",
       "quantity             0\n",
       "invoice_date         0\n",
       "unit_price           0\n",
       "customer_id     135080\n",
       "country              0\n",
       "dtype: int64"
      ]
     },
     "execution_count": 9,
     "metadata": {},
     "output_type": "execute_result"
    }
   ],
   "source": [
    "df1.isna().sum()"
   ]
  },
  {
   "cell_type": "markdown",
   "metadata": {},
   "source": [
    "### 1.4 Fillout NA"
   ]
  },
  {
   "cell_type": "code",
   "execution_count": 10,
   "metadata": {},
   "outputs": [
    {
     "name": "stdout",
     "output_type": "stream",
     "text": [
      "Removed data: 25%\n",
      "New number of rows: 406829\n"
     ]
    }
   ],
   "source": [
    "df1 = df1.dropna(subset=['description', 'customer_id'])\n",
    "print('Removed data: {:.0%}'.format( 1-(df1.shape[0] / df_raw.shape[0])))\n",
    "print(f'New number of rows: {df1.shape[0]}')"
   ]
  },
  {
   "cell_type": "code",
   "execution_count": 11,
   "metadata": {},
   "outputs": [],
   "source": [
    "# # Tentativa: criar um id para os valores faltantes e assim não descartar as informações registradas\n",
    "\n",
    "# df_missing = df1.loc[df1['customer_id'].isna(), :]\n",
    "# df_not_missing = df1.loc[~df1['customer_id'].isna(), :]\n",
    "\n",
    "# # create reference\n",
    "# df_backup = pd.DataFrame(df_missing['invoice_no'].drop_duplicates())\n",
    "# df_backup['customer_id'] = np.arange(19000, 19000+len(df_backup), 1)\n",
    "\n",
    "\n",
    "# # Merge with original dataframe\n",
    "# df1 = pd.merge(df1, df_backup, on = 'invoice_no', how = 'left')\n",
    "\n",
    "# # **Coalesce\n",
    "# df1['customer_id'] = df1['customer_id_x'].combine_first(df1['customer_id_y'])\n",
    "\n",
    "# # drop extra columns\n",
    "# df1 = df1.drop(columns = ['customer_id_x', 'customer_id_y'], axis=1)\n",
    "\n",
    "# df1.head()"
   ]
  },
  {
   "cell_type": "code",
   "execution_count": 12,
   "metadata": {},
   "outputs": [
    {
     "data": {
      "text/plain": [
       "invoice_no      0\n",
       "stock_code      0\n",
       "description     0\n",
       "quantity        0\n",
       "invoice_date    0\n",
       "unit_price      0\n",
       "customer_id     0\n",
       "country         0\n",
       "dtype: int64"
      ]
     },
     "execution_count": 12,
     "metadata": {},
     "output_type": "execute_result"
    }
   ],
   "source": [
    "df1.isna().sum()"
   ]
  },
  {
   "cell_type": "markdown",
   "metadata": {},
   "source": [
    "### 1.5 Change Types"
   ]
  },
  {
   "cell_type": "code",
   "execution_count": 13,
   "metadata": {},
   "outputs": [
    {
     "data": {
      "text/html": [
       "<div>\n",
       "<style scoped>\n",
       "    .dataframe tbody tr th:only-of-type {\n",
       "        vertical-align: middle;\n",
       "    }\n",
       "\n",
       "    .dataframe tbody tr th {\n",
       "        vertical-align: top;\n",
       "    }\n",
       "\n",
       "    .dataframe thead th {\n",
       "        text-align: right;\n",
       "    }\n",
       "</style>\n",
       "<table border=\"1\" class=\"dataframe\">\n",
       "  <thead>\n",
       "    <tr style=\"text-align: right;\">\n",
       "      <th></th>\n",
       "      <th>invoice_no</th>\n",
       "      <th>stock_code</th>\n",
       "      <th>description</th>\n",
       "      <th>quantity</th>\n",
       "      <th>invoice_date</th>\n",
       "      <th>unit_price</th>\n",
       "      <th>customer_id</th>\n",
       "      <th>country</th>\n",
       "    </tr>\n",
       "  </thead>\n",
       "  <tbody>\n",
       "    <tr>\n",
       "      <th>0</th>\n",
       "      <td>536365</td>\n",
       "      <td>85123A</td>\n",
       "      <td>WHITE HANGING HEART T-LIGHT HOLDER</td>\n",
       "      <td>6</td>\n",
       "      <td>2010-12-01</td>\n",
       "      <td>2.55</td>\n",
       "      <td>17850</td>\n",
       "      <td>United Kingdom</td>\n",
       "    </tr>\n",
       "    <tr>\n",
       "      <th>1</th>\n",
       "      <td>536365</td>\n",
       "      <td>71053</td>\n",
       "      <td>WHITE METAL LANTERN</td>\n",
       "      <td>6</td>\n",
       "      <td>2010-12-01</td>\n",
       "      <td>3.39</td>\n",
       "      <td>17850</td>\n",
       "      <td>United Kingdom</td>\n",
       "    </tr>\n",
       "    <tr>\n",
       "      <th>2</th>\n",
       "      <td>536365</td>\n",
       "      <td>84406B</td>\n",
       "      <td>CREAM CUPID HEARTS COAT HANGER</td>\n",
       "      <td>8</td>\n",
       "      <td>2010-12-01</td>\n",
       "      <td>2.75</td>\n",
       "      <td>17850</td>\n",
       "      <td>United Kingdom</td>\n",
       "    </tr>\n",
       "    <tr>\n",
       "      <th>3</th>\n",
       "      <td>536365</td>\n",
       "      <td>84029G</td>\n",
       "      <td>KNITTED UNION FLAG HOT WATER BOTTLE</td>\n",
       "      <td>6</td>\n",
       "      <td>2010-12-01</td>\n",
       "      <td>3.39</td>\n",
       "      <td>17850</td>\n",
       "      <td>United Kingdom</td>\n",
       "    </tr>\n",
       "    <tr>\n",
       "      <th>4</th>\n",
       "      <td>536365</td>\n",
       "      <td>84029E</td>\n",
       "      <td>RED WOOLLY HOTTIE WHITE HEART.</td>\n",
       "      <td>6</td>\n",
       "      <td>2010-12-01</td>\n",
       "      <td>3.39</td>\n",
       "      <td>17850</td>\n",
       "      <td>United Kingdom</td>\n",
       "    </tr>\n",
       "  </tbody>\n",
       "</table>\n",
       "</div>"
      ],
      "text/plain": [
       "  invoice_no stock_code                          description  quantity  \\\n",
       "0     536365     85123A   WHITE HANGING HEART T-LIGHT HOLDER         6   \n",
       "1     536365      71053                  WHITE METAL LANTERN         6   \n",
       "2     536365     84406B       CREAM CUPID HEARTS COAT HANGER         8   \n",
       "3     536365     84029G  KNITTED UNION FLAG HOT WATER BOTTLE         6   \n",
       "4     536365     84029E       RED WOOLLY HOTTIE WHITE HEART.         6   \n",
       "\n",
       "  invoice_date  unit_price  customer_id         country  \n",
       "0   2010-12-01        2.55        17850  United Kingdom  \n",
       "1   2010-12-01        3.39        17850  United Kingdom  \n",
       "2   2010-12-01        2.75        17850  United Kingdom  \n",
       "3   2010-12-01        3.39        17850  United Kingdom  \n",
       "4   2010-12-01        3.39        17850  United Kingdom  "
      ]
     },
     "execution_count": 13,
     "metadata": {},
     "output_type": "execute_result"
    }
   ],
   "source": [
    "df1['customer_id'] = df1['customer_id'].astype(int)\n",
    "\n",
    "df1['invoice_date'] = pd.to_datetime(df1['invoice_date'])\n",
    "df1['invoice_date'] = df1['invoice_date'].dt.strftime('%Y-%m-%d')\n",
    "df1['invoice_date'] = pd.to_datetime(df1['invoice_date'])\n",
    "\n",
    "df1.head()"
   ]
  },
  {
   "cell_type": "code",
   "execution_count": 14,
   "metadata": {},
   "outputs": [
    {
     "name": "stdout",
     "output_type": "stream",
     "text": [
      "First day: 2010-12-01 00:00:00\n",
      "Last day: 2011-12-09 00:00:00\n"
     ]
    }
   ],
   "source": [
    "print('First day: {}'.format(df1['invoice_date'].min()))\n",
    "print('Last day: {}'.format(df1['invoice_date'].max()))"
   ]
  },
  {
   "cell_type": "markdown",
   "metadata": {},
   "source": [
    "### 1.6 Descriptive Statistics"
   ]
  },
  {
   "cell_type": "markdown",
   "metadata": {},
   "source": [
    "#### 1.6.0  Datasets"
   ]
  },
  {
   "cell_type": "code",
   "execution_count": 15,
   "metadata": {},
   "outputs": [],
   "source": [
    "num_attributes = df1.select_dtypes(include = ['int64', 'float64'])\n",
    "cat_attributes = df1.select_dtypes(exclude = ['int64', 'float64', 'datetime64[ns]'])"
   ]
  },
  {
   "cell_type": "markdown",
   "metadata": {},
   "source": [
    "#### 1.6.1 Nummerical Attributes"
   ]
  },
  {
   "cell_type": "code",
   "execution_count": 16,
   "metadata": {},
   "outputs": [
    {
     "data": {
      "text/html": [
       "<div>\n",
       "<style scoped>\n",
       "    .dataframe tbody tr th:only-of-type {\n",
       "        vertical-align: middle;\n",
       "    }\n",
       "\n",
       "    .dataframe tbody tr th {\n",
       "        vertical-align: top;\n",
       "    }\n",
       "\n",
       "    .dataframe thead th {\n",
       "        text-align: right;\n",
       "    }\n",
       "</style>\n",
       "<table border=\"1\" class=\"dataframe\">\n",
       "  <thead>\n",
       "    <tr style=\"text-align: right;\">\n",
       "      <th></th>\n",
       "      <th>Attributes</th>\n",
       "      <th>Min</th>\n",
       "      <th>Max</th>\n",
       "      <th>Range</th>\n",
       "      <th>Mean</th>\n",
       "      <th>Median</th>\n",
       "      <th>STD</th>\n",
       "      <th>Skew</th>\n",
       "      <th>Kurtosis</th>\n",
       "    </tr>\n",
       "  </thead>\n",
       "  <tbody>\n",
       "    <tr>\n",
       "      <th>0</th>\n",
       "      <td>quantity</td>\n",
       "      <td>-80995.0</td>\n",
       "      <td>80995.0</td>\n",
       "      <td>161990.0</td>\n",
       "      <td>12.061303</td>\n",
       "      <td>5.00</td>\n",
       "      <td>248.693064</td>\n",
       "      <td>0.182663</td>\n",
       "      <td>94317.563673</td>\n",
       "    </tr>\n",
       "    <tr>\n",
       "      <th>1</th>\n",
       "      <td>unit_price</td>\n",
       "      <td>0.0</td>\n",
       "      <td>38970.0</td>\n",
       "      <td>38970.0</td>\n",
       "      <td>3.460471</td>\n",
       "      <td>1.95</td>\n",
       "      <td>69.315077</td>\n",
       "      <td>452.219019</td>\n",
       "      <td>246924.542988</td>\n",
       "    </tr>\n",
       "    <tr>\n",
       "      <th>2</th>\n",
       "      <td>customer_id</td>\n",
       "      <td>12346.0</td>\n",
       "      <td>18287.0</td>\n",
       "      <td>5941.0</td>\n",
       "      <td>15287.690570</td>\n",
       "      <td>15152.00</td>\n",
       "      <td>1713.598197</td>\n",
       "      <td>0.029835</td>\n",
       "      <td>-1.179982</td>\n",
       "    </tr>\n",
       "  </tbody>\n",
       "</table>\n",
       "</div>"
      ],
      "text/plain": [
       "    Attributes      Min      Max     Range          Mean    Median  \\\n",
       "0     quantity -80995.0  80995.0  161990.0     12.061303      5.00   \n",
       "1   unit_price      0.0  38970.0   38970.0      3.460471      1.95   \n",
       "2  customer_id  12346.0  18287.0    5941.0  15287.690570  15152.00   \n",
       "\n",
       "           STD        Skew       Kurtosis  \n",
       "0   248.693064    0.182663   94317.563673  \n",
       "1    69.315077  452.219019  246924.542988  \n",
       "2  1713.598197    0.029835      -1.179982  "
      ]
     },
     "execution_count": 16,
     "metadata": {},
     "output_type": "execute_result"
    }
   ],
   "source": [
    "numerical_metrics(num_attributes)"
   ]
  },
  {
   "cell_type": "markdown",
   "metadata": {},
   "source": [
    "#### 1.6.2 Categorical Attributes"
   ]
  },
  {
   "cell_type": "markdown",
   "metadata": {},
   "source": [
    "##### Overview"
   ]
  },
  {
   "cell_type": "code",
   "execution_count": 17,
   "metadata": {},
   "outputs": [
    {
     "data": {
      "text/html": [
       "<div>\n",
       "<style scoped>\n",
       "    .dataframe tbody tr th:only-of-type {\n",
       "        vertical-align: middle;\n",
       "    }\n",
       "\n",
       "    .dataframe tbody tr th {\n",
       "        vertical-align: top;\n",
       "    }\n",
       "\n",
       "    .dataframe thead th {\n",
       "        text-align: right;\n",
       "    }\n",
       "</style>\n",
       "<table border=\"1\" class=\"dataframe\">\n",
       "  <thead>\n",
       "    <tr style=\"text-align: right;\">\n",
       "      <th></th>\n",
       "      <th>334782</th>\n",
       "      <th>286594</th>\n",
       "      <th>456388</th>\n",
       "    </tr>\n",
       "  </thead>\n",
       "  <tbody>\n",
       "    <tr>\n",
       "      <th>invoice_no</th>\n",
       "      <td>566269</td>\n",
       "      <td>562031</td>\n",
       "      <td>575688</td>\n",
       "    </tr>\n",
       "    <tr>\n",
       "      <th>stock_code</th>\n",
       "      <td>22024</td>\n",
       "      <td>21524</td>\n",
       "      <td>21175</td>\n",
       "    </tr>\n",
       "    <tr>\n",
       "      <th>description</th>\n",
       "      <td>RAINY LADIES BIRTHDAY CARD</td>\n",
       "      <td>DOORMAT SPOTTY HOME SWEET HOME</td>\n",
       "      <td>GIN + TONIC DIET METAL SIGN</td>\n",
       "    </tr>\n",
       "    <tr>\n",
       "      <th>country</th>\n",
       "      <td>United Kingdom</td>\n",
       "      <td>United Kingdom</td>\n",
       "      <td>United Kingdom</td>\n",
       "    </tr>\n",
       "  </tbody>\n",
       "</table>\n",
       "</div>"
      ],
      "text/plain": [
       "                                 334782                          286594  \\\n",
       "invoice_no                       566269                          562031   \n",
       "stock_code                        22024                           21524   \n",
       "description  RAINY LADIES BIRTHDAY CARD  DOORMAT SPOTTY HOME SWEET HOME   \n",
       "country                  United Kingdom                  United Kingdom   \n",
       "\n",
       "                                  456388  \n",
       "invoice_no                        575688  \n",
       "stock_code                         21175  \n",
       "description  GIN + TONIC DIET METAL SIGN  \n",
       "country                   United Kingdom  "
      ]
     },
     "execution_count": 17,
     "metadata": {},
     "output_type": "execute_result"
    }
   ],
   "source": [
    "cat_attributes.sample(3).T"
   ]
  },
  {
   "cell_type": "code",
   "execution_count": 18,
   "metadata": {},
   "outputs": [
    {
     "data": {
      "text/html": [
       "<div>\n",
       "<style scoped>\n",
       "    .dataframe tbody tr th:only-of-type {\n",
       "        vertical-align: middle;\n",
       "    }\n",
       "\n",
       "    .dataframe tbody tr th {\n",
       "        vertical-align: top;\n",
       "    }\n",
       "\n",
       "    .dataframe thead th {\n",
       "        text-align: right;\n",
       "    }\n",
       "</style>\n",
       "<table border=\"1\" class=\"dataframe\">\n",
       "  <thead>\n",
       "    <tr style=\"text-align: right;\">\n",
       "      <th></th>\n",
       "      <th>invoice_no</th>\n",
       "      <th>stock_code</th>\n",
       "      <th>description</th>\n",
       "      <th>country</th>\n",
       "    </tr>\n",
       "  </thead>\n",
       "  <tbody>\n",
       "    <tr>\n",
       "      <th>count</th>\n",
       "      <td>406829</td>\n",
       "      <td>406829</td>\n",
       "      <td>406829</td>\n",
       "      <td>406829</td>\n",
       "    </tr>\n",
       "    <tr>\n",
       "      <th>unique</th>\n",
       "      <td>22190</td>\n",
       "      <td>3684</td>\n",
       "      <td>3896</td>\n",
       "      <td>37</td>\n",
       "    </tr>\n",
       "    <tr>\n",
       "      <th>top</th>\n",
       "      <td>576339</td>\n",
       "      <td>85123A</td>\n",
       "      <td>WHITE HANGING HEART T-LIGHT HOLDER</td>\n",
       "      <td>United Kingdom</td>\n",
       "    </tr>\n",
       "    <tr>\n",
       "      <th>freq</th>\n",
       "      <td>542</td>\n",
       "      <td>2077</td>\n",
       "      <td>2070</td>\n",
       "      <td>361878</td>\n",
       "    </tr>\n",
       "  </tbody>\n",
       "</table>\n",
       "</div>"
      ],
      "text/plain": [
       "       invoice_no stock_code                         description  \\\n",
       "count      406829     406829                              406829   \n",
       "unique      22190       3684                                3896   \n",
       "top        576339     85123A  WHITE HANGING HEART T-LIGHT HOLDER   \n",
       "freq          542       2077                                2070   \n",
       "\n",
       "               country  \n",
       "count           406829  \n",
       "unique              37  \n",
       "top     United Kingdom  \n",
       "freq            361878  "
      ]
     },
     "execution_count": 18,
     "metadata": {},
     "output_type": "execute_result"
    }
   ],
   "source": [
    "cat_attributes.describe()"
   ]
  },
  {
   "cell_type": "markdown",
   "metadata": {},
   "source": [
    "##### Invoice No"
   ]
  },
  {
   "cell_type": "code",
   "execution_count": 19,
   "metadata": {},
   "outputs": [
    {
     "name": "stdout",
     "output_type": "stream",
     "text": [
      "Total invoice_no with letter: 8905\n",
      "Total invoice_no with letter and negative quantity value: 8905\n"
     ]
    },
    {
     "data": {
      "text/html": [
       "<div>\n",
       "<style scoped>\n",
       "    .dataframe tbody tr th:only-of-type {\n",
       "        vertical-align: middle;\n",
       "    }\n",
       "\n",
       "    .dataframe tbody tr th {\n",
       "        vertical-align: top;\n",
       "    }\n",
       "\n",
       "    .dataframe thead th {\n",
       "        text-align: right;\n",
       "    }\n",
       "</style>\n",
       "<table border=\"1\" class=\"dataframe\">\n",
       "  <thead>\n",
       "    <tr style=\"text-align: right;\">\n",
       "      <th></th>\n",
       "      <th>invoice_no</th>\n",
       "      <th>stock_code</th>\n",
       "      <th>description</th>\n",
       "      <th>quantity</th>\n",
       "      <th>invoice_date</th>\n",
       "      <th>unit_price</th>\n",
       "      <th>customer_id</th>\n",
       "      <th>country</th>\n",
       "    </tr>\n",
       "  </thead>\n",
       "  <tbody>\n",
       "    <tr>\n",
       "      <th>141</th>\n",
       "      <td>C536379</td>\n",
       "      <td>D</td>\n",
       "      <td>Discount</td>\n",
       "      <td>-1</td>\n",
       "      <td>2010-12-01</td>\n",
       "      <td>27.50</td>\n",
       "      <td>14527</td>\n",
       "      <td>United Kingdom</td>\n",
       "    </tr>\n",
       "    <tr>\n",
       "      <th>154</th>\n",
       "      <td>C536383</td>\n",
       "      <td>35004C</td>\n",
       "      <td>SET OF 3 COLOURED  FLYING DUCKS</td>\n",
       "      <td>-1</td>\n",
       "      <td>2010-12-01</td>\n",
       "      <td>4.65</td>\n",
       "      <td>15311</td>\n",
       "      <td>United Kingdom</td>\n",
       "    </tr>\n",
       "    <tr>\n",
       "      <th>235</th>\n",
       "      <td>C536391</td>\n",
       "      <td>22556</td>\n",
       "      <td>PLASTERS IN TIN CIRCUS PARADE</td>\n",
       "      <td>-12</td>\n",
       "      <td>2010-12-01</td>\n",
       "      <td>1.65</td>\n",
       "      <td>17548</td>\n",
       "      <td>United Kingdom</td>\n",
       "    </tr>\n",
       "    <tr>\n",
       "      <th>236</th>\n",
       "      <td>C536391</td>\n",
       "      <td>21984</td>\n",
       "      <td>PACK OF 12 PINK PAISLEY TISSUES</td>\n",
       "      <td>-24</td>\n",
       "      <td>2010-12-01</td>\n",
       "      <td>0.29</td>\n",
       "      <td>17548</td>\n",
       "      <td>United Kingdom</td>\n",
       "    </tr>\n",
       "    <tr>\n",
       "      <th>237</th>\n",
       "      <td>C536391</td>\n",
       "      <td>21983</td>\n",
       "      <td>PACK OF 12 BLUE PAISLEY TISSUES</td>\n",
       "      <td>-24</td>\n",
       "      <td>2010-12-01</td>\n",
       "      <td>0.29</td>\n",
       "      <td>17548</td>\n",
       "      <td>United Kingdom</td>\n",
       "    </tr>\n",
       "    <tr>\n",
       "      <th>...</th>\n",
       "      <td>...</td>\n",
       "      <td>...</td>\n",
       "      <td>...</td>\n",
       "      <td>...</td>\n",
       "      <td>...</td>\n",
       "      <td>...</td>\n",
       "      <td>...</td>\n",
       "      <td>...</td>\n",
       "    </tr>\n",
       "    <tr>\n",
       "      <th>540449</th>\n",
       "      <td>C581490</td>\n",
       "      <td>23144</td>\n",
       "      <td>ZINC T-LIGHT HOLDER STARS SMALL</td>\n",
       "      <td>-11</td>\n",
       "      <td>2011-12-09</td>\n",
       "      <td>0.83</td>\n",
       "      <td>14397</td>\n",
       "      <td>United Kingdom</td>\n",
       "    </tr>\n",
       "    <tr>\n",
       "      <th>541541</th>\n",
       "      <td>C581499</td>\n",
       "      <td>M</td>\n",
       "      <td>Manual</td>\n",
       "      <td>-1</td>\n",
       "      <td>2011-12-09</td>\n",
       "      <td>224.69</td>\n",
       "      <td>15498</td>\n",
       "      <td>United Kingdom</td>\n",
       "    </tr>\n",
       "    <tr>\n",
       "      <th>541715</th>\n",
       "      <td>C581568</td>\n",
       "      <td>21258</td>\n",
       "      <td>VICTORIAN SEWING BOX LARGE</td>\n",
       "      <td>-5</td>\n",
       "      <td>2011-12-09</td>\n",
       "      <td>10.95</td>\n",
       "      <td>15311</td>\n",
       "      <td>United Kingdom</td>\n",
       "    </tr>\n",
       "    <tr>\n",
       "      <th>541716</th>\n",
       "      <td>C581569</td>\n",
       "      <td>84978</td>\n",
       "      <td>HANGING HEART JAR T-LIGHT HOLDER</td>\n",
       "      <td>-1</td>\n",
       "      <td>2011-12-09</td>\n",
       "      <td>1.25</td>\n",
       "      <td>17315</td>\n",
       "      <td>United Kingdom</td>\n",
       "    </tr>\n",
       "    <tr>\n",
       "      <th>541717</th>\n",
       "      <td>C581569</td>\n",
       "      <td>20979</td>\n",
       "      <td>36 PENCILS TUBE RED RETROSPOT</td>\n",
       "      <td>-5</td>\n",
       "      <td>2011-12-09</td>\n",
       "      <td>1.25</td>\n",
       "      <td>17315</td>\n",
       "      <td>United Kingdom</td>\n",
       "    </tr>\n",
       "  </tbody>\n",
       "</table>\n",
       "<p>8905 rows × 8 columns</p>\n",
       "</div>"
      ],
      "text/plain": [
       "       invoice_no stock_code                       description  quantity  \\\n",
       "141       C536379          D                          Discount        -1   \n",
       "154       C536383     35004C   SET OF 3 COLOURED  FLYING DUCKS        -1   \n",
       "235       C536391      22556    PLASTERS IN TIN CIRCUS PARADE        -12   \n",
       "236       C536391      21984  PACK OF 12 PINK PAISLEY TISSUES        -24   \n",
       "237       C536391      21983  PACK OF 12 BLUE PAISLEY TISSUES        -24   \n",
       "...           ...        ...                               ...       ...   \n",
       "540449    C581490      23144   ZINC T-LIGHT HOLDER STARS SMALL       -11   \n",
       "541541    C581499          M                            Manual        -1   \n",
       "541715    C581568      21258        VICTORIAN SEWING BOX LARGE        -5   \n",
       "541716    C581569      84978  HANGING HEART JAR T-LIGHT HOLDER        -1   \n",
       "541717    C581569      20979     36 PENCILS TUBE RED RETROSPOT        -5   \n",
       "\n",
       "       invoice_date  unit_price  customer_id         country  \n",
       "141      2010-12-01       27.50        14527  United Kingdom  \n",
       "154      2010-12-01        4.65        15311  United Kingdom  \n",
       "235      2010-12-01        1.65        17548  United Kingdom  \n",
       "236      2010-12-01        0.29        17548  United Kingdom  \n",
       "237      2010-12-01        0.29        17548  United Kingdom  \n",
       "...             ...         ...          ...             ...  \n",
       "540449   2011-12-09        0.83        14397  United Kingdom  \n",
       "541541   2011-12-09      224.69        15498  United Kingdom  \n",
       "541715   2011-12-09       10.95        15311  United Kingdom  \n",
       "541716   2011-12-09        1.25        17315  United Kingdom  \n",
       "541717   2011-12-09        1.25        17315  United Kingdom  \n",
       "\n",
       "[8905 rows x 8 columns]"
      ]
     },
     "execution_count": 19,
     "metadata": {},
     "output_type": "execute_result"
    }
   ],
   "source": [
    "# Quantidade de registros com letras\n",
    "df_letter_invoice = df1.loc[df1['invoice_no'].apply(lambda x: bool(re.search('[^0-9]+', x))), :]\n",
    "print(f'Total invoice_no with letter: {len(df_letter_invoice)}')\n",
    "print('Total invoice_no with letter and negative quantity value: {}'.format(len(df_letter_invoice[df_letter_invoice['quantity']<0])))\n",
    "\n",
    "df_letter_invoice"
   ]
  },
  {
   "cell_type": "markdown",
   "metadata": {},
   "source": [
    "##### Stock Code"
   ]
  },
  {
   "cell_type": "code",
   "execution_count": 20,
   "metadata": {},
   "outputs": [
    {
     "data": {
      "text/plain": [
       "array(['POST', 'D', 'M', 'PADS', 'DOT', 'CRUK'], dtype=object)"
      ]
     },
     "execution_count": 20,
     "metadata": {},
     "output_type": "execute_result"
    }
   ],
   "source": [
    "# The stock_code should be a number\n",
    "df1.loc[df1['stock_code'].apply(lambda x: bool(re.search('^[a-zA-Z]+$', x))), :]\n",
    "df1.loc[df1['stock_code'].apply(lambda x: bool(re.search('^[a-zA-Z]+$', x))), 'stock_code'].unique()\n",
    "\n",
    "# task: remove stock_code in ['POST', 'D', 'M', 'PADS', 'DOT', 'CRUK']"
   ]
  },
  {
   "cell_type": "markdown",
   "metadata": {},
   "source": [
    "##### Description"
   ]
  },
  {
   "cell_type": "code",
   "execution_count": 21,
   "metadata": {},
   "outputs": [],
   "source": [
    "# Task: delete description"
   ]
  },
  {
   "cell_type": "markdown",
   "metadata": {},
   "source": [
    "##### Country"
   ]
  },
  {
   "cell_type": "code",
   "execution_count": 22,
   "metadata": {},
   "outputs": [
    {
     "data": {
      "text/plain": [
       "37"
      ]
     },
     "execution_count": 22,
     "metadata": {},
     "output_type": "execute_result"
    }
   ],
   "source": [
    "len(df1['country'].unique())"
   ]
  },
  {
   "cell_type": "code",
   "execution_count": 23,
   "metadata": {},
   "outputs": [
    {
     "data": {
      "text/plain": [
       "United Kingdom    0.889509\n",
       "Germany           0.023339\n",
       "France            0.020871\n",
       "EIRE              0.018398\n",
       "Spain             0.006226\n",
       "Name: country, dtype: float64"
      ]
     },
     "execution_count": 23,
     "metadata": {},
     "output_type": "execute_result"
    }
   ],
   "source": [
    "df1['country'].value_counts(normalize = True).head()"
   ]
  },
  {
   "cell_type": "code",
   "execution_count": 24,
   "metadata": {},
   "outputs": [
    {
     "data": {
      "text/html": [
       "<div>\n",
       "<style scoped>\n",
       "    .dataframe tbody tr th:only-of-type {\n",
       "        vertical-align: middle;\n",
       "    }\n",
       "\n",
       "    .dataframe tbody tr th {\n",
       "        vertical-align: top;\n",
       "    }\n",
       "\n",
       "    .dataframe thead th {\n",
       "        text-align: right;\n",
       "    }\n",
       "</style>\n",
       "<table border=\"1\" class=\"dataframe\">\n",
       "  <thead>\n",
       "    <tr style=\"text-align: right;\">\n",
       "      <th></th>\n",
       "      <th>country</th>\n",
       "      <th>customer_id</th>\n",
       "    </tr>\n",
       "  </thead>\n",
       "  <tbody>\n",
       "    <tr>\n",
       "      <th>35</th>\n",
       "      <td>United Kingdom</td>\n",
       "      <td>3950</td>\n",
       "    </tr>\n",
       "    <tr>\n",
       "      <th>14</th>\n",
       "      <td>Germany</td>\n",
       "      <td>95</td>\n",
       "    </tr>\n",
       "    <tr>\n",
       "      <th>13</th>\n",
       "      <td>France</td>\n",
       "      <td>87</td>\n",
       "    </tr>\n",
       "    <tr>\n",
       "      <th>30</th>\n",
       "      <td>Spain</td>\n",
       "      <td>31</td>\n",
       "    </tr>\n",
       "    <tr>\n",
       "      <th>3</th>\n",
       "      <td>Belgium</td>\n",
       "      <td>25</td>\n",
       "    </tr>\n",
       "  </tbody>\n",
       "</table>\n",
       "</div>"
      ],
      "text/plain": [
       "           country  customer_id\n",
       "35  United Kingdom         3950\n",
       "14         Germany           95\n",
       "13          France           87\n",
       "30           Spain           31\n",
       "3          Belgium           25"
      ]
     },
     "execution_count": 24,
     "metadata": {},
     "output_type": "execute_result"
    }
   ],
   "source": [
    "df1[['customer_id', 'country']].drop_duplicates().groupby('country').count().reset_index().sort_values('customer_id', ascending=False).head()"
   ]
  },
  {
   "cell_type": "markdown",
   "metadata": {},
   "source": [
    "# 2. Data Filtering "
   ]
  },
  {
   "cell_type": "markdown",
   "metadata": {},
   "source": [
    "### 2.1 Bad Users"
   ]
  },
  {
   "cell_type": "code",
   "execution_count": 25,
   "metadata": {},
   "outputs": [],
   "source": [
    "df2 = df1.copy()"
   ]
  },
  {
   "cell_type": "code",
   "execution_count": 26,
   "metadata": {},
   "outputs": [],
   "source": [
    "df2 = df2[~df2['customer_id'].isin([16446])]  # Maior número de devolução do conjunto de dados\n",
    "df2 = df2[~df2['customer_id'].isin([17548, 16546, 15823, 13672, 12346, 13762, 18268, 14557, 16878, 13364, 14792, 12607, 12454, 18274, 12558])]  # itens devolvidos >= itens comprados\n",
    "\n"
   ]
  },
  {
   "cell_type": "markdown",
   "metadata": {},
   "source": [
    "### 2.2 Cat Attributes"
   ]
  },
  {
   "cell_type": "code",
   "execution_count": 27,
   "metadata": {},
   "outputs": [],
   "source": [
    "# Stock Code != ['POST', 'D', 'M', 'PADS', 'DOT', 'CRUK']\n",
    "# df2 = df2[~df2['stock_code'].isin(['POST', 'D', 'DOT', 'M', 'S', 'AMAZONFEE', 'm', 'DCGSSBOY', 'DCGSSGIRL', 'PADS', 'B', 'CRUK'])]\n",
    "df2 = df2[~df2['stock_code'].isin(['POST', 'D', 'M', 'PADS', 'DOT', 'CRUK'])]\n",
    "\n",
    "# Description\n",
    "df2 = df2.drop(columns = 'description', axis = 1)"
   ]
  },
  {
   "cell_type": "markdown",
   "metadata": {},
   "source": [
    "### 2.3 Num Attributes"
   ]
  },
  {
   "cell_type": "code",
   "execution_count": 28,
   "metadata": {},
   "outputs": [],
   "source": [
    "# Unit Price > 0.04 \n",
    "df2 = df2.loc[df2['unit_price'] >= 0.04, :]\n",
    "\n",
    "# Quantity\n",
    "df_returns = df2.loc[df2['quantity']<0, :]\n",
    "df_purchases = df2.loc[df2['quantity']>0, :]"
   ]
  },
  {
   "cell_type": "markdown",
   "metadata": {},
   "source": [
    "# 3. Feature Engineering"
   ]
  },
  {
   "cell_type": "markdown",
   "metadata": {},
   "source": [
    "### 3.0 Dataset"
   ]
  },
  {
   "cell_type": "code",
   "execution_count": 29,
   "metadata": {},
   "outputs": [],
   "source": [
    "df3 = df2.copy()\n",
    "\n",
    "# Data Reference\n",
    "df_ref = df3.drop (['invoice_no', 'stock_code',\n",
    "                    'quantity', 'invoice_date', 'unit_price',\n",
    "                    'country'], axis=1).drop_duplicates(ignore_index=True)"
   ]
  },
  {
   "cell_type": "markdown",
   "metadata": {},
   "source": [
    "### 3.1 Gross Revenue"
   ]
  },
  {
   "cell_type": "code",
   "execution_count": 30,
   "metadata": {},
   "outputs": [
    {
     "data": {
      "text/plain": [
       "customer_id       0\n",
       "gross_revenue    27\n",
       "dtype: int64"
      ]
     },
     "execution_count": 30,
     "metadata": {},
     "output_type": "execute_result"
    }
   ],
   "source": [
    "# Monetary (Gross Revenue)\n",
    "df_purchases['gross_revenue'] = df_purchases['quantity'] * df_purchases['unit_price']\n",
    "df_monetary = df_purchases[['customer_id', 'gross_revenue']].groupby('customer_id').sum().reset_index()\n",
    "df_ref = pd.merge (df_ref, df_monetary, on = 'customer_id', how = 'left')\n",
    "\n",
    "df_ref.isna().sum()"
   ]
  },
  {
   "cell_type": "markdown",
   "metadata": {},
   "source": [
    "### 3.2 Recency - Day from last purchase"
   ]
  },
  {
   "cell_type": "code",
   "execution_count": 31,
   "metadata": {},
   "outputs": [
    {
     "data": {
      "text/plain": [
       "customer_id       0\n",
       "gross_revenue    27\n",
       "recency_days     27\n",
       "dtype: int64"
      ]
     },
     "execution_count": 31,
     "metadata": {},
     "output_type": "execute_result"
    }
   ],
   "source": [
    "# Recency\n",
    "df_recency = df_purchases[['customer_id', 'invoice_date']].groupby('customer_id').max().reset_index()\n",
    "df_recency['recency_days'] = (df_purchases['invoice_date'].max() - df_recency['invoice_date']).dt.days\n",
    "df_recency = df_recency[['customer_id', 'recency_days']].copy()\n",
    "df_ref = pd.merge(df_ref, df_recency, on = 'customer_id', how = 'left')\n",
    "\n",
    "df_ref.isna().sum()"
   ]
  },
  {
   "cell_type": "markdown",
   "metadata": {},
   "source": [
    "### 3.3 Quantity of purchases"
   ]
  },
  {
   "cell_type": "code",
   "execution_count": 32,
   "metadata": {},
   "outputs": [],
   "source": [
    "df_count = (df_purchases[['customer_id', 'invoice_no']].drop_duplicates()\n",
    "                                                       .groupby('customer_id')\n",
    "                                                       .count()\n",
    "                                                       .reset_index()\n",
    "                                                       .rename(columns={'invoice_no':'purchases_no'}))\n",
    "\n",
    "df_ref = pd.merge(df_ref, df_count, on = 'customer_id', how = 'left')"
   ]
  },
  {
   "cell_type": "markdown",
   "metadata": {},
   "source": [
    "### 3.4 Quantity of diferent products purchased"
   ]
  },
  {
   "cell_type": "code",
   "execution_count": 33,
   "metadata": {},
   "outputs": [
    {
     "data": {
      "text/plain": [
       "customer_id       0\n",
       "gross_revenue    27\n",
       "recency_days     27\n",
       "purchases_no     27\n",
       "products_no      27\n",
       "dtype: int64"
      ]
     },
     "execution_count": 33,
     "metadata": {},
     "output_type": "execute_result"
    }
   ],
   "source": [
    "df_prod = (df_purchases[['customer_id', 'stock_code']].groupby('customer_id')\n",
    "                                                      .count()\n",
    "                                                      .reset_index()\n",
    "                                                      .rename(columns={'stock_code':'products_no'}))\n",
    "\n",
    "df_ref = pd.merge(df_ref, df_prod, on = 'customer_id', how = 'left')\n",
    "df_ref.isna().sum()"
   ]
  },
  {
   "cell_type": "markdown",
   "metadata": {},
   "source": [
    "### 3.5 Quantity of items purchased\n"
   ]
  },
  {
   "cell_type": "code",
   "execution_count": 34,
   "metadata": {},
   "outputs": [
    {
     "data": {
      "text/plain": [
       "customer_id       0\n",
       "gross_revenue    27\n",
       "recency_days     27\n",
       "purchases_no     27\n",
       "products_no      27\n",
       "items_no         27\n",
       "dtype: int64"
      ]
     },
     "execution_count": 34,
     "metadata": {},
     "output_type": "execute_result"
    }
   ],
   "source": [
    "df_prod = (df_purchases[['customer_id', 'quantity']].groupby('customer_id')\n",
    "                                                    .sum()\n",
    "                                                    .reset_index()\n",
    "                                                    .rename(columns={'quantity':'items_no'}))\n",
    "\n",
    "df_ref = pd.merge(df_ref, df_prod, on = 'customer_id', how = 'left')\n",
    "df_ref.isna().sum()\n"
   ]
  },
  {
   "cell_type": "markdown",
   "metadata": {},
   "source": [
    "### 3.6 Frequency Purchase"
   ]
  },
  {
   "cell_type": "code",
   "execution_count": 35,
   "metadata": {},
   "outputs": [
    {
     "data": {
      "text/plain": [
       "customer_id       0\n",
       "gross_revenue    27\n",
       "recency_days     27\n",
       "purchases_no     27\n",
       "products_no      27\n",
       "items_no         27\n",
       "frequency        27\n",
       "dtype: int64"
      ]
     },
     "execution_count": 35,
     "metadata": {},
     "output_type": "execute_result"
    }
   ],
   "source": [
    "df_aux = (df_purchases[['customer_id', 'invoice_no', 'invoice_date']].drop_duplicates()\n",
    "                                                                     .groupby('customer_id')\n",
    "                                                                     .agg(max_    = ('invoice_date', 'max'),\n",
    "                                                                          min_    = ('invoice_date', 'min'),\n",
    "                                                                          days_   = ('invoice_date', lambda x: ((x.max() - x.min()).days) + 1),\n",
    "                                                                          buy_    = ('invoice_no', 'count') ) ).reset_index()\n",
    "\n",
    "df_aux['frequency'] = df_aux[['buy_', 'days_']].apply(lambda x: x['buy_'] / x['days_'] if x['days_'] != 0 else 0, axis = 1)\n",
    "\n",
    "# Merge\n",
    "df_ref = pd.merge(df_ref, df_aux[['customer_id', 'frequency']], on = 'customer_id', how = 'left')\n",
    "df_ref.isna().sum()"
   ]
  },
  {
   "cell_type": "markdown",
   "metadata": {},
   "source": [
    "### 3.7 Returns"
   ]
  },
  {
   "cell_type": "code",
   "execution_count": 36,
   "metadata": {},
   "outputs": [
    {
     "data": {
      "text/html": [
       "<div>\n",
       "<style scoped>\n",
       "    .dataframe tbody tr th:only-of-type {\n",
       "        vertical-align: middle;\n",
       "    }\n",
       "\n",
       "    .dataframe tbody tr th {\n",
       "        vertical-align: top;\n",
       "    }\n",
       "\n",
       "    .dataframe thead th {\n",
       "        text-align: right;\n",
       "    }\n",
       "</style>\n",
       "<table border=\"1\" class=\"dataframe\">\n",
       "  <thead>\n",
       "    <tr style=\"text-align: right;\">\n",
       "      <th></th>\n",
       "      <th>invoice_no</th>\n",
       "      <th>stock_code</th>\n",
       "      <th>quantity</th>\n",
       "      <th>invoice_date</th>\n",
       "      <th>unit_price</th>\n",
       "      <th>customer_id</th>\n",
       "      <th>country</th>\n",
       "    </tr>\n",
       "  </thead>\n",
       "  <tbody>\n",
       "    <tr>\n",
       "      <th>154</th>\n",
       "      <td>C536383</td>\n",
       "      <td>35004C</td>\n",
       "      <td>-1</td>\n",
       "      <td>2010-12-01</td>\n",
       "      <td>4.65</td>\n",
       "      <td>15311</td>\n",
       "      <td>United Kingdom</td>\n",
       "    </tr>\n",
       "    <tr>\n",
       "      <th>939</th>\n",
       "      <td>C536506</td>\n",
       "      <td>22960</td>\n",
       "      <td>-6</td>\n",
       "      <td>2010-12-01</td>\n",
       "      <td>4.25</td>\n",
       "      <td>17897</td>\n",
       "      <td>United Kingdom</td>\n",
       "    </tr>\n",
       "    <tr>\n",
       "      <th>1441</th>\n",
       "      <td>C536543</td>\n",
       "      <td>22632</td>\n",
       "      <td>-1</td>\n",
       "      <td>2010-12-01</td>\n",
       "      <td>2.10</td>\n",
       "      <td>17841</td>\n",
       "      <td>United Kingdom</td>\n",
       "    </tr>\n",
       "    <tr>\n",
       "      <th>1442</th>\n",
       "      <td>C536543</td>\n",
       "      <td>22355</td>\n",
       "      <td>-2</td>\n",
       "      <td>2010-12-01</td>\n",
       "      <td>0.85</td>\n",
       "      <td>17841</td>\n",
       "      <td>United Kingdom</td>\n",
       "    </tr>\n",
       "    <tr>\n",
       "      <th>1973</th>\n",
       "      <td>C536548</td>\n",
       "      <td>22244</td>\n",
       "      <td>-4</td>\n",
       "      <td>2010-12-01</td>\n",
       "      <td>1.95</td>\n",
       "      <td>12472</td>\n",
       "      <td>Germany</td>\n",
       "    </tr>\n",
       "  </tbody>\n",
       "</table>\n",
       "</div>"
      ],
      "text/plain": [
       "     invoice_no stock_code  quantity invoice_date  unit_price  customer_id  \\\n",
       "154     C536383     35004C        -1   2010-12-01        4.65        15311   \n",
       "939     C536506      22960        -6   2010-12-01        4.25        17897   \n",
       "1441    C536543      22632        -1   2010-12-01        2.10        17841   \n",
       "1442    C536543      22355        -2   2010-12-01        0.85        17841   \n",
       "1973    C536548      22244        -4   2010-12-01        1.95        12472   \n",
       "\n",
       "             country  \n",
       "154   United Kingdom  \n",
       "939   United Kingdom  \n",
       "1441  United Kingdom  \n",
       "1442  United Kingdom  \n",
       "1973         Germany  "
      ]
     },
     "execution_count": 36,
     "metadata": {},
     "output_type": "execute_result"
    }
   ],
   "source": [
    "df_returns.head()"
   ]
  },
  {
   "cell_type": "code",
   "execution_count": 37,
   "metadata": {},
   "outputs": [
    {
     "data": {
      "text/plain": [
       "customer_id       0\n",
       "gross_revenue    27\n",
       "recency_days     27\n",
       "purchases_no     27\n",
       "products_no      27\n",
       "items_no         27\n",
       "frequency        27\n",
       "returns_no        0\n",
       "dtype: int64"
      ]
     },
     "execution_count": 37,
     "metadata": {},
     "output_type": "execute_result"
    }
   ],
   "source": [
    "# Return Number\n",
    "df_returns = df_returns[['customer_id', 'quantity']].groupby('customer_id').sum().reset_index().rename(columns={'quantity' : 'returns_no'})\n",
    "df_returns['returns_no'] = df_returns['returns_no'] * -1\n",
    "\n",
    "df_ref = pd.merge(df_ref, df_returns, how = 'left', on='customer_id')\n",
    "df_ref.loc[df_ref['returns_no'].isna(), 'returns_no'] = 0\n",
    "\n",
    "df_ref.isna().sum()"
   ]
  },
  {
   "cell_type": "markdown",
   "metadata": {},
   "source": [
    "### 3.8 Satisfaction Rate"
   ]
  },
  {
   "cell_type": "code",
   "execution_count": 38,
   "metadata": {},
   "outputs": [],
   "source": [
    "df_ref['satisfaction_rate'] = 1 - df_ref['returns_no'] / df_ref['items_no']"
   ]
  },
  {
   "cell_type": "code",
   "execution_count": 39,
   "metadata": {},
   "outputs": [
    {
     "data": {
      "text/plain": [
       "customer_id           0\n",
       "gross_revenue        27\n",
       "recency_days         27\n",
       "purchases_no         27\n",
       "products_no          27\n",
       "items_no             27\n",
       "frequency            27\n",
       "returns_no            0\n",
       "satisfaction_rate    27\n",
       "dtype: int64"
      ]
     },
     "execution_count": 39,
     "metadata": {},
     "output_type": "execute_result"
    }
   ],
   "source": [
    "df_ref.isna().sum()"
   ]
  },
  {
   "cell_type": "markdown",
   "metadata": {},
   "source": [
    "### 3.9 Recurrence"
   ]
  },
  {
   "cell_type": "code",
   "execution_count": 40,
   "metadata": {},
   "outputs": [
    {
     "data": {
      "text/plain": [
       "customer_id           0\n",
       "gross_revenue        27\n",
       "recency_days         27\n",
       "purchases_no         27\n",
       "products_no          27\n",
       "items_no             27\n",
       "frequency            27\n",
       "returns_no            0\n",
       "satisfaction_rate    27\n",
       "recorrence           27\n",
       "dtype: int64"
      ]
     },
     "execution_count": 40,
     "metadata": {},
     "output_type": "execute_result"
    }
   ],
   "source": [
    "df_purchases['invoice_month'] = df_purchases['invoice_date'].dt.month\n",
    "df_aux = df_purchases[['customer_id', 'invoice_month']].drop_duplicates().groupby(['customer_id']).count().reset_index()\n",
    "df_aux = df_aux.rename(columns={'invoice_month':'recorrence'})\n",
    "\n",
    "# Merge\n",
    "df_ref = pd.merge(df_ref, df_aux[['customer_id', 'recorrence']], on = 'customer_id', how = 'left')\n",
    "df_ref.isna().sum()\n",
    "\n",
    "                                                                  "
   ]
  },
  {
   "cell_type": "markdown",
   "metadata": {},
   "source": [
    "# 4. Exploratory Data Analysis"
   ]
  },
  {
   "cell_type": "markdown",
   "metadata": {},
   "source": [
    "### 4.1 Profile Report"
   ]
  },
  {
   "cell_type": "code",
   "execution_count": 41,
   "metadata": {},
   "outputs": [
    {
     "data": {
      "text/plain": [
       "customer_id          0\n",
       "gross_revenue        0\n",
       "recency_days         0\n",
       "purchases_no         0\n",
       "products_no          0\n",
       "items_no             0\n",
       "frequency            0\n",
       "returns_no           0\n",
       "satisfaction_rate    0\n",
       "recorrence           0\n",
       "dtype: int64"
      ]
     },
     "execution_count": 41,
     "metadata": {},
     "output_type": "execute_result"
    }
   ],
   "source": [
    "df4 = df_ref.dropna().copy()\n",
    "df4.isna().sum()"
   ]
  },
  {
   "cell_type": "code",
   "execution_count": 42,
   "metadata": {},
   "outputs": [
    {
     "name": "stdout",
     "output_type": "stream",
     "text": [
      "(4346, 10)\n",
      "(4319, 10)\n"
     ]
    }
   ],
   "source": [
    "print(df_ref.shape)\n",
    "print(df4.shape)"
   ]
  },
  {
   "cell_type": "code",
   "execution_count": 129,
   "metadata": {},
   "outputs": [
    {
     "name": "stderr",
     "output_type": "stream",
     "text": [
      "Summarize dataset: 100%|██████████| 145/145 [00:32<00:00,  4.51it/s, Completed]                                   \n",
      "Generate report structure: 100%|██████████| 1/1 [00:08<00:00,  8.38s/it]\n",
      "Render HTML: 100%|██████████| 1/1 [00:06<00:00,  6.35s/it]\n",
      "Export report to file: 100%|██████████| 1/1 [00:00<00:00, 62.60it/s]\n"
     ]
    }
   ],
   "source": [
    "profile = ProfileReport(df4)\n",
    "profile.to_file('../data/eda3_output.html')"
   ]
  },
  {
   "cell_type": "markdown",
   "metadata": {},
   "source": [
    "### 4.2 Space Study "
   ]
  },
  {
   "cell_type": "markdown",
   "metadata": {},
   "source": [
    "#### 4.2.0 Data Preparation"
   ]
  },
  {
   "cell_type": "code",
   "execution_count": 44,
   "metadata": {},
   "outputs": [
    {
     "data": {
      "text/html": [
       "<div>\n",
       "<style scoped>\n",
       "    .dataframe tbody tr th:only-of-type {\n",
       "        vertical-align: middle;\n",
       "    }\n",
       "\n",
       "    .dataframe tbody tr th {\n",
       "        vertical-align: top;\n",
       "    }\n",
       "\n",
       "    .dataframe thead th {\n",
       "        text-align: right;\n",
       "    }\n",
       "</style>\n",
       "<table border=\"1\" class=\"dataframe\">\n",
       "  <thead>\n",
       "    <tr style=\"text-align: right;\">\n",
       "      <th></th>\n",
       "      <th>customer_id</th>\n",
       "      <th>gross_revenue</th>\n",
       "      <th>recency_days</th>\n",
       "      <th>purchases_no</th>\n",
       "      <th>products_no</th>\n",
       "      <th>items_no</th>\n",
       "      <th>frequency</th>\n",
       "      <th>returns_no</th>\n",
       "      <th>satisfaction_rate</th>\n",
       "      <th>recorrence</th>\n",
       "    </tr>\n",
       "  </thead>\n",
       "  <tbody>\n",
       "    <tr>\n",
       "      <th>0</th>\n",
       "      <td>17850</td>\n",
       "      <td>5391.21</td>\n",
       "      <td>372.0</td>\n",
       "      <td>34.0</td>\n",
       "      <td>297.0</td>\n",
       "      <td>1733.0</td>\n",
       "      <td>17.000000</td>\n",
       "      <td>40.0</td>\n",
       "      <td>0.976919</td>\n",
       "      <td>1.0</td>\n",
       "    </tr>\n",
       "    <tr>\n",
       "      <th>1</th>\n",
       "      <td>13047</td>\n",
       "      <td>3232.59</td>\n",
       "      <td>56.0</td>\n",
       "      <td>9.0</td>\n",
       "      <td>171.0</td>\n",
       "      <td>1390.0</td>\n",
       "      <td>0.028302</td>\n",
       "      <td>35.0</td>\n",
       "      <td>0.974820</td>\n",
       "      <td>7.0</td>\n",
       "    </tr>\n",
       "    <tr>\n",
       "      <th>2</th>\n",
       "      <td>12583</td>\n",
       "      <td>6705.38</td>\n",
       "      <td>2.0</td>\n",
       "      <td>15.0</td>\n",
       "      <td>232.0</td>\n",
       "      <td>5028.0</td>\n",
       "      <td>0.040323</td>\n",
       "      <td>50.0</td>\n",
       "      <td>0.990056</td>\n",
       "      <td>11.0</td>\n",
       "    </tr>\n",
       "    <tr>\n",
       "      <th>3</th>\n",
       "      <td>13748</td>\n",
       "      <td>948.25</td>\n",
       "      <td>95.0</td>\n",
       "      <td>5.0</td>\n",
       "      <td>28.0</td>\n",
       "      <td>439.0</td>\n",
       "      <td>0.017921</td>\n",
       "      <td>0.0</td>\n",
       "      <td>1.000000</td>\n",
       "      <td>3.0</td>\n",
       "    </tr>\n",
       "    <tr>\n",
       "      <th>4</th>\n",
       "      <td>15100</td>\n",
       "      <td>876.00</td>\n",
       "      <td>333.0</td>\n",
       "      <td>3.0</td>\n",
       "      <td>3.0</td>\n",
       "      <td>80.0</td>\n",
       "      <td>0.073171</td>\n",
       "      <td>22.0</td>\n",
       "      <td>0.725000</td>\n",
       "      <td>2.0</td>\n",
       "    </tr>\n",
       "  </tbody>\n",
       "</table>\n",
       "</div>"
      ],
      "text/plain": [
       "   customer_id  gross_revenue  recency_days  purchases_no  products_no  \\\n",
       "0        17850        5391.21         372.0          34.0        297.0   \n",
       "1        13047        3232.59          56.0           9.0        171.0   \n",
       "2        12583        6705.38           2.0          15.0        232.0   \n",
       "3        13748         948.25          95.0           5.0         28.0   \n",
       "4        15100         876.00         333.0           3.0          3.0   \n",
       "\n",
       "   items_no  frequency  returns_no  satisfaction_rate  recorrence  \n",
       "0    1733.0  17.000000        40.0           0.976919         1.0  \n",
       "1    1390.0   0.028302        35.0           0.974820         7.0  \n",
       "2    5028.0   0.040323        50.0           0.990056        11.0  \n",
       "3     439.0   0.017921         0.0           1.000000         3.0  \n",
       "4      80.0   0.073171        22.0           0.725000         2.0  "
      ]
     },
     "execution_count": 44,
     "metadata": {},
     "output_type": "execute_result"
    }
   ],
   "source": [
    "df4.head()"
   ]
  },
  {
   "cell_type": "code",
   "execution_count": 45,
   "metadata": {},
   "outputs": [],
   "source": [
    "# Features Selection\n",
    "df43 = df4.drop(columns = ['customer_id', 'recency_days', 'purchases_no', 'returns_no', 'satisfaction_rate'], axis=1).copy()"
   ]
  },
  {
   "cell_type": "code",
   "execution_count": 46,
   "metadata": {},
   "outputs": [],
   "source": [
    "mm = pp.MinMaxScaler()\n",
    "\n",
    "df43['gross_revenue']              = mm.fit_transform(df43[['gross_revenue']])\n",
    "df43['products_no']                = mm.fit_transform(df43[['products_no']])\n",
    "df43['items_no']                   = mm.fit_transform(df43[['items_no']])\n",
    "df43['frequency']                  = mm.fit_transform(df43[['frequency']])\n",
    "df43['recorrence']                 = mm.fit_transform(df43[['recorrence']])\n"
   ]
  },
  {
   "cell_type": "code",
   "execution_count": 47,
   "metadata": {},
   "outputs": [
    {
     "data": {
      "text/html": [
       "<div>\n",
       "<style scoped>\n",
       "    .dataframe tbody tr th:only-of-type {\n",
       "        vertical-align: middle;\n",
       "    }\n",
       "\n",
       "    .dataframe tbody tr th {\n",
       "        vertical-align: top;\n",
       "    }\n",
       "\n",
       "    .dataframe thead th {\n",
       "        text-align: right;\n",
       "    }\n",
       "</style>\n",
       "<table border=\"1\" class=\"dataframe\">\n",
       "  <thead>\n",
       "    <tr style=\"text-align: right;\">\n",
       "      <th></th>\n",
       "      <th>gross_revenue</th>\n",
       "      <th>products_no</th>\n",
       "      <th>items_no</th>\n",
       "      <th>frequency</th>\n",
       "      <th>recorrence</th>\n",
       "    </tr>\n",
       "  </thead>\n",
       "  <tbody>\n",
       "    <tr>\n",
       "      <th>0</th>\n",
       "      <td>0.019301</td>\n",
       "      <td>0.037770</td>\n",
       "      <td>0.008799</td>\n",
       "      <td>1.000000</td>\n",
       "      <td>0.000000</td>\n",
       "    </tr>\n",
       "    <tr>\n",
       "      <th>1</th>\n",
       "      <td>0.011567</td>\n",
       "      <td>0.021692</td>\n",
       "      <td>0.007056</td>\n",
       "      <td>0.001345</td>\n",
       "      <td>0.545455</td>\n",
       "    </tr>\n",
       "    <tr>\n",
       "      <th>2</th>\n",
       "      <td>0.024009</td>\n",
       "      <td>0.029476</td>\n",
       "      <td>0.025538</td>\n",
       "      <td>0.002052</td>\n",
       "      <td>0.909091</td>\n",
       "    </tr>\n",
       "    <tr>\n",
       "      <th>3</th>\n",
       "      <td>0.003384</td>\n",
       "      <td>0.003445</td>\n",
       "      <td>0.002225</td>\n",
       "      <td>0.000734</td>\n",
       "      <td>0.181818</td>\n",
       "    </tr>\n",
       "    <tr>\n",
       "      <th>4</th>\n",
       "      <td>0.003125</td>\n",
       "      <td>0.000255</td>\n",
       "      <td>0.000401</td>\n",
       "      <td>0.003985</td>\n",
       "      <td>0.090909</td>\n",
       "    </tr>\n",
       "  </tbody>\n",
       "</table>\n",
       "</div>"
      ],
      "text/plain": [
       "   gross_revenue  products_no  items_no  frequency  recorrence\n",
       "0       0.019301     0.037770  0.008799   1.000000    0.000000\n",
       "1       0.011567     0.021692  0.007056   0.001345    0.545455\n",
       "2       0.024009     0.029476  0.025538   0.002052    0.909091\n",
       "3       0.003384     0.003445  0.002225   0.000734    0.181818\n",
       "4       0.003125     0.000255  0.000401   0.003985    0.090909"
      ]
     },
     "execution_count": 47,
     "metadata": {},
     "output_type": "execute_result"
    }
   ],
   "source": [
    "X = df43.copy()\n",
    "X.head()"
   ]
  },
  {
   "cell_type": "markdown",
   "metadata": {},
   "source": [
    "#### 4.2.1 PCA"
   ]
  },
  {
   "cell_type": "code",
   "execution_count": 48,
   "metadata": {},
   "outputs": [
    {
     "data": {
      "image/png": "[encoded data removed]",
      "text/plain": [
       "<Figure size 432x288 with 1 Axes>"
      ]
     },
     "metadata": {
      "needs_background": "light"
     },
     "output_type": "display_data"
    }
   ],
   "source": [
    "pca = dd.PCA(n_components = X.shape[1])\n",
    "principal_components = pca.fit_transform(X)\n",
    "\n",
    "# plot explained variable\n",
    "features = range(pca.n_components_)\n",
    "plt.bar(features, pca.explained_variance_ratio_, color = 'black')\n",
    "\n",
    "# pca component\n",
    "df_pca = pd.DataFrame(principal_components)"
   ]
  },
  {
   "cell_type": "code",
   "execution_count": 125,
   "metadata": {},
   "outputs": [
    {
     "data": {
      "text/plain": [
       "<AxesSubplot:xlabel='0', ylabel='1'>"
      ]
     },
     "execution_count": 125,
     "metadata": {},
     "output_type": "execute_result"
    },
    {
     "data": {
      "image/png": "[encoded data removed]",
      "text/plain": [
       "<Figure size 720x432 with 1 Axes>"
      ]
     },
     "metadata": {},
     "output_type": "display_data"
    }
   ],
   "source": [
    "sns.set(rc={'figure.figsize':(10,6)})\n",
    "sns.scatterplot(x=0, y=1, data = df_pca)"
   ]
  },
  {
   "cell_type": "markdown",
   "metadata": {},
   "source": [
    "#### 4.2.2 UMAP"
   ]
  },
  {
   "cell_type": "code",
   "execution_count": 124,
   "metadata": {},
   "outputs": [
    {
     "data": {
      "text/plain": [
       "<AxesSubplot:xlabel='embedding_x', ylabel='embedding_y'>"
      ]
     },
     "execution_count": 124,
     "metadata": {},
     "output_type": "execute_result"
    },
    {
     "data": {
      "image/png": "[encoded data removed]",
      "text/plain": [
       "<Figure size 720x432 with 1 Axes>"
      ]
     },
     "metadata": {},
     "output_type": "display_data"
    }
   ],
   "source": [
    "reducer = umap.UMAP(random_state=42)\n",
    "embedding = reducer.fit_transform (X)\n",
    "\n",
    "# embedding\n",
    "df_umap = pd.DataFrame()\n",
    "df_umap['embedding_x'] = embedding[:, 0]\n",
    "df_umap['embedding_y'] = embedding[:, 1]\n",
    "\n",
    "# plto UMAP\n",
    "sns.set(rc={'figure.figsize':(10,6)})\n",
    "sns.scatterplot( x='embedding_x',\n",
    "                 y='embedding_y',\n",
    "                 data = df_umap)"
   ]
  },
  {
   "cell_type": "markdown",
   "metadata": {},
   "source": [
    "#### 4.2.3 t-SNE"
   ]
  },
  {
   "cell_type": "code",
   "execution_count": 123,
   "metadata": {},
   "outputs": [
    {
     "data": {
      "text/plain": [
       "<AxesSubplot:xlabel='embedding_x', ylabel='embedding_y'>"
      ]
     },
     "execution_count": 123,
     "metadata": {},
     "output_type": "execute_result"
    },
    {
     "data": {
      "image/png": "[encoded data removed]",
      "text/plain": [
       "<Figure size 720x432 with 1 Axes>"
      ]
     },
     "metadata": {},
     "output_type": "display_data"
    }
   ],
   "source": [
    "reducer = mn.TSNE(n_components = 2,\n",
    "                  n_jobs = -1,\n",
    "                  random_state=42)\n",
    "\n",
    "embedding = reducer.fit_transform (X)\n",
    "\n",
    "# embedding\n",
    "df_tsne = pd.DataFrame()\n",
    "df_tsne['embedding_x'] = embedding[:, 0]\n",
    "df_tsne['embedding_y'] = embedding[:, 1]\n",
    "\n",
    "# plto UMAP\n",
    "sns.set(rc={'figure.figsize':(10,6)})\n",
    "sns.scatterplot( x='embedding_x',\n",
    "                 y='embedding_y',\n",
    "                 data = df_tsne)"
   ]
  },
  {
   "cell_type": "markdown",
   "metadata": {},
   "source": [
    "#### 4.2.4 Tree-Based Embedding"
   ]
  },
  {
   "cell_type": "code",
   "execution_count": 126,
   "metadata": {},
   "outputs": [],
   "source": [
    "# Training Dataset\n",
    "X = df43.drop(columns=['gross_revenue'], axis=1)\n",
    "y = df43['gross_revenue']\n",
    "\n",
    "# Model Definition\n",
    "rf_model = en.RandomForestRegressor(n_estimators=500, random_state=42)\n",
    "\n",
    "# Model Training\n",
    "rf_model.fit(X, y)                                                    \n",
    "\n",
    "# Leaf\n",
    "df_leaf = pd.DataFrame(rf_model.apply(X))                              "
   ]
  },
  {
   "cell_type": "code",
   "execution_count": 128,
   "metadata": {},
   "outputs": [
    {
     "data": {
      "text/plain": [
       "<AxesSubplot:xlabel='embedding_x', ylabel='embedding_y'>"
      ]
     },
     "execution_count": 128,
     "metadata": {},
     "output_type": "execute_result"
    },
    {
     "data": {
      "image/png": "[encoded data removed]",
      "text/plain": [
       "<Figure size 720x432 with 1 Axes>"
      ]
     },
     "metadata": {},
     "output_type": "display_data"
    }
   ],
   "source": [
    "# Reducer Dimensionality\n",
    "reducer = umap.UMAP(random_state=42)\n",
    "embedding = reducer.fit_transform (df_leaf)\n",
    "\n",
    "# embedding\n",
    "df_tree = pd.DataFrame()\n",
    "df_tree['embedding_x'] = embedding[:, 0]\n",
    "df_tree['embedding_y'] = embedding[:, 1]\n",
    "\n",
    "# plto UMAP\n",
    "sns.set(rc={'figure.figsize':(10,6)})\n",
    "sns.scatterplot( x='embedding_x',\n",
    "                 y='embedding_y',\n",
    "                 data = df_tree)"
   ]
  },
  {
   "cell_type": "markdown",
   "metadata": {},
   "source": [
    "# 5. Hyperparameter Fine-Tunning"
   ]
  },
  {
   "cell_type": "markdown",
   "metadata": {},
   "source": [
    "### 5.0 Feature Space"
   ]
  },
  {
   "cell_type": "code",
   "execution_count": 107,
   "metadata": {},
   "outputs": [
    {
     "data": {
      "text/html": [
       "<div>\n",
       "<style scoped>\n",
       "    .dataframe tbody tr th:only-of-type {\n",
       "        vertical-align: middle;\n",
       "    }\n",
       "\n",
       "    .dataframe tbody tr th {\n",
       "        vertical-align: top;\n",
       "    }\n",
       "\n",
       "    .dataframe thead th {\n",
       "        text-align: right;\n",
       "    }\n",
       "</style>\n",
       "<table border=\"1\" class=\"dataframe\">\n",
       "  <thead>\n",
       "    <tr style=\"text-align: right;\">\n",
       "      <th></th>\n",
       "      <th>gross_revenue</th>\n",
       "      <th>products_no</th>\n",
       "      <th>items_no</th>\n",
       "      <th>frequency</th>\n",
       "      <th>recorrence</th>\n",
       "    </tr>\n",
       "  </thead>\n",
       "  <tbody>\n",
       "    <tr>\n",
       "      <th>0</th>\n",
       "      <td>0.019301</td>\n",
       "      <td>0.037770</td>\n",
       "      <td>0.008799</td>\n",
       "      <td>1.000000</td>\n",
       "      <td>0.000000</td>\n",
       "    </tr>\n",
       "    <tr>\n",
       "      <th>1</th>\n",
       "      <td>0.011567</td>\n",
       "      <td>0.021692</td>\n",
       "      <td>0.007056</td>\n",
       "      <td>0.001345</td>\n",
       "      <td>0.545455</td>\n",
       "    </tr>\n",
       "    <tr>\n",
       "      <th>2</th>\n",
       "      <td>0.024009</td>\n",
       "      <td>0.029476</td>\n",
       "      <td>0.025538</td>\n",
       "      <td>0.002052</td>\n",
       "      <td>0.909091</td>\n",
       "    </tr>\n",
       "    <tr>\n",
       "      <th>3</th>\n",
       "      <td>0.003384</td>\n",
       "      <td>0.003445</td>\n",
       "      <td>0.002225</td>\n",
       "      <td>0.000734</td>\n",
       "      <td>0.181818</td>\n",
       "    </tr>\n",
       "    <tr>\n",
       "      <th>4</th>\n",
       "      <td>0.003125</td>\n",
       "      <td>0.000255</td>\n",
       "      <td>0.000401</td>\n",
       "      <td>0.003985</td>\n",
       "      <td>0.090909</td>\n",
       "    </tr>\n",
       "  </tbody>\n",
       "</table>\n",
       "</div>"
      ],
      "text/plain": [
       "   gross_revenue  products_no  items_no  frequency  recorrence\n",
       "0       0.019301     0.037770  0.008799   1.000000    0.000000\n",
       "1       0.011567     0.021692  0.007056   0.001345    0.545455\n",
       "2       0.024009     0.029476  0.025538   0.002052    0.909091\n",
       "3       0.003384     0.003445  0.002225   0.000734    0.181818\n",
       "4       0.003125     0.000255  0.000401   0.003985    0.090909"
      ]
     },
     "execution_count": 107,
     "metadata": {},
     "output_type": "execute_result"
    }
   ],
   "source": [
    "df43.head()"
   ]
  },
  {
   "cell_type": "code",
   "execution_count": 57,
   "metadata": {},
   "outputs": [],
   "source": [
    "clusters = np.arange(2, 11, 1)\n",
    "X = df43.copy()"
   ]
  },
  {
   "cell_type": "code",
   "execution_count": 58,
   "metadata": {},
   "outputs": [],
   "source": [
    "# KMeans\n",
    "kmeans_list = []\n",
    "for k in clusters:\n",
    "    # model definition\n",
    "    kmeans_model = c.KMeans(init='random',\n",
    "                            n_clusters=k,\n",
    "                            n_init=300,\n",
    "                            max_iter=300,\n",
    "                            random_state=42)\n",
    "\n",
    "    # model training\n",
    "    kmeans_model.fit(X)\n",
    "\n",
    "    # clustering\n",
    "    labels = kmeans_model.predict(X) \n",
    "\n",
    "    # model performance (SS)\n",
    "    sil = m.silhouette_score(X, labels, metric='euclidean')\n",
    "    kmeans_list.append(sil)\n",
    "\n",
    "# GMM\n",
    "gmm_list = []\n",
    "for k in clusters:\n",
    "    # model definition\n",
    "    gmm_model = mx.GaussianMixture(n_components=k, n_init=300)\n",
    "\n",
    "    # model training\n",
    "    gmm_model.fit(X)\n",
    "\n",
    "    # model predict\n",
    "    labels = gmm_model.predict(X)\n",
    "\n",
    "    # model performance\n",
    "    sil = m.silhouette_score(X, labels, metric='euclidean')\n",
    "    gmm_list.append(sil)\n",
    "\n",
    "# HC\n",
    "hc_list = []\n",
    "for k in clusters:\n",
    "    # model definition and training\n",
    "    hc_model = hc.linkage(X, 'ward')\n",
    "\n",
    "    # model predict\n",
    "    labels = hc.fcluster(hc_model, k, criterion='maxclust')\n",
    "\n",
    "    # model performance\n",
    "    sil = m.silhouette_score(X, labels, metric='euclidean')\n",
    "    hc_list.append(sil)"
   ]
  },
  {
   "cell_type": "code",
   "execution_count": 59,
   "metadata": {},
   "outputs": [
    {
     "data": {
      "text/html": [
       "<style type=\"text/css\">\n",
       "#T_44df5_row0_col8, #T_44df5_row1_col8, #T_44df5_row2_col8 {\n",
       "  background-color: blue;\n",
       "}\n",
       "</style>\n",
       "<table id=\"T_44df5\">\n",
       "  <thead>\n",
       "    <tr>\n",
       "      <th class=\"blank level0\" >&nbsp;</th>\n",
       "      <th id=\"T_44df5_level0_col0\" class=\"col_heading level0 col0\" >2</th>\n",
       "      <th id=\"T_44df5_level0_col1\" class=\"col_heading level0 col1\" >3</th>\n",
       "      <th id=\"T_44df5_level0_col2\" class=\"col_heading level0 col2\" >4</th>\n",
       "      <th id=\"T_44df5_level0_col3\" class=\"col_heading level0 col3\" >5</th>\n",
       "      <th id=\"T_44df5_level0_col4\" class=\"col_heading level0 col4\" >6</th>\n",
       "      <th id=\"T_44df5_level0_col5\" class=\"col_heading level0 col5\" >7</th>\n",
       "      <th id=\"T_44df5_level0_col6\" class=\"col_heading level0 col6\" >8</th>\n",
       "      <th id=\"T_44df5_level0_col7\" class=\"col_heading level0 col7\" >9</th>\n",
       "      <th id=\"T_44df5_level0_col8\" class=\"col_heading level0 col8\" >10</th>\n",
       "    </tr>\n",
       "  </thead>\n",
       "  <tbody>\n",
       "    <tr>\n",
       "      <th id=\"T_44df5_level0_row0\" class=\"row_heading level0 row0\" >KMeans</th>\n",
       "      <td id=\"T_44df5_row0_col0\" class=\"data row0 col0\" >0.693917</td>\n",
       "      <td id=\"T_44df5_row0_col1\" class=\"data row0 col1\" >0.651845</td>\n",
       "      <td id=\"T_44df5_row0_col2\" class=\"data row0 col2\" >0.702382</td>\n",
       "      <td id=\"T_44df5_row0_col3\" class=\"data row0 col3\" >0.707414</td>\n",
       "      <td id=\"T_44df5_row0_col4\" class=\"data row0 col4\" >0.749401</td>\n",
       "      <td id=\"T_44df5_row0_col5\" class=\"data row0 col5\" >0.752663</td>\n",
       "      <td id=\"T_44df5_row0_col6\" class=\"data row0 col6\" >0.811358</td>\n",
       "      <td id=\"T_44df5_row0_col7\" class=\"data row0 col7\" >0.812652</td>\n",
       "      <td id=\"T_44df5_row0_col8\" class=\"data row0 col8\" >0.827025</td>\n",
       "    </tr>\n",
       "    <tr>\n",
       "      <th id=\"T_44df5_level0_row1\" class=\"row_heading level0 row1\" >GMM</th>\n",
       "      <td id=\"T_44df5_row1_col0\" class=\"data row1 col0\" >0.610487</td>\n",
       "      <td id=\"T_44df5_row1_col1\" class=\"data row1 col1\" >0.388083</td>\n",
       "      <td id=\"T_44df5_row1_col2\" class=\"data row1 col2\" >0.467342</td>\n",
       "      <td id=\"T_44df5_row1_col3\" class=\"data row1 col3\" >0.570845</td>\n",
       "      <td id=\"T_44df5_row1_col4\" class=\"data row1 col4\" >0.542578</td>\n",
       "      <td id=\"T_44df5_row1_col5\" class=\"data row1 col5\" >0.602173</td>\n",
       "      <td id=\"T_44df5_row1_col6\" class=\"data row1 col6\" >0.639913</td>\n",
       "      <td id=\"T_44df5_row1_col7\" class=\"data row1 col7\" >0.686755</td>\n",
       "      <td id=\"T_44df5_row1_col8\" class=\"data row1 col8\" >0.704598</td>\n",
       "    </tr>\n",
       "    <tr>\n",
       "      <th id=\"T_44df5_level0_row2\" class=\"row_heading level0 row2\" >HC</th>\n",
       "      <td id=\"T_44df5_row2_col0\" class=\"data row2 col0\" >0.577335</td>\n",
       "      <td id=\"T_44df5_row2_col1\" class=\"data row2 col1\" >0.625860</td>\n",
       "      <td id=\"T_44df5_row2_col2\" class=\"data row2 col2\" >0.630206</td>\n",
       "      <td id=\"T_44df5_row2_col3\" class=\"data row2 col3\" >0.741590</td>\n",
       "      <td id=\"T_44df5_row2_col4\" class=\"data row2 col4\" >0.742478</td>\n",
       "      <td id=\"T_44df5_row2_col5\" class=\"data row2 col5\" >0.748293</td>\n",
       "      <td id=\"T_44df5_row2_col6\" class=\"data row2 col6\" >0.750710</td>\n",
       "      <td id=\"T_44df5_row2_col7\" class=\"data row2 col7\" >0.810268</td>\n",
       "      <td id=\"T_44df5_row2_col8\" class=\"data row2 col8\" >0.810678</td>\n",
       "    </tr>\n",
       "  </tbody>\n",
       "</table>\n"
      ],
      "text/plain": [
       "<pandas.io.formats.style.Styler at 0x7fbd70394c40>"
      ]
     },
     "execution_count": 59,
     "metadata": {},
     "output_type": "execute_result"
    }
   ],
   "source": [
    "# Original Dataset Result\n",
    "df_results_original = pd.DataFrame(\n",
    "    {'KMeans': kmeans_list,\n",
    "     'GMM': gmm_list,\n",
    "     'HC': hc_list}\n",
    "     ).T\n",
    "\n",
    "df_results_original.columns = clusters\n",
    "df_results_original = df_results_original.style.highlight_max(color = 'blue', axis=1)\n",
    "\n",
    "df_results_original"
   ]
  },
  {
   "cell_type": "markdown",
   "metadata": {},
   "source": [
    "### 5.1 Tree Based Embedding"
   ]
  },
  {
   "cell_type": "code",
   "execution_count": 60,
   "metadata": {},
   "outputs": [],
   "source": [
    "# Tree Based Embedding\n",
    "X = df_tree.copy()"
   ]
  },
  {
   "cell_type": "code",
   "execution_count": 61,
   "metadata": {},
   "outputs": [],
   "source": [
    "# KMeans\n",
    "kmeans_list = []\n",
    "for k in clusters:\n",
    "    # model definition\n",
    "    kmeans_model = c.KMeans(init='random',\n",
    "                            n_clusters=k,\n",
    "                            n_init=300,\n",
    "                            max_iter=300,\n",
    "                            random_state=42)\n",
    "\n",
    "    # model training\n",
    "    kmeans_model.fit(X)\n",
    "\n",
    "    # clustering\n",
    "    labels = kmeans_model.predict(X) \n",
    "\n",
    "    # model performance (SS)\n",
    "    sil = m.silhouette_score(X, labels, metric='euclidean')\n",
    "    kmeans_list.append(sil)\n",
    "\n",
    "# GMM\n",
    "gmm_list = []\n",
    "for k in clusters:\n",
    "    # model definition\n",
    "    gmm_model = mx.GaussianMixture(n_components=k, n_init=300)\n",
    "\n",
    "    # model training\n",
    "    gmm_model.fit(X)\n",
    "\n",
    "    # model predict\n",
    "    labels = gmm_model.predict(X)\n",
    "\n",
    "    # model performance\n",
    "    sil = m.silhouette_score(X, labels, metric='euclidean')\n",
    "    gmm_list.append(sil)\n",
    "\n",
    "# HC\n",
    "hc_list = []\n",
    "for k in clusters:\n",
    "    # model definition and training\n",
    "    hc_model = hc.linkage(X, 'ward')\n",
    "\n",
    "    # model predict\n",
    "    labels = hc.fcluster(hc_model, k, criterion='maxclust')\n",
    "\n",
    "    # model performance\n",
    "    sil = m.silhouette_score(X, labels, metric='euclidean')\n",
    "    hc_list.append(sil)"
   ]
  },
  {
   "cell_type": "code",
   "execution_count": 62,
   "metadata": {},
   "outputs": [
    {
     "data": {
      "text/html": [
       "<style type=\"text/css\">\n",
       "#T_11500_row0_col8, #T_11500_row1_col7, #T_11500_row2_col8 {\n",
       "  background-color: blue;\n",
       "}\n",
       "</style>\n",
       "<table id=\"T_11500\">\n",
       "  <thead>\n",
       "    <tr>\n",
       "      <th class=\"blank level0\" >&nbsp;</th>\n",
       "      <th id=\"T_11500_level0_col0\" class=\"col_heading level0 col0\" >2</th>\n",
       "      <th id=\"T_11500_level0_col1\" class=\"col_heading level0 col1\" >3</th>\n",
       "      <th id=\"T_11500_level0_col2\" class=\"col_heading level0 col2\" >4</th>\n",
       "      <th id=\"T_11500_level0_col3\" class=\"col_heading level0 col3\" >5</th>\n",
       "      <th id=\"T_11500_level0_col4\" class=\"col_heading level0 col4\" >6</th>\n",
       "      <th id=\"T_11500_level0_col5\" class=\"col_heading level0 col5\" >7</th>\n",
       "      <th id=\"T_11500_level0_col6\" class=\"col_heading level0 col6\" >8</th>\n",
       "      <th id=\"T_11500_level0_col7\" class=\"col_heading level0 col7\" >9</th>\n",
       "      <th id=\"T_11500_level0_col8\" class=\"col_heading level0 col8\" >10</th>\n",
       "    </tr>\n",
       "  </thead>\n",
       "  <tbody>\n",
       "    <tr>\n",
       "      <th id=\"T_11500_level0_row0\" class=\"row_heading level0 row0\" >KMeans</th>\n",
       "      <td id=\"T_11500_row0_col0\" class=\"data row0 col0\" >0.372649</td>\n",
       "      <td id=\"T_11500_row0_col1\" class=\"data row0 col1\" >0.407150</td>\n",
       "      <td id=\"T_11500_row0_col2\" class=\"data row0 col2\" >0.436827</td>\n",
       "      <td id=\"T_11500_row0_col3\" class=\"data row0 col3\" >0.448516</td>\n",
       "      <td id=\"T_11500_row0_col4\" class=\"data row0 col4\" >0.465880</td>\n",
       "      <td id=\"T_11500_row0_col5\" class=\"data row0 col5\" >0.463908</td>\n",
       "      <td id=\"T_11500_row0_col6\" class=\"data row0 col6\" >0.481660</td>\n",
       "      <td id=\"T_11500_row0_col7\" class=\"data row0 col7\" >0.518283</td>\n",
       "      <td id=\"T_11500_row0_col8\" class=\"data row0 col8\" >0.527828</td>\n",
       "    </tr>\n",
       "    <tr>\n",
       "      <th id=\"T_11500_level0_row1\" class=\"row_heading level0 row1\" >GMM</th>\n",
       "      <td id=\"T_11500_row1_col0\" class=\"data row1 col0\" >0.360263</td>\n",
       "      <td id=\"T_11500_row1_col1\" class=\"data row1 col1\" >0.313550</td>\n",
       "      <td id=\"T_11500_row1_col2\" class=\"data row1 col2\" >0.345297</td>\n",
       "      <td id=\"T_11500_row1_col3\" class=\"data row1 col3\" >0.412443</td>\n",
       "      <td id=\"T_11500_row1_col4\" class=\"data row1 col4\" >0.399503</td>\n",
       "      <td id=\"T_11500_row1_col5\" class=\"data row1 col5\" >0.404407</td>\n",
       "      <td id=\"T_11500_row1_col6\" class=\"data row1 col6\" >0.402359</td>\n",
       "      <td id=\"T_11500_row1_col7\" class=\"data row1 col7\" >0.490340</td>\n",
       "      <td id=\"T_11500_row1_col8\" class=\"data row1 col8\" >0.481904</td>\n",
       "    </tr>\n",
       "    <tr>\n",
       "      <th id=\"T_11500_level0_row2\" class=\"row_heading level0 row2\" >HC</th>\n",
       "      <td id=\"T_11500_row2_col0\" class=\"data row2 col0\" >0.330677</td>\n",
       "      <td id=\"T_11500_row2_col1\" class=\"data row2 col1\" >0.359912</td>\n",
       "      <td id=\"T_11500_row2_col2\" class=\"data row2 col2\" >0.432107</td>\n",
       "      <td id=\"T_11500_row2_col3\" class=\"data row2 col3\" >0.414833</td>\n",
       "      <td id=\"T_11500_row2_col4\" class=\"data row2 col4\" >0.422781</td>\n",
       "      <td id=\"T_11500_row2_col5\" class=\"data row2 col5\" >0.460981</td>\n",
       "      <td id=\"T_11500_row2_col6\" class=\"data row2 col6\" >0.478889</td>\n",
       "      <td id=\"T_11500_row2_col7\" class=\"data row2 col7\" >0.510620</td>\n",
       "      <td id=\"T_11500_row2_col8\" class=\"data row2 col8\" >0.522397</td>\n",
       "    </tr>\n",
       "  </tbody>\n",
       "</table>\n"
      ],
      "text/plain": [
       "<pandas.io.formats.style.Styler at 0x7fbd72e4e310>"
      ]
     },
     "execution_count": 62,
     "metadata": {},
     "output_type": "execute_result"
    }
   ],
   "source": [
    "# Tree Based Embedding Result\n",
    "df_results_tree = pd.DataFrame(\n",
    "    {'KMeans': kmeans_list,\n",
    "     'GMM': gmm_list,\n",
    "     'HC': hc_list}\n",
    "     ).T\n",
    "\n",
    "df_results_tree.columns = clusters\n",
    "df_results_tree = df_results_tree.style.highlight_max(color = 'blue', axis=1)\n",
    "\n",
    "df_results_tree"
   ]
  },
  {
   "cell_type": "markdown",
   "metadata": {},
   "source": [
    "### 5.2 UMAP Embedding"
   ]
  },
  {
   "cell_type": "code",
   "execution_count": 63,
   "metadata": {},
   "outputs": [],
   "source": [
    "# UMAP Embedding\n",
    "X = df_umap.copy()"
   ]
  },
  {
   "cell_type": "code",
   "execution_count": 64,
   "metadata": {},
   "outputs": [],
   "source": [
    "# KMeans\n",
    "kmeans_list = []\n",
    "for k in clusters:\n",
    "    # model definition\n",
    "    kmeans_model = c.KMeans(init='random',\n",
    "                            n_clusters=k,\n",
    "                            n_init=300,\n",
    "                            max_iter=300,\n",
    "                            random_state=42)\n",
    "\n",
    "    # model training\n",
    "    kmeans_model.fit(X)\n",
    "\n",
    "    # clustering\n",
    "    labels = kmeans_model.predict(X) \n",
    "\n",
    "    # model performance (SS)\n",
    "    sil = m.silhouette_score(X, labels, metric='euclidean')\n",
    "    kmeans_list.append(sil)\n",
    "\n",
    "# GMM\n",
    "gmm_list = []\n",
    "for k in clusters:\n",
    "    # model definition\n",
    "    gmm_model = mx.GaussianMixture(n_components=k, n_init=300)\n",
    "\n",
    "    # model training\n",
    "    gmm_model.fit(X)\n",
    "\n",
    "    # model predict\n",
    "    labels = gmm_model.predict(X)\n",
    "\n",
    "    # model performance\n",
    "    sil = m.silhouette_score(X, labels, metric='euclidean')\n",
    "    gmm_list.append(sil)\n",
    "\n",
    "# HC\n",
    "hc_list = []\n",
    "for k in clusters:\n",
    "    # model definition and training\n",
    "    hc_model = hc.linkage(X, 'ward')\n",
    "\n",
    "    # model predict\n",
    "    labels = hc.fcluster(hc_model, k, criterion='maxclust')\n",
    "\n",
    "    # model performance\n",
    "    sil = m.silhouette_score(X, labels, metric='euclidean')\n",
    "    hc_list.append(sil)"
   ]
  },
  {
   "cell_type": "code",
   "execution_count": 65,
   "metadata": {},
   "outputs": [
    {
     "data": {
      "text/html": [
       "<style type=\"text/css\">\n",
       "#T_217eb_row0_col8, #T_217eb_row1_col6, #T_217eb_row2_col8 {\n",
       "  background-color: blue;\n",
       "}\n",
       "</style>\n",
       "<table id=\"T_217eb\">\n",
       "  <thead>\n",
       "    <tr>\n",
       "      <th class=\"blank level0\" >&nbsp;</th>\n",
       "      <th id=\"T_217eb_level0_col0\" class=\"col_heading level0 col0\" >2</th>\n",
       "      <th id=\"T_217eb_level0_col1\" class=\"col_heading level0 col1\" >3</th>\n",
       "      <th id=\"T_217eb_level0_col2\" class=\"col_heading level0 col2\" >4</th>\n",
       "      <th id=\"T_217eb_level0_col3\" class=\"col_heading level0 col3\" >5</th>\n",
       "      <th id=\"T_217eb_level0_col4\" class=\"col_heading level0 col4\" >6</th>\n",
       "      <th id=\"T_217eb_level0_col5\" class=\"col_heading level0 col5\" >7</th>\n",
       "      <th id=\"T_217eb_level0_col6\" class=\"col_heading level0 col6\" >8</th>\n",
       "      <th id=\"T_217eb_level0_col7\" class=\"col_heading level0 col7\" >9</th>\n",
       "      <th id=\"T_217eb_level0_col8\" class=\"col_heading level0 col8\" >10</th>\n",
       "    </tr>\n",
       "  </thead>\n",
       "  <tbody>\n",
       "    <tr>\n",
       "      <th id=\"T_217eb_level0_row0\" class=\"row_heading level0 row0\" >KMeans</th>\n",
       "      <td id=\"T_217eb_row0_col0\" class=\"data row0 col0\" >0.455992</td>\n",
       "      <td id=\"T_217eb_row0_col1\" class=\"data row0 col1\" >0.554531</td>\n",
       "      <td id=\"T_217eb_row0_col2\" class=\"data row0 col2\" >0.602438</td>\n",
       "      <td id=\"T_217eb_row0_col3\" class=\"data row0 col3\" >0.612499</td>\n",
       "      <td id=\"T_217eb_row0_col4\" class=\"data row0 col4\" >0.659798</td>\n",
       "      <td id=\"T_217eb_row0_col5\" class=\"data row0 col5\" >0.624249</td>\n",
       "      <td id=\"T_217eb_row0_col6\" class=\"data row0 col6\" >0.634854</td>\n",
       "      <td id=\"T_217eb_row0_col7\" class=\"data row0 col7\" >0.654876</td>\n",
       "      <td id=\"T_217eb_row0_col8\" class=\"data row0 col8\" >0.668884</td>\n",
       "    </tr>\n",
       "    <tr>\n",
       "      <th id=\"T_217eb_level0_row1\" class=\"row_heading level0 row1\" >GMM</th>\n",
       "      <td id=\"T_217eb_row1_col0\" class=\"data row1 col0\" >0.455992</td>\n",
       "      <td id=\"T_217eb_row1_col1\" class=\"data row1 col1\" >0.524191</td>\n",
       "      <td id=\"T_217eb_row1_col2\" class=\"data row1 col2\" >0.594911</td>\n",
       "      <td id=\"T_217eb_row1_col3\" class=\"data row1 col3\" >0.588137</td>\n",
       "      <td id=\"T_217eb_row1_col4\" class=\"data row1 col4\" >0.576258</td>\n",
       "      <td id=\"T_217eb_row1_col5\" class=\"data row1 col5\" >0.664276</td>\n",
       "      <td id=\"T_217eb_row1_col6\" class=\"data row1 col6\" >0.669840</td>\n",
       "      <td id=\"T_217eb_row1_col7\" class=\"data row1 col7\" >0.644133</td>\n",
       "      <td id=\"T_217eb_row1_col8\" class=\"data row1 col8\" >0.653068</td>\n",
       "    </tr>\n",
       "    <tr>\n",
       "      <th id=\"T_217eb_level0_row2\" class=\"row_heading level0 row2\" >HC</th>\n",
       "      <td id=\"T_217eb_row2_col0\" class=\"data row2 col0\" >0.390419</td>\n",
       "      <td id=\"T_217eb_row2_col1\" class=\"data row2 col1\" >0.524191</td>\n",
       "      <td id=\"T_217eb_row2_col2\" class=\"data row2 col2\" >0.594911</td>\n",
       "      <td id=\"T_217eb_row2_col3\" class=\"data row2 col3\" >0.612499</td>\n",
       "      <td id=\"T_217eb_row2_col4\" class=\"data row2 col4\" >0.640112</td>\n",
       "      <td id=\"T_217eb_row2_col5\" class=\"data row2 col5\" >0.605770</td>\n",
       "      <td id=\"T_217eb_row2_col6\" class=\"data row2 col6\" >0.631425</td>\n",
       "      <td id=\"T_217eb_row2_col7\" class=\"data row2 col7\" >0.651522</td>\n",
       "      <td id=\"T_217eb_row2_col8\" class=\"data row2 col8\" >0.666109</td>\n",
       "    </tr>\n",
       "  </tbody>\n",
       "</table>\n"
      ],
      "text/plain": [
       "<pandas.io.formats.style.Styler at 0x7fbd70710820>"
      ]
     },
     "execution_count": 65,
     "metadata": {},
     "output_type": "execute_result"
    }
   ],
   "source": [
    "# UMAP Embedding Result\n",
    "df_results_umap = pd.DataFrame(\n",
    "    {'KMeans': kmeans_list,\n",
    "     'GMM': gmm_list,\n",
    "     'HC': hc_list}\n",
    "     ).T\n",
    "\n",
    "df_results_umap.columns = clusters\n",
    "df_results_umap = df_results_umap.style.highlight_max(color = 'blue', axis=1)\n",
    "\n",
    "df_results_umap"
   ]
  },
  {
   "cell_type": "markdown",
   "metadata": {},
   "source": [
    "### 5.3 TSNE Embedding"
   ]
  },
  {
   "cell_type": "code",
   "execution_count": 66,
   "metadata": {},
   "outputs": [],
   "source": [
    "# TSNE Embedding\n",
    "X = df_tsne.copy()"
   ]
  },
  {
   "cell_type": "code",
   "execution_count": 67,
   "metadata": {},
   "outputs": [],
   "source": [
    "# KMeans\n",
    "kmeans_list = []\n",
    "for k in clusters:\n",
    "    # model definition\n",
    "    kmeans_model = c.KMeans(init='random',\n",
    "                            n_clusters=k,\n",
    "                            n_init=300,\n",
    "                            max_iter=300,\n",
    "                            random_state=42)\n",
    "\n",
    "    # model training\n",
    "    kmeans_model.fit(X)\n",
    "\n",
    "    # clustering\n",
    "    labels = kmeans_model.predict(X) \n",
    "\n",
    "    # model performance (SS)\n",
    "    sil = m.silhouette_score(X, labels, metric='euclidean')\n",
    "    kmeans_list.append(sil)\n",
    "\n",
    "# GMM\n",
    "gmm_list = []\n",
    "for k in clusters:\n",
    "    # model definition\n",
    "    gmm_model = mx.GaussianMixture(n_components=k, n_init=300)\n",
    "\n",
    "    # model training\n",
    "    gmm_model.fit(X)\n",
    "\n",
    "    # model predict\n",
    "    labels = gmm_model.predict(X)\n",
    "\n",
    "    # model performance\n",
    "    sil = m.silhouette_score(X, labels, metric='euclidean')\n",
    "    gmm_list.append(sil)\n",
    "\n",
    "# HC\n",
    "hc_list = []\n",
    "for k in clusters:\n",
    "    # model definition and training\n",
    "    hc_model = hc.linkage(X, 'ward')\n",
    "\n",
    "    # model predict\n",
    "    labels = hc.fcluster(hc_model, k, criterion='maxclust')\n",
    "\n",
    "    # model performance\n",
    "    sil = m.silhouette_score(X, labels, metric='euclidean')\n",
    "    hc_list.append(sil)"
   ]
  },
  {
   "cell_type": "code",
   "execution_count": 68,
   "metadata": {},
   "outputs": [],
   "source": [
    "# TSNE Embedding Result\n",
    "df_results_tsne = pd.DataFrame(\n",
    "    {'KMeans': kmeans_list,\n",
    "     'GMM': gmm_list,\n",
    "     'HC': hc_list}\n",
    "     ).T\n",
    "\n",
    "df_results_tsne.columns = clusters\n",
    "df_results_tsne = df_results_tsne.style.highlight_max(color = 'blue', axis=1)"
   ]
  },
  {
   "cell_type": "markdown",
   "metadata": {},
   "source": [
    "### 5.4 Summarize Results"
   ]
  },
  {
   "cell_type": "code",
   "execution_count": 69,
   "metadata": {},
   "outputs": [
    {
     "data": {
      "text/html": [
       "<style type=\"text/css\">\n",
       "#T_44df5_row0_col8, #T_44df5_row1_col8, #T_44df5_row2_col8 {\n",
       "  background-color: blue;\n",
       "}\n",
       "</style>\n",
       "<table id=\"T_44df5\">\n",
       "  <thead>\n",
       "    <tr>\n",
       "      <th class=\"blank level0\" >&nbsp;</th>\n",
       "      <th id=\"T_44df5_level0_col0\" class=\"col_heading level0 col0\" >2</th>\n",
       "      <th id=\"T_44df5_level0_col1\" class=\"col_heading level0 col1\" >3</th>\n",
       "      <th id=\"T_44df5_level0_col2\" class=\"col_heading level0 col2\" >4</th>\n",
       "      <th id=\"T_44df5_level0_col3\" class=\"col_heading level0 col3\" >5</th>\n",
       "      <th id=\"T_44df5_level0_col4\" class=\"col_heading level0 col4\" >6</th>\n",
       "      <th id=\"T_44df5_level0_col5\" class=\"col_heading level0 col5\" >7</th>\n",
       "      <th id=\"T_44df5_level0_col6\" class=\"col_heading level0 col6\" >8</th>\n",
       "      <th id=\"T_44df5_level0_col7\" class=\"col_heading level0 col7\" >9</th>\n",
       "      <th id=\"T_44df5_level0_col8\" class=\"col_heading level0 col8\" >10</th>\n",
       "    </tr>\n",
       "  </thead>\n",
       "  <tbody>\n",
       "    <tr>\n",
       "      <th id=\"T_44df5_level0_row0\" class=\"row_heading level0 row0\" >KMeans</th>\n",
       "      <td id=\"T_44df5_row0_col0\" class=\"data row0 col0\" >0.693917</td>\n",
       "      <td id=\"T_44df5_row0_col1\" class=\"data row0 col1\" >0.651845</td>\n",
       "      <td id=\"T_44df5_row0_col2\" class=\"data row0 col2\" >0.702382</td>\n",
       "      <td id=\"T_44df5_row0_col3\" class=\"data row0 col3\" >0.707414</td>\n",
       "      <td id=\"T_44df5_row0_col4\" class=\"data row0 col4\" >0.749401</td>\n",
       "      <td id=\"T_44df5_row0_col5\" class=\"data row0 col5\" >0.752663</td>\n",
       "      <td id=\"T_44df5_row0_col6\" class=\"data row0 col6\" >0.811358</td>\n",
       "      <td id=\"T_44df5_row0_col7\" class=\"data row0 col7\" >0.812652</td>\n",
       "      <td id=\"T_44df5_row0_col8\" class=\"data row0 col8\" >0.827025</td>\n",
       "    </tr>\n",
       "    <tr>\n",
       "      <th id=\"T_44df5_level0_row1\" class=\"row_heading level0 row1\" >GMM</th>\n",
       "      <td id=\"T_44df5_row1_col0\" class=\"data row1 col0\" >0.610487</td>\n",
       "      <td id=\"T_44df5_row1_col1\" class=\"data row1 col1\" >0.388083</td>\n",
       "      <td id=\"T_44df5_row1_col2\" class=\"data row1 col2\" >0.467342</td>\n",
       "      <td id=\"T_44df5_row1_col3\" class=\"data row1 col3\" >0.570845</td>\n",
       "      <td id=\"T_44df5_row1_col4\" class=\"data row1 col4\" >0.542578</td>\n",
       "      <td id=\"T_44df5_row1_col5\" class=\"data row1 col5\" >0.602173</td>\n",
       "      <td id=\"T_44df5_row1_col6\" class=\"data row1 col6\" >0.639913</td>\n",
       "      <td id=\"T_44df5_row1_col7\" class=\"data row1 col7\" >0.686755</td>\n",
       "      <td id=\"T_44df5_row1_col8\" class=\"data row1 col8\" >0.704598</td>\n",
       "    </tr>\n",
       "    <tr>\n",
       "      <th id=\"T_44df5_level0_row2\" class=\"row_heading level0 row2\" >HC</th>\n",
       "      <td id=\"T_44df5_row2_col0\" class=\"data row2 col0\" >0.577335</td>\n",
       "      <td id=\"T_44df5_row2_col1\" class=\"data row2 col1\" >0.625860</td>\n",
       "      <td id=\"T_44df5_row2_col2\" class=\"data row2 col2\" >0.630206</td>\n",
       "      <td id=\"T_44df5_row2_col3\" class=\"data row2 col3\" >0.741590</td>\n",
       "      <td id=\"T_44df5_row2_col4\" class=\"data row2 col4\" >0.742478</td>\n",
       "      <td id=\"T_44df5_row2_col5\" class=\"data row2 col5\" >0.748293</td>\n",
       "      <td id=\"T_44df5_row2_col6\" class=\"data row2 col6\" >0.750710</td>\n",
       "      <td id=\"T_44df5_row2_col7\" class=\"data row2 col7\" >0.810268</td>\n",
       "      <td id=\"T_44df5_row2_col8\" class=\"data row2 col8\" >0.810678</td>\n",
       "    </tr>\n",
       "  </tbody>\n",
       "</table>\n"
      ],
      "text/plain": [
       "<pandas.io.formats.style.Styler at 0x7fbd70394c40>"
      ]
     },
     "execution_count": 69,
     "metadata": {},
     "output_type": "execute_result"
    }
   ],
   "source": [
    "# Original Feature Space\n",
    "df_results_original"
   ]
  },
  {
   "cell_type": "code",
   "execution_count": 70,
   "metadata": {},
   "outputs": [
    {
     "data": {
      "text/html": [
       "<style type=\"text/css\">\n",
       "#T_5b4ce_row0_col4, #T_5b4ce_row1_col6, #T_5b4ce_row2_col7 {\n",
       "  background-color: blue;\n",
       "}\n",
       "</style>\n",
       "<table id=\"T_5b4ce\">\n",
       "  <thead>\n",
       "    <tr>\n",
       "      <th class=\"blank level0\" >&nbsp;</th>\n",
       "      <th id=\"T_5b4ce_level0_col0\" class=\"col_heading level0 col0\" >2</th>\n",
       "      <th id=\"T_5b4ce_level0_col1\" class=\"col_heading level0 col1\" >3</th>\n",
       "      <th id=\"T_5b4ce_level0_col2\" class=\"col_heading level0 col2\" >4</th>\n",
       "      <th id=\"T_5b4ce_level0_col3\" class=\"col_heading level0 col3\" >5</th>\n",
       "      <th id=\"T_5b4ce_level0_col4\" class=\"col_heading level0 col4\" >6</th>\n",
       "      <th id=\"T_5b4ce_level0_col5\" class=\"col_heading level0 col5\" >7</th>\n",
       "      <th id=\"T_5b4ce_level0_col6\" class=\"col_heading level0 col6\" >8</th>\n",
       "      <th id=\"T_5b4ce_level0_col7\" class=\"col_heading level0 col7\" >9</th>\n",
       "      <th id=\"T_5b4ce_level0_col8\" class=\"col_heading level0 col8\" >10</th>\n",
       "    </tr>\n",
       "  </thead>\n",
       "  <tbody>\n",
       "    <tr>\n",
       "      <th id=\"T_5b4ce_level0_row0\" class=\"row_heading level0 row0\" >KMeans</th>\n",
       "      <td id=\"T_5b4ce_row0_col0\" class=\"data row0 col0\" >0.374658</td>\n",
       "      <td id=\"T_5b4ce_row0_col1\" class=\"data row0 col1\" >0.416384</td>\n",
       "      <td id=\"T_5b4ce_row0_col2\" class=\"data row0 col2\" >0.423753</td>\n",
       "      <td id=\"T_5b4ce_row0_col3\" class=\"data row0 col3\" >0.462701</td>\n",
       "      <td id=\"T_5b4ce_row0_col4\" class=\"data row0 col4\" >0.478199</td>\n",
       "      <td id=\"T_5b4ce_row0_col5\" class=\"data row0 col5\" >0.467292</td>\n",
       "      <td id=\"T_5b4ce_row0_col6\" class=\"data row0 col6\" >0.460277</td>\n",
       "      <td id=\"T_5b4ce_row0_col7\" class=\"data row0 col7\" >0.454908</td>\n",
       "      <td id=\"T_5b4ce_row0_col8\" class=\"data row0 col8\" >0.470793</td>\n",
       "    </tr>\n",
       "    <tr>\n",
       "      <th id=\"T_5b4ce_level0_row1\" class=\"row_heading level0 row1\" >GMM</th>\n",
       "      <td id=\"T_5b4ce_row1_col0\" class=\"data row1 col0\" >0.366015</td>\n",
       "      <td id=\"T_5b4ce_row1_col1\" class=\"data row1 col1\" >0.367674</td>\n",
       "      <td id=\"T_5b4ce_row1_col2\" class=\"data row1 col2\" >0.386914</td>\n",
       "      <td id=\"T_5b4ce_row1_col3\" class=\"data row1 col3\" >0.362438</td>\n",
       "      <td id=\"T_5b4ce_row1_col4\" class=\"data row1 col4\" >0.352315</td>\n",
       "      <td id=\"T_5b4ce_row1_col5\" class=\"data row1 col5\" >0.356056</td>\n",
       "      <td id=\"T_5b4ce_row1_col6\" class=\"data row1 col6\" >0.414840</td>\n",
       "      <td id=\"T_5b4ce_row1_col7\" class=\"data row1 col7\" >0.340620</td>\n",
       "      <td id=\"T_5b4ce_row1_col8\" class=\"data row1 col8\" >0.352017</td>\n",
       "    </tr>\n",
       "    <tr>\n",
       "      <th id=\"T_5b4ce_level0_row2\" class=\"row_heading level0 row2\" >HC</th>\n",
       "      <td id=\"T_5b4ce_row2_col0\" class=\"data row2 col0\" >0.334897</td>\n",
       "      <td id=\"T_5b4ce_row2_col1\" class=\"data row2 col1\" >0.381340</td>\n",
       "      <td id=\"T_5b4ce_row2_col2\" class=\"data row2 col2\" >0.407158</td>\n",
       "      <td id=\"T_5b4ce_row2_col3\" class=\"data row2 col3\" >0.440055</td>\n",
       "      <td id=\"T_5b4ce_row2_col4\" class=\"data row2 col4\" >0.470800</td>\n",
       "      <td id=\"T_5b4ce_row2_col5\" class=\"data row2 col5\" >0.472001</td>\n",
       "      <td id=\"T_5b4ce_row2_col6\" class=\"data row2 col6\" >0.472386</td>\n",
       "      <td id=\"T_5b4ce_row2_col7\" class=\"data row2 col7\" >0.476787</td>\n",
       "      <td id=\"T_5b4ce_row2_col8\" class=\"data row2 col8\" >0.464592</td>\n",
       "    </tr>\n",
       "  </tbody>\n",
       "</table>\n"
      ],
      "text/plain": [
       "<pandas.io.formats.style.Styler at 0x7fbd7063c430>"
      ]
     },
     "execution_count": 70,
     "metadata": {},
     "output_type": "execute_result"
    }
   ],
   "source": [
    "# TSNE Embedding Results\n",
    "df_results_tsne"
   ]
  },
  {
   "cell_type": "code",
   "execution_count": 71,
   "metadata": {},
   "outputs": [
    {
     "data": {
      "text/html": [
       "<style type=\"text/css\">\n",
       "#T_11500_row0_col8, #T_11500_row1_col7, #T_11500_row2_col8 {\n",
       "  background-color: blue;\n",
       "}\n",
       "</style>\n",
       "<table id=\"T_11500\">\n",
       "  <thead>\n",
       "    <tr>\n",
       "      <th class=\"blank level0\" >&nbsp;</th>\n",
       "      <th id=\"T_11500_level0_col0\" class=\"col_heading level0 col0\" >2</th>\n",
       "      <th id=\"T_11500_level0_col1\" class=\"col_heading level0 col1\" >3</th>\n",
       "      <th id=\"T_11500_level0_col2\" class=\"col_heading level0 col2\" >4</th>\n",
       "      <th id=\"T_11500_level0_col3\" class=\"col_heading level0 col3\" >5</th>\n",
       "      <th id=\"T_11500_level0_col4\" class=\"col_heading level0 col4\" >6</th>\n",
       "      <th id=\"T_11500_level0_col5\" class=\"col_heading level0 col5\" >7</th>\n",
       "      <th id=\"T_11500_level0_col6\" class=\"col_heading level0 col6\" >8</th>\n",
       "      <th id=\"T_11500_level0_col7\" class=\"col_heading level0 col7\" >9</th>\n",
       "      <th id=\"T_11500_level0_col8\" class=\"col_heading level0 col8\" >10</th>\n",
       "    </tr>\n",
       "  </thead>\n",
       "  <tbody>\n",
       "    <tr>\n",
       "      <th id=\"T_11500_level0_row0\" class=\"row_heading level0 row0\" >KMeans</th>\n",
       "      <td id=\"T_11500_row0_col0\" class=\"data row0 col0\" >0.372649</td>\n",
       "      <td id=\"T_11500_row0_col1\" class=\"data row0 col1\" >0.407150</td>\n",
       "      <td id=\"T_11500_row0_col2\" class=\"data row0 col2\" >0.436827</td>\n",
       "      <td id=\"T_11500_row0_col3\" class=\"data row0 col3\" >0.448516</td>\n",
       "      <td id=\"T_11500_row0_col4\" class=\"data row0 col4\" >0.465880</td>\n",
       "      <td id=\"T_11500_row0_col5\" class=\"data row0 col5\" >0.463908</td>\n",
       "      <td id=\"T_11500_row0_col6\" class=\"data row0 col6\" >0.481660</td>\n",
       "      <td id=\"T_11500_row0_col7\" class=\"data row0 col7\" >0.518283</td>\n",
       "      <td id=\"T_11500_row0_col8\" class=\"data row0 col8\" >0.527828</td>\n",
       "    </tr>\n",
       "    <tr>\n",
       "      <th id=\"T_11500_level0_row1\" class=\"row_heading level0 row1\" >GMM</th>\n",
       "      <td id=\"T_11500_row1_col0\" class=\"data row1 col0\" >0.360263</td>\n",
       "      <td id=\"T_11500_row1_col1\" class=\"data row1 col1\" >0.313550</td>\n",
       "      <td id=\"T_11500_row1_col2\" class=\"data row1 col2\" >0.345297</td>\n",
       "      <td id=\"T_11500_row1_col3\" class=\"data row1 col3\" >0.412443</td>\n",
       "      <td id=\"T_11500_row1_col4\" class=\"data row1 col4\" >0.399503</td>\n",
       "      <td id=\"T_11500_row1_col5\" class=\"data row1 col5\" >0.404407</td>\n",
       "      <td id=\"T_11500_row1_col6\" class=\"data row1 col6\" >0.402359</td>\n",
       "      <td id=\"T_11500_row1_col7\" class=\"data row1 col7\" >0.490340</td>\n",
       "      <td id=\"T_11500_row1_col8\" class=\"data row1 col8\" >0.481904</td>\n",
       "    </tr>\n",
       "    <tr>\n",
       "      <th id=\"T_11500_level0_row2\" class=\"row_heading level0 row2\" >HC</th>\n",
       "      <td id=\"T_11500_row2_col0\" class=\"data row2 col0\" >0.330677</td>\n",
       "      <td id=\"T_11500_row2_col1\" class=\"data row2 col1\" >0.359912</td>\n",
       "      <td id=\"T_11500_row2_col2\" class=\"data row2 col2\" >0.432107</td>\n",
       "      <td id=\"T_11500_row2_col3\" class=\"data row2 col3\" >0.414833</td>\n",
       "      <td id=\"T_11500_row2_col4\" class=\"data row2 col4\" >0.422781</td>\n",
       "      <td id=\"T_11500_row2_col5\" class=\"data row2 col5\" >0.460981</td>\n",
       "      <td id=\"T_11500_row2_col6\" class=\"data row2 col6\" >0.478889</td>\n",
       "      <td id=\"T_11500_row2_col7\" class=\"data row2 col7\" >0.510620</td>\n",
       "      <td id=\"T_11500_row2_col8\" class=\"data row2 col8\" >0.522397</td>\n",
       "    </tr>\n",
       "  </tbody>\n",
       "</table>\n"
      ],
      "text/plain": [
       "<pandas.io.formats.style.Styler at 0x7fbd72e4e310>"
      ]
     },
     "execution_count": 71,
     "metadata": {},
     "output_type": "execute_result"
    }
   ],
   "source": [
    "# Tree Based Embedding Results\n",
    "df_results_tree"
   ]
  },
  {
   "cell_type": "code",
   "execution_count": 72,
   "metadata": {},
   "outputs": [
    {
     "data": {
      "text/html": [
       "<style type=\"text/css\">\n",
       "#T_217eb_row0_col8, #T_217eb_row1_col6, #T_217eb_row2_col8 {\n",
       "  background-color: blue;\n",
       "}\n",
       "</style>\n",
       "<table id=\"T_217eb\">\n",
       "  <thead>\n",
       "    <tr>\n",
       "      <th class=\"blank level0\" >&nbsp;</th>\n",
       "      <th id=\"T_217eb_level0_col0\" class=\"col_heading level0 col0\" >2</th>\n",
       "      <th id=\"T_217eb_level0_col1\" class=\"col_heading level0 col1\" >3</th>\n",
       "      <th id=\"T_217eb_level0_col2\" class=\"col_heading level0 col2\" >4</th>\n",
       "      <th id=\"T_217eb_level0_col3\" class=\"col_heading level0 col3\" >5</th>\n",
       "      <th id=\"T_217eb_level0_col4\" class=\"col_heading level0 col4\" >6</th>\n",
       "      <th id=\"T_217eb_level0_col5\" class=\"col_heading level0 col5\" >7</th>\n",
       "      <th id=\"T_217eb_level0_col6\" class=\"col_heading level0 col6\" >8</th>\n",
       "      <th id=\"T_217eb_level0_col7\" class=\"col_heading level0 col7\" >9</th>\n",
       "      <th id=\"T_217eb_level0_col8\" class=\"col_heading level0 col8\" >10</th>\n",
       "    </tr>\n",
       "  </thead>\n",
       "  <tbody>\n",
       "    <tr>\n",
       "      <th id=\"T_217eb_level0_row0\" class=\"row_heading level0 row0\" >KMeans</th>\n",
       "      <td id=\"T_217eb_row0_col0\" class=\"data row0 col0\" >0.455992</td>\n",
       "      <td id=\"T_217eb_row0_col1\" class=\"data row0 col1\" >0.554531</td>\n",
       "      <td id=\"T_217eb_row0_col2\" class=\"data row0 col2\" >0.602438</td>\n",
       "      <td id=\"T_217eb_row0_col3\" class=\"data row0 col3\" >0.612499</td>\n",
       "      <td id=\"T_217eb_row0_col4\" class=\"data row0 col4\" >0.659798</td>\n",
       "      <td id=\"T_217eb_row0_col5\" class=\"data row0 col5\" >0.624249</td>\n",
       "      <td id=\"T_217eb_row0_col6\" class=\"data row0 col6\" >0.634854</td>\n",
       "      <td id=\"T_217eb_row0_col7\" class=\"data row0 col7\" >0.654876</td>\n",
       "      <td id=\"T_217eb_row0_col8\" class=\"data row0 col8\" >0.668884</td>\n",
       "    </tr>\n",
       "    <tr>\n",
       "      <th id=\"T_217eb_level0_row1\" class=\"row_heading level0 row1\" >GMM</th>\n",
       "      <td id=\"T_217eb_row1_col0\" class=\"data row1 col0\" >0.455992</td>\n",
       "      <td id=\"T_217eb_row1_col1\" class=\"data row1 col1\" >0.524191</td>\n",
       "      <td id=\"T_217eb_row1_col2\" class=\"data row1 col2\" >0.594911</td>\n",
       "      <td id=\"T_217eb_row1_col3\" class=\"data row1 col3\" >0.588137</td>\n",
       "      <td id=\"T_217eb_row1_col4\" class=\"data row1 col4\" >0.576258</td>\n",
       "      <td id=\"T_217eb_row1_col5\" class=\"data row1 col5\" >0.664276</td>\n",
       "      <td id=\"T_217eb_row1_col6\" class=\"data row1 col6\" >0.669840</td>\n",
       "      <td id=\"T_217eb_row1_col7\" class=\"data row1 col7\" >0.644133</td>\n",
       "      <td id=\"T_217eb_row1_col8\" class=\"data row1 col8\" >0.653068</td>\n",
       "    </tr>\n",
       "    <tr>\n",
       "      <th id=\"T_217eb_level0_row2\" class=\"row_heading level0 row2\" >HC</th>\n",
       "      <td id=\"T_217eb_row2_col0\" class=\"data row2 col0\" >0.390419</td>\n",
       "      <td id=\"T_217eb_row2_col1\" class=\"data row2 col1\" >0.524191</td>\n",
       "      <td id=\"T_217eb_row2_col2\" class=\"data row2 col2\" >0.594911</td>\n",
       "      <td id=\"T_217eb_row2_col3\" class=\"data row2 col3\" >0.612499</td>\n",
       "      <td id=\"T_217eb_row2_col4\" class=\"data row2 col4\" >0.640112</td>\n",
       "      <td id=\"T_217eb_row2_col5\" class=\"data row2 col5\" >0.605770</td>\n",
       "      <td id=\"T_217eb_row2_col6\" class=\"data row2 col6\" >0.631425</td>\n",
       "      <td id=\"T_217eb_row2_col7\" class=\"data row2 col7\" >0.651522</td>\n",
       "      <td id=\"T_217eb_row2_col8\" class=\"data row2 col8\" >0.666109</td>\n",
       "    </tr>\n",
       "  </tbody>\n",
       "</table>\n"
      ],
      "text/plain": [
       "<pandas.io.formats.style.Styler at 0x7fbd70710820>"
      ]
     },
     "execution_count": 72,
     "metadata": {},
     "output_type": "execute_result"
    }
   ],
   "source": [
    "# UMAP Embedding Results\n",
    "df_results_umap"
   ]
  },
  {
   "cell_type": "markdown",
   "metadata": {},
   "source": [
    "# 6. Machine Learning Modelling"
   ]
  },
  {
   "cell_type": "code",
   "execution_count": 93,
   "metadata": {},
   "outputs": [],
   "source": [
    "# Selecting the best embedding\n",
    "X = df43.copy()"
   ]
  },
  {
   "cell_type": "markdown",
   "metadata": {},
   "source": [
    "### 6.1 K-Means"
   ]
  },
  {
   "cell_type": "code",
   "execution_count": 94,
   "metadata": {},
   "outputs": [],
   "source": [
    "# model definition\n",
    "k=6\n",
    "kmeans = c.KMeans(init='random',\n",
    "                  n_clusters=k,\n",
    "                  n_init=300,\n",
    "                  max_iter=300,\n",
    "                  random_state=42)\n",
    "\n",
    "# model training\n",
    "kmeans.fit(X)\n",
    "\n",
    "# clustering\n",
    "labels = kmeans.labels_"
   ]
  },
  {
   "cell_type": "code",
   "execution_count": 95,
   "metadata": {},
   "outputs": [],
   "source": [
    "# k=7\n",
    "# # model definition\n",
    "# gmm_model = mx.GaussianMixture(n_components=k, n_init = 300, random_state=42)\n",
    "\n",
    "# # model training\n",
    "# gmm_model.fit(X)\n",
    "\n",
    "# # clustering\n",
    "# labels = gmm_model.predict(X)"
   ]
  },
  {
   "cell_type": "markdown",
   "metadata": {},
   "source": [
    "### 6.2 Cluster Validation"
   ]
  },
  {
   "cell_type": "code",
   "execution_count": 96,
   "metadata": {},
   "outputs": [
    {
     "name": "stdout",
     "output_type": "stream",
     "text": [
      "SS Value: 0.749401061479475\n"
     ]
    }
   ],
   "source": [
    "# # WSS\n",
    "# print(f'WSS Value:{kmeans.inertia_}')\n",
    "\n",
    "# SS\n",
    "print('SS Value: {}'.format(m.silhouette_score(X, labels, metric='euclidean')))"
   ]
  },
  {
   "cell_type": "markdown",
   "metadata": {},
   "source": [
    "# 7. Evaluation - Cluster Analysis"
   ]
  },
  {
   "cell_type": "markdown",
   "metadata": {},
   "source": [
    "### 7.1 Visualization Inspection"
   ]
  },
  {
   "cell_type": "code",
   "execution_count": 97,
   "metadata": {},
   "outputs": [
    {
     "data": {
      "text/html": [
       "<div>\n",
       "<style scoped>\n",
       "    .dataframe tbody tr th:only-of-type {\n",
       "        vertical-align: middle;\n",
       "    }\n",
       "\n",
       "    .dataframe tbody tr th {\n",
       "        vertical-align: top;\n",
       "    }\n",
       "\n",
       "    .dataframe thead th {\n",
       "        text-align: right;\n",
       "    }\n",
       "</style>\n",
       "<table border=\"1\" class=\"dataframe\">\n",
       "  <thead>\n",
       "    <tr style=\"text-align: right;\">\n",
       "      <th></th>\n",
       "      <th>gross_revenue</th>\n",
       "      <th>products_no</th>\n",
       "      <th>items_no</th>\n",
       "      <th>frequency</th>\n",
       "      <th>recorrence</th>\n",
       "      <th>cluster</th>\n",
       "    </tr>\n",
       "  </thead>\n",
       "  <tbody>\n",
       "    <tr>\n",
       "      <th>0</th>\n",
       "      <td>0.019301</td>\n",
       "      <td>0.037770</td>\n",
       "      <td>0.008799</td>\n",
       "      <td>1.000000</td>\n",
       "      <td>0.000000</td>\n",
       "      <td>5</td>\n",
       "    </tr>\n",
       "    <tr>\n",
       "      <th>1</th>\n",
       "      <td>0.011567</td>\n",
       "      <td>0.021692</td>\n",
       "      <td>0.007056</td>\n",
       "      <td>0.001345</td>\n",
       "      <td>0.545455</td>\n",
       "      <td>0</td>\n",
       "    </tr>\n",
       "    <tr>\n",
       "      <th>2</th>\n",
       "      <td>0.024009</td>\n",
       "      <td>0.029476</td>\n",
       "      <td>0.025538</td>\n",
       "      <td>0.002052</td>\n",
       "      <td>0.909091</td>\n",
       "      <td>2</td>\n",
       "    </tr>\n",
       "    <tr>\n",
       "      <th>3</th>\n",
       "      <td>0.003384</td>\n",
       "      <td>0.003445</td>\n",
       "      <td>0.002225</td>\n",
       "      <td>0.000734</td>\n",
       "      <td>0.181818</td>\n",
       "      <td>3</td>\n",
       "    </tr>\n",
       "    <tr>\n",
       "      <th>4</th>\n",
       "      <td>0.003125</td>\n",
       "      <td>0.000255</td>\n",
       "      <td>0.000401</td>\n",
       "      <td>0.003985</td>\n",
       "      <td>0.090909</td>\n",
       "      <td>4</td>\n",
       "    </tr>\n",
       "  </tbody>\n",
       "</table>\n",
       "</div>"
      ],
      "text/plain": [
       "   gross_revenue  products_no  items_no  frequency  recorrence  cluster\n",
       "0       0.019301     0.037770  0.008799   1.000000    0.000000        5\n",
       "1       0.011567     0.021692  0.007056   0.001345    0.545455        0\n",
       "2       0.024009     0.029476  0.025538   0.002052    0.909091        2\n",
       "3       0.003384     0.003445  0.002225   0.000734    0.181818        3\n",
       "4       0.003125     0.000255  0.000401   0.003985    0.090909        4"
      ]
     },
     "execution_count": 97,
     "metadata": {},
     "output_type": "execute_result"
    }
   ],
   "source": [
    "df9 = X.copy()\n",
    "df9['cluster'] = labels\n",
    "df9.head()\n",
    "\n"
   ]
  },
  {
   "cell_type": "code",
   "execution_count": 98,
   "metadata": {},
   "outputs": [],
   "source": [
    "# sns.scatterplot(x='embedding_x', y='embedding_y', hue='cluster', data=df9, palette='deep')"
   ]
  },
  {
   "cell_type": "markdown",
   "metadata": {},
   "source": [
    "### 7.2 Cluster Profile"
   ]
  },
  {
   "cell_type": "code",
   "execution_count": 99,
   "metadata": {},
   "outputs": [],
   "source": [
    "df92 = df4.copy()\n",
    "df92['cluster'] = labels\n",
    "\n",
    "# Change dtypes\n",
    "df92['recency_days']    = df92['recency_days'].astype(int)\n",
    "df92['purchases_no']    = df92['purchases_no'].astype(int)\n",
    "df92['products_no']     = df92['products_no'].astype(int)\n",
    "df92['items_no']        = df92['items_no'].astype(int)"
   ]
  },
  {
   "cell_type": "code",
   "execution_count": 100,
   "metadata": {},
   "outputs": [
    {
     "data": {
      "text/html": [
       "<div>\n",
       "<style scoped>\n",
       "    .dataframe tbody tr th:only-of-type {\n",
       "        vertical-align: middle;\n",
       "    }\n",
       "\n",
       "    .dataframe tbody tr th {\n",
       "        vertical-align: top;\n",
       "    }\n",
       "\n",
       "    .dataframe thead th {\n",
       "        text-align: right;\n",
       "    }\n",
       "</style>\n",
       "<table border=\"1\" class=\"dataframe\">\n",
       "  <thead>\n",
       "    <tr style=\"text-align: right;\">\n",
       "      <th></th>\n",
       "      <th>customer_id</th>\n",
       "      <th>gross_revenue</th>\n",
       "      <th>recency_days</th>\n",
       "      <th>purchases_no</th>\n",
       "      <th>products_no</th>\n",
       "      <th>items_no</th>\n",
       "      <th>frequency</th>\n",
       "      <th>returns_no</th>\n",
       "      <th>satisfaction_rate</th>\n",
       "      <th>recorrence</th>\n",
       "      <th>cluster</th>\n",
       "    </tr>\n",
       "  </thead>\n",
       "  <tbody>\n",
       "    <tr>\n",
       "      <th>0</th>\n",
       "      <td>17850</td>\n",
       "      <td>5391.21</td>\n",
       "      <td>372</td>\n",
       "      <td>34</td>\n",
       "      <td>297</td>\n",
       "      <td>1733</td>\n",
       "      <td>17.000000</td>\n",
       "      <td>40.0</td>\n",
       "      <td>0.976919</td>\n",
       "      <td>1.0</td>\n",
       "      <td>5</td>\n",
       "    </tr>\n",
       "    <tr>\n",
       "      <th>1</th>\n",
       "      <td>13047</td>\n",
       "      <td>3232.59</td>\n",
       "      <td>56</td>\n",
       "      <td>9</td>\n",
       "      <td>171</td>\n",
       "      <td>1390</td>\n",
       "      <td>0.028302</td>\n",
       "      <td>35.0</td>\n",
       "      <td>0.974820</td>\n",
       "      <td>7.0</td>\n",
       "      <td>0</td>\n",
       "    </tr>\n",
       "    <tr>\n",
       "      <th>2</th>\n",
       "      <td>12583</td>\n",
       "      <td>6705.38</td>\n",
       "      <td>2</td>\n",
       "      <td>15</td>\n",
       "      <td>232</td>\n",
       "      <td>5028</td>\n",
       "      <td>0.040323</td>\n",
       "      <td>50.0</td>\n",
       "      <td>0.990056</td>\n",
       "      <td>11.0</td>\n",
       "      <td>2</td>\n",
       "    </tr>\n",
       "    <tr>\n",
       "      <th>3</th>\n",
       "      <td>13748</td>\n",
       "      <td>948.25</td>\n",
       "      <td>95</td>\n",
       "      <td>5</td>\n",
       "      <td>28</td>\n",
       "      <td>439</td>\n",
       "      <td>0.017921</td>\n",
       "      <td>0.0</td>\n",
       "      <td>1.000000</td>\n",
       "      <td>3.0</td>\n",
       "      <td>3</td>\n",
       "    </tr>\n",
       "    <tr>\n",
       "      <th>4</th>\n",
       "      <td>15100</td>\n",
       "      <td>876.00</td>\n",
       "      <td>333</td>\n",
       "      <td>3</td>\n",
       "      <td>3</td>\n",
       "      <td>80</td>\n",
       "      <td>0.073171</td>\n",
       "      <td>22.0</td>\n",
       "      <td>0.725000</td>\n",
       "      <td>2.0</td>\n",
       "      <td>4</td>\n",
       "    </tr>\n",
       "  </tbody>\n",
       "</table>\n",
       "</div>"
      ],
      "text/plain": [
       "   customer_id  gross_revenue  recency_days  purchases_no  products_no  \\\n",
       "0        17850        5391.21           372            34          297   \n",
       "1        13047        3232.59            56             9          171   \n",
       "2        12583        6705.38             2            15          232   \n",
       "3        13748         948.25            95             5           28   \n",
       "4        15100         876.00           333             3            3   \n",
       "\n",
       "   items_no  frequency  returns_no  satisfaction_rate  recorrence  cluster  \n",
       "0      1733  17.000000        40.0           0.976919         1.0        5  \n",
       "1      1390   0.028302        35.0           0.974820         7.0        0  \n",
       "2      5028   0.040323        50.0           0.990056        11.0        2  \n",
       "3       439   0.017921         0.0           1.000000         3.0        3  \n",
       "4        80   0.073171        22.0           0.725000         2.0        4  "
      ]
     },
     "execution_count": 100,
     "metadata": {},
     "output_type": "execute_result"
    }
   ],
   "source": [
    "df92.head()"
   ]
  },
  {
   "cell_type": "code",
   "execution_count": 101,
   "metadata": {},
   "outputs": [],
   "source": [
    "# Number of customer\n",
    "df_cluster = df92[['customer_id', 'cluster']].groupby('cluster').count().reset_index()\n",
    "df_cluster['perc_customer'] = (df_cluster['customer_id'] / df_cluster['customer_id'].sum())*100\n",
    "\n",
    "# Avg gross revenue\n",
    "df_avg_gross_revenue = df92[['gross_revenue', 'cluster']].groupby('cluster').mean().reset_index()\n",
    "df_cluster = pd.merge(df_cluster, df_avg_gross_revenue, how='inner', on = 'cluster')\n",
    "\n",
    "# Avg purchases_no\n",
    "df_avg_purchases_no = df92[['purchases_no', 'cluster']].groupby('cluster').mean().reset_index()\n",
    "df_cluster = pd.merge(df_cluster, df_avg_purchases_no, how='inner', on='cluster')\n",
    "\n",
    "# Avg products_no\n",
    "df_avg_products_no = df92[['products_no', 'cluster']].groupby('cluster').mean().reset_index()\n",
    "df_cluster = pd.merge(df_cluster, df_avg_products_no, how='inner', on='cluster')\n",
    "\n",
    "# Avg items_no\n",
    "df_avg_items_no = df92[['items_no', 'cluster']].groupby('cluster').mean().reset_index()\n",
    "df_cluster = pd.merge(df_cluster, df_avg_items_no, how='inner', on='cluster')\n",
    "\n",
    "# Avg frequency\n",
    "df_avg_frequency = df92[['frequency', 'cluster']].groupby('cluster').mean().reset_index()\n",
    "df_cluster = pd.merge(df_cluster, df_avg_frequency, how='inner', on='cluster')\n",
    "\n",
    "# Avg recorrence\n",
    "df_recorrence = df92[['recorrence', 'cluster']].groupby('cluster').mean().reset_index()\n",
    "df_cluster = pd.merge(df_cluster, df_recorrence, how='inner', on='cluster')\n"
   ]
  },
  {
   "cell_type": "code",
   "execution_count": 102,
   "metadata": {},
   "outputs": [
    {
     "data": {
      "text/html": [
       "<div>\n",
       "<style scoped>\n",
       "    .dataframe tbody tr th:only-of-type {\n",
       "        vertical-align: middle;\n",
       "    }\n",
       "\n",
       "    .dataframe tbody tr th {\n",
       "        vertical-align: top;\n",
       "    }\n",
       "\n",
       "    .dataframe thead th {\n",
       "        text-align: right;\n",
       "    }\n",
       "</style>\n",
       "<table border=\"1\" class=\"dataframe\">\n",
       "  <thead>\n",
       "    <tr style=\"text-align: right;\">\n",
       "      <th></th>\n",
       "      <th>cluster</th>\n",
       "      <th>customer_id</th>\n",
       "      <th>perc_customer</th>\n",
       "      <th>gross_revenue</th>\n",
       "      <th>purchases_no</th>\n",
       "      <th>products_no</th>\n",
       "      <th>items_no</th>\n",
       "      <th>frequency</th>\n",
       "      <th>recorrence</th>\n",
       "    </tr>\n",
       "  </thead>\n",
       "  <tbody>\n",
       "    <tr>\n",
       "      <th>2</th>\n",
       "      <td>2</td>\n",
       "      <td>162</td>\n",
       "      <td>3.750868</td>\n",
       "      <td>19509.810864</td>\n",
       "      <td>28.882716</td>\n",
       "      <td>558.006173</td>\n",
       "      <td>10972.228395</td>\n",
       "      <td>0.081103</td>\n",
       "      <td>11.018519</td>\n",
       "    </tr>\n",
       "    <tr>\n",
       "      <th>0</th>\n",
       "      <td>0</td>\n",
       "      <td>263</td>\n",
       "      <td>6.089373</td>\n",
       "      <td>4862.485779</td>\n",
       "      <td>11.517110</td>\n",
       "      <td>238.045627</td>\n",
       "      <td>3046.779468</td>\n",
       "      <td>0.037414</td>\n",
       "      <td>7.885932</td>\n",
       "    </tr>\n",
       "    <tr>\n",
       "      <th>1</th>\n",
       "      <td>1</td>\n",
       "      <td>430</td>\n",
       "      <td>9.956008</td>\n",
       "      <td>2836.961326</td>\n",
       "      <td>6.934884</td>\n",
       "      <td>164.525581</td>\n",
       "      <td>1634.597674</td>\n",
       "      <td>0.027310</td>\n",
       "      <td>5.383721</td>\n",
       "    </tr>\n",
       "    <tr>\n",
       "      <th>3</th>\n",
       "      <td>3</td>\n",
       "      <td>915</td>\n",
       "      <td>21.185460</td>\n",
       "      <td>1525.778459</td>\n",
       "      <td>4.109290</td>\n",
       "      <td>93.321311</td>\n",
       "      <td>936.793443</td>\n",
       "      <td>0.025535</td>\n",
       "      <td>3.424044</td>\n",
       "    </tr>\n",
       "    <tr>\n",
       "      <th>4</th>\n",
       "      <td>4</td>\n",
       "      <td>918</td>\n",
       "      <td>21.254920</td>\n",
       "      <td>833.931373</td>\n",
       "      <td>2.298475</td>\n",
       "      <td>51.145969</td>\n",
       "      <td>499.606754</td>\n",
       "      <td>0.037875</td>\n",
       "      <td>2.000000</td>\n",
       "    </tr>\n",
       "    <tr>\n",
       "      <th>5</th>\n",
       "      <td>5</td>\n",
       "      <td>1631</td>\n",
       "      <td>37.763371</td>\n",
       "      <td>425.130681</td>\n",
       "      <td>1.126303</td>\n",
       "      <td>24.630901</td>\n",
       "      <td>245.707541</td>\n",
       "      <td>1.009846</td>\n",
       "      <td>1.000613</td>\n",
       "    </tr>\n",
       "  </tbody>\n",
       "</table>\n",
       "</div>"
      ],
      "text/plain": [
       "   cluster  customer_id  perc_customer  gross_revenue  purchases_no  \\\n",
       "2        2          162       3.750868   19509.810864     28.882716   \n",
       "0        0          263       6.089373    4862.485779     11.517110   \n",
       "1        1          430       9.956008    2836.961326      6.934884   \n",
       "3        3          915      21.185460    1525.778459      4.109290   \n",
       "4        4          918      21.254920     833.931373      2.298475   \n",
       "5        5         1631      37.763371     425.130681      1.126303   \n",
       "\n",
       "   products_no      items_no  frequency  recorrence  \n",
       "2   558.006173  10972.228395   0.081103   11.018519  \n",
       "0   238.045627   3046.779468   0.037414    7.885932  \n",
       "1   164.525581   1634.597674   0.027310    5.383721  \n",
       "3    93.321311    936.793443   0.025535    3.424044  \n",
       "4    51.145969    499.606754   0.037875    2.000000  \n",
       "5    24.630901    245.707541   1.009846    1.000613  "
      ]
     },
     "execution_count": 102,
     "metadata": {},
     "output_type": "execute_result"
    }
   ],
   "source": [
    "df_cluster.sort_values('gross_revenue', ascending=False)"
   ]
  },
  {
   "cell_type": "markdown",
   "metadata": {},
   "source": [
    "- 1° (5): Insiders\n",
    "- 2° (6): Pre-Insider - aumentar qtde de produtos comprados (cross sell), aumentar a frequencia (cupom de desconto)\n",
    "- 3° (1): Cluster Even More Products\n",
    "- 4° (0): Cluster Spend Money\n",
    "- 5° (2): Improve Recency\n",
    "- 6° (4): Less then 1K\n",
    "- 7° (3): More then 3 months"
   ]
  },
  {
   "cell_type": "markdown",
   "metadata": {},
   "source": [
    "### 7.3 Cluster Analysis"
   ]
  },
  {
   "cell_type": "markdown",
   "metadata": {},
   "source": [
    "#### 7.3.1 Mindmap"
   ]
  },
  {
   "cell_type": "code",
   "execution_count": 449,
   "metadata": {},
   "outputs": [
    {
     "data": {
      "image/png": "[encoded data removed]",
      "text/plain": [
       "<IPython.core.display.Image object>"
      ]
     },
     "execution_count": 449,
     "metadata": {
      "image/png": {
       "width": 800
      }
     },
     "output_type": "execute_result"
    }
   ],
   "source": [
    "Image('../image/mind_map.png', width=800)"
   ]
  },
  {
   "cell_type": "markdown",
   "metadata": {},
   "source": [
    "#### 7.3.2 Business Hypothesis"
   ]
  },
  {
   "cell_type": "markdown",
   "metadata": {},
   "source": [
    "##### Hipoteses de Compras"
   ]
  },
  {
   "cell_type": "markdown",
   "metadata": {},
   "source": [
    "1. Os clientes do cluster insiders usam cartão de crédito em  80% das compras;                                  --> *Não tem informações para validar essa analise*\n",
    "3. Os clientes do cluster insiders possuem um basket size acima de 5 produtos;                                  --> *Não tem informações para validar essa analise*\n",
    "3. Os clientes do cluster insiders possuem um faturamento acima de 10% do total de compras                      --> **Analisar**    \n",
    "4. Os clientes do cluster insiders possuem um valor de compra acima de 10% do total de compras                  --> **Analisar**\n",
    "5. Os clientes do cluster insiders possuem um número de devolução abaixo da média da base total de clientes.    --> **Analisar**"
   ]
  },
  {
   "cell_type": "markdown",
   "metadata": {},
   "source": [
    "##### Hipoteses de Clientes"
   ]
  },
  {
   "cell_type": "markdown",
   "metadata": {},
   "source": [
    "1. 60% dos clientes do cluster insiders são solteiros;                                              --> *Não tem informações para validar essa analise* \n",
    "2. 10% dos clientes do cluster insiders estão na faixa de 24 a 35 anos;                             --> *Não tem informações para validar essa analise*\n",
    "3. 40% das localidades de entrega do cluster insiders estão dentro de um raio de 50km;              --> *Não tem informações para validar essa analise*\n",
    "4. 5% dos clientes do cluster insiders recebem mais de 100 mil dolares anualmente;                  --> *Não tem informações para validar essa analise*\n",
    "5. 90% dos clientes do cluster insiders tem ensino superior completo;                               --> *Não tem informações para validar essa analise*"
   ]
  },
  {
   "cell_type": "markdown",
   "metadata": {},
   "source": [
    "##### Hipoteses de Produtos"
   ]
  },
  {
   "cell_type": "markdown",
   "metadata": {},
   "source": [
    "1. 30% dos produtos em pacotes grandes são comprados pelos clientes do cluster insiders; --> *Não tem informações para validar essa analise* \n",
    "2. A mediana dos faturamento do grupo Insiders é 10% maior que de toda base; --> **Analisar**\n",
    "3. O percentil do GMV pelos clientes Insiders; --> **Analisar** \n",
    "4. O peso médio dos produtos comprados pelo Insiders é maior que o pedo médio do restante da base; --> *Não tem informações para validar essa analise* \n",
    "5. A idade média dos produtos comprados pelos clientes do cluster insiders é menor que 15 dias; --> *Não tem informações para validar essa analise* "
   ]
  },
  {
   "cell_type": "markdown",
   "metadata": {},
   "source": [
    "#### 7.3.3 Hypothesis Analysis"
   ]
  },
  {
   "cell_type": "markdown",
   "metadata": {},
   "source": [
    "##### Dataset"
   ]
  },
  {
   "cell_type": "code",
   "execution_count": 103,
   "metadata": {},
   "outputs": [
    {
     "data": {
      "text/html": [
       "<div>\n",
       "<style scoped>\n",
       "    .dataframe tbody tr th:only-of-type {\n",
       "        vertical-align: middle;\n",
       "    }\n",
       "\n",
       "    .dataframe tbody tr th {\n",
       "        vertical-align: top;\n",
       "    }\n",
       "\n",
       "    .dataframe thead th {\n",
       "        text-align: right;\n",
       "    }\n",
       "</style>\n",
       "<table border=\"1\" class=\"dataframe\">\n",
       "  <thead>\n",
       "    <tr style=\"text-align: right;\">\n",
       "      <th></th>\n",
       "      <th>customer_id</th>\n",
       "      <th>gross_revenue</th>\n",
       "      <th>recency_days</th>\n",
       "      <th>purchases_no</th>\n",
       "      <th>products_no</th>\n",
       "      <th>items_no</th>\n",
       "      <th>frequency</th>\n",
       "      <th>returns_no</th>\n",
       "      <th>satisfaction_rate</th>\n",
       "      <th>recorrence</th>\n",
       "      <th>cluster</th>\n",
       "    </tr>\n",
       "  </thead>\n",
       "  <tbody>\n",
       "    <tr>\n",
       "      <th>0</th>\n",
       "      <td>17850</td>\n",
       "      <td>5391.21</td>\n",
       "      <td>372</td>\n",
       "      <td>34</td>\n",
       "      <td>297</td>\n",
       "      <td>1733</td>\n",
       "      <td>17.000000</td>\n",
       "      <td>40.0</td>\n",
       "      <td>0.976919</td>\n",
       "      <td>1.0</td>\n",
       "      <td>5</td>\n",
       "    </tr>\n",
       "    <tr>\n",
       "      <th>1</th>\n",
       "      <td>13047</td>\n",
       "      <td>3232.59</td>\n",
       "      <td>56</td>\n",
       "      <td>9</td>\n",
       "      <td>171</td>\n",
       "      <td>1390</td>\n",
       "      <td>0.028302</td>\n",
       "      <td>35.0</td>\n",
       "      <td>0.974820</td>\n",
       "      <td>7.0</td>\n",
       "      <td>0</td>\n",
       "    </tr>\n",
       "    <tr>\n",
       "      <th>2</th>\n",
       "      <td>12583</td>\n",
       "      <td>6705.38</td>\n",
       "      <td>2</td>\n",
       "      <td>15</td>\n",
       "      <td>232</td>\n",
       "      <td>5028</td>\n",
       "      <td>0.040323</td>\n",
       "      <td>50.0</td>\n",
       "      <td>0.990056</td>\n",
       "      <td>11.0</td>\n",
       "      <td>2</td>\n",
       "    </tr>\n",
       "    <tr>\n",
       "      <th>3</th>\n",
       "      <td>13748</td>\n",
       "      <td>948.25</td>\n",
       "      <td>95</td>\n",
       "      <td>5</td>\n",
       "      <td>28</td>\n",
       "      <td>439</td>\n",
       "      <td>0.017921</td>\n",
       "      <td>0.0</td>\n",
       "      <td>1.000000</td>\n",
       "      <td>3.0</td>\n",
       "      <td>3</td>\n",
       "    </tr>\n",
       "    <tr>\n",
       "      <th>4</th>\n",
       "      <td>15100</td>\n",
       "      <td>876.00</td>\n",
       "      <td>333</td>\n",
       "      <td>3</td>\n",
       "      <td>3</td>\n",
       "      <td>80</td>\n",
       "      <td>0.073171</td>\n",
       "      <td>22.0</td>\n",
       "      <td>0.725000</td>\n",
       "      <td>2.0</td>\n",
       "      <td>4</td>\n",
       "    </tr>\n",
       "  </tbody>\n",
       "</table>\n",
       "</div>"
      ],
      "text/plain": [
       "   customer_id  gross_revenue  recency_days  purchases_no  products_no  \\\n",
       "0        17850        5391.21           372            34          297   \n",
       "1        13047        3232.59            56             9          171   \n",
       "2        12583        6705.38             2            15          232   \n",
       "3        13748         948.25            95             5           28   \n",
       "4        15100         876.00           333             3            3   \n",
       "\n",
       "   items_no  frequency  returns_no  satisfaction_rate  recorrence  cluster  \n",
       "0      1733  17.000000        40.0           0.976919         1.0        5  \n",
       "1      1390   0.028302        35.0           0.974820         7.0        0  \n",
       "2      5028   0.040323        50.0           0.990056        11.0        2  \n",
       "3       439   0.017921         0.0           1.000000         3.0        3  \n",
       "4        80   0.073171        22.0           0.725000         2.0        4  "
      ]
     },
     "execution_count": 103,
     "metadata": {},
     "output_type": "execute_result"
    }
   ],
   "source": [
    "df10 = df92.copy()\n",
    "df10.head()"
   ]
  },
  {
   "cell_type": "markdown",
   "metadata": {},
   "source": [
    "##### H1. Os clientes do cluster insiders possuem um faturamento acima de 10% do total de compras. **True** \n"
   ]
  },
  {
   "cell_type": "code",
   "execution_count": 105,
   "metadata": {},
   "outputs": [
    {
     "name": "stdout",
     "output_type": "stream",
     "text": [
      "% Gross Revenue Insiders: 37.12%\n"
     ]
    }
   ],
   "source": [
    "df_gmv_insiders = df10.loc[df10['cluster'] == 2, 'gross_revenue'].sum()\n",
    "df_gmv_total = df10.loc[:, 'gross_revenue'].sum()\n",
    "\n",
    "# Insiders rate\n",
    "print(f'% Gross Revenue Insiders: {df_gmv_insiders / df_gmv_total:.2%}')\n"
   ]
  },
  {
   "cell_type": "markdown",
   "metadata": {},
   "source": [
    "##### H2. Os clientes do cluster insiders possuem um volume de compra (produtos) acima de 10% do total de compras. **True**"
   ]
  },
  {
   "cell_type": "code",
   "execution_count": 106,
   "metadata": {},
   "outputs": [
    {
     "name": "stdout",
     "output_type": "stream",
     "text": [
      "% Sales Insiders: 35.56%\n"
     ]
    }
   ],
   "source": [
    "df_sales_insiders = df10.loc[df10['cluster'] == 2, 'items_no'].sum()\n",
    "df_sales_total = df10.loc[:, 'items_no'].sum()\n",
    "\n",
    "# Insiders rate\n",
    "print(f'% Sales Insiders: {df_sales_insiders / df_sales_total:.2%}')\n"
   ]
  },
  {
   "cell_type": "markdown",
   "metadata": {},
   "source": [
    "##### H3. Os clientes do cluster insiders possuem uma taxa de devolução média abaixo da base total de clientes. **False**"
   ]
  },
  {
   "cell_type": "code",
   "execution_count": 108,
   "metadata": {},
   "outputs": [
    {
     "name": "stdout",
     "output_type": "stream",
     "text": [
      "Return Rate Insiders: 2.17% vs Return Rate Total: 1.98%\n"
     ]
    }
   ],
   "source": [
    "# media de devolução do cluester Insiders\n",
    "df_avg_returns_insiders = df10.loc[df10['cluster']==2, 'returns_no'].mean()\n",
    "df_avg_products_insiders = df10.loc[df10['cluster']==2, 'items_no'].mean()\n",
    "return_rate_insiders = df_avg_returns_insiders / df_avg_products_insiders\n",
    "\n",
    "# media de devolução do total da base\n",
    "df_avg_returns_total = df10.loc[:, 'returns_no'].mean()\n",
    "df_avg_products_total = df10.loc[:, 'items_no'].mean()\n",
    "return_rate_total = df_avg_returns_total / df_avg_products_total\n",
    "\n",
    "print(f'Return Rate Insiders: {return_rate_insiders:.2%} vs Return Rate Total: {return_rate_total:.2%}')\n"
   ]
  },
  {
   "cell_type": "markdown",
   "metadata": {},
   "source": [
    "##### H4. A mediana do faturamento do grupo Insiders é 10% maior que de toda base. **True**\n"
   ]
  },
  {
   "cell_type": "code",
   "execution_count": 109,
   "metadata": {},
   "outputs": [
    {
     "name": "stdout",
     "output_type": "stream",
     "text": [
      "Median Diff:-58.1%\n"
     ]
    }
   ],
   "source": [
    "# mediana de GMV do insiders\n",
    "\n",
    "df_median_gmv_insiders = df10.loc[df10['cluster']==5, 'gross_revenue'].median()\n",
    "df_median_gmv_total = df10.loc[:, 'gross_revenue'].median()\n",
    "\n",
    "gmv_diff = (df_median_gmv_insiders - df_median_gmv_total) / df_median_gmv_total\n",
    "\n",
    "print(f'Median Diff:{gmv_diff:.1%}')\n"
   ]
  },
  {
   "cell_type": "markdown",
   "metadata": {},
   "source": [
    "##### H5. O GMV dos clientes Insiders estão concentrados no terceiro quartil. **False**"
   ]
  },
  {
   "cell_type": "code",
   "execution_count": 112,
   "metadata": {},
   "outputs": [
    {
     "data": {
      "text/plain": [
       "1334.97213"
      ]
     },
     "execution_count": 112,
     "metadata": {},
     "output_type": "execute_result"
    }
   ],
   "source": [
    "np.percentile(df10.loc[df10['cluster']==2, 'gross_revenue'], q=0.1)"
   ]
  },
  {
   "cell_type": "code",
   "execution_count": 113,
   "metadata": {},
   "outputs": [
    {
     "data": {
      "text/plain": [
       "1607.56061"
      ]
     },
     "execution_count": 113,
     "metadata": {},
     "output_type": "execute_result"
    }
   ],
   "source": [
    "np.percentile(df10.loc[df10['cluster']==2, 'gross_revenue'], q=0.9)\n"
   ]
  },
  {
   "cell_type": "code",
   "execution_count": 114,
   "metadata": {},
   "outputs": [
    {
     "data": {
      "text/plain": [
       "<AxesSubplot:xlabel='gross_revenue'>"
      ]
     },
     "execution_count": 114,
     "metadata": {},
     "output_type": "execute_result"
    },
    {
     "data": {
      "image/png": "[encoded data removed]",
      "text/plain": [
       "<Figure size 432x360 with 1 Axes>"
      ]
     },
     "metadata": {},
     "output_type": "display_data"
    }
   ],
   "source": [
    "sns.boxplot(df10.loc[df10['cluster']==2, 'gross_revenue'])"
   ]
  },
  {
   "cell_type": "code",
   "execution_count": 115,
   "metadata": {},
   "outputs": [
    {
     "data": {
      "text/plain": [
       "<AxesSubplot:xlabel='gross_revenue'>"
      ]
     },
     "execution_count": 115,
     "metadata": {},
     "output_type": "execute_result"
    },
    {
     "data": {
      "image/png": "[encoded data removed]",
      "text/plain": [
       "<Figure size 432x360 with 1 Axes>"
      ]
     },
     "metadata": {},
     "output_type": "display_data"
    }
   ],
   "source": [
    "# \"Zoom\" no boxplot\n",
    "df_aux = df10.loc[(df10['cluster']==2) & (df10['gross_revenue']<10000), 'gross_revenue']\n",
    "sns.violinplot(x=df_aux)\n"
   ]
  },
  {
   "cell_type": "markdown",
   "metadata": {},
   "source": [
    "#### 7.3.4 Perguntas de Negócios"
   ]
  },
  {
   "cell_type": "markdown",
   "metadata": {},
   "source": [
    "##### Q1: Quem são as pessoas elegíveis para participar do programa de Insiders ?"
   ]
  },
  {
   "cell_type": "code",
   "execution_count": 117,
   "metadata": {},
   "outputs": [
    {
     "data": {
      "text/plain": [
       "2     12583\n",
       "6     14688\n",
       "8     15311\n",
       "12    16029\n",
       "15    17511\n",
       "Name: customer_id, dtype: int64"
      ]
     },
     "execution_count": 117,
     "metadata": {},
     "output_type": "execute_result"
    }
   ],
   "source": [
    "df10.loc[df10['cluster']==2, 'customer_id'].head()"
   ]
  },
  {
   "cell_type": "markdown",
   "metadata": {},
   "source": [
    "##### Q2: Quantos clientes farão parte do grupo?"
   ]
  },
  {
   "cell_type": "code",
   "execution_count": 116,
   "metadata": {},
   "outputs": [
    {
     "data": {
      "text/plain": [
       "162"
      ]
     },
     "execution_count": 116,
     "metadata": {},
     "output_type": "execute_result"
    }
   ],
   "source": [
    "df10.loc[df10['cluster']==2, 'customer_id'].size\n"
   ]
  },
  {
   "cell_type": "markdown",
   "metadata": {},
   "source": [
    "##### Q3: Quais as principais características desses clientes ?"
   ]
  },
  {
   "cell_type": "markdown",
   "metadata": {},
   "source": [
    "- Avg Revenue: $8,859.36\n",
    "- Avg Recency: 21 days\n",
    "- Avg of products purchased: 425 products\n",
    "- Frequency: 0,09 purchase/day"
   ]
  },
  {
   "cell_type": "markdown",
   "metadata": {},
   "source": [
    "##### Q4: Qual a porcentagem de contribuição do faturamento, vinda do Insiders ?"
   ]
  },
  {
   "cell_type": "code",
   "execution_count": 119,
   "metadata": {},
   "outputs": [
    {
     "name": "stdout",
     "output_type": "stream",
     "text": [
      "% Gross Revenue Insiders: 37.12%\n"
     ]
    }
   ],
   "source": [
    "df_gmv_insiders = df10.loc[df10['cluster'] == 2, 'gross_revenue'].sum()\n",
    "df_gmv_total = df10.loc[:, 'gross_revenue'].sum()\n",
    "\n",
    "# Insiders rate\n",
    "print(f'% Gross Revenue Insiders: {df_gmv_insiders / df_gmv_total:.2%}')"
   ]
  },
  {
   "cell_type": "markdown",
   "metadata": {},
   "source": [
    "##### Q5: Qual a expectativa de faturamento desse grupo para os próximos meses ?"
   ]
  },
  {
   "cell_type": "markdown",
   "metadata": {},
   "source": [
    "##### Q6: Quais as condições para uma pessoa ser elegível ao Insiders ?"
   ]
  },
  {
   "cell_type": "markdown",
   "metadata": {},
   "source": [
    "O modelo irá definir quem está apto a entrar no Insiders"
   ]
  },
  {
   "cell_type": "markdown",
   "metadata": {},
   "source": [
    "##### Q7: Quais as condições para uma pessoa ser removida do Insiders ?"
   ]
  },
  {
   "cell_type": "markdown",
   "metadata": {},
   "source": [
    "O modelo irá definir quem vai sair do Insiders"
   ]
  },
  {
   "cell_type": "markdown",
   "metadata": {},
   "source": [
    "##### Q8: Qual a garantia que o programa Insiders é melhor que o restante da base ?"
   ]
  },
  {
   "cell_type": "code",
   "execution_count": 120,
   "metadata": {},
   "outputs": [
    {
     "data": {
      "text/html": [
       "<div>\n",
       "<style scoped>\n",
       "    .dataframe tbody tr th:only-of-type {\n",
       "        vertical-align: middle;\n",
       "    }\n",
       "\n",
       "    .dataframe tbody tr th {\n",
       "        vertical-align: top;\n",
       "    }\n",
       "\n",
       "    .dataframe thead th {\n",
       "        text-align: right;\n",
       "    }\n",
       "</style>\n",
       "<table border=\"1\" class=\"dataframe\">\n",
       "  <thead>\n",
       "    <tr style=\"text-align: right;\">\n",
       "      <th></th>\n",
       "      <th>cluster</th>\n",
       "      <th>customer_id</th>\n",
       "      <th>perc_customer</th>\n",
       "      <th>gross_revenue</th>\n",
       "      <th>purchases_no</th>\n",
       "      <th>products_no</th>\n",
       "      <th>items_no</th>\n",
       "      <th>frequency</th>\n",
       "      <th>recorrence</th>\n",
       "    </tr>\n",
       "  </thead>\n",
       "  <tbody>\n",
       "    <tr>\n",
       "      <th>2</th>\n",
       "      <td>2</td>\n",
       "      <td>162</td>\n",
       "      <td>3.750868</td>\n",
       "      <td>19509.810864</td>\n",
       "      <td>28.882716</td>\n",
       "      <td>558.006173</td>\n",
       "      <td>10972.228395</td>\n",
       "      <td>0.081103</td>\n",
       "      <td>11.018519</td>\n",
       "    </tr>\n",
       "    <tr>\n",
       "      <th>0</th>\n",
       "      <td>0</td>\n",
       "      <td>263</td>\n",
       "      <td>6.089373</td>\n",
       "      <td>4862.485779</td>\n",
       "      <td>11.517110</td>\n",
       "      <td>238.045627</td>\n",
       "      <td>3046.779468</td>\n",
       "      <td>0.037414</td>\n",
       "      <td>7.885932</td>\n",
       "    </tr>\n",
       "    <tr>\n",
       "      <th>1</th>\n",
       "      <td>1</td>\n",
       "      <td>430</td>\n",
       "      <td>9.956008</td>\n",
       "      <td>2836.961326</td>\n",
       "      <td>6.934884</td>\n",
       "      <td>164.525581</td>\n",
       "      <td>1634.597674</td>\n",
       "      <td>0.027310</td>\n",
       "      <td>5.383721</td>\n",
       "    </tr>\n",
       "    <tr>\n",
       "      <th>3</th>\n",
       "      <td>3</td>\n",
       "      <td>915</td>\n",
       "      <td>21.185460</td>\n",
       "      <td>1525.778459</td>\n",
       "      <td>4.109290</td>\n",
       "      <td>93.321311</td>\n",
       "      <td>936.793443</td>\n",
       "      <td>0.025535</td>\n",
       "      <td>3.424044</td>\n",
       "    </tr>\n",
       "    <tr>\n",
       "      <th>4</th>\n",
       "      <td>4</td>\n",
       "      <td>918</td>\n",
       "      <td>21.254920</td>\n",
       "      <td>833.931373</td>\n",
       "      <td>2.298475</td>\n",
       "      <td>51.145969</td>\n",
       "      <td>499.606754</td>\n",
       "      <td>0.037875</td>\n",
       "      <td>2.000000</td>\n",
       "    </tr>\n",
       "    <tr>\n",
       "      <th>5</th>\n",
       "      <td>5</td>\n",
       "      <td>1631</td>\n",
       "      <td>37.763371</td>\n",
       "      <td>425.130681</td>\n",
       "      <td>1.126303</td>\n",
       "      <td>24.630901</td>\n",
       "      <td>245.707541</td>\n",
       "      <td>1.009846</td>\n",
       "      <td>1.000613</td>\n",
       "    </tr>\n",
       "  </tbody>\n",
       "</table>\n",
       "</div>"
      ],
      "text/plain": [
       "   cluster  customer_id  perc_customer  gross_revenue  purchases_no  \\\n",
       "2        2          162       3.750868   19509.810864     28.882716   \n",
       "0        0          263       6.089373    4862.485779     11.517110   \n",
       "1        1          430       9.956008    2836.961326      6.934884   \n",
       "3        3          915      21.185460    1525.778459      4.109290   \n",
       "4        4          918      21.254920     833.931373      2.298475   \n",
       "5        5         1631      37.763371     425.130681      1.126303   \n",
       "\n",
       "   products_no      items_no  frequency  recorrence  \n",
       "2   558.006173  10972.228395   0.081103   11.018519  \n",
       "0   238.045627   3046.779468   0.037414    7.885932  \n",
       "1   164.525581   1634.597674   0.027310    5.383721  \n",
       "3    93.321311    936.793443   0.025535    3.424044  \n",
       "4    51.145969    499.606754   0.037875    2.000000  \n",
       "5    24.630901    245.707541   1.009846    1.000613  "
      ]
     },
     "execution_count": 120,
     "metadata": {},
     "output_type": "execute_result"
    }
   ],
   "source": [
    "df_cluster.sort_values('gross_revenue', ascending=False)"
   ]
  },
  {
   "cell_type": "markdown",
   "metadata": {},
   "source": [
    "##### Q9: Quais ações o time de marketing pode realizar para aumentar o faturamento?"
   ]
  },
  {
   "cell_type": "markdown",
   "metadata": {},
   "source": [
    "Ações que vão impactar o faturamento:\n",
    "- Ações de Cross Sell para aumentar a quantidade de produtos comprados\n",
    "- Açoes promocionais como cupom de desconto para aumentar a frequencia de compra"
   ]
  }
 ],
 "metadata": {
  "kernelspec": {
   "display_name": "Python 3.9.0 64-bit ('LoyaltyProgram')",
   "language": "python",
   "name": "python3"
  },
  "language_info": {
   "codemirror_mode": {
    "name": "ipython",
    "version": 3
   },
   "file_extension": ".py",
   "mimetype": "text/x-python",
   "name": "python",
   "nbconvert_exporter": "python",
   "pygments_lexer": "ipython3",
   "version": "3.9.0"
  },
  "orig_nbformat": 4,
  "vscode": {
   "interpreter": {
    "hash": "b3aea487c2939026990446acc39d0068ca11417f375febde9f2cd58727f0d4dc"
   }
  }
 },
 "nbformat": 4,
 "nbformat_minor": 2
}
