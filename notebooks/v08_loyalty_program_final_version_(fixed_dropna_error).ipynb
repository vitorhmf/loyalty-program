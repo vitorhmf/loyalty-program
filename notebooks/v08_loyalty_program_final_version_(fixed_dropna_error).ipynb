{
 "cells": [
  {
   "cell_type": "markdown",
   "metadata": {},
   "source": [
    "# 0. Imports"
   ]
  },
  {
   "cell_type": "markdown",
   "metadata": {},
   "source": [
    "### 0.1 Libs"
   ]
  },
  {
   "cell_type": "code",
   "execution_count": 83,
   "metadata": {},
   "outputs": [],
   "source": [
    "import re\n",
    "import warnings\n",
    "import inflection\n",
    "import sqlite3\n",
    "\n",
    "\n",
    "import numpy            as np\n",
    "import pandas           as pd\n",
    "import seaborn          as sns\n",
    "import umap.umap_       as umap\n",
    "import matplotlib.cm    as cm\n",
    "import scipy.stats      as st\n",
    "\n",
    "from IPython.display        import Image\n",
    "from sqlalchemy             import create_engine\n",
    "from pandas_profiling       import ProfileReport\n",
    "\n",
    "from plotly                 import express          as px\n",
    "from matplotlib             import pyplot           as plt\n",
    "\n",
    "from scipy                  import stats            as ss\n",
    "from scipy.cluster          import hierarchy        as hc\n",
    "\n",
    "from sklearn                import cluster          as c\n",
    "from sklearn                import metrics          as m\n",
    "from sklearn                import preprocessing    as pp\n",
    "from sklearn                import decomposition    as dd\n",
    "from sklearn                import ensemble         as en\n",
    "from sklearn                import mixture          as mx\n",
    "from sklearn                import manifold         as mn"
   ]
  },
  {
   "cell_type": "markdown",
   "metadata": {},
   "source": [
    "### 0.2 Helper Functions"
   ]
  },
  {
   "cell_type": "code",
   "execution_count": 84,
   "metadata": {},
   "outputs": [],
   "source": [
    "warnings.simplefilter(\"ignore\")\n",
    "\n",
    "def numerical_metrics(numerical_attributes):\n",
    "    #ct = central tendency\n",
    "    ct_mean = pd.DataFrame(numerical_attributes.apply(np.mean)).T\n",
    "    ct_median = pd.DataFrame(numerical_attributes.apply(np.median)).T\n",
    "\n",
    "    #d = dispersion\n",
    "    d_std = pd.DataFrame(numerical_attributes.apply(np.std)).T\n",
    "    d_min = pd.DataFrame(numerical_attributes.apply(min)).T\n",
    "    d_max = pd.DataFrame(numerical_attributes.apply(max)).T\n",
    "    d_range = pd.DataFrame(numerical_attributes.apply(lambda x: x.max() - x.min())).T\n",
    "    d_skew = pd.DataFrame(numerical_attributes.apply(lambda x: x.skew())).T\n",
    "    d_kurtosis = pd.DataFrame(numerical_attributes.apply(lambda x: x.kurtosis())).T\n",
    "\n",
    "    concat = pd.concat([d_min,d_max,d_range,ct_mean,ct_median,d_std,d_skew,d_kurtosis]).T.reset_index()\n",
    "    concat.columns=['Attributes','Min','Max','Range','Mean','Median','STD','Skew','Kurtosis']\n",
    "\n",
    "    return concat"
   ]
  },
  {
   "cell_type": "markdown",
   "metadata": {},
   "source": [
    "### 0.3 Loading Data"
   ]
  },
  {
   "cell_type": "code",
   "execution_count": 85,
   "metadata": {},
   "outputs": [],
   "source": [
    "df_raw = pd.read_csv('../data/data.csv', encoding= 'unicode_escape')"
   ]
  },
  {
   "cell_type": "markdown",
   "metadata": {},
   "source": [
    "# 1. Data Description"
   ]
  },
  {
   "cell_type": "markdown",
   "metadata": {},
   "source": [
    "### 1.0 Rename Columns"
   ]
  },
  {
   "cell_type": "code",
   "execution_count": 86,
   "metadata": {},
   "outputs": [
    {
     "data": {
      "text/plain": [
       "Index(['InvoiceNo', 'StockCode', 'Description', 'Quantity', 'InvoiceDate',\n",
       "       'UnitPrice', 'CustomerID', 'Country'],\n",
       "      dtype='object')"
      ]
     },
     "execution_count": 86,
     "metadata": {},
     "output_type": "execute_result"
    }
   ],
   "source": [
    "df1 = df_raw.copy()\n",
    "\n",
    "df1.columns"
   ]
  },
  {
   "cell_type": "code",
   "execution_count": 87,
   "metadata": {},
   "outputs": [
    {
     "data": {
      "text/html": [
       "<div>\n",
       "<style scoped>\n",
       "    .dataframe tbody tr th:only-of-type {\n",
       "        vertical-align: middle;\n",
       "    }\n",
       "\n",
       "    .dataframe tbody tr th {\n",
       "        vertical-align: top;\n",
       "    }\n",
       "\n",
       "    .dataframe thead th {\n",
       "        text-align: right;\n",
       "    }\n",
       "</style>\n",
       "<table border=\"1\" class=\"dataframe\">\n",
       "  <thead>\n",
       "    <tr style=\"text-align: right;\">\n",
       "      <th></th>\n",
       "      <th>invoice_no</th>\n",
       "      <th>stock_code</th>\n",
       "      <th>description</th>\n",
       "      <th>quantity</th>\n",
       "      <th>invoice_date</th>\n",
       "      <th>unit_price</th>\n",
       "      <th>customer_id</th>\n",
       "      <th>country</th>\n",
       "    </tr>\n",
       "  </thead>\n",
       "  <tbody>\n",
       "    <tr>\n",
       "      <th>0</th>\n",
       "      <td>536365</td>\n",
       "      <td>85123A</td>\n",
       "      <td>WHITE HANGING HEART T-LIGHT HOLDER</td>\n",
       "      <td>6</td>\n",
       "      <td>12/1/2010 8:26</td>\n",
       "      <td>2.55</td>\n",
       "      <td>17850.0</td>\n",
       "      <td>United Kingdom</td>\n",
       "    </tr>\n",
       "    <tr>\n",
       "      <th>1</th>\n",
       "      <td>536365</td>\n",
       "      <td>71053</td>\n",
       "      <td>WHITE METAL LANTERN</td>\n",
       "      <td>6</td>\n",
       "      <td>12/1/2010 8:26</td>\n",
       "      <td>3.39</td>\n",
       "      <td>17850.0</td>\n",
       "      <td>United Kingdom</td>\n",
       "    </tr>\n",
       "    <tr>\n",
       "      <th>2</th>\n",
       "      <td>536365</td>\n",
       "      <td>84406B</td>\n",
       "      <td>CREAM CUPID HEARTS COAT HANGER</td>\n",
       "      <td>8</td>\n",
       "      <td>12/1/2010 8:26</td>\n",
       "      <td>2.75</td>\n",
       "      <td>17850.0</td>\n",
       "      <td>United Kingdom</td>\n",
       "    </tr>\n",
       "    <tr>\n",
       "      <th>3</th>\n",
       "      <td>536365</td>\n",
       "      <td>84029G</td>\n",
       "      <td>KNITTED UNION FLAG HOT WATER BOTTLE</td>\n",
       "      <td>6</td>\n",
       "      <td>12/1/2010 8:26</td>\n",
       "      <td>3.39</td>\n",
       "      <td>17850.0</td>\n",
       "      <td>United Kingdom</td>\n",
       "    </tr>\n",
       "    <tr>\n",
       "      <th>4</th>\n",
       "      <td>536365</td>\n",
       "      <td>84029E</td>\n",
       "      <td>RED WOOLLY HOTTIE WHITE HEART.</td>\n",
       "      <td>6</td>\n",
       "      <td>12/1/2010 8:26</td>\n",
       "      <td>3.39</td>\n",
       "      <td>17850.0</td>\n",
       "      <td>United Kingdom</td>\n",
       "    </tr>\n",
       "  </tbody>\n",
       "</table>\n",
       "</div>"
      ],
      "text/plain": [
       "  invoice_no stock_code                          description  quantity  \\\n",
       "0     536365     85123A   WHITE HANGING HEART T-LIGHT HOLDER         6   \n",
       "1     536365      71053                  WHITE METAL LANTERN         6   \n",
       "2     536365     84406B       CREAM CUPID HEARTS COAT HANGER         8   \n",
       "3     536365     84029G  KNITTED UNION FLAG HOT WATER BOTTLE         6   \n",
       "4     536365     84029E       RED WOOLLY HOTTIE WHITE HEART.         6   \n",
       "\n",
       "     invoice_date  unit_price  customer_id         country  \n",
       "0  12/1/2010 8:26        2.55      17850.0  United Kingdom  \n",
       "1  12/1/2010 8:26        3.39      17850.0  United Kingdom  \n",
       "2  12/1/2010 8:26        2.75      17850.0  United Kingdom  \n",
       "3  12/1/2010 8:26        3.39      17850.0  United Kingdom  \n",
       "4  12/1/2010 8:26        3.39      17850.0  United Kingdom  "
      ]
     },
     "execution_count": 87,
     "metadata": {},
     "output_type": "execute_result"
    }
   ],
   "source": [
    "cols_old = ['InvoiceNo', 'StockCode', 'Description', 'Quantity', 'InvoiceDate',\n",
    "       'UnitPrice', 'CustomerID', 'Country']\n",
    "\n",
    "snakecase = lambda x: inflection.underscore(x)\n",
    "\n",
    "cols_new = list( map(snakecase, cols_old))\n",
    "\n",
    "df1.columns = cols_new\n",
    "\n",
    "df1.head()"
   ]
  },
  {
   "cell_type": "markdown",
   "metadata": {},
   "source": [
    "### 1.1 Data Dimentions"
   ]
  },
  {
   "cell_type": "code",
   "execution_count": 88,
   "metadata": {},
   "outputs": [
    {
     "name": "stdout",
     "output_type": "stream",
     "text": [
      "Number of Rows:541909\n",
      "Number of Columns:8\n",
      "Number of Clients:4373\n"
     ]
    }
   ],
   "source": [
    "print(f'Number of Rows:{df1.shape[0]}')\n",
    "print(f'Number of Columns:{df1.shape[1]}')\n",
    "print('Number of Clients:{}'.format(len(df1['customer_id'].unique())))"
   ]
  },
  {
   "cell_type": "code",
   "execution_count": 89,
   "metadata": {},
   "outputs": [
    {
     "name": "stdout",
     "output_type": "stream",
     "text": [
      "First day: 1/10/2011 10:04\n",
      "Last day: 9/9/2011 9:52\n"
     ]
    }
   ],
   "source": [
    "print('First day: {}'.format(df1['invoice_date'].min()))\n",
    "print('Last day: {}'.format(df1['invoice_date'].max()))"
   ]
  },
  {
   "cell_type": "markdown",
   "metadata": {},
   "source": [
    "### 1.2 Data Types"
   ]
  },
  {
   "cell_type": "code",
   "execution_count": 90,
   "metadata": {},
   "outputs": [
    {
     "data": {
      "text/plain": [
       "invoice_no       object\n",
       "stock_code       object\n",
       "description      object\n",
       "quantity          int64\n",
       "invoice_date     object\n",
       "unit_price      float64\n",
       "customer_id     float64\n",
       "country          object\n",
       "dtype: object"
      ]
     },
     "execution_count": 90,
     "metadata": {},
     "output_type": "execute_result"
    }
   ],
   "source": [
    "df1.dtypes"
   ]
  },
  {
   "cell_type": "markdown",
   "metadata": {},
   "source": [
    "### 1.3 Check NA"
   ]
  },
  {
   "cell_type": "code",
   "execution_count": 91,
   "metadata": {},
   "outputs": [
    {
     "data": {
      "text/plain": [
       "invoice_no           0\n",
       "stock_code           0\n",
       "description       1454\n",
       "quantity             0\n",
       "invoice_date         0\n",
       "unit_price           0\n",
       "customer_id     135080\n",
       "country              0\n",
       "dtype: int64"
      ]
     },
     "execution_count": 91,
     "metadata": {},
     "output_type": "execute_result"
    }
   ],
   "source": [
    "df1.isna().sum()"
   ]
  },
  {
   "cell_type": "markdown",
   "metadata": {},
   "source": [
    "### 1.4 Fillout NA"
   ]
  },
  {
   "cell_type": "code",
   "execution_count": 92,
   "metadata": {},
   "outputs": [],
   "source": [
    "# Analise detalhada do Na\n",
    "df_missing = df1.loc[df1['customer_id'].isna(), :]\n",
    "df_not_missing = df1.loc[~df1['customer_id'].isna(), :]"
   ]
  },
  {
   "cell_type": "code",
   "execution_count": 93,
   "metadata": {},
   "outputs": [
    {
     "data": {
      "text/html": [
       "<div>\n",
       "<style scoped>\n",
       "    .dataframe tbody tr th:only-of-type {\n",
       "        vertical-align: middle;\n",
       "    }\n",
       "\n",
       "    .dataframe tbody tr th {\n",
       "        vertical-align: top;\n",
       "    }\n",
       "\n",
       "    .dataframe thead th {\n",
       "        text-align: right;\n",
       "    }\n",
       "</style>\n",
       "<table border=\"1\" class=\"dataframe\">\n",
       "  <thead>\n",
       "    <tr style=\"text-align: right;\">\n",
       "      <th></th>\n",
       "      <th>invoice_no</th>\n",
       "      <th>stock_code</th>\n",
       "      <th>description</th>\n",
       "      <th>quantity</th>\n",
       "      <th>invoice_date</th>\n",
       "      <th>unit_price</th>\n",
       "      <th>country</th>\n",
       "      <th>customer_id</th>\n",
       "    </tr>\n",
       "  </thead>\n",
       "  <tbody>\n",
       "    <tr>\n",
       "      <th>0</th>\n",
       "      <td>536365</td>\n",
       "      <td>85123A</td>\n",
       "      <td>WHITE HANGING HEART T-LIGHT HOLDER</td>\n",
       "      <td>6</td>\n",
       "      <td>12/1/2010 8:26</td>\n",
       "      <td>2.55</td>\n",
       "      <td>United Kingdom</td>\n",
       "      <td>17850.0</td>\n",
       "    </tr>\n",
       "    <tr>\n",
       "      <th>1</th>\n",
       "      <td>536365</td>\n",
       "      <td>71053</td>\n",
       "      <td>WHITE METAL LANTERN</td>\n",
       "      <td>6</td>\n",
       "      <td>12/1/2010 8:26</td>\n",
       "      <td>3.39</td>\n",
       "      <td>United Kingdom</td>\n",
       "      <td>17850.0</td>\n",
       "    </tr>\n",
       "    <tr>\n",
       "      <th>2</th>\n",
       "      <td>536365</td>\n",
       "      <td>84406B</td>\n",
       "      <td>CREAM CUPID HEARTS COAT HANGER</td>\n",
       "      <td>8</td>\n",
       "      <td>12/1/2010 8:26</td>\n",
       "      <td>2.75</td>\n",
       "      <td>United Kingdom</td>\n",
       "      <td>17850.0</td>\n",
       "    </tr>\n",
       "    <tr>\n",
       "      <th>3</th>\n",
       "      <td>536365</td>\n",
       "      <td>84029G</td>\n",
       "      <td>KNITTED UNION FLAG HOT WATER BOTTLE</td>\n",
       "      <td>6</td>\n",
       "      <td>12/1/2010 8:26</td>\n",
       "      <td>3.39</td>\n",
       "      <td>United Kingdom</td>\n",
       "      <td>17850.0</td>\n",
       "    </tr>\n",
       "    <tr>\n",
       "      <th>4</th>\n",
       "      <td>536365</td>\n",
       "      <td>84029E</td>\n",
       "      <td>RED WOOLLY HOTTIE WHITE HEART.</td>\n",
       "      <td>6</td>\n",
       "      <td>12/1/2010 8:26</td>\n",
       "      <td>3.39</td>\n",
       "      <td>United Kingdom</td>\n",
       "      <td>17850.0</td>\n",
       "    </tr>\n",
       "  </tbody>\n",
       "</table>\n",
       "</div>"
      ],
      "text/plain": [
       "  invoice_no stock_code                          description  quantity  \\\n",
       "0     536365     85123A   WHITE HANGING HEART T-LIGHT HOLDER         6   \n",
       "1     536365      71053                  WHITE METAL LANTERN         6   \n",
       "2     536365     84406B       CREAM CUPID HEARTS COAT HANGER         8   \n",
       "3     536365     84029G  KNITTED UNION FLAG HOT WATER BOTTLE         6   \n",
       "4     536365     84029E       RED WOOLLY HOTTIE WHITE HEART.         6   \n",
       "\n",
       "     invoice_date  unit_price         country  customer_id  \n",
       "0  12/1/2010 8:26        2.55  United Kingdom      17850.0  \n",
       "1  12/1/2010 8:26        3.39  United Kingdom      17850.0  \n",
       "2  12/1/2010 8:26        2.75  United Kingdom      17850.0  \n",
       "3  12/1/2010 8:26        3.39  United Kingdom      17850.0  \n",
       "4  12/1/2010 8:26        3.39  United Kingdom      17850.0  "
      ]
     },
     "execution_count": 93,
     "metadata": {},
     "output_type": "execute_result"
    }
   ],
   "source": [
    "# Tentativa 2: criar um id para os valores faltantes e assim não descartar as informações registradas\n",
    "\n",
    "# create reference\n",
    "df_backup = pd.DataFrame(df_missing['invoice_no'].drop_duplicates())\n",
    "df_backup['customer_id'] = np.arange(19000, 19000+len(df_backup), 1)\n",
    "\n",
    "\n",
    "# Merge with original dataframe\n",
    "df1 = pd.merge(df1, df_backup, on = 'invoice_no', how = 'left')\n",
    "\n",
    "# **Coalesce\n",
    "df1['customer_id'] = df1['customer_id_x'].combine_first(df1['customer_id_y'])\n",
    "\n",
    "# drop extra columns\n",
    "df1 = df1.drop(columns = ['customer_id_x', 'customer_id_y'], axis=1)\n",
    "\n",
    "df1.head()"
   ]
  },
  {
   "cell_type": "code",
   "execution_count": 94,
   "metadata": {},
   "outputs": [
    {
     "data": {
      "text/plain": [
       "invoice_no         0\n",
       "stock_code         0\n",
       "description     1454\n",
       "quantity           0\n",
       "invoice_date       0\n",
       "unit_price         0\n",
       "country            0\n",
       "customer_id        0\n",
       "dtype: int64"
      ]
     },
     "execution_count": 94,
     "metadata": {},
     "output_type": "execute_result"
    }
   ],
   "source": [
    "df1.isna().sum()"
   ]
  },
  {
   "cell_type": "markdown",
   "metadata": {},
   "source": [
    "### 1.5 Change Types"
   ]
  },
  {
   "cell_type": "code",
   "execution_count": 95,
   "metadata": {},
   "outputs": [
    {
     "data": {
      "text/html": [
       "<div>\n",
       "<style scoped>\n",
       "    .dataframe tbody tr th:only-of-type {\n",
       "        vertical-align: middle;\n",
       "    }\n",
       "\n",
       "    .dataframe tbody tr th {\n",
       "        vertical-align: top;\n",
       "    }\n",
       "\n",
       "    .dataframe thead th {\n",
       "        text-align: right;\n",
       "    }\n",
       "</style>\n",
       "<table border=\"1\" class=\"dataframe\">\n",
       "  <thead>\n",
       "    <tr style=\"text-align: right;\">\n",
       "      <th></th>\n",
       "      <th>invoice_no</th>\n",
       "      <th>stock_code</th>\n",
       "      <th>description</th>\n",
       "      <th>quantity</th>\n",
       "      <th>invoice_date</th>\n",
       "      <th>unit_price</th>\n",
       "      <th>country</th>\n",
       "      <th>customer_id</th>\n",
       "    </tr>\n",
       "  </thead>\n",
       "  <tbody>\n",
       "    <tr>\n",
       "      <th>0</th>\n",
       "      <td>536365</td>\n",
       "      <td>85123A</td>\n",
       "      <td>WHITE HANGING HEART T-LIGHT HOLDER</td>\n",
       "      <td>6</td>\n",
       "      <td>2010-12-01</td>\n",
       "      <td>2.55</td>\n",
       "      <td>United Kingdom</td>\n",
       "      <td>17850</td>\n",
       "    </tr>\n",
       "    <tr>\n",
       "      <th>1</th>\n",
       "      <td>536365</td>\n",
       "      <td>71053</td>\n",
       "      <td>WHITE METAL LANTERN</td>\n",
       "      <td>6</td>\n",
       "      <td>2010-12-01</td>\n",
       "      <td>3.39</td>\n",
       "      <td>United Kingdom</td>\n",
       "      <td>17850</td>\n",
       "    </tr>\n",
       "    <tr>\n",
       "      <th>2</th>\n",
       "      <td>536365</td>\n",
       "      <td>84406B</td>\n",
       "      <td>CREAM CUPID HEARTS COAT HANGER</td>\n",
       "      <td>8</td>\n",
       "      <td>2010-12-01</td>\n",
       "      <td>2.75</td>\n",
       "      <td>United Kingdom</td>\n",
       "      <td>17850</td>\n",
       "    </tr>\n",
       "    <tr>\n",
       "      <th>3</th>\n",
       "      <td>536365</td>\n",
       "      <td>84029G</td>\n",
       "      <td>KNITTED UNION FLAG HOT WATER BOTTLE</td>\n",
       "      <td>6</td>\n",
       "      <td>2010-12-01</td>\n",
       "      <td>3.39</td>\n",
       "      <td>United Kingdom</td>\n",
       "      <td>17850</td>\n",
       "    </tr>\n",
       "    <tr>\n",
       "      <th>4</th>\n",
       "      <td>536365</td>\n",
       "      <td>84029E</td>\n",
       "      <td>RED WOOLLY HOTTIE WHITE HEART.</td>\n",
       "      <td>6</td>\n",
       "      <td>2010-12-01</td>\n",
       "      <td>3.39</td>\n",
       "      <td>United Kingdom</td>\n",
       "      <td>17850</td>\n",
       "    </tr>\n",
       "  </tbody>\n",
       "</table>\n",
       "</div>"
      ],
      "text/plain": [
       "  invoice_no stock_code                          description  quantity  \\\n",
       "0     536365     85123A   WHITE HANGING HEART T-LIGHT HOLDER         6   \n",
       "1     536365      71053                  WHITE METAL LANTERN         6   \n",
       "2     536365     84406B       CREAM CUPID HEARTS COAT HANGER         8   \n",
       "3     536365     84029G  KNITTED UNION FLAG HOT WATER BOTTLE         6   \n",
       "4     536365     84029E       RED WOOLLY HOTTIE WHITE HEART.         6   \n",
       "\n",
       "  invoice_date  unit_price         country  customer_id  \n",
       "0   2010-12-01        2.55  United Kingdom        17850  \n",
       "1   2010-12-01        3.39  United Kingdom        17850  \n",
       "2   2010-12-01        2.75  United Kingdom        17850  \n",
       "3   2010-12-01        3.39  United Kingdom        17850  \n",
       "4   2010-12-01        3.39  United Kingdom        17850  "
      ]
     },
     "execution_count": 95,
     "metadata": {},
     "output_type": "execute_result"
    }
   ],
   "source": [
    "df1['customer_id'] = df1['customer_id'].astype(int)\n",
    "\n",
    "df1['invoice_date'] = pd.to_datetime(df1['invoice_date'])\n",
    "df1['invoice_date'] = df1['invoice_date'].dt.strftime('%Y-%m-%d')\n",
    "df1['invoice_date'] = pd.to_datetime(df1['invoice_date'])\n",
    "\n",
    "df1.head()"
   ]
  },
  {
   "cell_type": "code",
   "execution_count": 96,
   "metadata": {},
   "outputs": [
    {
     "name": "stdout",
     "output_type": "stream",
     "text": [
      "First day: 2010-12-01 00:00:00\n",
      "Last day: 2011-12-09 00:00:00\n"
     ]
    }
   ],
   "source": [
    "print('First day: {}'.format(df1['invoice_date'].min()))\n",
    "print('Last day: {}'.format(df1['invoice_date'].max()))"
   ]
  },
  {
   "cell_type": "markdown",
   "metadata": {},
   "source": [
    "### 1.6 Descriptive Statistics"
   ]
  },
  {
   "cell_type": "markdown",
   "metadata": {},
   "source": [
    "#### 1.6.0  Datasets"
   ]
  },
  {
   "cell_type": "code",
   "execution_count": 97,
   "metadata": {},
   "outputs": [],
   "source": [
    "num_attributes = df1.select_dtypes(include = ['int64', 'float64'])\n",
    "cat_attributes = df1.select_dtypes(exclude = ['int64', 'float64', 'datetime64[ns]'])"
   ]
  },
  {
   "cell_type": "markdown",
   "metadata": {},
   "source": [
    "#### 1.6.1 Nummerical Attributes"
   ]
  },
  {
   "cell_type": "code",
   "execution_count": 98,
   "metadata": {},
   "outputs": [
    {
     "data": {
      "text/html": [
       "<div>\n",
       "<style scoped>\n",
       "    .dataframe tbody tr th:only-of-type {\n",
       "        vertical-align: middle;\n",
       "    }\n",
       "\n",
       "    .dataframe tbody tr th {\n",
       "        vertical-align: top;\n",
       "    }\n",
       "\n",
       "    .dataframe thead th {\n",
       "        text-align: right;\n",
       "    }\n",
       "</style>\n",
       "<table border=\"1\" class=\"dataframe\">\n",
       "  <thead>\n",
       "    <tr style=\"text-align: right;\">\n",
       "      <th></th>\n",
       "      <th>Attributes</th>\n",
       "      <th>Min</th>\n",
       "      <th>Max</th>\n",
       "      <th>Range</th>\n",
       "      <th>Mean</th>\n",
       "      <th>Median</th>\n",
       "      <th>STD</th>\n",
       "      <th>Skew</th>\n",
       "      <th>Kurtosis</th>\n",
       "    </tr>\n",
       "  </thead>\n",
       "  <tbody>\n",
       "    <tr>\n",
       "      <th>0</th>\n",
       "      <td>quantity</td>\n",
       "      <td>-80995.00</td>\n",
       "      <td>80995.0</td>\n",
       "      <td>161990.00</td>\n",
       "      <td>9.552250</td>\n",
       "      <td>3.00</td>\n",
       "      <td>218.080957</td>\n",
       "      <td>-0.264076</td>\n",
       "      <td>119769.160031</td>\n",
       "    </tr>\n",
       "    <tr>\n",
       "      <th>1</th>\n",
       "      <td>unit_price</td>\n",
       "      <td>-11062.06</td>\n",
       "      <td>38970.0</td>\n",
       "      <td>50032.06</td>\n",
       "      <td>4.611114</td>\n",
       "      <td>2.08</td>\n",
       "      <td>96.759764</td>\n",
       "      <td>186.506972</td>\n",
       "      <td>59005.719097</td>\n",
       "    </tr>\n",
       "    <tr>\n",
       "      <th>2</th>\n",
       "      <td>customer_id</td>\n",
       "      <td>12346.00</td>\n",
       "      <td>22709.0</td>\n",
       "      <td>10363.00</td>\n",
       "      <td>16688.840453</td>\n",
       "      <td>16249.00</td>\n",
       "      <td>2911.408666</td>\n",
       "      <td>0.487449</td>\n",
       "      <td>-0.804287</td>\n",
       "    </tr>\n",
       "  </tbody>\n",
       "</table>\n",
       "</div>"
      ],
      "text/plain": [
       "    Attributes       Min      Max      Range          Mean    Median  \\\n",
       "0     quantity -80995.00  80995.0  161990.00      9.552250      3.00   \n",
       "1   unit_price -11062.06  38970.0   50032.06      4.611114      2.08   \n",
       "2  customer_id  12346.00  22709.0   10363.00  16688.840453  16249.00   \n",
       "\n",
       "           STD        Skew       Kurtosis  \n",
       "0   218.080957   -0.264076  119769.160031  \n",
       "1    96.759764  186.506972   59005.719097  \n",
       "2  2911.408666    0.487449      -0.804287  "
      ]
     },
     "execution_count": 98,
     "metadata": {},
     "output_type": "execute_result"
    }
   ],
   "source": [
    "numerical_metrics(num_attributes)"
   ]
  },
  {
   "cell_type": "markdown",
   "metadata": {},
   "source": [
    "#### 1.6.2 Categorical Attributes"
   ]
  },
  {
   "cell_type": "markdown",
   "metadata": {},
   "source": [
    "##### Overview"
   ]
  },
  {
   "cell_type": "code",
   "execution_count": 99,
   "metadata": {},
   "outputs": [
    {
     "data": {
      "text/html": [
       "<div>\n",
       "<style scoped>\n",
       "    .dataframe tbody tr th:only-of-type {\n",
       "        vertical-align: middle;\n",
       "    }\n",
       "\n",
       "    .dataframe tbody tr th {\n",
       "        vertical-align: top;\n",
       "    }\n",
       "\n",
       "    .dataframe thead th {\n",
       "        text-align: right;\n",
       "    }\n",
       "</style>\n",
       "<table border=\"1\" class=\"dataframe\">\n",
       "  <thead>\n",
       "    <tr style=\"text-align: right;\">\n",
       "      <th></th>\n",
       "      <th>321379</th>\n",
       "      <th>217488</th>\n",
       "      <th>265764</th>\n",
       "    </tr>\n",
       "  </thead>\n",
       "  <tbody>\n",
       "    <tr>\n",
       "      <th>invoice_no</th>\n",
       "      <td>565150</td>\n",
       "      <td>555924</td>\n",
       "      <td>560225</td>\n",
       "    </tr>\n",
       "    <tr>\n",
       "      <th>stock_code</th>\n",
       "      <td>84596G</td>\n",
       "      <td>22326</td>\n",
       "      <td>84968A</td>\n",
       "    </tr>\n",
       "    <tr>\n",
       "      <th>description</th>\n",
       "      <td>SMALL CHOCOLATES PINK BOWL</td>\n",
       "      <td>ROUND SNACK BOXES SET OF4 WOODLAND</td>\n",
       "      <td>SET OF 16 VINTAGE ROSE CUTLERY</td>\n",
       "    </tr>\n",
       "    <tr>\n",
       "      <th>country</th>\n",
       "      <td>United Kingdom</td>\n",
       "      <td>United Kingdom</td>\n",
       "      <td>United Kingdom</td>\n",
       "    </tr>\n",
       "  </tbody>\n",
       "</table>\n",
       "</div>"
      ],
      "text/plain": [
       "                                 321379                               217488  \\\n",
       "invoice_no                       565150                               555924   \n",
       "stock_code                       84596G                                22326   \n",
       "description  SMALL CHOCOLATES PINK BOWL  ROUND SNACK BOXES SET OF4 WOODLAND    \n",
       "country                  United Kingdom                       United Kingdom   \n",
       "\n",
       "                                     265764  \n",
       "invoice_no                           560225  \n",
       "stock_code                           84968A  \n",
       "description  SET OF 16 VINTAGE ROSE CUTLERY  \n",
       "country                      United Kingdom  "
      ]
     },
     "execution_count": 99,
     "metadata": {},
     "output_type": "execute_result"
    }
   ],
   "source": [
    "cat_attributes.sample(3).T"
   ]
  },
  {
   "cell_type": "code",
   "execution_count": 100,
   "metadata": {},
   "outputs": [
    {
     "data": {
      "text/html": [
       "<div>\n",
       "<style scoped>\n",
       "    .dataframe tbody tr th:only-of-type {\n",
       "        vertical-align: middle;\n",
       "    }\n",
       "\n",
       "    .dataframe tbody tr th {\n",
       "        vertical-align: top;\n",
       "    }\n",
       "\n",
       "    .dataframe thead th {\n",
       "        text-align: right;\n",
       "    }\n",
       "</style>\n",
       "<table border=\"1\" class=\"dataframe\">\n",
       "  <thead>\n",
       "    <tr style=\"text-align: right;\">\n",
       "      <th></th>\n",
       "      <th>invoice_no</th>\n",
       "      <th>stock_code</th>\n",
       "      <th>description</th>\n",
       "      <th>country</th>\n",
       "    </tr>\n",
       "  </thead>\n",
       "  <tbody>\n",
       "    <tr>\n",
       "      <th>count</th>\n",
       "      <td>541909</td>\n",
       "      <td>541909</td>\n",
       "      <td>540455</td>\n",
       "      <td>541909</td>\n",
       "    </tr>\n",
       "    <tr>\n",
       "      <th>unique</th>\n",
       "      <td>25900</td>\n",
       "      <td>4070</td>\n",
       "      <td>4223</td>\n",
       "      <td>38</td>\n",
       "    </tr>\n",
       "    <tr>\n",
       "      <th>top</th>\n",
       "      <td>573585</td>\n",
       "      <td>85123A</td>\n",
       "      <td>WHITE HANGING HEART T-LIGHT HOLDER</td>\n",
       "      <td>United Kingdom</td>\n",
       "    </tr>\n",
       "    <tr>\n",
       "      <th>freq</th>\n",
       "      <td>1114</td>\n",
       "      <td>2313</td>\n",
       "      <td>2369</td>\n",
       "      <td>495478</td>\n",
       "    </tr>\n",
       "  </tbody>\n",
       "</table>\n",
       "</div>"
      ],
      "text/plain": [
       "       invoice_no stock_code                         description  \\\n",
       "count      541909     541909                              540455   \n",
       "unique      25900       4070                                4223   \n",
       "top        573585     85123A  WHITE HANGING HEART T-LIGHT HOLDER   \n",
       "freq         1114       2313                                2369   \n",
       "\n",
       "               country  \n",
       "count           541909  \n",
       "unique              38  \n",
       "top     United Kingdom  \n",
       "freq            495478  "
      ]
     },
     "execution_count": 100,
     "metadata": {},
     "output_type": "execute_result"
    }
   ],
   "source": [
    "cat_attributes.describe()"
   ]
  },
  {
   "cell_type": "markdown",
   "metadata": {},
   "source": [
    "##### Invoice No"
   ]
  },
  {
   "cell_type": "code",
   "execution_count": 101,
   "metadata": {},
   "outputs": [
    {
     "name": "stdout",
     "output_type": "stream",
     "text": [
      "Total invoice_no with letter: 9291\n",
      "Total invoice_no with letter and negative quantity value: 9288\n"
     ]
    },
    {
     "data": {
      "text/html": [
       "<div>\n",
       "<style scoped>\n",
       "    .dataframe tbody tr th:only-of-type {\n",
       "        vertical-align: middle;\n",
       "    }\n",
       "\n",
       "    .dataframe tbody tr th {\n",
       "        vertical-align: top;\n",
       "    }\n",
       "\n",
       "    .dataframe thead th {\n",
       "        text-align: right;\n",
       "    }\n",
       "</style>\n",
       "<table border=\"1\" class=\"dataframe\">\n",
       "  <thead>\n",
       "    <tr style=\"text-align: right;\">\n",
       "      <th></th>\n",
       "      <th>invoice_no</th>\n",
       "      <th>stock_code</th>\n",
       "      <th>description</th>\n",
       "      <th>quantity</th>\n",
       "      <th>invoice_date</th>\n",
       "      <th>unit_price</th>\n",
       "      <th>country</th>\n",
       "      <th>customer_id</th>\n",
       "    </tr>\n",
       "  </thead>\n",
       "  <tbody>\n",
       "    <tr>\n",
       "      <th>141</th>\n",
       "      <td>C536379</td>\n",
       "      <td>D</td>\n",
       "      <td>Discount</td>\n",
       "      <td>-1</td>\n",
       "      <td>2010-12-01</td>\n",
       "      <td>27.50</td>\n",
       "      <td>United Kingdom</td>\n",
       "      <td>14527</td>\n",
       "    </tr>\n",
       "    <tr>\n",
       "      <th>154</th>\n",
       "      <td>C536383</td>\n",
       "      <td>35004C</td>\n",
       "      <td>SET OF 3 COLOURED  FLYING DUCKS</td>\n",
       "      <td>-1</td>\n",
       "      <td>2010-12-01</td>\n",
       "      <td>4.65</td>\n",
       "      <td>United Kingdom</td>\n",
       "      <td>15311</td>\n",
       "    </tr>\n",
       "    <tr>\n",
       "      <th>235</th>\n",
       "      <td>C536391</td>\n",
       "      <td>22556</td>\n",
       "      <td>PLASTERS IN TIN CIRCUS PARADE</td>\n",
       "      <td>-12</td>\n",
       "      <td>2010-12-01</td>\n",
       "      <td>1.65</td>\n",
       "      <td>United Kingdom</td>\n",
       "      <td>17548</td>\n",
       "    </tr>\n",
       "    <tr>\n",
       "      <th>236</th>\n",
       "      <td>C536391</td>\n",
       "      <td>21984</td>\n",
       "      <td>PACK OF 12 PINK PAISLEY TISSUES</td>\n",
       "      <td>-24</td>\n",
       "      <td>2010-12-01</td>\n",
       "      <td>0.29</td>\n",
       "      <td>United Kingdom</td>\n",
       "      <td>17548</td>\n",
       "    </tr>\n",
       "    <tr>\n",
       "      <th>237</th>\n",
       "      <td>C536391</td>\n",
       "      <td>21983</td>\n",
       "      <td>PACK OF 12 BLUE PAISLEY TISSUES</td>\n",
       "      <td>-24</td>\n",
       "      <td>2010-12-01</td>\n",
       "      <td>0.29</td>\n",
       "      <td>United Kingdom</td>\n",
       "      <td>17548</td>\n",
       "    </tr>\n",
       "    <tr>\n",
       "      <th>...</th>\n",
       "      <td>...</td>\n",
       "      <td>...</td>\n",
       "      <td>...</td>\n",
       "      <td>...</td>\n",
       "      <td>...</td>\n",
       "      <td>...</td>\n",
       "      <td>...</td>\n",
       "      <td>...</td>\n",
       "    </tr>\n",
       "    <tr>\n",
       "      <th>540449</th>\n",
       "      <td>C581490</td>\n",
       "      <td>23144</td>\n",
       "      <td>ZINC T-LIGHT HOLDER STARS SMALL</td>\n",
       "      <td>-11</td>\n",
       "      <td>2011-12-09</td>\n",
       "      <td>0.83</td>\n",
       "      <td>United Kingdom</td>\n",
       "      <td>14397</td>\n",
       "    </tr>\n",
       "    <tr>\n",
       "      <th>541541</th>\n",
       "      <td>C581499</td>\n",
       "      <td>M</td>\n",
       "      <td>Manual</td>\n",
       "      <td>-1</td>\n",
       "      <td>2011-12-09</td>\n",
       "      <td>224.69</td>\n",
       "      <td>United Kingdom</td>\n",
       "      <td>15498</td>\n",
       "    </tr>\n",
       "    <tr>\n",
       "      <th>541715</th>\n",
       "      <td>C581568</td>\n",
       "      <td>21258</td>\n",
       "      <td>VICTORIAN SEWING BOX LARGE</td>\n",
       "      <td>-5</td>\n",
       "      <td>2011-12-09</td>\n",
       "      <td>10.95</td>\n",
       "      <td>United Kingdom</td>\n",
       "      <td>15311</td>\n",
       "    </tr>\n",
       "    <tr>\n",
       "      <th>541716</th>\n",
       "      <td>C581569</td>\n",
       "      <td>84978</td>\n",
       "      <td>HANGING HEART JAR T-LIGHT HOLDER</td>\n",
       "      <td>-1</td>\n",
       "      <td>2011-12-09</td>\n",
       "      <td>1.25</td>\n",
       "      <td>United Kingdom</td>\n",
       "      <td>17315</td>\n",
       "    </tr>\n",
       "    <tr>\n",
       "      <th>541717</th>\n",
       "      <td>C581569</td>\n",
       "      <td>20979</td>\n",
       "      <td>36 PENCILS TUBE RED RETROSPOT</td>\n",
       "      <td>-5</td>\n",
       "      <td>2011-12-09</td>\n",
       "      <td>1.25</td>\n",
       "      <td>United Kingdom</td>\n",
       "      <td>17315</td>\n",
       "    </tr>\n",
       "  </tbody>\n",
       "</table>\n",
       "<p>9291 rows × 8 columns</p>\n",
       "</div>"
      ],
      "text/plain": [
       "       invoice_no stock_code                       description  quantity  \\\n",
       "141       C536379          D                          Discount        -1   \n",
       "154       C536383     35004C   SET OF 3 COLOURED  FLYING DUCKS        -1   \n",
       "235       C536391      22556    PLASTERS IN TIN CIRCUS PARADE        -12   \n",
       "236       C536391      21984  PACK OF 12 PINK PAISLEY TISSUES        -24   \n",
       "237       C536391      21983  PACK OF 12 BLUE PAISLEY TISSUES        -24   \n",
       "...           ...        ...                               ...       ...   \n",
       "540449    C581490      23144   ZINC T-LIGHT HOLDER STARS SMALL       -11   \n",
       "541541    C581499          M                            Manual        -1   \n",
       "541715    C581568      21258        VICTORIAN SEWING BOX LARGE        -5   \n",
       "541716    C581569      84978  HANGING HEART JAR T-LIGHT HOLDER        -1   \n",
       "541717    C581569      20979     36 PENCILS TUBE RED RETROSPOT        -5   \n",
       "\n",
       "       invoice_date  unit_price         country  customer_id  \n",
       "141      2010-12-01       27.50  United Kingdom        14527  \n",
       "154      2010-12-01        4.65  United Kingdom        15311  \n",
       "235      2010-12-01        1.65  United Kingdom        17548  \n",
       "236      2010-12-01        0.29  United Kingdom        17548  \n",
       "237      2010-12-01        0.29  United Kingdom        17548  \n",
       "...             ...         ...             ...          ...  \n",
       "540449   2011-12-09        0.83  United Kingdom        14397  \n",
       "541541   2011-12-09      224.69  United Kingdom        15498  \n",
       "541715   2011-12-09       10.95  United Kingdom        15311  \n",
       "541716   2011-12-09        1.25  United Kingdom        17315  \n",
       "541717   2011-12-09        1.25  United Kingdom        17315  \n",
       "\n",
       "[9291 rows x 8 columns]"
      ]
     },
     "execution_count": 101,
     "metadata": {},
     "output_type": "execute_result"
    }
   ],
   "source": [
    "# Quantidade de registros com letras\n",
    "df_letter_invoice = df1.loc[df1['invoice_no'].apply(lambda x: bool(re.search('[^0-9]+', x))), :]\n",
    "print(f'Total invoice_no with letter: {len(df_letter_invoice)}')\n",
    "print('Total invoice_no with letter and negative quantity value: {}'.format(len(df_letter_invoice[df_letter_invoice['quantity']<0])))\n",
    "\n",
    "df_letter_invoice"
   ]
  },
  {
   "cell_type": "markdown",
   "metadata": {},
   "source": [
    "##### Stock Code"
   ]
  },
  {
   "cell_type": "code",
   "execution_count": 102,
   "metadata": {},
   "outputs": [
    {
     "data": {
      "text/plain": [
       "array(['POST', 'D', 'DOT', 'M', 'S', 'AMAZONFEE', 'm', 'DCGSSBOY',\n",
       "       'DCGSSGIRL', 'PADS', 'B', 'CRUK'], dtype=object)"
      ]
     },
     "execution_count": 102,
     "metadata": {},
     "output_type": "execute_result"
    }
   ],
   "source": [
    "# The stock_code should be a number\n",
    "df1.loc[df1['stock_code'].apply(lambda x: bool(re.search('^[a-zA-Z]+$', x))), :]\n",
    "df1.loc[df1['stock_code'].apply(lambda x: bool(re.search('^[a-zA-Z]+$', x))), 'stock_code'].unique()\n",
    "\n",
    "# task: remove stock_code in ['POST', 'D', 'M', 'PADS', 'DOT', 'CRUK']"
   ]
  },
  {
   "cell_type": "markdown",
   "metadata": {},
   "source": [
    "##### Description"
   ]
  },
  {
   "cell_type": "code",
   "execution_count": 103,
   "metadata": {},
   "outputs": [],
   "source": [
    "# Task: delete description"
   ]
  },
  {
   "cell_type": "markdown",
   "metadata": {},
   "source": [
    "##### Country"
   ]
  },
  {
   "cell_type": "code",
   "execution_count": 104,
   "metadata": {},
   "outputs": [
    {
     "data": {
      "text/plain": [
       "38"
      ]
     },
     "execution_count": 104,
     "metadata": {},
     "output_type": "execute_result"
    }
   ],
   "source": [
    "len(df1['country'].unique())"
   ]
  },
  {
   "cell_type": "code",
   "execution_count": 105,
   "metadata": {},
   "outputs": [
    {
     "data": {
      "text/plain": [
       "United Kingdom    0.914320\n",
       "Germany           0.017521\n",
       "France            0.015790\n",
       "EIRE              0.015124\n",
       "Spain             0.004674\n",
       "Name: country, dtype: float64"
      ]
     },
     "execution_count": 105,
     "metadata": {},
     "output_type": "execute_result"
    }
   ],
   "source": [
    "df1['country'].value_counts(normalize = True).head()"
   ]
  },
  {
   "cell_type": "code",
   "execution_count": 106,
   "metadata": {},
   "outputs": [
    {
     "data": {
      "text/html": [
       "<div>\n",
       "<style scoped>\n",
       "    .dataframe tbody tr th:only-of-type {\n",
       "        vertical-align: middle;\n",
       "    }\n",
       "\n",
       "    .dataframe tbody tr th {\n",
       "        vertical-align: top;\n",
       "    }\n",
       "\n",
       "    .dataframe thead th {\n",
       "        text-align: right;\n",
       "    }\n",
       "</style>\n",
       "<table border=\"1\" class=\"dataframe\">\n",
       "  <thead>\n",
       "    <tr style=\"text-align: right;\">\n",
       "      <th></th>\n",
       "      <th>country</th>\n",
       "      <th>customer_id</th>\n",
       "    </tr>\n",
       "  </thead>\n",
       "  <tbody>\n",
       "    <tr>\n",
       "      <th>36</th>\n",
       "      <td>United Kingdom</td>\n",
       "      <td>7587</td>\n",
       "    </tr>\n",
       "    <tr>\n",
       "      <th>14</th>\n",
       "      <td>Germany</td>\n",
       "      <td>95</td>\n",
       "    </tr>\n",
       "    <tr>\n",
       "      <th>13</th>\n",
       "      <td>France</td>\n",
       "      <td>90</td>\n",
       "    </tr>\n",
       "    <tr>\n",
       "      <th>10</th>\n",
       "      <td>EIRE</td>\n",
       "      <td>44</td>\n",
       "    </tr>\n",
       "    <tr>\n",
       "      <th>31</th>\n",
       "      <td>Spain</td>\n",
       "      <td>31</td>\n",
       "    </tr>\n",
       "  </tbody>\n",
       "</table>\n",
       "</div>"
      ],
      "text/plain": [
       "           country  customer_id\n",
       "36  United Kingdom         7587\n",
       "14         Germany           95\n",
       "13          France           90\n",
       "10            EIRE           44\n",
       "31           Spain           31"
      ]
     },
     "execution_count": 106,
     "metadata": {},
     "output_type": "execute_result"
    }
   ],
   "source": [
    "df1[['customer_id', 'country']].drop_duplicates().groupby('country').count().reset_index().sort_values('customer_id', ascending=False).head()"
   ]
  },
  {
   "cell_type": "markdown",
   "metadata": {},
   "source": [
    "# 2. Data Filtering "
   ]
  },
  {
   "cell_type": "markdown",
   "metadata": {},
   "source": [
    "### 2.1 Bad Users"
   ]
  },
  {
   "cell_type": "code",
   "execution_count": 107,
   "metadata": {},
   "outputs": [],
   "source": [
    "df2 = df1.copy()"
   ]
  },
  {
   "cell_type": "code",
   "execution_count": 108,
   "metadata": {},
   "outputs": [],
   "source": [
    "df2 = df2[~df2['customer_id'].isin([16446])]  # Maior número de devolução do conjunto de dados\n",
    "df2 = df2[~df2['customer_id'].isin([17548, 16546, 15823, 13672, 12346, 13762, 18268, 14557, 16878, 13364, 14792, 12607, 12454, 18274, 12558])]  # itens devolvidos >= itens comprados\n",
    "\n"
   ]
  },
  {
   "cell_type": "markdown",
   "metadata": {},
   "source": [
    "### 2.2 Cat Attributes"
   ]
  },
  {
   "cell_type": "code",
   "execution_count": 109,
   "metadata": {},
   "outputs": [],
   "source": [
    "# Stock Code != ['POST', 'D', 'M', 'PADS', 'DOT', 'CRUK']\n",
    "df2 = df2[~df2['stock_code'].isin(['POST', 'D', 'DOT', 'M', 'S', 'AMAZONFEE', 'm', 'DCGSSBOY', 'DCGSSGIRL', 'PADS', 'B', 'CRUK'])]\n",
    "\n",
    "# Description\n",
    "df2 = df2.drop(columns = 'description', axis = 1)\n",
    "\n",
    "# Country\n",
    "df2 = df2[~df2['country'].isin(['European Community', 'Unspecified'])]"
   ]
  },
  {
   "cell_type": "markdown",
   "metadata": {},
   "source": [
    "### 2.3 Num Attributes"
   ]
  },
  {
   "cell_type": "code",
   "execution_count": 110,
   "metadata": {},
   "outputs": [],
   "source": [
    "# Unit Price > 0.04 \n",
    "df2 = df2.loc[df2['unit_price'] >= 0.04, :]\n",
    "\n",
    "# Quantity\n",
    "df_returns = df2.loc[df2['quantity']<0, :]\n",
    "df_purchases = df2.loc[df2['quantity']>0, :]"
   ]
  },
  {
   "cell_type": "markdown",
   "metadata": {},
   "source": [
    "# 3. Feature Engineering"
   ]
  },
  {
   "cell_type": "markdown",
   "metadata": {},
   "source": [
    "### 3.0 Dataset"
   ]
  },
  {
   "cell_type": "code",
   "execution_count": 111,
   "metadata": {},
   "outputs": [],
   "source": [
    "df3 = df2.copy()\n",
    "\n",
    "# Data Reference\n",
    "df_ref = df3.drop (['invoice_no', 'stock_code',\n",
    "                    'quantity', 'invoice_date', 'unit_price',\n",
    "                    'country'], axis=1).drop_duplicates(ignore_index=True)"
   ]
  },
  {
   "cell_type": "markdown",
   "metadata": {},
   "source": [
    "### 3.1 Gross Revenue"
   ]
  },
  {
   "cell_type": "code",
   "execution_count": 112,
   "metadata": {},
   "outputs": [
    {
     "data": {
      "text/plain": [
       "customer_id       0\n",
       "gross_revenue    91\n",
       "dtype: int64"
      ]
     },
     "execution_count": 112,
     "metadata": {},
     "output_type": "execute_result"
    }
   ],
   "source": [
    "# Monetary (Gross Revenue)\n",
    "df_purchases['gross_revenue'] = df_purchases['quantity'] * df_purchases['unit_price']\n",
    "df_monetary = df_purchases[['customer_id', 'gross_revenue']].groupby('customer_id').sum().reset_index()\n",
    "df_ref = pd.merge (df_ref, df_monetary, on = 'customer_id', how = 'left')\n",
    "\n",
    "df_ref.isna().sum()"
   ]
  },
  {
   "cell_type": "markdown",
   "metadata": {},
   "source": [
    "### 3.2 Recency - Day from last purchase"
   ]
  },
  {
   "cell_type": "code",
   "execution_count": 113,
   "metadata": {},
   "outputs": [
    {
     "data": {
      "text/plain": [
       "customer_id       0\n",
       "gross_revenue    91\n",
       "recency_days     91\n",
       "dtype: int64"
      ]
     },
     "execution_count": 113,
     "metadata": {},
     "output_type": "execute_result"
    }
   ],
   "source": [
    "# Recency\n",
    "df_recency = df_purchases[['customer_id', 'invoice_date']].groupby('customer_id').max().reset_index()\n",
    "df_recency['recency_days'] = (df_purchases['invoice_date'].max() - df_recency['invoice_date']).dt.days\n",
    "df_recency = df_recency[['customer_id', 'recency_days']].copy()\n",
    "df_ref = pd.merge(df_ref, df_recency, on = 'customer_id', how = 'left')\n",
    "\n",
    "df_ref.isna().sum()"
   ]
  },
  {
   "cell_type": "markdown",
   "metadata": {},
   "source": [
    "### 3.3 Quantity of purchases"
   ]
  },
  {
   "cell_type": "code",
   "execution_count": 114,
   "metadata": {},
   "outputs": [],
   "source": [
    "df_count = (df_purchases[['customer_id', 'invoice_no']].drop_duplicates()\n",
    "                                                       .groupby('customer_id')\n",
    "                                                       .count()\n",
    "                                                       .reset_index()\n",
    "                                                       .rename(columns={'invoice_no':'purchases_no'}))\n",
    "\n",
    "df_ref = pd.merge(df_ref, df_count, on = 'customer_id', how = 'left')"
   ]
  },
  {
   "cell_type": "markdown",
   "metadata": {},
   "source": [
    "### 3.4 Quantity of diferent products purchased"
   ]
  },
  {
   "cell_type": "code",
   "execution_count": 115,
   "metadata": {},
   "outputs": [
    {
     "data": {
      "text/plain": [
       "customer_id       0\n",
       "gross_revenue    91\n",
       "recency_days     91\n",
       "purchases_no     91\n",
       "products_no      91\n",
       "dtype: int64"
      ]
     },
     "execution_count": 115,
     "metadata": {},
     "output_type": "execute_result"
    }
   ],
   "source": [
    "df_prod = (df_purchases[['customer_id', 'stock_code']].groupby('customer_id')\n",
    "                                                      .count()\n",
    "                                                      .reset_index()\n",
    "                                                      .rename(columns={'stock_code':'products_no'}))\n",
    "\n",
    "df_ref = pd.merge(df_ref, df_prod, on = 'customer_id', how = 'left')\n",
    "df_ref.isna().sum()"
   ]
  },
  {
   "cell_type": "markdown",
   "metadata": {},
   "source": [
    "### 3.5 Quantity of items purchased\n"
   ]
  },
  {
   "cell_type": "code",
   "execution_count": 116,
   "metadata": {},
   "outputs": [
    {
     "data": {
      "text/plain": [
       "customer_id       0\n",
       "gross_revenue    91\n",
       "recency_days     91\n",
       "purchases_no     91\n",
       "products_no      91\n",
       "items_no         91\n",
       "dtype: int64"
      ]
     },
     "execution_count": 116,
     "metadata": {},
     "output_type": "execute_result"
    }
   ],
   "source": [
    "df_prod = (df_purchases[['customer_id', 'quantity']].groupby('customer_id')\n",
    "                                                    .sum()\n",
    "                                                    .reset_index()\n",
    "                                                    .rename(columns={'quantity':'items_no'}))\n",
    "\n",
    "df_ref = pd.merge(df_ref, df_prod, on = 'customer_id', how = 'left')\n",
    "df_ref.isna().sum()\n"
   ]
  },
  {
   "cell_type": "markdown",
   "metadata": {},
   "source": [
    "### 3.6 Frequency Purchase"
   ]
  },
  {
   "cell_type": "code",
   "execution_count": 117,
   "metadata": {},
   "outputs": [
    {
     "data": {
      "text/plain": [
       "customer_id       0\n",
       "gross_revenue    91\n",
       "recency_days     91\n",
       "purchases_no     91\n",
       "products_no      91\n",
       "items_no         91\n",
       "frequency        91\n",
       "dtype: int64"
      ]
     },
     "execution_count": 117,
     "metadata": {},
     "output_type": "execute_result"
    }
   ],
   "source": [
    "df_aux = (df_purchases[['customer_id', 'invoice_no', 'invoice_date']].drop_duplicates()\n",
    "                                                                     .groupby('customer_id')\n",
    "                                                                     .agg(max_    = ('invoice_date', 'max'),\n",
    "                                                                          min_    = ('invoice_date', 'min'),\n",
    "                                                                          days_   = ('invoice_date', lambda x: ((x.max() - x.min()).days) + 1),\n",
    "                                                                          buy_    = ('invoice_no', 'count') ) ).reset_index()\n",
    "\n",
    "df_aux['frequency'] = df_aux[['buy_', 'days_']].apply(lambda x: x['buy_'] / x['days_'] if x['days_'] != 0 else 0, axis = 1)\n",
    "\n",
    "# Merge\n",
    "df_ref = pd.merge(df_ref, df_aux[['customer_id', 'frequency']], on = 'customer_id', how = 'left')\n",
    "df_ref.isna().sum()"
   ]
  },
  {
   "cell_type": "markdown",
   "metadata": {},
   "source": [
    "### 3.7 Returns"
   ]
  },
  {
   "cell_type": "code",
   "execution_count": 118,
   "metadata": {},
   "outputs": [
    {
     "data": {
      "text/html": [
       "<div>\n",
       "<style scoped>\n",
       "    .dataframe tbody tr th:only-of-type {\n",
       "        vertical-align: middle;\n",
       "    }\n",
       "\n",
       "    .dataframe tbody tr th {\n",
       "        vertical-align: top;\n",
       "    }\n",
       "\n",
       "    .dataframe thead th {\n",
       "        text-align: right;\n",
       "    }\n",
       "</style>\n",
       "<table border=\"1\" class=\"dataframe\">\n",
       "  <thead>\n",
       "    <tr style=\"text-align: right;\">\n",
       "      <th></th>\n",
       "      <th>invoice_no</th>\n",
       "      <th>stock_code</th>\n",
       "      <th>quantity</th>\n",
       "      <th>invoice_date</th>\n",
       "      <th>unit_price</th>\n",
       "      <th>country</th>\n",
       "      <th>customer_id</th>\n",
       "    </tr>\n",
       "  </thead>\n",
       "  <tbody>\n",
       "    <tr>\n",
       "      <th>154</th>\n",
       "      <td>C536383</td>\n",
       "      <td>35004C</td>\n",
       "      <td>-1</td>\n",
       "      <td>2010-12-01</td>\n",
       "      <td>4.65</td>\n",
       "      <td>United Kingdom</td>\n",
       "      <td>15311</td>\n",
       "    </tr>\n",
       "    <tr>\n",
       "      <th>939</th>\n",
       "      <td>C536506</td>\n",
       "      <td>22960</td>\n",
       "      <td>-6</td>\n",
       "      <td>2010-12-01</td>\n",
       "      <td>4.25</td>\n",
       "      <td>United Kingdom</td>\n",
       "      <td>17897</td>\n",
       "    </tr>\n",
       "    <tr>\n",
       "      <th>1441</th>\n",
       "      <td>C536543</td>\n",
       "      <td>22632</td>\n",
       "      <td>-1</td>\n",
       "      <td>2010-12-01</td>\n",
       "      <td>2.10</td>\n",
       "      <td>United Kingdom</td>\n",
       "      <td>17841</td>\n",
       "    </tr>\n",
       "    <tr>\n",
       "      <th>1442</th>\n",
       "      <td>C536543</td>\n",
       "      <td>22355</td>\n",
       "      <td>-2</td>\n",
       "      <td>2010-12-01</td>\n",
       "      <td>0.85</td>\n",
       "      <td>United Kingdom</td>\n",
       "      <td>17841</td>\n",
       "    </tr>\n",
       "    <tr>\n",
       "      <th>1973</th>\n",
       "      <td>C536548</td>\n",
       "      <td>22244</td>\n",
       "      <td>-4</td>\n",
       "      <td>2010-12-01</td>\n",
       "      <td>1.95</td>\n",
       "      <td>Germany</td>\n",
       "      <td>12472</td>\n",
       "    </tr>\n",
       "  </tbody>\n",
       "</table>\n",
       "</div>"
      ],
      "text/plain": [
       "     invoice_no stock_code  quantity invoice_date  unit_price         country  \\\n",
       "154     C536383     35004C        -1   2010-12-01        4.65  United Kingdom   \n",
       "939     C536506      22960        -6   2010-12-01        4.25  United Kingdom   \n",
       "1441    C536543      22632        -1   2010-12-01        2.10  United Kingdom   \n",
       "1442    C536543      22355        -2   2010-12-01        0.85  United Kingdom   \n",
       "1973    C536548      22244        -4   2010-12-01        1.95         Germany   \n",
       "\n",
       "      customer_id  \n",
       "154         15311  \n",
       "939         17897  \n",
       "1441        17841  \n",
       "1442        17841  \n",
       "1973        12472  "
      ]
     },
     "execution_count": 118,
     "metadata": {},
     "output_type": "execute_result"
    }
   ],
   "source": [
    "df_returns.head()"
   ]
  },
  {
   "cell_type": "code",
   "execution_count": 119,
   "metadata": {},
   "outputs": [
    {
     "data": {
      "text/plain": [
       "customer_id       0\n",
       "gross_revenue    91\n",
       "recency_days     91\n",
       "purchases_no     91\n",
       "products_no      91\n",
       "items_no         91\n",
       "frequency        91\n",
       "returns_no        0\n",
       "dtype: int64"
      ]
     },
     "execution_count": 119,
     "metadata": {},
     "output_type": "execute_result"
    }
   ],
   "source": [
    "# Return Number\n",
    "df_returns = df_returns[['customer_id', 'quantity']].groupby('customer_id').sum().reset_index().rename(columns={'quantity' : 'returns_no'})\n",
    "df_returns['returns_no'] = df_returns['returns_no'] * -1\n",
    "\n",
    "df_ref = pd.merge(df_ref, df_returns, how = 'left', on='customer_id')\n",
    "df_ref.loc[df_ref['returns_no'].isna(), 'returns_no'] = 0\n",
    "\n",
    "df_ref.isna().sum()"
   ]
  },
  {
   "cell_type": "markdown",
   "metadata": {},
   "source": [
    "### 3.8 Satisfaction Rate"
   ]
  },
  {
   "cell_type": "code",
   "execution_count": 120,
   "metadata": {},
   "outputs": [],
   "source": [
    "df_ref['satisfaction_rate'] = 1 - df_ref['returns_no'] / df_ref['items_no']"
   ]
  },
  {
   "cell_type": "code",
   "execution_count": 121,
   "metadata": {},
   "outputs": [
    {
     "data": {
      "text/plain": [
       "customer_id           0\n",
       "gross_revenue        91\n",
       "recency_days         91\n",
       "purchases_no         91\n",
       "products_no          91\n",
       "items_no             91\n",
       "frequency            91\n",
       "returns_no            0\n",
       "satisfaction_rate    91\n",
       "dtype: int64"
      ]
     },
     "execution_count": 121,
     "metadata": {},
     "output_type": "execute_result"
    }
   ],
   "source": [
    "df_ref.isna().sum()"
   ]
  },
  {
   "cell_type": "code",
   "execution_count": 123,
   "metadata": {},
   "outputs": [
    {
     "data": {
      "text/plain": [
       "1     2995\n",
       "2      916\n",
       "3      526\n",
       "4      388\n",
       "5      265\n",
       "6      165\n",
       "7      101\n",
       "8       91\n",
       "9       71\n",
       "12      58\n",
       "10      55\n",
       "11      49\n",
       "Name: recorrence, dtype: int64"
      ]
     },
     "execution_count": 123,
     "metadata": {},
     "output_type": "execute_result"
    }
   ],
   "source": [
    "df_purchases['invoice_month'] = df_purchases['invoice_date'].dt.month\n",
    "df_aux = df_purchases[['customer_id', 'invoice_month']].drop_duplicates().groupby(['customer_id']).count().reset_index()\n",
    "df_aux = df_aux.rename(columns={'invoice_month':'recorrence'})\n",
    "\n",
    "df_aux['recorrence'].value_counts()\n"
   ]
  },
  {
   "cell_type": "markdown",
   "metadata": {},
   "source": [
    "# 4. Exploratory Data Analysis"
   ]
  },
  {
   "cell_type": "markdown",
   "metadata": {},
   "source": [
    "### 4.1 Profile Report"
   ]
  },
  {
   "cell_type": "code",
   "execution_count": 40,
   "metadata": {},
   "outputs": [
    {
     "data": {
      "text/plain": [
       "customer_id          0\n",
       "gross_revenue        0\n",
       "recency_days         0\n",
       "purchases_no         0\n",
       "products_no          0\n",
       "items_no             0\n",
       "frequency            0\n",
       "returns_no           0\n",
       "satisfaction_rate    0\n",
       "dtype: int64"
      ]
     },
     "execution_count": 40,
     "metadata": {},
     "output_type": "execute_result"
    }
   ],
   "source": [
    "df4 = df_ref.dropna().copy()\n",
    "df4.isna().sum()"
   ]
  },
  {
   "cell_type": "code",
   "execution_count": 41,
   "metadata": {},
   "outputs": [
    {
     "name": "stdout",
     "output_type": "stream",
     "text": [
      "(5771, 9)\n",
      "(5680, 9)\n"
     ]
    }
   ],
   "source": [
    "print(df_ref.shape)\n",
    "print(df4.shape)"
   ]
  },
  {
   "cell_type": "code",
   "execution_count": 42,
   "metadata": {},
   "outputs": [],
   "source": [
    "# profile = ProfileReport(df4)\n",
    "# profile.to_file('../data/eda_output.html')"
   ]
  },
  {
   "cell_type": "markdown",
   "metadata": {},
   "source": [
    "### 4.2 Space Study "
   ]
  },
  {
   "cell_type": "markdown",
   "metadata": {},
   "source": [
    "#### 4.2.0 Data Preparation"
   ]
  },
  {
   "cell_type": "code",
   "execution_count": 43,
   "metadata": {},
   "outputs": [],
   "source": [
    "df43 = df4.drop(columns = ['customer_id', 'returns_no'], axis=1).copy()"
   ]
  },
  {
   "cell_type": "code",
   "execution_count": 44,
   "metadata": {},
   "outputs": [],
   "source": [
    "mm = pp.MinMaxScaler()\n",
    "\n",
    "df43['gross_revenue']              = mm.fit_transform(df43[['gross_revenue']])\n",
    "df43['recency_days']               = mm.fit_transform(df43[['recency_days']])\n",
    "df43['purchases_no']               = mm.fit_transform(df43[['purchases_no']])\n",
    "df43['products_no']                = mm.fit_transform(df43[['products_no']])\n",
    "df43['items_no']                   = mm.fit_transform(df43[['items_no']])\n",
    "df43['frequency']                  = mm.fit_transform(df43[['frequency']])\n",
    "df43['satisfaction_rate']          = mm.fit_transform(df43[['satisfaction_rate']])\n"
   ]
  },
  {
   "cell_type": "code",
   "execution_count": 45,
   "metadata": {},
   "outputs": [
    {
     "data": {
      "text/html": [
       "<div>\n",
       "<style scoped>\n",
       "    .dataframe tbody tr th:only-of-type {\n",
       "        vertical-align: middle;\n",
       "    }\n",
       "\n",
       "    .dataframe tbody tr th {\n",
       "        vertical-align: top;\n",
       "    }\n",
       "\n",
       "    .dataframe thead th {\n",
       "        text-align: right;\n",
       "    }\n",
       "</style>\n",
       "<table border=\"1\" class=\"dataframe\">\n",
       "  <thead>\n",
       "    <tr style=\"text-align: right;\">\n",
       "      <th></th>\n",
       "      <th>gross_revenue</th>\n",
       "      <th>recency_days</th>\n",
       "      <th>purchases_no</th>\n",
       "      <th>products_no</th>\n",
       "      <th>items_no</th>\n",
       "      <th>frequency</th>\n",
       "      <th>satisfaction_rate</th>\n",
       "    </tr>\n",
       "  </thead>\n",
       "  <tbody>\n",
       "    <tr>\n",
       "      <th>0</th>\n",
       "      <td>0.019312</td>\n",
       "      <td>0.997319</td>\n",
       "      <td>0.160976</td>\n",
       "      <td>0.037770</td>\n",
       "      <td>0.008799</td>\n",
       "      <td>1.000000</td>\n",
       "      <td>0.976598</td>\n",
       "    </tr>\n",
       "    <tr>\n",
       "      <th>1</th>\n",
       "      <td>0.011579</td>\n",
       "      <td>0.150134</td>\n",
       "      <td>0.039024</td>\n",
       "      <td>0.021692</td>\n",
       "      <td>0.007056</td>\n",
       "      <td>0.001345</td>\n",
       "      <td>0.974470</td>\n",
       "    </tr>\n",
       "    <tr>\n",
       "      <th>2</th>\n",
       "      <td>0.024020</td>\n",
       "      <td>0.005362</td>\n",
       "      <td>0.068293</td>\n",
       "      <td>0.029476</td>\n",
       "      <td>0.025538</td>\n",
       "      <td>0.002052</td>\n",
       "      <td>0.989918</td>\n",
       "    </tr>\n",
       "    <tr>\n",
       "      <th>3</th>\n",
       "      <td>0.003396</td>\n",
       "      <td>0.254692</td>\n",
       "      <td>0.019512</td>\n",
       "      <td>0.003445</td>\n",
       "      <td>0.002225</td>\n",
       "      <td>0.000734</td>\n",
       "      <td>1.000000</td>\n",
       "    </tr>\n",
       "    <tr>\n",
       "      <th>4</th>\n",
       "      <td>0.003137</td>\n",
       "      <td>0.892761</td>\n",
       "      <td>0.009756</td>\n",
       "      <td>0.000255</td>\n",
       "      <td>0.000401</td>\n",
       "      <td>0.003985</td>\n",
       "      <td>0.721181</td>\n",
       "    </tr>\n",
       "  </tbody>\n",
       "</table>\n",
       "</div>"
      ],
      "text/plain": [
       "   gross_revenue  recency_days  purchases_no  products_no  items_no  \\\n",
       "0       0.019312      0.997319      0.160976     0.037770  0.008799   \n",
       "1       0.011579      0.150134      0.039024     0.021692  0.007056   \n",
       "2       0.024020      0.005362      0.068293     0.029476  0.025538   \n",
       "3       0.003396      0.254692      0.019512     0.003445  0.002225   \n",
       "4       0.003137      0.892761      0.009756     0.000255  0.000401   \n",
       "\n",
       "   frequency  satisfaction_rate  \n",
       "0   1.000000           0.976598  \n",
       "1   0.001345           0.974470  \n",
       "2   0.002052           0.989918  \n",
       "3   0.000734           1.000000  \n",
       "4   0.003985           0.721181  "
      ]
     },
     "execution_count": 45,
     "metadata": {},
     "output_type": "execute_result"
    }
   ],
   "source": [
    "X = df43.copy()\n",
    "X.head()"
   ]
  },
  {
   "cell_type": "markdown",
   "metadata": {},
   "source": [
    "#### 4.2.1 PCA"
   ]
  },
  {
   "cell_type": "code",
   "execution_count": 46,
   "metadata": {},
   "outputs": [
    {
     "data": {
      "image/png": "[encoded data removed]",
      "text/plain": [
       "<Figure size 432x288 with 1 Axes>"
      ]
     },
     "metadata": {
      "needs_background": "light"
     },
     "output_type": "display_data"
    }
   ],
   "source": [
    "pca = dd.PCA(n_components = X.shape[1])\n",
    "principal_components = pca.fit_transform(X)\n",
    "\n",
    "# plot explained variable\n",
    "features = range(pca.n_components_)\n",
    "plt.bar(features, pca.explained_variance_ratio_, color = 'black')\n",
    "\n",
    "# pca component\n",
    "df_pca = pd.DataFrame(principal_components)"
   ]
  },
  {
   "cell_type": "code",
   "execution_count": 47,
   "metadata": {},
   "outputs": [
    {
     "data": {
      "text/plain": [
       "<AxesSubplot:xlabel='0', ylabel='1'>"
      ]
     },
     "execution_count": 47,
     "metadata": {},
     "output_type": "execute_result"
    },
    {
     "data": {
      "image/png": "[encoded data removed]",
      "text/plain": [
       "<Figure size 432x288 with 1 Axes>"
      ]
     },
     "metadata": {
      "needs_background": "light"
     },
     "output_type": "display_data"
    }
   ],
   "source": [
    "sns.scatterplot(x=0, y=1, data = df_pca)"
   ]
  },
  {
   "cell_type": "markdown",
   "metadata": {},
   "source": [
    "#### 4.2.2 UMAP"
   ]
  },
  {
   "cell_type": "code",
   "execution_count": 48,
   "metadata": {},
   "outputs": [
    {
     "data": {
      "text/plain": [
       "<AxesSubplot:xlabel='embedding_x', ylabel='embedding_y'>"
      ]
     },
     "execution_count": 48,
     "metadata": {},
     "output_type": "execute_result"
    },
    {
     "data": {
      "image/png": "[encoded data removed]",
      "text/plain": [
       "<Figure size 432x288 with 1 Axes>"
      ]
     },
     "metadata": {
      "needs_background": "light"
     },
     "output_type": "display_data"
    }
   ],
   "source": [
    "reducer = umap.UMAP(random_state=42)\n",
    "embedding = reducer.fit_transform (X)\n",
    "\n",
    "# embedding\n",
    "df_umap = pd.DataFrame()\n",
    "df_umap['embedding_x'] = embedding[:, 0]\n",
    "df_umap['embedding_y'] = embedding[:, 1]\n",
    "\n",
    "# plto UMAP\n",
    "sns.scatterplot( x='embedding_x',\n",
    "                 y='embedding_y',\n",
    "                 data = df_umap)"
   ]
  },
  {
   "cell_type": "markdown",
   "metadata": {},
   "source": [
    "#### 4.2.3 t-SNE"
   ]
  },
  {
   "cell_type": "code",
   "execution_count": 49,
   "metadata": {},
   "outputs": [
    {
     "data": {
      "text/plain": [
       "<AxesSubplot:xlabel='embedding_x', ylabel='embedding_y'>"
      ]
     },
     "execution_count": 49,
     "metadata": {},
     "output_type": "execute_result"
    },
    {
     "data": {
      "image/png": "[encoded data removed]",
      "text/plain": [
       "<Figure size 432x288 with 1 Axes>"
      ]
     },
     "metadata": {
      "needs_background": "light"
     },
     "output_type": "display_data"
    }
   ],
   "source": [
    "reducer = mn.TSNE(n_components = 2,\n",
    "                  n_jobs = -1,\n",
    "                  random_state=42)\n",
    "\n",
    "embedding = reducer.fit_transform (X)\n",
    "\n",
    "# embedding\n",
    "df_tsne = pd.DataFrame()\n",
    "df_tsne['embedding_x'] = embedding[:, 0]\n",
    "df_tsne['embedding_y'] = embedding[:, 1]\n",
    "\n",
    "# plto UMAP\n",
    "sns.scatterplot( x='embedding_x',\n",
    "                 y='embedding_y',\n",
    "                 data = df_tsne)"
   ]
  },
  {
   "cell_type": "markdown",
   "metadata": {},
   "source": [
    "#### 4.2.4 Tree-Based Embedding"
   ]
  },
  {
   "cell_type": "code",
   "execution_count": 50,
   "metadata": {},
   "outputs": [],
   "source": [
    "# Training Dataset\n",
    "X = df43.drop(columns=['gross_revenue'], axis=1)\n",
    "y = df43['gross_revenue']\n",
    "\n",
    "# Model Definition\n",
    "rf_model = en.RandomForestRegressor(n_estimators=500, random_state=42)\n",
    "\n",
    "# Model Training\n",
    "rf_model.fit(X, y)                                                    \n",
    "\n",
    "# Leaf\n",
    "df_leaf = pd.DataFrame(rf_model.apply(X))                              "
   ]
  },
  {
   "cell_type": "code",
   "execution_count": 51,
   "metadata": {},
   "outputs": [
    {
     "data": {
      "text/plain": [
       "<AxesSubplot:xlabel='embedding_x', ylabel='embedding_y'>"
      ]
     },
     "execution_count": 51,
     "metadata": {},
     "output_type": "execute_result"
    },
    {
     "data": {
      "image/png": "[encoded data removed]",
      "text/plain": [
       "<Figure size 432x360 with 1 Axes>"
      ]
     },
     "metadata": {},
     "output_type": "display_data"
    }
   ],
   "source": [
    "# Reduzer Dimensionality\n",
    "reducer = umap.UMAP(random_state=42)\n",
    "embedding = reducer.fit_transform (df_leaf)\n",
    "\n",
    "# embedding\n",
    "df_tree = pd.DataFrame()\n",
    "df_tree['embedding_x'] = embedding[:, 0]\n",
    "df_tree['embedding_y'] = embedding[:, 1]\n",
    "\n",
    "# plto UMAP\n",
    "sns.set(rc={'figure.figsize':(6,5)})\n",
    "sns.scatterplot( x='embedding_x',\n",
    "                 y='embedding_y',\n",
    "                 data = df_tree)"
   ]
  },
  {
   "cell_type": "markdown",
   "metadata": {},
   "source": [
    "# 5. Hyperparameter Fine-Tunning"
   ]
  },
  {
   "cell_type": "markdown",
   "metadata": {},
   "source": [
    "### 5.0 Feature Space"
   ]
  },
  {
   "cell_type": "code",
   "execution_count": 52,
   "metadata": {},
   "outputs": [],
   "source": [
    "clusters = np.arange(2, 11, 1)\n",
    "X = df43.copy()"
   ]
  },
  {
   "cell_type": "code",
   "execution_count": 53,
   "metadata": {},
   "outputs": [],
   "source": [
    "# KMeans\n",
    "kmeans_list = []\n",
    "for k in clusters:\n",
    "    # model definition\n",
    "    kmeans_model = c.KMeans(init='random',\n",
    "                            n_clusters=k,\n",
    "                            n_init=10,\n",
    "                            max_iter=300,\n",
    "                            random_state=42)\n",
    "\n",
    "    # model training\n",
    "    kmeans_model.fit(X)\n",
    "\n",
    "    # clustering\n",
    "    labels = kmeans_model.predict(X) \n",
    "\n",
    "    # model performance (SS)\n",
    "    sil = m.silhouette_score(X, labels, metric='euclidean')\n",
    "    kmeans_list.append(sil)\n",
    "\n",
    "# GMM\n",
    "gmm_list = []\n",
    "for k in clusters:\n",
    "    # model definition\n",
    "    gmm_model = mx.GaussianMixture(n_components=k)\n",
    "\n",
    "    # model training\n",
    "    gmm_model.fit(X)\n",
    "\n",
    "    # model predict\n",
    "    labels = gmm_model.predict(X)\n",
    "\n",
    "    # model performance\n",
    "    sil = m.silhouette_score(X, labels, metric='euclidean')\n",
    "    gmm_list.append(sil)\n",
    "\n",
    "# HC\n",
    "hc_list = []\n",
    "for k in clusters:\n",
    "    # model definition and training\n",
    "    hc_model = hc.linkage(X, 'ward')\n",
    "\n",
    "    # model predict\n",
    "    labels = hc.fcluster(hc_model, k, criterion='maxclust')\n",
    "\n",
    "    # model performance\n",
    "    sil = m.silhouette_score(X, labels, metric='euclidean')\n",
    "    hc_list.append(sil)"
   ]
  },
  {
   "cell_type": "code",
   "execution_count": 54,
   "metadata": {},
   "outputs": [
    {
     "data": {
      "text/html": [
       "<style type=\"text/css\">\n",
       "#T_a3ac4_row0_col0, #T_a3ac4_row1_col1, #T_a3ac4_row2_col0 {\n",
       "  background-color: blue;\n",
       "}\n",
       "</style>\n",
       "<table id=\"T_a3ac4\">\n",
       "  <thead>\n",
       "    <tr>\n",
       "      <th class=\"blank level0\" >&nbsp;</th>\n",
       "      <th id=\"T_a3ac4_level0_col0\" class=\"col_heading level0 col0\" >2</th>\n",
       "      <th id=\"T_a3ac4_level0_col1\" class=\"col_heading level0 col1\" >3</th>\n",
       "      <th id=\"T_a3ac4_level0_col2\" class=\"col_heading level0 col2\" >4</th>\n",
       "      <th id=\"T_a3ac4_level0_col3\" class=\"col_heading level0 col3\" >5</th>\n",
       "      <th id=\"T_a3ac4_level0_col4\" class=\"col_heading level0 col4\" >6</th>\n",
       "      <th id=\"T_a3ac4_level0_col5\" class=\"col_heading level0 col5\" >7</th>\n",
       "      <th id=\"T_a3ac4_level0_col6\" class=\"col_heading level0 col6\" >8</th>\n",
       "      <th id=\"T_a3ac4_level0_col7\" class=\"col_heading level0 col7\" >9</th>\n",
       "      <th id=\"T_a3ac4_level0_col8\" class=\"col_heading level0 col8\" >10</th>\n",
       "    </tr>\n",
       "  </thead>\n",
       "  <tbody>\n",
       "    <tr>\n",
       "      <th id=\"T_a3ac4_level0_row0\" class=\"row_heading level0 row0\" >KMeans</th>\n",
       "      <td id=\"T_a3ac4_row0_col0\" class=\"data row0 col0\" >0.666752</td>\n",
       "      <td id=\"T_a3ac4_row0_col1\" class=\"data row0 col1\" >0.594891</td>\n",
       "      <td id=\"T_a3ac4_row0_col2\" class=\"data row0 col2\" >0.485418</td>\n",
       "      <td id=\"T_a3ac4_row0_col3\" class=\"data row0 col3\" >0.463681</td>\n",
       "      <td id=\"T_a3ac4_row0_col4\" class=\"data row0 col4\" >0.472037</td>\n",
       "      <td id=\"T_a3ac4_row0_col5\" class=\"data row0 col5\" >0.445127</td>\n",
       "      <td id=\"T_a3ac4_row0_col6\" class=\"data row0 col6\" >0.442281</td>\n",
       "      <td id=\"T_a3ac4_row0_col7\" class=\"data row0 col7\" >0.419253</td>\n",
       "      <td id=\"T_a3ac4_row0_col8\" class=\"data row0 col8\" >0.348386</td>\n",
       "    </tr>\n",
       "    <tr>\n",
       "      <th id=\"T_a3ac4_level0_row1\" class=\"row_heading level0 row1\" >GMM</th>\n",
       "      <td id=\"T_a3ac4_row1_col0\" class=\"data row1 col0\" >0.012827</td>\n",
       "      <td id=\"T_a3ac4_row1_col1\" class=\"data row1 col1\" >0.065747</td>\n",
       "      <td id=\"T_a3ac4_row1_col2\" class=\"data row1 col2\" >0.024269</td>\n",
       "      <td id=\"T_a3ac4_row1_col3\" class=\"data row1 col3\" >-0.118837</td>\n",
       "      <td id=\"T_a3ac4_row1_col4\" class=\"data row1 col4\" >-0.148885</td>\n",
       "      <td id=\"T_a3ac4_row1_col5\" class=\"data row1 col5\" >-0.238617</td>\n",
       "      <td id=\"T_a3ac4_row1_col6\" class=\"data row1 col6\" >-0.209338</td>\n",
       "      <td id=\"T_a3ac4_row1_col7\" class=\"data row1 col7\" >-0.213132</td>\n",
       "      <td id=\"T_a3ac4_row1_col8\" class=\"data row1 col8\" >-0.198208</td>\n",
       "    </tr>\n",
       "    <tr>\n",
       "      <th id=\"T_a3ac4_level0_row2\" class=\"row_heading level0 row2\" >HC</th>\n",
       "      <td id=\"T_a3ac4_row2_col0\" class=\"data row2 col0\" >0.645927</td>\n",
       "      <td id=\"T_a3ac4_row2_col1\" class=\"data row2 col1\" >0.548995</td>\n",
       "      <td id=\"T_a3ac4_row2_col2\" class=\"data row2 col2\" >0.542800</td>\n",
       "      <td id=\"T_a3ac4_row2_col3\" class=\"data row2 col3\" >0.406781</td>\n",
       "      <td id=\"T_a3ac4_row2_col4\" class=\"data row2 col4\" >0.418978</td>\n",
       "      <td id=\"T_a3ac4_row2_col5\" class=\"data row2 col5\" >0.403895</td>\n",
       "      <td id=\"T_a3ac4_row2_col6\" class=\"data row2 col6\" >0.414207</td>\n",
       "      <td id=\"T_a3ac4_row2_col7\" class=\"data row2 col7\" >0.408813</td>\n",
       "      <td id=\"T_a3ac4_row2_col8\" class=\"data row2 col8\" >0.395908</td>\n",
       "    </tr>\n",
       "  </tbody>\n",
       "</table>\n"
      ],
      "text/plain": [
       "<pandas.io.formats.style.Styler at 0x7fec7476e490>"
      ]
     },
     "execution_count": 54,
     "metadata": {},
     "output_type": "execute_result"
    }
   ],
   "source": [
    "# Original Dataset Result\n",
    "df_results_original = pd.DataFrame(\n",
    "    {'KMeans': kmeans_list,\n",
    "     'GMM': gmm_list,\n",
    "     'HC': hc_list}\n",
    "     ).T\n",
    "\n",
    "df_results_original.columns = clusters\n",
    "df_results_original = df_results_original.style.highlight_max(color = 'blue', axis=1)\n",
    "\n",
    "df_results_original"
   ]
  },
  {
   "cell_type": "markdown",
   "metadata": {},
   "source": [
    "### 5.1 Tree Based Embedding"
   ]
  },
  {
   "cell_type": "code",
   "execution_count": 55,
   "metadata": {},
   "outputs": [],
   "source": [
    "# Tree Based Embedding\n",
    "X = df_tree.copy()"
   ]
  },
  {
   "cell_type": "code",
   "execution_count": 56,
   "metadata": {},
   "outputs": [],
   "source": [
    "# KMeans\n",
    "kmeans_list = []\n",
    "for k in clusters:\n",
    "    # model definition\n",
    "    kmeans_model = c.KMeans(init='random',\n",
    "                            n_clusters=k,\n",
    "                            n_init=10,\n",
    "                            max_iter=300,\n",
    "                            random_state=42)\n",
    "\n",
    "    # model training\n",
    "    kmeans_model.fit(X)\n",
    "\n",
    "    # clustering\n",
    "    labels = kmeans_model.predict(X) \n",
    "\n",
    "    # model performance (SS)\n",
    "    sil = m.silhouette_score(X, labels, metric='euclidean')\n",
    "    kmeans_list.append(sil)\n",
    "\n",
    "# GMM\n",
    "gmm_list = []\n",
    "for k in clusters:\n",
    "    # model definition\n",
    "    gmm_model = mx.GaussianMixture(n_components=k)\n",
    "\n",
    "    # model training\n",
    "    gmm_model.fit(X)\n",
    "\n",
    "    # model predict\n",
    "    labels = gmm_model.predict(X)\n",
    "\n",
    "    # model performance\n",
    "    sil = m.silhouette_score(X, labels, metric='euclidean')\n",
    "    gmm_list.append(sil)\n",
    "\n",
    "# HC\n",
    "hc_list = []\n",
    "for k in clusters:\n",
    "    # model definition and training\n",
    "    hc_model = hc.linkage(X, 'ward')\n",
    "\n",
    "    # model predict\n",
    "    labels = hc.fcluster(hc_model, k, criterion='maxclust')\n",
    "\n",
    "    # model performance\n",
    "    sil = m.silhouette_score(X, labels, metric='euclidean')\n",
    "    hc_list.append(sil)"
   ]
  },
  {
   "cell_type": "code",
   "execution_count": 57,
   "metadata": {},
   "outputs": [
    {
     "data": {
      "text/html": [
       "<style type=\"text/css\">\n",
       "#T_c50ac_row0_col8, #T_c50ac_row1_col8, #T_c50ac_row2_col7 {\n",
       "  background-color: blue;\n",
       "}\n",
       "</style>\n",
       "<table id=\"T_c50ac\">\n",
       "  <thead>\n",
       "    <tr>\n",
       "      <th class=\"blank level0\" >&nbsp;</th>\n",
       "      <th id=\"T_c50ac_level0_col0\" class=\"col_heading level0 col0\" >2</th>\n",
       "      <th id=\"T_c50ac_level0_col1\" class=\"col_heading level0 col1\" >3</th>\n",
       "      <th id=\"T_c50ac_level0_col2\" class=\"col_heading level0 col2\" >4</th>\n",
       "      <th id=\"T_c50ac_level0_col3\" class=\"col_heading level0 col3\" >5</th>\n",
       "      <th id=\"T_c50ac_level0_col4\" class=\"col_heading level0 col4\" >6</th>\n",
       "      <th id=\"T_c50ac_level0_col5\" class=\"col_heading level0 col5\" >7</th>\n",
       "      <th id=\"T_c50ac_level0_col6\" class=\"col_heading level0 col6\" >8</th>\n",
       "      <th id=\"T_c50ac_level0_col7\" class=\"col_heading level0 col7\" >9</th>\n",
       "      <th id=\"T_c50ac_level0_col8\" class=\"col_heading level0 col8\" >10</th>\n",
       "    </tr>\n",
       "  </thead>\n",
       "  <tbody>\n",
       "    <tr>\n",
       "      <th id=\"T_c50ac_level0_row0\" class=\"row_heading level0 row0\" >KMeans</th>\n",
       "      <td id=\"T_c50ac_row0_col0\" class=\"data row0 col0\" >0.392671</td>\n",
       "      <td id=\"T_c50ac_row0_col1\" class=\"data row0 col1\" >0.425820</td>\n",
       "      <td id=\"T_c50ac_row0_col2\" class=\"data row0 col2\" >0.450263</td>\n",
       "      <td id=\"T_c50ac_row0_col3\" class=\"data row0 col3\" >0.432313</td>\n",
       "      <td id=\"T_c50ac_row0_col4\" class=\"data row0 col4\" >0.463077</td>\n",
       "      <td id=\"T_c50ac_row0_col5\" class=\"data row0 col5\" >0.479293</td>\n",
       "      <td id=\"T_c50ac_row0_col6\" class=\"data row0 col6\" >0.484259</td>\n",
       "      <td id=\"T_c50ac_row0_col7\" class=\"data row0 col7\" >0.497900</td>\n",
       "      <td id=\"T_c50ac_row0_col8\" class=\"data row0 col8\" >0.500613</td>\n",
       "    </tr>\n",
       "    <tr>\n",
       "      <th id=\"T_c50ac_level0_row1\" class=\"row_heading level0 row1\" >GMM</th>\n",
       "      <td id=\"T_c50ac_row1_col0\" class=\"data row1 col0\" >0.392671</td>\n",
       "      <td id=\"T_c50ac_row1_col1\" class=\"data row1 col1\" >0.426583</td>\n",
       "      <td id=\"T_c50ac_row1_col2\" class=\"data row1 col2\" >0.422892</td>\n",
       "      <td id=\"T_c50ac_row1_col3\" class=\"data row1 col3\" >0.387384</td>\n",
       "      <td id=\"T_c50ac_row1_col4\" class=\"data row1 col4\" >0.371432</td>\n",
       "      <td id=\"T_c50ac_row1_col5\" class=\"data row1 col5\" >0.453293</td>\n",
       "      <td id=\"T_c50ac_row1_col6\" class=\"data row1 col6\" >0.444392</td>\n",
       "      <td id=\"T_c50ac_row1_col7\" class=\"data row1 col7\" >0.458855</td>\n",
       "      <td id=\"T_c50ac_row1_col8\" class=\"data row1 col8\" >0.467308</td>\n",
       "    </tr>\n",
       "    <tr>\n",
       "      <th id=\"T_c50ac_level0_row2\" class=\"row_heading level0 row2\" >HC</th>\n",
       "      <td id=\"T_c50ac_row2_col0\" class=\"data row2 col0\" >0.359090</td>\n",
       "      <td id=\"T_c50ac_row2_col1\" class=\"data row2 col1\" >0.423250</td>\n",
       "      <td id=\"T_c50ac_row2_col2\" class=\"data row2 col2\" >0.422717</td>\n",
       "      <td id=\"T_c50ac_row2_col3\" class=\"data row2 col3\" >0.426854</td>\n",
       "      <td id=\"T_c50ac_row2_col4\" class=\"data row2 col4\" >0.447895</td>\n",
       "      <td id=\"T_c50ac_row2_col5\" class=\"data row2 col5\" >0.450772</td>\n",
       "      <td id=\"T_c50ac_row2_col6\" class=\"data row2 col6\" >0.468286</td>\n",
       "      <td id=\"T_c50ac_row2_col7\" class=\"data row2 col7\" >0.483697</td>\n",
       "      <td id=\"T_c50ac_row2_col8\" class=\"data row2 col8\" >0.473702</td>\n",
       "    </tr>\n",
       "  </tbody>\n",
       "</table>\n"
      ],
      "text/plain": [
       "<pandas.io.formats.style.Styler at 0x7fec741278e0>"
      ]
     },
     "execution_count": 57,
     "metadata": {},
     "output_type": "execute_result"
    }
   ],
   "source": [
    "# Tree Based Embedding Result\n",
    "df_results_tree = pd.DataFrame(\n",
    "    {'KMeans': kmeans_list,\n",
    "     'GMM': gmm_list,\n",
    "     'HC': hc_list}\n",
    "     ).T\n",
    "\n",
    "df_results_tree.columns = clusters\n",
    "df_results_tree = df_results_tree.style.highlight_max(color = 'blue', axis=1)\n",
    "\n",
    "df_results_tree"
   ]
  },
  {
   "cell_type": "markdown",
   "metadata": {},
   "source": [
    "### 5.2 UMAP Embedding"
   ]
  },
  {
   "cell_type": "code",
   "execution_count": 58,
   "metadata": {},
   "outputs": [],
   "source": [
    "# UMAP Embedding\n",
    "X = df_umap.copy()"
   ]
  },
  {
   "cell_type": "code",
   "execution_count": 59,
   "metadata": {},
   "outputs": [],
   "source": [
    "# KMeans\n",
    "kmeans_list = []\n",
    "for k in clusters:\n",
    "    # model definition\n",
    "    kmeans_model = c.KMeans(init='random',\n",
    "                            n_clusters=k,\n",
    "                            n_init=10,\n",
    "                            max_iter=300,\n",
    "                            random_state=42)\n",
    "\n",
    "    # model training\n",
    "    kmeans_model.fit(X)\n",
    "\n",
    "    # clustering\n",
    "    labels = kmeans_model.predict(X) \n",
    "\n",
    "    # model performance (SS)\n",
    "    sil = m.silhouette_score(X, labels, metric='euclidean')\n",
    "    kmeans_list.append(sil)\n",
    "\n",
    "# GMM\n",
    "gmm_list = []\n",
    "for k in clusters:\n",
    "    # model definition\n",
    "    gmm_model = mx.GaussianMixture(n_components=k)\n",
    "\n",
    "    # model training\n",
    "    gmm_model.fit(X)\n",
    "\n",
    "    # model predict\n",
    "    labels = gmm_model.predict(X)\n",
    "\n",
    "    # model performance\n",
    "    sil = m.silhouette_score(X, labels, metric='euclidean')\n",
    "    gmm_list.append(sil)\n",
    "\n",
    "# HC\n",
    "hc_list = []\n",
    "for k in clusters:\n",
    "    # model definition and training\n",
    "    hc_model = hc.linkage(X, 'ward')\n",
    "\n",
    "    # model predict\n",
    "    labels = hc.fcluster(hc_model, k, criterion='maxclust')\n",
    "\n",
    "    # model performance\n",
    "    sil = m.silhouette_score(X, labels, metric='euclidean')\n",
    "    hc_list.append(sil)"
   ]
  },
  {
   "cell_type": "code",
   "execution_count": 60,
   "metadata": {},
   "outputs": [
    {
     "data": {
      "text/html": [
       "<style type=\"text/css\">\n",
       "#T_82f3d_row0_col5, #T_82f3d_row1_col2, #T_82f3d_row2_col6 {\n",
       "  background-color: blue;\n",
       "}\n",
       "</style>\n",
       "<table id=\"T_82f3d\">\n",
       "  <thead>\n",
       "    <tr>\n",
       "      <th class=\"blank level0\" >&nbsp;</th>\n",
       "      <th id=\"T_82f3d_level0_col0\" class=\"col_heading level0 col0\" >2</th>\n",
       "      <th id=\"T_82f3d_level0_col1\" class=\"col_heading level0 col1\" >3</th>\n",
       "      <th id=\"T_82f3d_level0_col2\" class=\"col_heading level0 col2\" >4</th>\n",
       "      <th id=\"T_82f3d_level0_col3\" class=\"col_heading level0 col3\" >5</th>\n",
       "      <th id=\"T_82f3d_level0_col4\" class=\"col_heading level0 col4\" >6</th>\n",
       "      <th id=\"T_82f3d_level0_col5\" class=\"col_heading level0 col5\" >7</th>\n",
       "      <th id=\"T_82f3d_level0_col6\" class=\"col_heading level0 col6\" >8</th>\n",
       "      <th id=\"T_82f3d_level0_col7\" class=\"col_heading level0 col7\" >9</th>\n",
       "      <th id=\"T_82f3d_level0_col8\" class=\"col_heading level0 col8\" >10</th>\n",
       "    </tr>\n",
       "  </thead>\n",
       "  <tbody>\n",
       "    <tr>\n",
       "      <th id=\"T_82f3d_level0_row0\" class=\"row_heading level0 row0\" >KMeans</th>\n",
       "      <td id=\"T_82f3d_row0_col0\" class=\"data row0 col0\" >0.451914</td>\n",
       "      <td id=\"T_82f3d_row0_col1\" class=\"data row0 col1\" >0.489377</td>\n",
       "      <td id=\"T_82f3d_row0_col2\" class=\"data row0 col2\" >0.513561</td>\n",
       "      <td id=\"T_82f3d_row0_col3\" class=\"data row0 col3\" >0.517846</td>\n",
       "      <td id=\"T_82f3d_row0_col4\" class=\"data row0 col4\" >0.528539</td>\n",
       "      <td id=\"T_82f3d_row0_col5\" class=\"data row0 col5\" >0.544201</td>\n",
       "      <td id=\"T_82f3d_row0_col6\" class=\"data row0 col6\" >0.496887</td>\n",
       "      <td id=\"T_82f3d_row0_col7\" class=\"data row0 col7\" >0.509659</td>\n",
       "      <td id=\"T_82f3d_row0_col8\" class=\"data row0 col8\" >0.532397</td>\n",
       "    </tr>\n",
       "    <tr>\n",
       "      <th id=\"T_82f3d_level0_row1\" class=\"row_heading level0 row1\" >GMM</th>\n",
       "      <td id=\"T_82f3d_row1_col0\" class=\"data row1 col0\" >0.449781</td>\n",
       "      <td id=\"T_82f3d_row1_col1\" class=\"data row1 col1\" >0.423918</td>\n",
       "      <td id=\"T_82f3d_row1_col2\" class=\"data row1 col2\" >0.473479</td>\n",
       "      <td id=\"T_82f3d_row1_col3\" class=\"data row1 col3\" >0.409919</td>\n",
       "      <td id=\"T_82f3d_row1_col4\" class=\"data row1 col4\" >0.403038</td>\n",
       "      <td id=\"T_82f3d_row1_col5\" class=\"data row1 col5\" >0.455182</td>\n",
       "      <td id=\"T_82f3d_row1_col6\" class=\"data row1 col6\" >0.447497</td>\n",
       "      <td id=\"T_82f3d_row1_col7\" class=\"data row1 col7\" >0.451630</td>\n",
       "      <td id=\"T_82f3d_row1_col8\" class=\"data row1 col8\" >0.450805</td>\n",
       "    </tr>\n",
       "    <tr>\n",
       "      <th id=\"T_82f3d_level0_row2\" class=\"row_heading level0 row2\" >HC</th>\n",
       "      <td id=\"T_82f3d_row2_col0\" class=\"data row2 col0\" >0.438135</td>\n",
       "      <td id=\"T_82f3d_row2_col1\" class=\"data row2 col1\" >0.469278</td>\n",
       "      <td id=\"T_82f3d_row2_col2\" class=\"data row2 col2\" >0.478514</td>\n",
       "      <td id=\"T_82f3d_row2_col3\" class=\"data row2 col3\" >0.462431</td>\n",
       "      <td id=\"T_82f3d_row2_col4\" class=\"data row2 col4\" >0.499209</td>\n",
       "      <td id=\"T_82f3d_row2_col5\" class=\"data row2 col5\" >0.534862</td>\n",
       "      <td id=\"T_82f3d_row2_col6\" class=\"data row2 col6\" >0.547641</td>\n",
       "      <td id=\"T_82f3d_row2_col7\" class=\"data row2 col7\" >0.544051</td>\n",
       "      <td id=\"T_82f3d_row2_col8\" class=\"data row2 col8\" >0.497785</td>\n",
       "    </tr>\n",
       "  </tbody>\n",
       "</table>\n"
      ],
      "text/plain": [
       "<pandas.io.formats.style.Styler at 0x7fec77428e80>"
      ]
     },
     "execution_count": 60,
     "metadata": {},
     "output_type": "execute_result"
    }
   ],
   "source": [
    "# UMAP Embedding Result\n",
    "df_results_umap = pd.DataFrame(\n",
    "    {'KMeans': kmeans_list,\n",
    "     'GMM': gmm_list,\n",
    "     'HC': hc_list}\n",
    "     ).T\n",
    "\n",
    "df_results_umap.columns = clusters\n",
    "df_results_umap = df_results_umap.style.highlight_max(color = 'blue', axis=1)\n",
    "\n",
    "df_results_umap"
   ]
  },
  {
   "cell_type": "markdown",
   "metadata": {},
   "source": [
    "### 5.3 TSNE Embedding"
   ]
  },
  {
   "cell_type": "code",
   "execution_count": 61,
   "metadata": {},
   "outputs": [],
   "source": [
    "# TSNE Embedding\n",
    "X = df_tsne.copy()"
   ]
  },
  {
   "cell_type": "code",
   "execution_count": 62,
   "metadata": {},
   "outputs": [],
   "source": [
    "# KMeans\n",
    "kmeans_list = []\n",
    "for k in clusters:\n",
    "    # model definition\n",
    "    kmeans_model = c.KMeans(init='random',\n",
    "                            n_clusters=k,\n",
    "                            n_init=10,\n",
    "                            max_iter=300,\n",
    "                            random_state=42)\n",
    "\n",
    "    # model training\n",
    "    kmeans_model.fit(X)\n",
    "\n",
    "    # clustering\n",
    "    labels = kmeans_model.predict(X) \n",
    "\n",
    "    # model performance (SS)\n",
    "    sil = m.silhouette_score(X, labels, metric='euclidean')\n",
    "    kmeans_list.append(sil)\n",
    "\n",
    "# GMM\n",
    "gmm_list = []\n",
    "for k in clusters:\n",
    "    # model definition\n",
    "    gmm_model = mx.GaussianMixture(n_components=k)\n",
    "\n",
    "    # model training\n",
    "    gmm_model.fit(X)\n",
    "\n",
    "    # model predict\n",
    "    labels = gmm_model.predict(X)\n",
    "\n",
    "    # model performance\n",
    "    sil = m.silhouette_score(X, labels, metric='euclidean')\n",
    "    gmm_list.append(sil)\n",
    "\n",
    "# HC\n",
    "hc_list = []\n",
    "for k in clusters:\n",
    "    # model definition and training\n",
    "    hc_model = hc.linkage(X, 'ward')\n",
    "\n",
    "    # model predict\n",
    "    labels = hc.fcluster(hc_model, k, criterion='maxclust')\n",
    "\n",
    "    # model performance\n",
    "    sil = m.silhouette_score(X, labels, metric='euclidean')\n",
    "    hc_list.append(sil)"
   ]
  },
  {
   "cell_type": "code",
   "execution_count": 63,
   "metadata": {},
   "outputs": [],
   "source": [
    "# TSNE Embedding Result\n",
    "df_results_tsne = pd.DataFrame(\n",
    "    {'KMeans': kmeans_list,\n",
    "     'GMM': gmm_list,\n",
    "     'HC': hc_list}\n",
    "     ).T\n",
    "\n",
    "df_results_tsne.columns = clusters\n",
    "df_results_tsne = df_results_tsne.style.highlight_max(color = 'blue', axis=1)"
   ]
  },
  {
   "cell_type": "markdown",
   "metadata": {},
   "source": [
    "### 5.4 Summarize Results"
   ]
  },
  {
   "cell_type": "code",
   "execution_count": 64,
   "metadata": {},
   "outputs": [
    {
     "data": {
      "text/html": [
       "<style type=\"text/css\">\n",
       "#T_a3ac4_row0_col0, #T_a3ac4_row1_col1, #T_a3ac4_row2_col0 {\n",
       "  background-color: blue;\n",
       "}\n",
       "</style>\n",
       "<table id=\"T_a3ac4\">\n",
       "  <thead>\n",
       "    <tr>\n",
       "      <th class=\"blank level0\" >&nbsp;</th>\n",
       "      <th id=\"T_a3ac4_level0_col0\" class=\"col_heading level0 col0\" >2</th>\n",
       "      <th id=\"T_a3ac4_level0_col1\" class=\"col_heading level0 col1\" >3</th>\n",
       "      <th id=\"T_a3ac4_level0_col2\" class=\"col_heading level0 col2\" >4</th>\n",
       "      <th id=\"T_a3ac4_level0_col3\" class=\"col_heading level0 col3\" >5</th>\n",
       "      <th id=\"T_a3ac4_level0_col4\" class=\"col_heading level0 col4\" >6</th>\n",
       "      <th id=\"T_a3ac4_level0_col5\" class=\"col_heading level0 col5\" >7</th>\n",
       "      <th id=\"T_a3ac4_level0_col6\" class=\"col_heading level0 col6\" >8</th>\n",
       "      <th id=\"T_a3ac4_level0_col7\" class=\"col_heading level0 col7\" >9</th>\n",
       "      <th id=\"T_a3ac4_level0_col8\" class=\"col_heading level0 col8\" >10</th>\n",
       "    </tr>\n",
       "  </thead>\n",
       "  <tbody>\n",
       "    <tr>\n",
       "      <th id=\"T_a3ac4_level0_row0\" class=\"row_heading level0 row0\" >KMeans</th>\n",
       "      <td id=\"T_a3ac4_row0_col0\" class=\"data row0 col0\" >0.666752</td>\n",
       "      <td id=\"T_a3ac4_row0_col1\" class=\"data row0 col1\" >0.594891</td>\n",
       "      <td id=\"T_a3ac4_row0_col2\" class=\"data row0 col2\" >0.485418</td>\n",
       "      <td id=\"T_a3ac4_row0_col3\" class=\"data row0 col3\" >0.463681</td>\n",
       "      <td id=\"T_a3ac4_row0_col4\" class=\"data row0 col4\" >0.472037</td>\n",
       "      <td id=\"T_a3ac4_row0_col5\" class=\"data row0 col5\" >0.445127</td>\n",
       "      <td id=\"T_a3ac4_row0_col6\" class=\"data row0 col6\" >0.442281</td>\n",
       "      <td id=\"T_a3ac4_row0_col7\" class=\"data row0 col7\" >0.419253</td>\n",
       "      <td id=\"T_a3ac4_row0_col8\" class=\"data row0 col8\" >0.348386</td>\n",
       "    </tr>\n",
       "    <tr>\n",
       "      <th id=\"T_a3ac4_level0_row1\" class=\"row_heading level0 row1\" >GMM</th>\n",
       "      <td id=\"T_a3ac4_row1_col0\" class=\"data row1 col0\" >0.012827</td>\n",
       "      <td id=\"T_a3ac4_row1_col1\" class=\"data row1 col1\" >0.065747</td>\n",
       "      <td id=\"T_a3ac4_row1_col2\" class=\"data row1 col2\" >0.024269</td>\n",
       "      <td id=\"T_a3ac4_row1_col3\" class=\"data row1 col3\" >-0.118837</td>\n",
       "      <td id=\"T_a3ac4_row1_col4\" class=\"data row1 col4\" >-0.148885</td>\n",
       "      <td id=\"T_a3ac4_row1_col5\" class=\"data row1 col5\" >-0.238617</td>\n",
       "      <td id=\"T_a3ac4_row1_col6\" class=\"data row1 col6\" >-0.209338</td>\n",
       "      <td id=\"T_a3ac4_row1_col7\" class=\"data row1 col7\" >-0.213132</td>\n",
       "      <td id=\"T_a3ac4_row1_col8\" class=\"data row1 col8\" >-0.198208</td>\n",
       "    </tr>\n",
       "    <tr>\n",
       "      <th id=\"T_a3ac4_level0_row2\" class=\"row_heading level0 row2\" >HC</th>\n",
       "      <td id=\"T_a3ac4_row2_col0\" class=\"data row2 col0\" >0.645927</td>\n",
       "      <td id=\"T_a3ac4_row2_col1\" class=\"data row2 col1\" >0.548995</td>\n",
       "      <td id=\"T_a3ac4_row2_col2\" class=\"data row2 col2\" >0.542800</td>\n",
       "      <td id=\"T_a3ac4_row2_col3\" class=\"data row2 col3\" >0.406781</td>\n",
       "      <td id=\"T_a3ac4_row2_col4\" class=\"data row2 col4\" >0.418978</td>\n",
       "      <td id=\"T_a3ac4_row2_col5\" class=\"data row2 col5\" >0.403895</td>\n",
       "      <td id=\"T_a3ac4_row2_col6\" class=\"data row2 col6\" >0.414207</td>\n",
       "      <td id=\"T_a3ac4_row2_col7\" class=\"data row2 col7\" >0.408813</td>\n",
       "      <td id=\"T_a3ac4_row2_col8\" class=\"data row2 col8\" >0.395908</td>\n",
       "    </tr>\n",
       "  </tbody>\n",
       "</table>\n"
      ],
      "text/plain": [
       "<pandas.io.formats.style.Styler at 0x7fec7476e490>"
      ]
     },
     "execution_count": 64,
     "metadata": {},
     "output_type": "execute_result"
    }
   ],
   "source": [
    "# Original Feature Space\n",
    "df_results_original"
   ]
  },
  {
   "cell_type": "code",
   "execution_count": 65,
   "metadata": {},
   "outputs": [
    {
     "data": {
      "text/html": [
       "<style type=\"text/css\">\n",
       "#T_e336b_row0_col8, #T_e336b_row1_col3, #T_e336b_row2_col8 {\n",
       "  background-color: blue;\n",
       "}\n",
       "</style>\n",
       "<table id=\"T_e336b\">\n",
       "  <thead>\n",
       "    <tr>\n",
       "      <th class=\"blank level0\" >&nbsp;</th>\n",
       "      <th id=\"T_e336b_level0_col0\" class=\"col_heading level0 col0\" >2</th>\n",
       "      <th id=\"T_e336b_level0_col1\" class=\"col_heading level0 col1\" >3</th>\n",
       "      <th id=\"T_e336b_level0_col2\" class=\"col_heading level0 col2\" >4</th>\n",
       "      <th id=\"T_e336b_level0_col3\" class=\"col_heading level0 col3\" >5</th>\n",
       "      <th id=\"T_e336b_level0_col4\" class=\"col_heading level0 col4\" >6</th>\n",
       "      <th id=\"T_e336b_level0_col5\" class=\"col_heading level0 col5\" >7</th>\n",
       "      <th id=\"T_e336b_level0_col6\" class=\"col_heading level0 col6\" >8</th>\n",
       "      <th id=\"T_e336b_level0_col7\" class=\"col_heading level0 col7\" >9</th>\n",
       "      <th id=\"T_e336b_level0_col8\" class=\"col_heading level0 col8\" >10</th>\n",
       "    </tr>\n",
       "  </thead>\n",
       "  <tbody>\n",
       "    <tr>\n",
       "      <th id=\"T_e336b_level0_row0\" class=\"row_heading level0 row0\" >KMeans</th>\n",
       "      <td id=\"T_e336b_row0_col0\" class=\"data row0 col0\" >0.328885</td>\n",
       "      <td id=\"T_e336b_row0_col1\" class=\"data row0 col1\" >0.360084</td>\n",
       "      <td id=\"T_e336b_row0_col2\" class=\"data row0 col2\" >0.363660</td>\n",
       "      <td id=\"T_e336b_row0_col3\" class=\"data row0 col3\" >0.414553</td>\n",
       "      <td id=\"T_e336b_row0_col4\" class=\"data row0 col4\" >0.421630</td>\n",
       "      <td id=\"T_e336b_row0_col5\" class=\"data row0 col5\" >0.406529</td>\n",
       "      <td id=\"T_e336b_row0_col6\" class=\"data row0 col6\" >0.413212</td>\n",
       "      <td id=\"T_e336b_row0_col7\" class=\"data row0 col7\" >0.414413</td>\n",
       "      <td id=\"T_e336b_row0_col8\" class=\"data row0 col8\" >0.444109</td>\n",
       "    </tr>\n",
       "    <tr>\n",
       "      <th id=\"T_e336b_level0_row1\" class=\"row_heading level0 row1\" >GMM</th>\n",
       "      <td id=\"T_e336b_row1_col0\" class=\"data row1 col0\" >0.328963</td>\n",
       "      <td id=\"T_e336b_row1_col1\" class=\"data row1 col1\" >0.351057</td>\n",
       "      <td id=\"T_e336b_row1_col2\" class=\"data row1 col2\" >0.363274</td>\n",
       "      <td id=\"T_e336b_row1_col3\" class=\"data row1 col3\" >0.405541</td>\n",
       "      <td id=\"T_e336b_row1_col4\" class=\"data row1 col4\" >0.380953</td>\n",
       "      <td id=\"T_e336b_row1_col5\" class=\"data row1 col5\" >0.390400</td>\n",
       "      <td id=\"T_e336b_row1_col6\" class=\"data row1 col6\" >0.366154</td>\n",
       "      <td id=\"T_e336b_row1_col7\" class=\"data row1 col7\" >0.375132</td>\n",
       "      <td id=\"T_e336b_row1_col8\" class=\"data row1 col8\" >0.387171</td>\n",
       "    </tr>\n",
       "    <tr>\n",
       "      <th id=\"T_e336b_level0_row2\" class=\"row_heading level0 row2\" >HC</th>\n",
       "      <td id=\"T_e336b_row2_col0\" class=\"data row2 col0\" >0.310493</td>\n",
       "      <td id=\"T_e336b_row2_col1\" class=\"data row2 col1\" >0.326895</td>\n",
       "      <td id=\"T_e336b_row2_col2\" class=\"data row2 col2\" >0.322324</td>\n",
       "      <td id=\"T_e336b_row2_col3\" class=\"data row2 col3\" >0.347902</td>\n",
       "      <td id=\"T_e336b_row2_col4\" class=\"data row2 col4\" >0.366283</td>\n",
       "      <td id=\"T_e336b_row2_col5\" class=\"data row2 col5\" >0.343363</td>\n",
       "      <td id=\"T_e336b_row2_col6\" class=\"data row2 col6\" >0.356453</td>\n",
       "      <td id=\"T_e336b_row2_col7\" class=\"data row2 col7\" >0.373898</td>\n",
       "      <td id=\"T_e336b_row2_col8\" class=\"data row2 col8\" >0.384758</td>\n",
       "    </tr>\n",
       "  </tbody>\n",
       "</table>\n"
      ],
      "text/plain": [
       "<pandas.io.formats.style.Styler at 0x7fec747d1160>"
      ]
     },
     "execution_count": 65,
     "metadata": {},
     "output_type": "execute_result"
    }
   ],
   "source": [
    "# TSNE Embedding Results\n",
    "df_results_tsne"
   ]
  },
  {
   "cell_type": "code",
   "execution_count": 66,
   "metadata": {},
   "outputs": [
    {
     "data": {
      "text/html": [
       "<style type=\"text/css\">\n",
       "#T_c50ac_row0_col8, #T_c50ac_row1_col8, #T_c50ac_row2_col7 {\n",
       "  background-color: blue;\n",
       "}\n",
       "</style>\n",
       "<table id=\"T_c50ac\">\n",
       "  <thead>\n",
       "    <tr>\n",
       "      <th class=\"blank level0\" >&nbsp;</th>\n",
       "      <th id=\"T_c50ac_level0_col0\" class=\"col_heading level0 col0\" >2</th>\n",
       "      <th id=\"T_c50ac_level0_col1\" class=\"col_heading level0 col1\" >3</th>\n",
       "      <th id=\"T_c50ac_level0_col2\" class=\"col_heading level0 col2\" >4</th>\n",
       "      <th id=\"T_c50ac_level0_col3\" class=\"col_heading level0 col3\" >5</th>\n",
       "      <th id=\"T_c50ac_level0_col4\" class=\"col_heading level0 col4\" >6</th>\n",
       "      <th id=\"T_c50ac_level0_col5\" class=\"col_heading level0 col5\" >7</th>\n",
       "      <th id=\"T_c50ac_level0_col6\" class=\"col_heading level0 col6\" >8</th>\n",
       "      <th id=\"T_c50ac_level0_col7\" class=\"col_heading level0 col7\" >9</th>\n",
       "      <th id=\"T_c50ac_level0_col8\" class=\"col_heading level0 col8\" >10</th>\n",
       "    </tr>\n",
       "  </thead>\n",
       "  <tbody>\n",
       "    <tr>\n",
       "      <th id=\"T_c50ac_level0_row0\" class=\"row_heading level0 row0\" >KMeans</th>\n",
       "      <td id=\"T_c50ac_row0_col0\" class=\"data row0 col0\" >0.392671</td>\n",
       "      <td id=\"T_c50ac_row0_col1\" class=\"data row0 col1\" >0.425820</td>\n",
       "      <td id=\"T_c50ac_row0_col2\" class=\"data row0 col2\" >0.450263</td>\n",
       "      <td id=\"T_c50ac_row0_col3\" class=\"data row0 col3\" >0.432313</td>\n",
       "      <td id=\"T_c50ac_row0_col4\" class=\"data row0 col4\" >0.463077</td>\n",
       "      <td id=\"T_c50ac_row0_col5\" class=\"data row0 col5\" >0.479293</td>\n",
       "      <td id=\"T_c50ac_row0_col6\" class=\"data row0 col6\" >0.484259</td>\n",
       "      <td id=\"T_c50ac_row0_col7\" class=\"data row0 col7\" >0.497900</td>\n",
       "      <td id=\"T_c50ac_row0_col8\" class=\"data row0 col8\" >0.500613</td>\n",
       "    </tr>\n",
       "    <tr>\n",
       "      <th id=\"T_c50ac_level0_row1\" class=\"row_heading level0 row1\" >GMM</th>\n",
       "      <td id=\"T_c50ac_row1_col0\" class=\"data row1 col0\" >0.392671</td>\n",
       "      <td id=\"T_c50ac_row1_col1\" class=\"data row1 col1\" >0.426583</td>\n",
       "      <td id=\"T_c50ac_row1_col2\" class=\"data row1 col2\" >0.422892</td>\n",
       "      <td id=\"T_c50ac_row1_col3\" class=\"data row1 col3\" >0.387384</td>\n",
       "      <td id=\"T_c50ac_row1_col4\" class=\"data row1 col4\" >0.371432</td>\n",
       "      <td id=\"T_c50ac_row1_col5\" class=\"data row1 col5\" >0.453293</td>\n",
       "      <td id=\"T_c50ac_row1_col6\" class=\"data row1 col6\" >0.444392</td>\n",
       "      <td id=\"T_c50ac_row1_col7\" class=\"data row1 col7\" >0.458855</td>\n",
       "      <td id=\"T_c50ac_row1_col8\" class=\"data row1 col8\" >0.467308</td>\n",
       "    </tr>\n",
       "    <tr>\n",
       "      <th id=\"T_c50ac_level0_row2\" class=\"row_heading level0 row2\" >HC</th>\n",
       "      <td id=\"T_c50ac_row2_col0\" class=\"data row2 col0\" >0.359090</td>\n",
       "      <td id=\"T_c50ac_row2_col1\" class=\"data row2 col1\" >0.423250</td>\n",
       "      <td id=\"T_c50ac_row2_col2\" class=\"data row2 col2\" >0.422717</td>\n",
       "      <td id=\"T_c50ac_row2_col3\" class=\"data row2 col3\" >0.426854</td>\n",
       "      <td id=\"T_c50ac_row2_col4\" class=\"data row2 col4\" >0.447895</td>\n",
       "      <td id=\"T_c50ac_row2_col5\" class=\"data row2 col5\" >0.450772</td>\n",
       "      <td id=\"T_c50ac_row2_col6\" class=\"data row2 col6\" >0.468286</td>\n",
       "      <td id=\"T_c50ac_row2_col7\" class=\"data row2 col7\" >0.483697</td>\n",
       "      <td id=\"T_c50ac_row2_col8\" class=\"data row2 col8\" >0.473702</td>\n",
       "    </tr>\n",
       "  </tbody>\n",
       "</table>\n"
      ],
      "text/plain": [
       "<pandas.io.formats.style.Styler at 0x7fec741278e0>"
      ]
     },
     "execution_count": 66,
     "metadata": {},
     "output_type": "execute_result"
    }
   ],
   "source": [
    "# Tree Based Embedding Results\n",
    "df_results_tree"
   ]
  },
  {
   "cell_type": "code",
   "execution_count": 67,
   "metadata": {},
   "outputs": [
    {
     "data": {
      "text/html": [
       "<style type=\"text/css\">\n",
       "#T_82f3d_row0_col5, #T_82f3d_row1_col2, #T_82f3d_row2_col6 {\n",
       "  background-color: blue;\n",
       "}\n",
       "</style>\n",
       "<table id=\"T_82f3d\">\n",
       "  <thead>\n",
       "    <tr>\n",
       "      <th class=\"blank level0\" >&nbsp;</th>\n",
       "      <th id=\"T_82f3d_level0_col0\" class=\"col_heading level0 col0\" >2</th>\n",
       "      <th id=\"T_82f3d_level0_col1\" class=\"col_heading level0 col1\" >3</th>\n",
       "      <th id=\"T_82f3d_level0_col2\" class=\"col_heading level0 col2\" >4</th>\n",
       "      <th id=\"T_82f3d_level0_col3\" class=\"col_heading level0 col3\" >5</th>\n",
       "      <th id=\"T_82f3d_level0_col4\" class=\"col_heading level0 col4\" >6</th>\n",
       "      <th id=\"T_82f3d_level0_col5\" class=\"col_heading level0 col5\" >7</th>\n",
       "      <th id=\"T_82f3d_level0_col6\" class=\"col_heading level0 col6\" >8</th>\n",
       "      <th id=\"T_82f3d_level0_col7\" class=\"col_heading level0 col7\" >9</th>\n",
       "      <th id=\"T_82f3d_level0_col8\" class=\"col_heading level0 col8\" >10</th>\n",
       "    </tr>\n",
       "  </thead>\n",
       "  <tbody>\n",
       "    <tr>\n",
       "      <th id=\"T_82f3d_level0_row0\" class=\"row_heading level0 row0\" >KMeans</th>\n",
       "      <td id=\"T_82f3d_row0_col0\" class=\"data row0 col0\" >0.451914</td>\n",
       "      <td id=\"T_82f3d_row0_col1\" class=\"data row0 col1\" >0.489377</td>\n",
       "      <td id=\"T_82f3d_row0_col2\" class=\"data row0 col2\" >0.513561</td>\n",
       "      <td id=\"T_82f3d_row0_col3\" class=\"data row0 col3\" >0.517846</td>\n",
       "      <td id=\"T_82f3d_row0_col4\" class=\"data row0 col4\" >0.528539</td>\n",
       "      <td id=\"T_82f3d_row0_col5\" class=\"data row0 col5\" >0.544201</td>\n",
       "      <td id=\"T_82f3d_row0_col6\" class=\"data row0 col6\" >0.496887</td>\n",
       "      <td id=\"T_82f3d_row0_col7\" class=\"data row0 col7\" >0.509659</td>\n",
       "      <td id=\"T_82f3d_row0_col8\" class=\"data row0 col8\" >0.532397</td>\n",
       "    </tr>\n",
       "    <tr>\n",
       "      <th id=\"T_82f3d_level0_row1\" class=\"row_heading level0 row1\" >GMM</th>\n",
       "      <td id=\"T_82f3d_row1_col0\" class=\"data row1 col0\" >0.449781</td>\n",
       "      <td id=\"T_82f3d_row1_col1\" class=\"data row1 col1\" >0.423918</td>\n",
       "      <td id=\"T_82f3d_row1_col2\" class=\"data row1 col2\" >0.473479</td>\n",
       "      <td id=\"T_82f3d_row1_col3\" class=\"data row1 col3\" >0.409919</td>\n",
       "      <td id=\"T_82f3d_row1_col4\" class=\"data row1 col4\" >0.403038</td>\n",
       "      <td id=\"T_82f3d_row1_col5\" class=\"data row1 col5\" >0.455182</td>\n",
       "      <td id=\"T_82f3d_row1_col6\" class=\"data row1 col6\" >0.447497</td>\n",
       "      <td id=\"T_82f3d_row1_col7\" class=\"data row1 col7\" >0.451630</td>\n",
       "      <td id=\"T_82f3d_row1_col8\" class=\"data row1 col8\" >0.450805</td>\n",
       "    </tr>\n",
       "    <tr>\n",
       "      <th id=\"T_82f3d_level0_row2\" class=\"row_heading level0 row2\" >HC</th>\n",
       "      <td id=\"T_82f3d_row2_col0\" class=\"data row2 col0\" >0.438135</td>\n",
       "      <td id=\"T_82f3d_row2_col1\" class=\"data row2 col1\" >0.469278</td>\n",
       "      <td id=\"T_82f3d_row2_col2\" class=\"data row2 col2\" >0.478514</td>\n",
       "      <td id=\"T_82f3d_row2_col3\" class=\"data row2 col3\" >0.462431</td>\n",
       "      <td id=\"T_82f3d_row2_col4\" class=\"data row2 col4\" >0.499209</td>\n",
       "      <td id=\"T_82f3d_row2_col5\" class=\"data row2 col5\" >0.534862</td>\n",
       "      <td id=\"T_82f3d_row2_col6\" class=\"data row2 col6\" >0.547641</td>\n",
       "      <td id=\"T_82f3d_row2_col7\" class=\"data row2 col7\" >0.544051</td>\n",
       "      <td id=\"T_82f3d_row2_col8\" class=\"data row2 col8\" >0.497785</td>\n",
       "    </tr>\n",
       "  </tbody>\n",
       "</table>\n"
      ],
      "text/plain": [
       "<pandas.io.formats.style.Styler at 0x7fec77428e80>"
      ]
     },
     "execution_count": 67,
     "metadata": {},
     "output_type": "execute_result"
    }
   ],
   "source": [
    "# UMAP Embedding Results\n",
    "df_results_umap"
   ]
  },
  {
   "cell_type": "code",
   "execution_count": 68,
   "metadata": {},
   "outputs": [],
   "source": [
    "# Selecting the best embedding\n",
    "\n",
    "# UMAP Embedding\n",
    "X = df_umap.copy()"
   ]
  },
  {
   "cell_type": "markdown",
   "metadata": {},
   "source": [
    "# 6. Machine Learning Modelling"
   ]
  },
  {
   "cell_type": "markdown",
   "metadata": {},
   "source": [
    "### 6.1 K-Means"
   ]
  },
  {
   "cell_type": "code",
   "execution_count": 69,
   "metadata": {},
   "outputs": [],
   "source": [
    "# model definition\n",
    "k=7\n",
    "kmeans = c.KMeans(init='random',\n",
    "                  n_clusters=k,\n",
    "                  n_init=10,\n",
    "                  max_iter=300,\n",
    "                  random_state=42)\n",
    "\n",
    "# model training\n",
    "kmeans.fit(X)\n",
    "\n",
    "# clustering\n",
    "labels = kmeans.labels_"
   ]
  },
  {
   "cell_type": "markdown",
   "metadata": {},
   "source": [
    "### 6.2 Cluster Validation"
   ]
  },
  {
   "cell_type": "code",
   "execution_count": 70,
   "metadata": {},
   "outputs": [
    {
     "name": "stdout",
     "output_type": "stream",
     "text": [
      "WSS Value:68502.828125\n",
      "SS Value: 0.5442012548446655\n"
     ]
    }
   ],
   "source": [
    "# WSS\n",
    "print(f'WSS Value:{kmeans.inertia_}')\n",
    "\n",
    "# SS\n",
    "print('SS Value: {}'.format(m.silhouette_score(X, labels, metric='euclidean')))"
   ]
  },
  {
   "cell_type": "markdown",
   "metadata": {},
   "source": [
    "# 7. Evaluation - Cluster Analysis"
   ]
  },
  {
   "cell_type": "markdown",
   "metadata": {},
   "source": [
    "### 7.1 Visualization Inspection"
   ]
  },
  {
   "cell_type": "code",
   "execution_count": 71,
   "metadata": {},
   "outputs": [
    {
     "data": {
      "text/html": [
       "<div>\n",
       "<style scoped>\n",
       "    .dataframe tbody tr th:only-of-type {\n",
       "        vertical-align: middle;\n",
       "    }\n",
       "\n",
       "    .dataframe tbody tr th {\n",
       "        vertical-align: top;\n",
       "    }\n",
       "\n",
       "    .dataframe thead th {\n",
       "        text-align: right;\n",
       "    }\n",
       "</style>\n",
       "<table border=\"1\" class=\"dataframe\">\n",
       "  <thead>\n",
       "    <tr style=\"text-align: right;\">\n",
       "      <th></th>\n",
       "      <th>embedding_x</th>\n",
       "      <th>embedding_y</th>\n",
       "      <th>cluster</th>\n",
       "    </tr>\n",
       "  </thead>\n",
       "  <tbody>\n",
       "    <tr>\n",
       "      <th>0</th>\n",
       "      <td>-1.432703</td>\n",
       "      <td>18.723133</td>\n",
       "      <td>0</td>\n",
       "    </tr>\n",
       "    <tr>\n",
       "      <th>1</th>\n",
       "      <td>8.773641</td>\n",
       "      <td>8.070630</td>\n",
       "      <td>6</td>\n",
       "    </tr>\n",
       "    <tr>\n",
       "      <th>2</th>\n",
       "      <td>13.612189</td>\n",
       "      <td>15.767739</td>\n",
       "      <td>5</td>\n",
       "    </tr>\n",
       "    <tr>\n",
       "      <th>3</th>\n",
       "      <td>5.652030</td>\n",
       "      <td>4.920546</td>\n",
       "      <td>6</td>\n",
       "    </tr>\n",
       "    <tr>\n",
       "      <th>4</th>\n",
       "      <td>-2.404759</td>\n",
       "      <td>6.497142</td>\n",
       "      <td>2</td>\n",
       "    </tr>\n",
       "  </tbody>\n",
       "</table>\n",
       "</div>"
      ],
      "text/plain": [
       "   embedding_x  embedding_y  cluster\n",
       "0    -1.432703    18.723133        0\n",
       "1     8.773641     8.070630        6\n",
       "2    13.612189    15.767739        5\n",
       "3     5.652030     4.920546        6\n",
       "4    -2.404759     6.497142        2"
      ]
     },
     "execution_count": 71,
     "metadata": {},
     "output_type": "execute_result"
    }
   ],
   "source": [
    "df9 = X.copy()\n",
    "df9['cluster'] = labels\n",
    "df9.head()\n",
    "\n"
   ]
  },
  {
   "cell_type": "code",
   "execution_count": 72,
   "metadata": {},
   "outputs": [
    {
     "data": {
      "text/plain": [
       "<AxesSubplot:xlabel='embedding_x', ylabel='embedding_y'>"
      ]
     },
     "execution_count": 72,
     "metadata": {},
     "output_type": "execute_result"
    },
    {
     "data": {
      "image/png": "[encoded data removed]",
      "text/plain": [
       "<Figure size 432x360 with 1 Axes>"
      ]
     },
     "metadata": {},
     "output_type": "display_data"
    }
   ],
   "source": [
    "sns.scatterplot(x='embedding_x', y='embedding_y', hue='cluster', data=df9, palette='deep')"
   ]
  },
  {
   "cell_type": "markdown",
   "metadata": {},
   "source": [
    "### 7.2 Cluster Profile"
   ]
  },
  {
   "cell_type": "code",
   "execution_count": 73,
   "metadata": {},
   "outputs": [],
   "source": [
    "df92 = df4.copy()\n",
    "df92['cluster'] = labels\n",
    "\n",
    "# Change dtypes\n",
    "df92['recency_days']    = df92['recency_days'].astype(int)\n",
    "df92['purchases_no']    = df92['purchases_no'].astype(int)\n",
    "df92['products_no']     = df92['products_no'].astype(int)\n",
    "df92['items_no']        = df92['items_no'].astype(int)"
   ]
  },
  {
   "cell_type": "code",
   "execution_count": 74,
   "metadata": {},
   "outputs": [],
   "source": [
    "# Number of customer\n",
    "df_cluster = df92[['customer_id', 'cluster']].groupby('cluster').count().reset_index()\n",
    "df_cluster['perc_customer'] = (df_cluster['customer_id'] / df_cluster['customer_id'].sum())*100\n",
    "\n",
    "# Avg gross revenue\n",
    "df_avg_gross_revenue = df92[['gross_revenue', 'cluster']].groupby('cluster').mean().reset_index()\n",
    "df_cluster = pd.merge(df_cluster, df_avg_gross_revenue, how='inner', on = 'cluster')\n",
    "\n",
    "# Avg recency\n",
    "df_avg_recency = df92[['recency_days', 'cluster']].groupby('cluster').mean().reset_index()\n",
    "df_cluster = pd.merge(df_cluster, df_avg_recency, how='inner', on='cluster')\n",
    "\n",
    "# Avg purchases_no\n",
    "df_avg_purchases_no = df92[['purchases_no', 'cluster']].groupby('cluster').mean().reset_index()\n",
    "df_cluster = pd.merge(df_cluster, df_avg_purchases_no, how='inner', on='cluster')\n",
    "\n",
    "# Avg products_no\n",
    "df_avg_products_no = df92[['products_no', 'cluster']].groupby('cluster').mean().reset_index()\n",
    "df_cluster = pd.merge(df_cluster, df_avg_products_no, how='inner', on='cluster')\n",
    "\n",
    "# Avg items_no\n",
    "df_avg_items_no = df92[['items_no', 'cluster']].groupby('cluster').mean().reset_index()\n",
    "df_cluster = pd.merge(df_cluster, df_avg_items_no, how='inner', on='cluster')\n",
    "\n",
    "# Avg frequency\n",
    "df_frequency = df92[['frequency', 'cluster']].groupby('cluster').mean().reset_index()\n",
    "df_cluster = pd.merge(df_cluster, df_frequency, how='inner', on='cluster')\n",
    "\n",
    "# Avg satisfaction_rate\n",
    "df_satisfaction_rate = df92[['satisfaction_rate', 'cluster']].groupby('cluster').mean().reset_index()\n",
    "df_cluster = pd.merge(df_cluster, df_satisfaction_rate, how='inner', on='cluster')\n"
   ]
  },
  {
   "cell_type": "code",
   "execution_count": 75,
   "metadata": {},
   "outputs": [
    {
     "data": {
      "text/html": [
       "<div>\n",
       "<style scoped>\n",
       "    .dataframe tbody tr th:only-of-type {\n",
       "        vertical-align: middle;\n",
       "    }\n",
       "\n",
       "    .dataframe tbody tr th {\n",
       "        vertical-align: top;\n",
       "    }\n",
       "\n",
       "    .dataframe thead th {\n",
       "        text-align: right;\n",
       "    }\n",
       "</style>\n",
       "<table border=\"1\" class=\"dataframe\">\n",
       "  <thead>\n",
       "    <tr style=\"text-align: right;\">\n",
       "      <th></th>\n",
       "      <th>cluster</th>\n",
       "      <th>customer_id</th>\n",
       "      <th>perc_customer</th>\n",
       "      <th>gross_revenue</th>\n",
       "      <th>recency_days</th>\n",
       "      <th>purchases_no</th>\n",
       "      <th>products_no</th>\n",
       "      <th>items_no</th>\n",
       "      <th>frequency</th>\n",
       "      <th>satisfaction_rate</th>\n",
       "    </tr>\n",
       "  </thead>\n",
       "  <tbody>\n",
       "    <tr>\n",
       "      <th>5</th>\n",
       "      <td>5</td>\n",
       "      <td>1776</td>\n",
       "      <td>31.267606</td>\n",
       "      <td>3794.247821</td>\n",
       "      <td>17.877815</td>\n",
       "      <td>7.537725</td>\n",
       "      <td>166.684122</td>\n",
       "      <td>2202.689189</td>\n",
       "      <td>0.044555</td>\n",
       "      <td>0.982405</td>\n",
       "    </tr>\n",
       "    <tr>\n",
       "      <th>6</th>\n",
       "      <td>6</td>\n",
       "      <td>665</td>\n",
       "      <td>11.707746</td>\n",
       "      <td>1360.009278</td>\n",
       "      <td>82.255639</td>\n",
       "      <td>3.639098</td>\n",
       "      <td>70.063158</td>\n",
       "      <td>849.106767</td>\n",
       "      <td>0.028307</td>\n",
       "      <td>0.994776</td>\n",
       "    </tr>\n",
       "    <tr>\n",
       "      <th>1</th>\n",
       "      <td>1</td>\n",
       "      <td>509</td>\n",
       "      <td>8.961268</td>\n",
       "      <td>900.279980</td>\n",
       "      <td>23.650295</td>\n",
       "      <td>1.007859</td>\n",
       "      <td>74.119843</td>\n",
       "      <td>331.512770</td>\n",
       "      <td>0.999345</td>\n",
       "      <td>0.998902</td>\n",
       "    </tr>\n",
       "    <tr>\n",
       "      <th>0</th>\n",
       "      <td>0</td>\n",
       "      <td>521</td>\n",
       "      <td>9.172535</td>\n",
       "      <td>815.475413</td>\n",
       "      <td>342.721689</td>\n",
       "      <td>1.182342</td>\n",
       "      <td>68.978887</td>\n",
       "      <td>267.715931</td>\n",
       "      <td>0.980236</td>\n",
       "      <td>0.997811</td>\n",
       "    </tr>\n",
       "    <tr>\n",
       "      <th>2</th>\n",
       "      <td>2</td>\n",
       "      <td>875</td>\n",
       "      <td>15.404930</td>\n",
       "      <td>737.406731</td>\n",
       "      <td>243.556571</td>\n",
       "      <td>1.622857</td>\n",
       "      <td>45.843429</td>\n",
       "      <td>310.273143</td>\n",
       "      <td>0.695963</td>\n",
       "      <td>0.978070</td>\n",
       "    </tr>\n",
       "    <tr>\n",
       "      <th>4</th>\n",
       "      <td>4</td>\n",
       "      <td>655</td>\n",
       "      <td>11.531690</td>\n",
       "      <td>724.550748</td>\n",
       "      <td>78.141985</td>\n",
       "      <td>1.071756</td>\n",
       "      <td>55.418321</td>\n",
       "      <td>321.204580</td>\n",
       "      <td>1.049582</td>\n",
       "      <td>0.997557</td>\n",
       "    </tr>\n",
       "    <tr>\n",
       "      <th>3</th>\n",
       "      <td>3</td>\n",
       "      <td>679</td>\n",
       "      <td>11.954225</td>\n",
       "      <td>550.290118</td>\n",
       "      <td>180.017673</td>\n",
       "      <td>1.022091</td>\n",
       "      <td>50.804124</td>\n",
       "      <td>217.095729</td>\n",
       "      <td>1.016200</td>\n",
       "      <td>0.998870</td>\n",
       "    </tr>\n",
       "  </tbody>\n",
       "</table>\n",
       "</div>"
      ],
      "text/plain": [
       "   cluster  customer_id  perc_customer  gross_revenue  recency_days  \\\n",
       "5        5         1776      31.267606    3794.247821     17.877815   \n",
       "6        6          665      11.707746    1360.009278     82.255639   \n",
       "1        1          509       8.961268     900.279980     23.650295   \n",
       "0        0          521       9.172535     815.475413    342.721689   \n",
       "2        2          875      15.404930     737.406731    243.556571   \n",
       "4        4          655      11.531690     724.550748     78.141985   \n",
       "3        3          679      11.954225     550.290118    180.017673   \n",
       "\n",
       "   purchases_no  products_no     items_no  frequency  satisfaction_rate  \n",
       "5      7.537725   166.684122  2202.689189   0.044555           0.982405  \n",
       "6      3.639098    70.063158   849.106767   0.028307           0.994776  \n",
       "1      1.007859    74.119843   331.512770   0.999345           0.998902  \n",
       "0      1.182342    68.978887   267.715931   0.980236           0.997811  \n",
       "2      1.622857    45.843429   310.273143   0.695963           0.978070  \n",
       "4      1.071756    55.418321   321.204580   1.049582           0.997557  \n",
       "3      1.022091    50.804124   217.095729   1.016200           0.998870  "
      ]
     },
     "execution_count": 75,
     "metadata": {},
     "output_type": "execute_result"
    }
   ],
   "source": [
    "df_cluster.sort_values('gross_revenue', ascending=False)"
   ]
  },
  {
   "cell_type": "markdown",
   "metadata": {},
   "source": [
    "- 1° (5): Insiders\n",
    "- 2° (6): Pre-Insider - aumentar qtde de produtos comprados (cross sell), aumentar a frequencia (cupom de desconto)\n",
    "- 3° (1): Cluster Even More Products\n",
    "- 4° (0): Cluster Spend Money\n",
    "- 5° (2): Improve Recency\n",
    "- 6° (4): Less then 1K\n",
    "- 7° (3): More then 3 months"
   ]
  },
  {
   "cell_type": "markdown",
   "metadata": {},
   "source": [
    "### 7.3 Cluster Analysis"
   ]
  },
  {
   "cell_type": "markdown",
   "metadata": {},
   "source": [
    "#### 7.3.1 Mindmap"
   ]
  },
  {
   "cell_type": "code",
   "execution_count": 76,
   "metadata": {},
   "outputs": [
    {
     "data": {
      "image/png": "[encoded data removed]",
      "text/plain": [
       "<IPython.core.display.Image object>"
      ]
     },
     "execution_count": 76,
     "metadata": {
      "image/png": {
       "width": 800
      }
     },
     "output_type": "execute_result"
    }
   ],
   "source": [
    "Image('../image/mind_map.png', width=800)"
   ]
  },
  {
   "cell_type": "markdown",
   "metadata": {},
   "source": [
    "#### 7.3.2 Business Hypothesis"
   ]
  },
  {
   "cell_type": "markdown",
   "metadata": {},
   "source": [
    "##### Hipoteses de Compras"
   ]
  },
  {
   "cell_type": "markdown",
   "metadata": {},
   "source": [
    "1. Os clientes do cluster insiders usam cartão de crédito em  80% das compras;                                  --> *Não tem informações para validar essa analise*\n",
    "3. Os clientes do cluster insiders possuem um basket size acima de 5 produtos;                                  --> *Não tem informações para validar essa analise*\n",
    "3. Os clientes do cluster insiders possuem um faturamento acima de 10% do total de compras                      --> **Analisar**    \n",
    "4. Os clientes do cluster insiders possuem um valor de compra acima de 10% do total de compras                  --> **Analisar**\n",
    "5. Os clientes do cluster insiders possuem um número de devolução abaixo da média da base total de clientes.    --> **Analisar**"
   ]
  },
  {
   "cell_type": "markdown",
   "metadata": {},
   "source": [
    "##### Hipoteses de Clientes"
   ]
  },
  {
   "cell_type": "markdown",
   "metadata": {},
   "source": [
    "1. 60% dos clientes do cluster insiders são solteiros;                                              --> *Não tem informações para validar essa analise* \n",
    "2. 10% dos clientes do cluster insiders estão na faixa de 24 a 35 anos;                             --> *Não tem informações para validar essa analise*\n",
    "3. 40% das localidades de entrega do cluster insiders estão dentro de um raio de 50km;              --> *Não tem informações para validar essa analise*\n",
    "4. 5% dos clientes do cluster insiders recebem mais de 100 mil dolares anualmente;                  --> *Não tem informações para validar essa analise*\n",
    "5. 90% dos clientes do cluster insiders tem ensino superior completo;                               --> *Não tem informações para validar essa analise*"
   ]
  },
  {
   "cell_type": "markdown",
   "metadata": {},
   "source": [
    "##### Hipoteses de Produtos"
   ]
  },
  {
   "cell_type": "markdown",
   "metadata": {},
   "source": [
    "1. 30% dos produtos em pacotes grandes são comprados pelos clientes do cluster insiders; --> *Não tem informações para validar essa analise* \n",
    "2. A mediana dos faturamento do grupo Insiders é 10% maior que de toda base; --> **Analisar**\n",
    "3. O percentil do GMV pelos clientes Insiders; --> **Analisar** \n",
    "4. O peso médio dos produtos comprados pelo Insiders é maior que o pedo médio do restante da base; --> *Não tem informações para validar essa analise* \n",
    "5. A idade média dos produtos comprados pelos clientes do cluster insiders é menor que 15 dias; --> *Não tem informações para validar essa analise* "
   ]
  },
  {
   "cell_type": "markdown",
   "metadata": {},
   "source": [
    "#### 7.3.3 Hypothesis Analysis"
   ]
  },
  {
   "cell_type": "markdown",
   "metadata": {},
   "source": [
    "##### Dataset"
   ]
  },
  {
   "cell_type": "code",
   "execution_count": 77,
   "metadata": {},
   "outputs": [
    {
     "data": {
      "text/html": [
       "<div>\n",
       "<style scoped>\n",
       "    .dataframe tbody tr th:only-of-type {\n",
       "        vertical-align: middle;\n",
       "    }\n",
       "\n",
       "    .dataframe tbody tr th {\n",
       "        vertical-align: top;\n",
       "    }\n",
       "\n",
       "    .dataframe thead th {\n",
       "        text-align: right;\n",
       "    }\n",
       "</style>\n",
       "<table border=\"1\" class=\"dataframe\">\n",
       "  <thead>\n",
       "    <tr style=\"text-align: right;\">\n",
       "      <th></th>\n",
       "      <th>customer_id</th>\n",
       "      <th>gross_revenue</th>\n",
       "      <th>recency_days</th>\n",
       "      <th>purchases_no</th>\n",
       "      <th>products_no</th>\n",
       "      <th>items_no</th>\n",
       "      <th>frequency</th>\n",
       "      <th>returns_no</th>\n",
       "      <th>satisfaction_rate</th>\n",
       "      <th>cluster</th>\n",
       "    </tr>\n",
       "  </thead>\n",
       "  <tbody>\n",
       "    <tr>\n",
       "      <th>0</th>\n",
       "      <td>17850</td>\n",
       "      <td>5391.21</td>\n",
       "      <td>372</td>\n",
       "      <td>34</td>\n",
       "      <td>297</td>\n",
       "      <td>1733</td>\n",
       "      <td>17.000000</td>\n",
       "      <td>40.0</td>\n",
       "      <td>0.976919</td>\n",
       "      <td>0</td>\n",
       "    </tr>\n",
       "    <tr>\n",
       "      <th>1</th>\n",
       "      <td>13047</td>\n",
       "      <td>3232.59</td>\n",
       "      <td>56</td>\n",
       "      <td>9</td>\n",
       "      <td>171</td>\n",
       "      <td>1390</td>\n",
       "      <td>0.028302</td>\n",
       "      <td>35.0</td>\n",
       "      <td>0.974820</td>\n",
       "      <td>6</td>\n",
       "    </tr>\n",
       "    <tr>\n",
       "      <th>2</th>\n",
       "      <td>12583</td>\n",
       "      <td>6705.38</td>\n",
       "      <td>2</td>\n",
       "      <td>15</td>\n",
       "      <td>232</td>\n",
       "      <td>5028</td>\n",
       "      <td>0.040323</td>\n",
       "      <td>50.0</td>\n",
       "      <td>0.990056</td>\n",
       "      <td>5</td>\n",
       "    </tr>\n",
       "    <tr>\n",
       "      <th>3</th>\n",
       "      <td>13748</td>\n",
       "      <td>948.25</td>\n",
       "      <td>95</td>\n",
       "      <td>5</td>\n",
       "      <td>28</td>\n",
       "      <td>439</td>\n",
       "      <td>0.017921</td>\n",
       "      <td>0.0</td>\n",
       "      <td>1.000000</td>\n",
       "      <td>6</td>\n",
       "    </tr>\n",
       "    <tr>\n",
       "      <th>4</th>\n",
       "      <td>15100</td>\n",
       "      <td>876.00</td>\n",
       "      <td>333</td>\n",
       "      <td>3</td>\n",
       "      <td>3</td>\n",
       "      <td>80</td>\n",
       "      <td>0.073171</td>\n",
       "      <td>22.0</td>\n",
       "      <td>0.725000</td>\n",
       "      <td>2</td>\n",
       "    </tr>\n",
       "  </tbody>\n",
       "</table>\n",
       "</div>"
      ],
      "text/plain": [
       "   customer_id  gross_revenue  recency_days  purchases_no  products_no  \\\n",
       "0        17850        5391.21           372            34          297   \n",
       "1        13047        3232.59            56             9          171   \n",
       "2        12583        6705.38             2            15          232   \n",
       "3        13748         948.25            95             5           28   \n",
       "4        15100         876.00           333             3            3   \n",
       "\n",
       "   items_no  frequency  returns_no  satisfaction_rate  cluster  \n",
       "0      1733  17.000000        40.0           0.976919        0  \n",
       "1      1390   0.028302        35.0           0.974820        6  \n",
       "2      5028   0.040323        50.0           0.990056        5  \n",
       "3       439   0.017921         0.0           1.000000        6  \n",
       "4        80   0.073171        22.0           0.725000        2  "
      ]
     },
     "execution_count": 77,
     "metadata": {},
     "output_type": "execute_result"
    }
   ],
   "source": [
    "df10 = df92.copy()\n",
    "df10.head()"
   ]
  },
  {
   "cell_type": "markdown",
   "metadata": {},
   "source": [
    "##### H1. Os clientes do cluster insiders possuem um faturamento acima de 10% do total de compras. **True** \n"
   ]
  },
  {
   "cell_type": "code",
   "execution_count": 78,
   "metadata": {},
   "outputs": [
    {
     "name": "stdout",
     "output_type": "stream",
     "text": [
      "% Gross Revenue Insiders: 67.25%\n"
     ]
    }
   ],
   "source": [
    "df_gmv_insiders = df10.loc[df10['cluster'] == 5, 'gross_revenue'].sum()\n",
    "df_gmv_total = df10.loc[:, 'gross_revenue'].sum()\n",
    "\n",
    "# Insiders rate\n",
    "print(f'% Gross Revenue Insiders: {df_gmv_insiders / df_gmv_total:.2%}')\n"
   ]
  },
  {
   "cell_type": "markdown",
   "metadata": {},
   "source": [
    "##### H2. Os clientes do cluster insiders possuem um volume de compra (produtos) acima de 10% do total de compras. **True**"
   ]
  },
  {
   "cell_type": "code",
   "execution_count": 79,
   "metadata": {},
   "outputs": [
    {
     "ename": "KeyError",
     "evalue": "'qtd_products'",
     "output_type": "error",
     "traceback": [
      "\u001b[0;31m---------------------------------------------------------------------------\u001b[0m",
      "\u001b[0;31mKeyError\u001b[0m                                  Traceback (most recent call last)",
      "File \u001b[0;32m~/.pyenv/versions/3.9.0/envs/LoyaltyProgram/lib/python3.9/site-packages/pandas/core/indexes/base.py:3621\u001b[0m, in \u001b[0;36mIndex.get_loc\u001b[0;34m(self, key, method, tolerance)\u001b[0m\n\u001b[1;32m   3620\u001b[0m \u001b[39mtry\u001b[39;00m:\n\u001b[0;32m-> 3621\u001b[0m     \u001b[39mreturn\u001b[39;00m \u001b[39mself\u001b[39;49m\u001b[39m.\u001b[39;49m_engine\u001b[39m.\u001b[39;49mget_loc(casted_key)\n\u001b[1;32m   3622\u001b[0m \u001b[39mexcept\u001b[39;00m \u001b[39mKeyError\u001b[39;00m \u001b[39mas\u001b[39;00m err:\n",
      "File \u001b[0;32m~/.pyenv/versions/3.9.0/envs/LoyaltyProgram/lib/python3.9/site-packages/pandas/_libs/index.pyx:136\u001b[0m, in \u001b[0;36mpandas._libs.index.IndexEngine.get_loc\u001b[0;34m()\u001b[0m\n",
      "File \u001b[0;32m~/.pyenv/versions/3.9.0/envs/LoyaltyProgram/lib/python3.9/site-packages/pandas/_libs/index.pyx:163\u001b[0m, in \u001b[0;36mpandas._libs.index.IndexEngine.get_loc\u001b[0;34m()\u001b[0m\n",
      "File \u001b[0;32mpandas/_libs/hashtable_class_helper.pxi:5198\u001b[0m, in \u001b[0;36mpandas._libs.hashtable.PyObjectHashTable.get_item\u001b[0;34m()\u001b[0m\n",
      "File \u001b[0;32mpandas/_libs/hashtable_class_helper.pxi:5206\u001b[0m, in \u001b[0;36mpandas._libs.hashtable.PyObjectHashTable.get_item\u001b[0;34m()\u001b[0m\n",
      "\u001b[0;31mKeyError\u001b[0m: 'qtd_products'",
      "\nThe above exception was the direct cause of the following exception:\n",
      "\u001b[0;31mKeyError\u001b[0m                                  Traceback (most recent call last)",
      "\u001b[1;32m/home/vitor/Repos/loyalty-program/notebooks/v08_loyalty_program_final_version_(fixed_dropna_error).ipynb Cell 146\u001b[0m in \u001b[0;36m<cell line: 1>\u001b[0;34m()\u001b[0m\n\u001b[0;32m----> <a href='vscode-notebook-cell:/home/vitor/Repos/loyalty-program/notebooks/v08_loyalty_program_final_version_%28fixed_dropna_error%29.ipynb#Y265sZmlsZQ%3D%3D?line=0'>1</a>\u001b[0m df_sales_insiders \u001b[39m=\u001b[39m df10\u001b[39m.\u001b[39;49mloc[df10[\u001b[39m'\u001b[39;49m\u001b[39mcluster\u001b[39;49m\u001b[39m'\u001b[39;49m] \u001b[39m==\u001b[39;49m \u001b[39m5\u001b[39;49m, \u001b[39m'\u001b[39;49m\u001b[39mqtd_products\u001b[39;49m\u001b[39m'\u001b[39;49m]\u001b[39m.\u001b[39msum()\n\u001b[1;32m      <a href='vscode-notebook-cell:/home/vitor/Repos/loyalty-program/notebooks/v08_loyalty_program_final_version_%28fixed_dropna_error%29.ipynb#Y265sZmlsZQ%3D%3D?line=1'>2</a>\u001b[0m df_sales_total \u001b[39m=\u001b[39m df10\u001b[39m.\u001b[39mloc[:, \u001b[39m'\u001b[39m\u001b[39mqtd_products\u001b[39m\u001b[39m'\u001b[39m]\u001b[39m.\u001b[39msum()\n\u001b[1;32m      <a href='vscode-notebook-cell:/home/vitor/Repos/loyalty-program/notebooks/v08_loyalty_program_final_version_%28fixed_dropna_error%29.ipynb#Y265sZmlsZQ%3D%3D?line=3'>4</a>\u001b[0m \u001b[39m# Insiders rate\u001b[39;00m\n",
      "File \u001b[0;32m~/.pyenv/versions/3.9.0/envs/LoyaltyProgram/lib/python3.9/site-packages/pandas/core/indexing.py:961\u001b[0m, in \u001b[0;36m_LocationIndexer.__getitem__\u001b[0;34m(self, key)\u001b[0m\n\u001b[1;32m    959\u001b[0m     \u001b[39mif\u001b[39;00m \u001b[39mself\u001b[39m\u001b[39m.\u001b[39m_is_scalar_access(key):\n\u001b[1;32m    960\u001b[0m         \u001b[39mreturn\u001b[39;00m \u001b[39mself\u001b[39m\u001b[39m.\u001b[39mobj\u001b[39m.\u001b[39m_get_value(\u001b[39m*\u001b[39mkey, takeable\u001b[39m=\u001b[39m\u001b[39mself\u001b[39m\u001b[39m.\u001b[39m_takeable)\n\u001b[0;32m--> 961\u001b[0m     \u001b[39mreturn\u001b[39;00m \u001b[39mself\u001b[39;49m\u001b[39m.\u001b[39;49m_getitem_tuple(key)\n\u001b[1;32m    962\u001b[0m \u001b[39melse\u001b[39;00m:\n\u001b[1;32m    963\u001b[0m     \u001b[39m# we by definition only have the 0th axis\u001b[39;00m\n\u001b[1;32m    964\u001b[0m     axis \u001b[39m=\u001b[39m \u001b[39mself\u001b[39m\u001b[39m.\u001b[39maxis \u001b[39mor\u001b[39;00m \u001b[39m0\u001b[39m\n",
      "File \u001b[0;32m~/.pyenv/versions/3.9.0/envs/LoyaltyProgram/lib/python3.9/site-packages/pandas/core/indexing.py:1140\u001b[0m, in \u001b[0;36m_LocIndexer._getitem_tuple\u001b[0;34m(self, tup)\u001b[0m\n\u001b[1;32m   1138\u001b[0m \u001b[39mwith\u001b[39;00m suppress(IndexingError):\n\u001b[1;32m   1139\u001b[0m     tup \u001b[39m=\u001b[39m \u001b[39mself\u001b[39m\u001b[39m.\u001b[39m_expand_ellipsis(tup)\n\u001b[0;32m-> 1140\u001b[0m     \u001b[39mreturn\u001b[39;00m \u001b[39mself\u001b[39;49m\u001b[39m.\u001b[39;49m_getitem_lowerdim(tup)\n\u001b[1;32m   1142\u001b[0m \u001b[39m# no multi-index, so validate all of the indexers\u001b[39;00m\n\u001b[1;32m   1143\u001b[0m tup \u001b[39m=\u001b[39m \u001b[39mself\u001b[39m\u001b[39m.\u001b[39m_validate_tuple_indexer(tup)\n",
      "File \u001b[0;32m~/.pyenv/versions/3.9.0/envs/LoyaltyProgram/lib/python3.9/site-packages/pandas/core/indexing.py:867\u001b[0m, in \u001b[0;36m_LocationIndexer._getitem_lowerdim\u001b[0;34m(self, tup)\u001b[0m\n\u001b[1;32m    863\u001b[0m \u001b[39mfor\u001b[39;00m i, key \u001b[39min\u001b[39;00m \u001b[39menumerate\u001b[39m(tup):\n\u001b[1;32m    864\u001b[0m     \u001b[39mif\u001b[39;00m is_label_like(key):\n\u001b[1;32m    865\u001b[0m         \u001b[39m# We don't need to check for tuples here because those are\u001b[39;00m\n\u001b[1;32m    866\u001b[0m         \u001b[39m#  caught by the _is_nested_tuple_indexer check above.\u001b[39;00m\n\u001b[0;32m--> 867\u001b[0m         section \u001b[39m=\u001b[39m \u001b[39mself\u001b[39;49m\u001b[39m.\u001b[39;49m_getitem_axis(key, axis\u001b[39m=\u001b[39;49mi)\n\u001b[1;32m    869\u001b[0m         \u001b[39m# We should never have a scalar section here, because\u001b[39;00m\n\u001b[1;32m    870\u001b[0m         \u001b[39m#  _getitem_lowerdim is only called after a check for\u001b[39;00m\n\u001b[1;32m    871\u001b[0m         \u001b[39m#  is_scalar_access, which that would be.\u001b[39;00m\n\u001b[1;32m    872\u001b[0m         \u001b[39mif\u001b[39;00m section\u001b[39m.\u001b[39mndim \u001b[39m==\u001b[39m \u001b[39mself\u001b[39m\u001b[39m.\u001b[39mndim:\n\u001b[1;32m    873\u001b[0m             \u001b[39m# we're in the middle of slicing through a MultiIndex\u001b[39;00m\n\u001b[1;32m    874\u001b[0m             \u001b[39m# revise the key wrt to `section` by inserting an _NS\u001b[39;00m\n",
      "File \u001b[0;32m~/.pyenv/versions/3.9.0/envs/LoyaltyProgram/lib/python3.9/site-packages/pandas/core/indexing.py:1202\u001b[0m, in \u001b[0;36m_LocIndexer._getitem_axis\u001b[0;34m(self, key, axis)\u001b[0m\n\u001b[1;32m   1200\u001b[0m \u001b[39m# fall thru to straight lookup\u001b[39;00m\n\u001b[1;32m   1201\u001b[0m \u001b[39mself\u001b[39m\u001b[39m.\u001b[39m_validate_key(key, axis)\n\u001b[0;32m-> 1202\u001b[0m \u001b[39mreturn\u001b[39;00m \u001b[39mself\u001b[39;49m\u001b[39m.\u001b[39;49m_get_label(key, axis\u001b[39m=\u001b[39;49maxis)\n",
      "File \u001b[0;32m~/.pyenv/versions/3.9.0/envs/LoyaltyProgram/lib/python3.9/site-packages/pandas/core/indexing.py:1153\u001b[0m, in \u001b[0;36m_LocIndexer._get_label\u001b[0;34m(self, label, axis)\u001b[0m\n\u001b[1;32m   1151\u001b[0m \u001b[39mdef\u001b[39;00m \u001b[39m_get_label\u001b[39m(\u001b[39mself\u001b[39m, label, axis: \u001b[39mint\u001b[39m):\n\u001b[1;32m   1152\u001b[0m     \u001b[39m# GH#5667 this will fail if the label is not present in the axis.\u001b[39;00m\n\u001b[0;32m-> 1153\u001b[0m     \u001b[39mreturn\u001b[39;00m \u001b[39mself\u001b[39;49m\u001b[39m.\u001b[39;49mobj\u001b[39m.\u001b[39;49mxs(label, axis\u001b[39m=\u001b[39;49maxis)\n",
      "File \u001b[0;32m~/.pyenv/versions/3.9.0/envs/LoyaltyProgram/lib/python3.9/site-packages/pandas/core/generic.py:3849\u001b[0m, in \u001b[0;36mNDFrame.xs\u001b[0;34m(self, key, axis, level, drop_level)\u001b[0m\n\u001b[1;32m   3847\u001b[0m \u001b[39mif\u001b[39;00m axis \u001b[39m==\u001b[39m \u001b[39m1\u001b[39m:\n\u001b[1;32m   3848\u001b[0m     \u001b[39mif\u001b[39;00m drop_level:\n\u001b[0;32m-> 3849\u001b[0m         \u001b[39mreturn\u001b[39;00m \u001b[39mself\u001b[39;49m[key]\n\u001b[1;32m   3850\u001b[0m     index \u001b[39m=\u001b[39m \u001b[39mself\u001b[39m\u001b[39m.\u001b[39mcolumns\n\u001b[1;32m   3851\u001b[0m \u001b[39melse\u001b[39;00m:\n",
      "File \u001b[0;32m~/.pyenv/versions/3.9.0/envs/LoyaltyProgram/lib/python3.9/site-packages/pandas/core/frame.py:3505\u001b[0m, in \u001b[0;36mDataFrame.__getitem__\u001b[0;34m(self, key)\u001b[0m\n\u001b[1;32m   3503\u001b[0m \u001b[39mif\u001b[39;00m \u001b[39mself\u001b[39m\u001b[39m.\u001b[39mcolumns\u001b[39m.\u001b[39mnlevels \u001b[39m>\u001b[39m \u001b[39m1\u001b[39m:\n\u001b[1;32m   3504\u001b[0m     \u001b[39mreturn\u001b[39;00m \u001b[39mself\u001b[39m\u001b[39m.\u001b[39m_getitem_multilevel(key)\n\u001b[0;32m-> 3505\u001b[0m indexer \u001b[39m=\u001b[39m \u001b[39mself\u001b[39;49m\u001b[39m.\u001b[39;49mcolumns\u001b[39m.\u001b[39;49mget_loc(key)\n\u001b[1;32m   3506\u001b[0m \u001b[39mif\u001b[39;00m is_integer(indexer):\n\u001b[1;32m   3507\u001b[0m     indexer \u001b[39m=\u001b[39m [indexer]\n",
      "File \u001b[0;32m~/.pyenv/versions/3.9.0/envs/LoyaltyProgram/lib/python3.9/site-packages/pandas/core/indexes/base.py:3623\u001b[0m, in \u001b[0;36mIndex.get_loc\u001b[0;34m(self, key, method, tolerance)\u001b[0m\n\u001b[1;32m   3621\u001b[0m     \u001b[39mreturn\u001b[39;00m \u001b[39mself\u001b[39m\u001b[39m.\u001b[39m_engine\u001b[39m.\u001b[39mget_loc(casted_key)\n\u001b[1;32m   3622\u001b[0m \u001b[39mexcept\u001b[39;00m \u001b[39mKeyError\u001b[39;00m \u001b[39mas\u001b[39;00m err:\n\u001b[0;32m-> 3623\u001b[0m     \u001b[39mraise\u001b[39;00m \u001b[39mKeyError\u001b[39;00m(key) \u001b[39mfrom\u001b[39;00m \u001b[39merr\u001b[39;00m\n\u001b[1;32m   3624\u001b[0m \u001b[39mexcept\u001b[39;00m \u001b[39mTypeError\u001b[39;00m:\n\u001b[1;32m   3625\u001b[0m     \u001b[39m# If we have a listlike key, _check_indexing_error will raise\u001b[39;00m\n\u001b[1;32m   3626\u001b[0m     \u001b[39m#  InvalidIndexError. Otherwise we fall through and re-raise\u001b[39;00m\n\u001b[1;32m   3627\u001b[0m     \u001b[39m#  the TypeError.\u001b[39;00m\n\u001b[1;32m   3628\u001b[0m     \u001b[39mself\u001b[39m\u001b[39m.\u001b[39m_check_indexing_error(key)\n",
      "\u001b[0;31mKeyError\u001b[0m: 'qtd_products'"
     ]
    }
   ],
   "source": [
    "df_sales_insiders = df10.loc[df10['cluster'] == 5, 'qtd_products'].sum()\n",
    "df_sales_total = df10.loc[:, 'qtd_products'].sum()\n",
    "\n",
    "# Insiders rate\n",
    "print(f'% Sales Insiders: {df_sales_insiders / df_sales_total:.2%}')\n"
   ]
  },
  {
   "cell_type": "markdown",
   "metadata": {},
   "source": [
    "##### H3. Os clientes do cluster insiders possuem uma taxa de devolução média abaixo da base total de clientes. **False**"
   ]
  },
  {
   "cell_type": "code",
   "execution_count": null,
   "metadata": {},
   "outputs": [
    {
     "name": "stdout",
     "output_type": "stream",
     "text": [
      "Return Rate Insiders: 34.27% vs Return Rate Total: 26.95%\n"
     ]
    }
   ],
   "source": [
    "# media de devolução do cluester Insiders\n",
    "df_avg_returns_insiders = df10.loc[df10['cluster']==5, 'returns'].mean()\n",
    "df_avg_products_insiders = df10.loc[df10['cluster']==5, 'qtd_products'].mean()\n",
    "return_rate_insiders = df_avg_returns_insiders / df_avg_products_insiders\n",
    "\n",
    "# media de devolução do total da base\n",
    "df_avg_returns_total = df10.loc[:, 'returns'].mean()\n",
    "df_avg_products_total = df10.loc[:, 'qtd_products'].mean()\n",
    "return_rate_total = df_avg_returns_total / df_avg_products_total\n",
    "\n",
    "print(f'Return Rate Insiders: {return_rate_insiders:.2%} vs Return Rate Total: {return_rate_total:.2%}')\n"
   ]
  },
  {
   "cell_type": "markdown",
   "metadata": {},
   "source": [
    "##### H4. A mediana dos faturamento do grupo Insiders é 10% maior que de toda base. **True**\n"
   ]
  },
  {
   "cell_type": "code",
   "execution_count": null,
   "metadata": {},
   "outputs": [
    {
     "name": "stdout",
     "output_type": "stream",
     "text": [
      "Median Diff:249.3%\n"
     ]
    }
   ],
   "source": [
    "# mediana de GMV do insiders\n",
    "\n",
    "df_median_gmv_insiders = df10.loc[df10['cluster']==5, 'gross_revenue'].median()\n",
    "df_median_gmv_total = df10.loc[:, 'gross_revenue'].median()\n",
    "\n",
    "gmv_diff = (df_median_gmv_insiders - df_median_gmv_total) / df_median_gmv_total\n",
    "\n",
    "print(f'Median Diff:{gmv_diff:.1%}')\n"
   ]
  },
  {
   "cell_type": "markdown",
   "metadata": {},
   "source": [
    "##### H5. O GMV dos clientes Insiders estão concentrados no terceiro quartil. **False**"
   ]
  },
  {
   "cell_type": "code",
   "execution_count": null,
   "metadata": {},
   "outputs": [
    {
     "data": {
      "text/plain": [
       "617.55225"
      ]
     },
     "metadata": {},
     "output_type": "display_data"
    }
   ],
   "source": [
    "np.percentile(df10.loc[df10['cluster']==5, 'gross_revenue'], q=0.1)"
   ]
  },
  {
   "cell_type": "code",
   "execution_count": null,
   "metadata": {},
   "outputs": [
    {
     "data": {
      "text/plain": [
       "823.01035"
      ]
     },
     "metadata": {},
     "output_type": "display_data"
    }
   ],
   "source": [
    "np.percentile(df10.loc[df10['cluster']==5, 'gross_revenue'], q=0.9)\n"
   ]
  },
  {
   "cell_type": "code",
   "execution_count": null,
   "metadata": {},
   "outputs": [
    {
     "data": {
      "text/plain": [
       "<AxesSubplot:xlabel='gross_revenue'>"
      ]
     },
     "metadata": {},
     "output_type": "display_data"
    },
    {
     "data": {
      "image/png": "[encoded data removed]",
      "text/plain": [
       "<Figure size 1440x576 with 1 Axes>"
      ]
     },
     "metadata": {},
     "output_type": "display_data"
    }
   ],
   "source": [
    "sns.boxplot(df10.loc[df10['cluster']==5, 'gross_revenue'])"
   ]
  },
  {
   "cell_type": "code",
   "execution_count": null,
   "metadata": {},
   "outputs": [
    {
     "data": {
      "text/plain": [
       "<AxesSubplot:xlabel='gross_revenue'>"
      ]
     },
     "metadata": {},
     "output_type": "display_data"
    },
    {
     "data": {
      "image/png": "[encoded data removed]",
      "text/plain": [
       "<Figure size 1440x576 with 1 Axes>"
      ]
     },
     "metadata": {},
     "output_type": "display_data"
    }
   ],
   "source": [
    "# \"Zoom\" no boxplot\n",
    "df_aux = df10.loc[(df10['cluster']==5) & (df10['gross_revenue']<10000), 'gross_revenue']\n",
    "sns.violinplot(x=df_aux)\n"
   ]
  },
  {
   "cell_type": "markdown",
   "metadata": {},
   "source": [
    "#### 7.3.4 Perguntas de Negócios"
   ]
  },
  {
   "cell_type": "markdown",
   "metadata": {},
   "source": [
    "##### Q1: Quem são as pessoas elegíveis para participar do programa de Insiders ?"
   ]
  },
  {
   "cell_type": "code",
   "execution_count": null,
   "metadata": {},
   "outputs": [
    {
     "data": {
      "text/plain": [
       "0     17850\n",
       "2     12583\n",
       "6     14688\n",
       "8     15311\n",
       "12    16029\n",
       "Name: customer_id, dtype: int64"
      ]
     },
     "metadata": {},
     "output_type": "display_data"
    }
   ],
   "source": [
    "df10.loc[df10['cluster']==5, 'customer_id'].head()"
   ]
  },
  {
   "cell_type": "markdown",
   "metadata": {},
   "source": [
    "##### Q2: Quantos clientes farão parte do grupo?"
   ]
  },
  {
   "cell_type": "code",
   "execution_count": null,
   "metadata": {},
   "outputs": [
    {
     "data": {
      "text/plain": [
       "466"
      ]
     },
     "metadata": {},
     "output_type": "display_data"
    }
   ],
   "source": [
    "df10.loc[df10['cluster']==5, 'customer_id'].size\n"
   ]
  },
  {
   "cell_type": "markdown",
   "metadata": {},
   "source": [
    "##### Q3: Quais as principais características desses clientes ?"
   ]
  },
  {
   "cell_type": "markdown",
   "metadata": {},
   "source": [
    "- Avg Revenue: $8,859.36\n",
    "- Avg Recency: 21 days\n",
    "- Avg of products purchased: 425 products\n",
    "- Frequency: 0,09 purchase/day"
   ]
  },
  {
   "cell_type": "markdown",
   "metadata": {},
   "source": [
    "##### Q4: Qual a porcentagem de contribuição do faturamento, vinda do Insiders ?"
   ]
  },
  {
   "cell_type": "code",
   "execution_count": null,
   "metadata": {},
   "outputs": [
    {
     "name": "stdout",
     "output_type": "stream",
     "text": [
      "% Gross Revenue Insiders: 52.33%\n"
     ]
    }
   ],
   "source": [
    "df_gmv_insiders = df10.loc[df10['cluster'] == 5, 'gross_revenue'].sum()\n",
    "df_gmv_total = df10.loc[:, 'gross_revenue'].sum()\n",
    "\n",
    "# Insiders rate\n",
    "print(f'% Gross Revenue Insiders: {df_gmv_insiders / df_gmv_total:.2%}')"
   ]
  },
  {
   "cell_type": "markdown",
   "metadata": {},
   "source": [
    "##### Q5: Qual a expectativa de faturamento desse grupo para os próximos meses ?"
   ]
  },
  {
   "cell_type": "markdown",
   "metadata": {},
   "source": [
    "##### Q6: Quais as condições para uma pessoa ser elegível ao Insiders ?"
   ]
  },
  {
   "cell_type": "markdown",
   "metadata": {},
   "source": [
    "O modelo irá definir quem está apto a entrar no Insiders"
   ]
  },
  {
   "cell_type": "markdown",
   "metadata": {},
   "source": [
    "##### Q7: Quais as condições para uma pessoa ser removida do Insiders ?"
   ]
  },
  {
   "cell_type": "markdown",
   "metadata": {},
   "source": [
    "O modelo irá definir quem vai sair do Insiders"
   ]
  },
  {
   "cell_type": "markdown",
   "metadata": {},
   "source": [
    "##### Q8: Qual a garantia que o programa Insiders é melhor que o restante da base ?"
   ]
  },
  {
   "cell_type": "code",
   "execution_count": null,
   "metadata": {},
   "outputs": [
    {
     "data": {
      "text/html": [
       "<div>\n",
       "<style scoped>\n",
       "    .dataframe tbody tr th:only-of-type {\n",
       "        vertical-align: middle;\n",
       "    }\n",
       "\n",
       "    .dataframe tbody tr th {\n",
       "        vertical-align: top;\n",
       "    }\n",
       "\n",
       "    .dataframe thead th {\n",
       "        text-align: right;\n",
       "    }\n",
       "</style>\n",
       "<table border=\"1\" class=\"dataframe\">\n",
       "  <thead>\n",
       "    <tr style=\"text-align: right;\">\n",
       "      <th></th>\n",
       "      <th>cluster</th>\n",
       "      <th>customer_id</th>\n",
       "      <th>perc_customer</th>\n",
       "      <th>gross_revenue</th>\n",
       "      <th>recency_days</th>\n",
       "      <th>qtd_products</th>\n",
       "      <th>frequency</th>\n",
       "      <th>returns</th>\n",
       "    </tr>\n",
       "  </thead>\n",
       "  <tbody>\n",
       "    <tr>\n",
       "      <th>5</th>\n",
       "      <td>5</td>\n",
       "      <td>466</td>\n",
       "      <td>16.804904</td>\n",
       "      <td>8859.361738</td>\n",
       "      <td>21.263948</td>\n",
       "      <td>425.401288</td>\n",
       "      <td>0.088629</td>\n",
       "      <td>145.798283</td>\n",
       "    </tr>\n",
       "    <tr>\n",
       "      <th>0</th>\n",
       "      <td>0</td>\n",
       "      <td>160</td>\n",
       "      <td>5.769924</td>\n",
       "      <td>3139.284312</td>\n",
       "      <td>35.556250</td>\n",
       "      <td>172.100000</td>\n",
       "      <td>0.057344</td>\n",
       "      <td>23.287500</td>\n",
       "    </tr>\n",
       "    <tr>\n",
       "      <th>4</th>\n",
       "      <td>4</td>\n",
       "      <td>438</td>\n",
       "      <td>15.795168</td>\n",
       "      <td>2657.691986</td>\n",
       "      <td>51.728311</td>\n",
       "      <td>97.152968</td>\n",
       "      <td>0.034104</td>\n",
       "      <td>26.776256</td>\n",
       "    </tr>\n",
       "    <tr>\n",
       "      <th>6</th>\n",
       "      <td>6</td>\n",
       "      <td>333</td>\n",
       "      <td>12.008655</td>\n",
       "      <td>2392.535526</td>\n",
       "      <td>42.360360</td>\n",
       "      <td>127.678679</td>\n",
       "      <td>0.037537</td>\n",
       "      <td>15.765766</td>\n",
       "    </tr>\n",
       "    <tr>\n",
       "      <th>3</th>\n",
       "      <td>3</td>\n",
       "      <td>466</td>\n",
       "      <td>16.804904</td>\n",
       "      <td>1256.476438</td>\n",
       "      <td>58.459227</td>\n",
       "      <td>57.622318</td>\n",
       "      <td>0.032821</td>\n",
       "      <td>7.753219</td>\n",
       "    </tr>\n",
       "    <tr>\n",
       "      <th>2</th>\n",
       "      <td>2</td>\n",
       "      <td>489</td>\n",
       "      <td>17.634331</td>\n",
       "      <td>956.551963</td>\n",
       "      <td>77.198364</td>\n",
       "      <td>33.040900</td>\n",
       "      <td>0.039464</td>\n",
       "      <td>8.701431</td>\n",
       "    </tr>\n",
       "    <tr>\n",
       "      <th>1</th>\n",
       "      <td>1</td>\n",
       "      <td>421</td>\n",
       "      <td>15.182113</td>\n",
       "      <td>580.771591</td>\n",
       "      <td>94.370546</td>\n",
       "      <td>14.377672</td>\n",
       "      <td>0.060211</td>\n",
       "      <td>1.111639</td>\n",
       "    </tr>\n",
       "  </tbody>\n",
       "</table>\n",
       "</div>"
      ],
      "text/plain": [
       "   cluster  customer_id  perc_customer  gross_revenue  recency_days  \\\n",
       "5        5          466      16.804904    8859.361738     21.263948   \n",
       "0        0          160       5.769924    3139.284312     35.556250   \n",
       "4        4          438      15.795168    2657.691986     51.728311   \n",
       "6        6          333      12.008655    2392.535526     42.360360   \n",
       "3        3          466      16.804904    1256.476438     58.459227   \n",
       "2        2          489      17.634331     956.551963     77.198364   \n",
       "1        1          421      15.182113     580.771591     94.370546   \n",
       "\n",
       "   qtd_products  frequency     returns  \n",
       "5    425.401288   0.088629  145.798283  \n",
       "0    172.100000   0.057344   23.287500  \n",
       "4     97.152968   0.034104   26.776256  \n",
       "6    127.678679   0.037537   15.765766  \n",
       "3     57.622318   0.032821    7.753219  \n",
       "2     33.040900   0.039464    8.701431  \n",
       "1     14.377672   0.060211    1.111639  "
      ]
     },
     "metadata": {},
     "output_type": "display_data"
    }
   ],
   "source": [
    "df_cluster.sort_values('gross_revenue', ascending=False)"
   ]
  },
  {
   "cell_type": "markdown",
   "metadata": {},
   "source": [
    "##### Q9: Quais ações o time de marketing pode realizar para aumentar o faturamento?"
   ]
  },
  {
   "cell_type": "markdown",
   "metadata": {},
   "source": [
    "Ações que vão impactar o faturamento:\n",
    "- Ações de Cross Sell para aumentar a quantidade de produtos comprados\n",
    "- Açoes promocionais como cupom de desconto para aumentar a frequencia de compra"
   ]
  }
 ],
 "metadata": {
  "kernelspec": {
   "display_name": "Python 3.9.0 64-bit ('LoyaltyProgram')",
   "language": "python",
   "name": "python3"
  },
  "language_info": {
   "codemirror_mode": {
    "name": "ipython",
    "version": 3
   },
   "file_extension": ".py",
   "mimetype": "text/x-python",
   "name": "python",
   "nbconvert_exporter": "python",
   "pygments_lexer": "ipython3",
   "version": "3.9.0"
  },
  "orig_nbformat": 4,
  "vscode": {
   "interpreter": {
    "hash": "b3aea487c2939026990446acc39d0068ca11417f375febde9f2cd58727f0d4dc"
   }
  }
 },
 "nbformat": 4,
 "nbformat_minor": 2
}
