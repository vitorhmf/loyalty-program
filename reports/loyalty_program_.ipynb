{
 "cells": [
  {
   "cell_type": "markdown",
   "id": "99f21f8a",
   "metadata": {
    "papermill": {
     "duration": 0.029541,
     "end_time": "2022-08-22T14:30:07.672202",
     "exception": false,
     "start_time": "2022-08-22T14:30:07.642661",
     "status": "completed"
    },
    "tags": []
   },
   "source": [
    "# 0. Imports"
   ]
  },
  {
   "cell_type": "markdown",
   "id": "fd5b4547",
   "metadata": {
    "papermill": {
     "duration": 0.029309,
     "end_time": "2022-08-22T14:30:07.730831",
     "exception": false,
     "start_time": "2022-08-22T14:30:07.701522",
     "status": "completed"
    },
    "tags": []
   },
   "source": [
    "### 0.1 Libs"
   ]
  },
  {
   "cell_type": "code",
   "execution_count": 1,
   "id": "504aada9",
   "metadata": {
    "execution": {
     "iopub.execute_input": "2022-08-22T14:30:07.791108Z",
     "iopub.status.busy": "2022-08-22T14:30:07.790010Z",
     "iopub.status.idle": "2022-08-22T14:30:14.754138Z",
     "shell.execute_reply": "2022-08-22T14:30:14.753181Z"
    },
    "papermill": {
     "duration": 6.999169,
     "end_time": "2022-08-22T14:30:14.756502",
     "exception": false,
     "start_time": "2022-08-22T14:30:07.757333",
     "status": "completed"
    },
    "tags": []
   },
   "outputs": [
    {
     "name": "stderr",
     "output_type": "stream",
     "text": [
      "/home/vitor/.pyenv/versions/LoyaltyProgram/lib/python3.9/site-packages/tqdm/auto.py:22: TqdmWarning: IProgress not found. Please update jupyter and ipywidgets. See https://ipywidgets.readthedocs.io/en/stable/user_install.html\n",
      "  from .autonotebook import tqdm as notebook_tqdm\n"
     ]
    }
   ],
   "source": [
    "import re\n",
    "import warnings\n",
    "import inflection\n",
    "import sqlite3\n",
    "\n",
    "\n",
    "import numpy            as np\n",
    "import pandas           as pd\n",
    "import seaborn          as sns\n",
    "import umap.umap_       as umap\n",
    "import matplotlib.cm    as cm\n",
    "import scipy.stats      as st\n",
    "\n",
    "from IPython.display        import Image\n",
    "from sqlalchemy             import create_engine\n",
    "\n",
    "from plotly                 import express          as px\n",
    "from matplotlib             import pyplot           as plt\n",
    "\n",
    "from scipy                  import stats            as ss\n",
    "from scipy.cluster          import hierarchy        as hc\n",
    "\n",
    "from sklearn                import cluster          as c\n",
    "from sklearn                import metrics          as m\n",
    "from sklearn                import preprocessing    as pp\n",
    "from sklearn                import decomposition    as dd\n",
    "from sklearn                import ensemble         as en\n",
    "from sklearn                import mixture          as mx\n",
    "from sklearn                import manifold         as mn"
   ]
  },
  {
   "cell_type": "markdown",
   "id": "49527cb9",
   "metadata": {
    "papermill": {
     "duration": 0.025567,
     "end_time": "2022-08-22T14:30:14.799449",
     "exception": false,
     "start_time": "2022-08-22T14:30:14.773882",
     "status": "completed"
    },
    "tags": []
   },
   "source": [
    "### 0.2 Helper Functions"
   ]
  },
  {
   "cell_type": "code",
   "execution_count": 2,
   "id": "088d798d",
   "metadata": {
    "execution": {
     "iopub.execute_input": "2022-08-22T14:30:14.863231Z",
     "iopub.status.busy": "2022-08-22T14:30:14.862479Z",
     "iopub.status.idle": "2022-08-22T14:30:14.871367Z",
     "shell.execute_reply": "2022-08-22T14:30:14.870502Z"
    },
    "papermill": {
     "duration": 0.042899,
     "end_time": "2022-08-22T14:30:14.873228",
     "exception": false,
     "start_time": "2022-08-22T14:30:14.830329",
     "status": "completed"
    },
    "tags": []
   },
   "outputs": [],
   "source": [
    "warnings.simplefilter(\"ignore\")\n",
    "\n",
    "def numerical_metrics(numerical_attributes):\n",
    "    #ct = central tendency\n",
    "    ct_mean = pd.DataFrame(numerical_attributes.apply(np.mean)).T\n",
    "    ct_median = pd.DataFrame(numerical_attributes.apply(np.median)).T\n",
    "\n",
    "    #d = dispersion\n",
    "    d_std = pd.DataFrame(numerical_attributes.apply(np.std)).T\n",
    "    d_min = pd.DataFrame(numerical_attributes.apply(min)).T\n",
    "    d_max = pd.DataFrame(numerical_attributes.apply(max)).T\n",
    "    d_range = pd.DataFrame(numerical_attributes.apply(lambda x: x.max() - x.min())).T\n",
    "    d_skew = pd.DataFrame(numerical_attributes.apply(lambda x: x.skew())).T\n",
    "    d_kurtosis = pd.DataFrame(numerical_attributes.apply(lambda x: x.kurtosis())).T\n",
    "\n",
    "    concat = pd.concat([d_min,d_max,d_range,ct_mean,ct_median,d_std,d_skew,d_kurtosis]).T.reset_index()\n",
    "    concat.coluconcatns=['Attributes','Min','Max','Range','Mean','Median','STD','Skew','Kurtosis']\n",
    "\n",
    "    return concat"
   ]
  },
  {
   "cell_type": "markdown",
   "id": "c93e5bed",
   "metadata": {
    "papermill": {
     "duration": 0.017904,
     "end_time": "2022-08-22T14:30:14.911273",
     "exception": false,
     "start_time": "2022-08-22T14:30:14.893369",
     "status": "completed"
    },
    "tags": []
   },
   "source": [
    "### 0.3 Loading Data"
   ]
  },
  {
   "cell_type": "code",
   "execution_count": 3,
   "id": "79a3c7f9",
   "metadata": {
    "execution": {
     "iopub.execute_input": "2022-08-22T14:30:15.007306Z",
     "iopub.status.busy": "2022-08-22T14:30:15.006972Z",
     "iopub.status.idle": "2022-08-22T14:30:15.703647Z",
     "shell.execute_reply": "2022-08-22T14:30:15.702643Z"
    },
    "papermill": {
     "duration": 0.765211,
     "end_time": "2022-08-22T14:30:15.705930",
     "exception": false,
     "start_time": "2022-08-22T14:30:14.940719",
     "status": "completed"
    },
    "tags": []
   },
   "outputs": [],
   "source": [
    "path = '/home/vitor/Repos/loyalty-program/'\n",
    "df_raw = pd.read_csv(path + 'data/data.csv', encoding= 'unicode_escape')"
   ]
  },
  {
   "cell_type": "markdown",
   "id": "0a51f8c4",
   "metadata": {
    "papermill": {
     "duration": 0.026824,
     "end_time": "2022-08-22T14:30:15.749327",
     "exception": false,
     "start_time": "2022-08-22T14:30:15.722503",
     "status": "completed"
    },
    "tags": []
   },
   "source": [
    "# 1. Data Description"
   ]
  },
  {
   "cell_type": "markdown",
   "id": "a29217f8",
   "metadata": {
    "papermill": {
     "duration": 0.029465,
     "end_time": "2022-08-22T14:30:15.813234",
     "exception": false,
     "start_time": "2022-08-22T14:30:15.783769",
     "status": "completed"
    },
    "tags": []
   },
   "source": [
    "### 1.0 Rename Columns"
   ]
  },
  {
   "cell_type": "code",
   "execution_count": 4,
   "id": "9bbc42bb",
   "metadata": {
    "execution": {
     "iopub.execute_input": "2022-08-22T14:30:15.860966Z",
     "iopub.status.busy": "2022-08-22T14:30:15.859765Z",
     "iopub.status.idle": "2022-08-22T14:30:15.910938Z",
     "shell.execute_reply": "2022-08-22T14:30:15.909731Z"
    },
    "papermill": {
     "duration": 0.082323,
     "end_time": "2022-08-22T14:30:15.913373",
     "exception": false,
     "start_time": "2022-08-22T14:30:15.831050",
     "status": "completed"
    },
    "tags": []
   },
   "outputs": [
    {
     "data": {
      "text/plain": [
       "Index(['InvoiceNo', 'StockCode', 'Description', 'Quantity', 'InvoiceDate',\n",
       "       'UnitPrice', 'CustomerID', 'Country'],\n",
       "      dtype='object')"
      ]
     },
     "execution_count": 4,
     "metadata": {},
     "output_type": "execute_result"
    }
   ],
   "source": [
    "df1 = df_raw.copy()\n",
    "\n",
    "df1.columns"
   ]
  },
  {
   "cell_type": "code",
   "execution_count": 5,
   "id": "5fd69699",
   "metadata": {
    "execution": {
     "iopub.execute_input": "2022-08-22T14:30:15.956111Z",
     "iopub.status.busy": "2022-08-22T14:30:15.955756Z",
     "iopub.status.idle": "2022-08-22T14:30:15.977574Z",
     "shell.execute_reply": "2022-08-22T14:30:15.976632Z"
    },
    "papermill": {
     "duration": 0.042953,
     "end_time": "2022-08-22T14:30:15.979514",
     "exception": false,
     "start_time": "2022-08-22T14:30:15.936561",
     "status": "completed"
    },
    "tags": []
   },
   "outputs": [
    {
     "data": {
      "text/html": [
       "<div>\n",
       "<style scoped>\n",
       "    .dataframe tbody tr th:only-of-type {\n",
       "        vertical-align: middle;\n",
       "    }\n",
       "\n",
       "    .dataframe tbody tr th {\n",
       "        vertical-align: top;\n",
       "    }\n",
       "\n",
       "    .dataframe thead th {\n",
       "        text-align: right;\n",
       "    }\n",
       "</style>\n",
       "<table border=\"1\" class=\"dataframe\">\n",
       "  <thead>\n",
       "    <tr style=\"text-align: right;\">\n",
       "      <th></th>\n",
       "      <th>invoice_no</th>\n",
       "      <th>stock_code</th>\n",
       "      <th>description</th>\n",
       "      <th>quantity</th>\n",
       "      <th>invoice_date</th>\n",
       "      <th>unit_price</th>\n",
       "      <th>customer_id</th>\n",
       "      <th>country</th>\n",
       "    </tr>\n",
       "  </thead>\n",
       "  <tbody>\n",
       "    <tr>\n",
       "      <th>0</th>\n",
       "      <td>536365</td>\n",
       "      <td>85123A</td>\n",
       "      <td>WHITE HANGING HEART T-LIGHT HOLDER</td>\n",
       "      <td>6</td>\n",
       "      <td>12/1/2010 8:26</td>\n",
       "      <td>2.55</td>\n",
       "      <td>17850.0</td>\n",
       "      <td>United Kingdom</td>\n",
       "    </tr>\n",
       "    <tr>\n",
       "      <th>1</th>\n",
       "      <td>536365</td>\n",
       "      <td>71053</td>\n",
       "      <td>WHITE METAL LANTERN</td>\n",
       "      <td>6</td>\n",
       "      <td>12/1/2010 8:26</td>\n",
       "      <td>3.39</td>\n",
       "      <td>17850.0</td>\n",
       "      <td>United Kingdom</td>\n",
       "    </tr>\n",
       "    <tr>\n",
       "      <th>2</th>\n",
       "      <td>536365</td>\n",
       "      <td>84406B</td>\n",
       "      <td>CREAM CUPID HEARTS COAT HANGER</td>\n",
       "      <td>8</td>\n",
       "      <td>12/1/2010 8:26</td>\n",
       "      <td>2.75</td>\n",
       "      <td>17850.0</td>\n",
       "      <td>United Kingdom</td>\n",
       "    </tr>\n",
       "    <tr>\n",
       "      <th>3</th>\n",
       "      <td>536365</td>\n",
       "      <td>84029G</td>\n",
       "      <td>KNITTED UNION FLAG HOT WATER BOTTLE</td>\n",
       "      <td>6</td>\n",
       "      <td>12/1/2010 8:26</td>\n",
       "      <td>3.39</td>\n",
       "      <td>17850.0</td>\n",
       "      <td>United Kingdom</td>\n",
       "    </tr>\n",
       "    <tr>\n",
       "      <th>4</th>\n",
       "      <td>536365</td>\n",
       "      <td>84029E</td>\n",
       "      <td>RED WOOLLY HOTTIE WHITE HEART.</td>\n",
       "      <td>6</td>\n",
       "      <td>12/1/2010 8:26</td>\n",
       "      <td>3.39</td>\n",
       "      <td>17850.0</td>\n",
       "      <td>United Kingdom</td>\n",
       "    </tr>\n",
       "  </tbody>\n",
       "</table>\n",
       "</div>"
      ],
      "text/plain": [
       "  invoice_no stock_code                          description  quantity  \\\n",
       "0     536365     85123A   WHITE HANGING HEART T-LIGHT HOLDER         6   \n",
       "1     536365      71053                  WHITE METAL LANTERN         6   \n",
       "2     536365     84406B       CREAM CUPID HEARTS COAT HANGER         8   \n",
       "3     536365     84029G  KNITTED UNION FLAG HOT WATER BOTTLE         6   \n",
       "4     536365     84029E       RED WOOLLY HOTTIE WHITE HEART.         6   \n",
       "\n",
       "     invoice_date  unit_price  customer_id         country  \n",
       "0  12/1/2010 8:26        2.55      17850.0  United Kingdom  \n",
       "1  12/1/2010 8:26        3.39      17850.0  United Kingdom  \n",
       "2  12/1/2010 8:26        2.75      17850.0  United Kingdom  \n",
       "3  12/1/2010 8:26        3.39      17850.0  United Kingdom  \n",
       "4  12/1/2010 8:26        3.39      17850.0  United Kingdom  "
      ]
     },
     "execution_count": 5,
     "metadata": {},
     "output_type": "execute_result"
    }
   ],
   "source": [
    "cols_old = ['InvoiceNo', 'StockCode', 'Description', 'Quantity', 'InvoiceDate',\n",
    "       'UnitPrice', 'CustomerID', 'Country']\n",
    "\n",
    "snakecase = lambda x: inflection.underscore(x)\n",
    "\n",
    "cols_new = list( map(snakecase, cols_old))\n",
    "\n",
    "df1.columns = cols_new\n",
    "\n",
    "df1.head()"
   ]
  },
  {
   "cell_type": "markdown",
   "id": "555dc6ec",
   "metadata": {
    "papermill": {
     "duration": 0.030316,
     "end_time": "2022-08-22T14:30:16.029673",
     "exception": false,
     "start_time": "2022-08-22T14:30:15.999357",
     "status": "completed"
    },
    "tags": []
   },
   "source": [
    "### 1.1 Data Dimentions"
   ]
  },
  {
   "cell_type": "code",
   "execution_count": 6,
   "id": "e36bd78b",
   "metadata": {
    "execution": {
     "iopub.execute_input": "2022-08-22T14:30:16.095473Z",
     "iopub.status.busy": "2022-08-22T14:30:16.095103Z",
     "iopub.status.idle": "2022-08-22T14:30:16.109732Z",
     "shell.execute_reply": "2022-08-22T14:30:16.108302Z"
    },
    "papermill": {
     "duration": 0.050915,
     "end_time": "2022-08-22T14:30:16.112560",
     "exception": false,
     "start_time": "2022-08-22T14:30:16.061645",
     "status": "completed"
    },
    "tags": []
   },
   "outputs": [
    {
     "name": "stdout",
     "output_type": "stream",
     "text": [
      "Number of Rows:541909\n",
      "Number of Columns:8\n",
      "Number of Clients:4373\n"
     ]
    }
   ],
   "source": [
    "print(f'Number of Rows:{df1.shape[0]}')\n",
    "print(f'Number of Columns:{df1.shape[1]}')\n",
    "print('Number of Clients:{}'.format(len(df1['customer_id'].unique())))"
   ]
  },
  {
   "cell_type": "markdown",
   "id": "bb6b08c5",
   "metadata": {
    "papermill": {
     "duration": 0.027355,
     "end_time": "2022-08-22T14:30:16.157480",
     "exception": false,
     "start_time": "2022-08-22T14:30:16.130125",
     "status": "completed"
    },
    "tags": []
   },
   "source": [
    "### 1.2 Data Types"
   ]
  },
  {
   "cell_type": "code",
   "execution_count": 7,
   "id": "7696894f",
   "metadata": {
    "execution": {
     "iopub.execute_input": "2022-08-22T14:30:16.213967Z",
     "iopub.status.busy": "2022-08-22T14:30:16.213620Z",
     "iopub.status.idle": "2022-08-22T14:30:16.222095Z",
     "shell.execute_reply": "2022-08-22T14:30:16.220764Z"
    },
    "papermill": {
     "duration": 0.038414,
     "end_time": "2022-08-22T14:30:16.225804",
     "exception": false,
     "start_time": "2022-08-22T14:30:16.187390",
     "status": "completed"
    },
    "tags": []
   },
   "outputs": [
    {
     "data": {
      "text/plain": [
       "invoice_no       object\n",
       "stock_code       object\n",
       "description      object\n",
       "quantity          int64\n",
       "invoice_date     object\n",
       "unit_price      float64\n",
       "customer_id     float64\n",
       "country          object\n",
       "dtype: object"
      ]
     },
     "execution_count": 7,
     "metadata": {},
     "output_type": "execute_result"
    }
   ],
   "source": [
    "df1.dtypes"
   ]
  },
  {
   "cell_type": "markdown",
   "id": "84729f9b",
   "metadata": {
    "papermill": {
     "duration": 0.032757,
     "end_time": "2022-08-22T14:30:16.276252",
     "exception": false,
     "start_time": "2022-08-22T14:30:16.243495",
     "status": "completed"
    },
    "tags": []
   },
   "source": [
    "### 1.3 Check NA"
   ]
  },
  {
   "cell_type": "code",
   "execution_count": 8,
   "id": "c4402cb3",
   "metadata": {
    "execution": {
     "iopub.execute_input": "2022-08-22T14:30:16.343625Z",
     "iopub.status.busy": "2022-08-22T14:30:16.342841Z",
     "iopub.status.idle": "2022-08-22T14:30:16.749683Z",
     "shell.execute_reply": "2022-08-22T14:30:16.748937Z"
    },
    "papermill": {
     "duration": 0.442777,
     "end_time": "2022-08-22T14:30:16.751611",
     "exception": false,
     "start_time": "2022-08-22T14:30:16.308834",
     "status": "completed"
    },
    "tags": []
   },
   "outputs": [
    {
     "data": {
      "text/plain": [
       "invoice_no           0\n",
       "stock_code           0\n",
       "description       1454\n",
       "quantity             0\n",
       "invoice_date         0\n",
       "unit_price           0\n",
       "customer_id     135080\n",
       "country              0\n",
       "dtype: int64"
      ]
     },
     "execution_count": 8,
     "metadata": {},
     "output_type": "execute_result"
    }
   ],
   "source": [
    "df1.isna().sum()"
   ]
  },
  {
   "cell_type": "markdown",
   "id": "942a0f73",
   "metadata": {
    "papermill": {
     "duration": 0.027083,
     "end_time": "2022-08-22T14:30:16.796054",
     "exception": false,
     "start_time": "2022-08-22T14:30:16.768971",
     "status": "completed"
    },
    "tags": []
   },
   "source": [
    "### 1.4 Fillout NA"
   ]
  },
  {
   "cell_type": "code",
   "execution_count": 9,
   "id": "3034df85",
   "metadata": {
    "execution": {
     "iopub.execute_input": "2022-08-22T14:30:16.863025Z",
     "iopub.status.busy": "2022-08-22T14:30:16.862545Z",
     "iopub.status.idle": "2022-08-22T14:30:16.915841Z",
     "shell.execute_reply": "2022-08-22T14:30:16.915021Z"
    },
    "papermill": {
     "duration": 0.087651,
     "end_time": "2022-08-22T14:30:16.917998",
     "exception": false,
     "start_time": "2022-08-22T14:30:16.830347",
     "status": "completed"
    },
    "tags": []
   },
   "outputs": [],
   "source": [
    "# Analise detalhada do Na\n",
    "df_missing = df1.loc[df1['customer_id'].isna(), :]\n",
    "df_not_missing = df1.loc[~df1['customer_id'].isna(), :]"
   ]
  },
  {
   "cell_type": "code",
   "execution_count": 10,
   "id": "a4422451",
   "metadata": {
    "execution": {
     "iopub.execute_input": "2022-08-22T14:30:16.975390Z",
     "iopub.status.busy": "2022-08-22T14:30:16.974661Z",
     "iopub.status.idle": "2022-08-22T14:30:17.305295Z",
     "shell.execute_reply": "2022-08-22T14:30:17.304287Z"
    },
    "papermill": {
     "duration": 0.367285,
     "end_time": "2022-08-22T14:30:17.307331",
     "exception": false,
     "start_time": "2022-08-22T14:30:16.940046",
     "status": "completed"
    },
    "tags": []
   },
   "outputs": [
    {
     "data": {
      "text/html": [
       "<div>\n",
       "<style scoped>\n",
       "    .dataframe tbody tr th:only-of-type {\n",
       "        vertical-align: middle;\n",
       "    }\n",
       "\n",
       "    .dataframe tbody tr th {\n",
       "        vertical-align: top;\n",
       "    }\n",
       "\n",
       "    .dataframe thead th {\n",
       "        text-align: right;\n",
       "    }\n",
       "</style>\n",
       "<table border=\"1\" class=\"dataframe\">\n",
       "  <thead>\n",
       "    <tr style=\"text-align: right;\">\n",
       "      <th></th>\n",
       "      <th>invoice_no</th>\n",
       "      <th>stock_code</th>\n",
       "      <th>description</th>\n",
       "      <th>quantity</th>\n",
       "      <th>invoice_date</th>\n",
       "      <th>unit_price</th>\n",
       "      <th>country</th>\n",
       "      <th>customer_id</th>\n",
       "    </tr>\n",
       "  </thead>\n",
       "  <tbody>\n",
       "    <tr>\n",
       "      <th>0</th>\n",
       "      <td>536365</td>\n",
       "      <td>85123A</td>\n",
       "      <td>WHITE HANGING HEART T-LIGHT HOLDER</td>\n",
       "      <td>6</td>\n",
       "      <td>12/1/2010 8:26</td>\n",
       "      <td>2.55</td>\n",
       "      <td>United Kingdom</td>\n",
       "      <td>17850.0</td>\n",
       "    </tr>\n",
       "    <tr>\n",
       "      <th>1</th>\n",
       "      <td>536365</td>\n",
       "      <td>71053</td>\n",
       "      <td>WHITE METAL LANTERN</td>\n",
       "      <td>6</td>\n",
       "      <td>12/1/2010 8:26</td>\n",
       "      <td>3.39</td>\n",
       "      <td>United Kingdom</td>\n",
       "      <td>17850.0</td>\n",
       "    </tr>\n",
       "    <tr>\n",
       "      <th>2</th>\n",
       "      <td>536365</td>\n",
       "      <td>84406B</td>\n",
       "      <td>CREAM CUPID HEARTS COAT HANGER</td>\n",
       "      <td>8</td>\n",
       "      <td>12/1/2010 8:26</td>\n",
       "      <td>2.75</td>\n",
       "      <td>United Kingdom</td>\n",
       "      <td>17850.0</td>\n",
       "    </tr>\n",
       "    <tr>\n",
       "      <th>3</th>\n",
       "      <td>536365</td>\n",
       "      <td>84029G</td>\n",
       "      <td>KNITTED UNION FLAG HOT WATER BOTTLE</td>\n",
       "      <td>6</td>\n",
       "      <td>12/1/2010 8:26</td>\n",
       "      <td>3.39</td>\n",
       "      <td>United Kingdom</td>\n",
       "      <td>17850.0</td>\n",
       "    </tr>\n",
       "    <tr>\n",
       "      <th>4</th>\n",
       "      <td>536365</td>\n",
       "      <td>84029E</td>\n",
       "      <td>RED WOOLLY HOTTIE WHITE HEART.</td>\n",
       "      <td>6</td>\n",
       "      <td>12/1/2010 8:26</td>\n",
       "      <td>3.39</td>\n",
       "      <td>United Kingdom</td>\n",
       "      <td>17850.0</td>\n",
       "    </tr>\n",
       "  </tbody>\n",
       "</table>\n",
       "</div>"
      ],
      "text/plain": [
       "  invoice_no stock_code                          description  quantity  \\\n",
       "0     536365     85123A   WHITE HANGING HEART T-LIGHT HOLDER         6   \n",
       "1     536365      71053                  WHITE METAL LANTERN         6   \n",
       "2     536365     84406B       CREAM CUPID HEARTS COAT HANGER         8   \n",
       "3     536365     84029G  KNITTED UNION FLAG HOT WATER BOTTLE         6   \n",
       "4     536365     84029E       RED WOOLLY HOTTIE WHITE HEART.         6   \n",
       "\n",
       "     invoice_date  unit_price         country  customer_id  \n",
       "0  12/1/2010 8:26        2.55  United Kingdom      17850.0  \n",
       "1  12/1/2010 8:26        3.39  United Kingdom      17850.0  \n",
       "2  12/1/2010 8:26        2.75  United Kingdom      17850.0  \n",
       "3  12/1/2010 8:26        3.39  United Kingdom      17850.0  \n",
       "4  12/1/2010 8:26        3.39  United Kingdom      17850.0  "
      ]
     },
     "execution_count": 10,
     "metadata": {},
     "output_type": "execute_result"
    }
   ],
   "source": [
    "# Criar um id para os valores faltantes e assim não descartar as informações registradas\n",
    "\n",
    "# create reference\n",
    "df_backup = pd.DataFrame(df_missing['invoice_no'].drop_duplicates())\n",
    "df_backup['customer_id'] = np.arange(19000, 19000+len(df_backup), 1)\n",
    "\n",
    "\n",
    "# Merge with original dataframe\n",
    "df1 = pd.merge(df1, df_backup, on = 'invoice_no', how = 'left')\n",
    "\n",
    "# **Coalesce\n",
    "df1['customer_id'] = df1['customer_id_x'].combine_first(df1['customer_id_y'])\n",
    "\n",
    "# drop extra columns\n",
    "df1 = df1.drop(columns = ['customer_id_x', 'customer_id_y'], axis=1)\n",
    "\n",
    "df1.head()"
   ]
  },
  {
   "cell_type": "code",
   "execution_count": 11,
   "id": "2efbe0bc",
   "metadata": {
    "execution": {
     "iopub.execute_input": "2022-08-22T14:30:17.352287Z",
     "iopub.status.busy": "2022-08-22T14:30:17.352005Z",
     "iopub.status.idle": "2022-08-22T14:30:17.780781Z",
     "shell.execute_reply": "2022-08-22T14:30:17.779849Z"
    },
    "papermill": {
     "duration": 0.453911,
     "end_time": "2022-08-22T14:30:17.783078",
     "exception": false,
     "start_time": "2022-08-22T14:30:17.329167",
     "status": "completed"
    },
    "tags": []
   },
   "outputs": [
    {
     "data": {
      "text/plain": [
       "invoice_no         0\n",
       "stock_code         0\n",
       "description     1454\n",
       "quantity           0\n",
       "invoice_date       0\n",
       "unit_price         0\n",
       "country            0\n",
       "customer_id        0\n",
       "dtype: int64"
      ]
     },
     "execution_count": 11,
     "metadata": {},
     "output_type": "execute_result"
    }
   ],
   "source": [
    "df1.isna().sum()"
   ]
  },
  {
   "cell_type": "markdown",
   "id": "7e9a59c8",
   "metadata": {
    "papermill": {
     "duration": 0.038987,
     "end_time": "2022-08-22T14:30:17.843600",
     "exception": false,
     "start_time": "2022-08-22T14:30:17.804613",
     "status": "completed"
    },
    "tags": []
   },
   "source": [
    "### 1.5 Change Types"
   ]
  },
  {
   "cell_type": "code",
   "execution_count": 12,
   "id": "cc4b1b0a",
   "metadata": {
    "execution": {
     "iopub.execute_input": "2022-08-22T14:30:17.929169Z",
     "iopub.status.busy": "2022-08-22T14:30:17.927959Z",
     "iopub.status.idle": "2022-08-22T14:30:25.107671Z",
     "shell.execute_reply": "2022-08-22T14:30:25.106808Z"
    },
    "papermill": {
     "duration": 7.224557,
     "end_time": "2022-08-22T14:30:25.109898",
     "exception": false,
     "start_time": "2022-08-22T14:30:17.885341",
     "status": "completed"
    },
    "tags": []
   },
   "outputs": [
    {
     "data": {
      "text/html": [
       "<div>\n",
       "<style scoped>\n",
       "    .dataframe tbody tr th:only-of-type {\n",
       "        vertical-align: middle;\n",
       "    }\n",
       "\n",
       "    .dataframe tbody tr th {\n",
       "        vertical-align: top;\n",
       "    }\n",
       "\n",
       "    .dataframe thead th {\n",
       "        text-align: right;\n",
       "    }\n",
       "</style>\n",
       "<table border=\"1\" class=\"dataframe\">\n",
       "  <thead>\n",
       "    <tr style=\"text-align: right;\">\n",
       "      <th></th>\n",
       "      <th>invoice_no</th>\n",
       "      <th>stock_code</th>\n",
       "      <th>description</th>\n",
       "      <th>quantity</th>\n",
       "      <th>invoice_date</th>\n",
       "      <th>unit_price</th>\n",
       "      <th>country</th>\n",
       "      <th>customer_id</th>\n",
       "    </tr>\n",
       "  </thead>\n",
       "  <tbody>\n",
       "    <tr>\n",
       "      <th>0</th>\n",
       "      <td>536365</td>\n",
       "      <td>85123A</td>\n",
       "      <td>WHITE HANGING HEART T-LIGHT HOLDER</td>\n",
       "      <td>6</td>\n",
       "      <td>2010-12-01</td>\n",
       "      <td>2.55</td>\n",
       "      <td>United Kingdom</td>\n",
       "      <td>17850</td>\n",
       "    </tr>\n",
       "    <tr>\n",
       "      <th>1</th>\n",
       "      <td>536365</td>\n",
       "      <td>71053</td>\n",
       "      <td>WHITE METAL LANTERN</td>\n",
       "      <td>6</td>\n",
       "      <td>2010-12-01</td>\n",
       "      <td>3.39</td>\n",
       "      <td>United Kingdom</td>\n",
       "      <td>17850</td>\n",
       "    </tr>\n",
       "    <tr>\n",
       "      <th>2</th>\n",
       "      <td>536365</td>\n",
       "      <td>84406B</td>\n",
       "      <td>CREAM CUPID HEARTS COAT HANGER</td>\n",
       "      <td>8</td>\n",
       "      <td>2010-12-01</td>\n",
       "      <td>2.75</td>\n",
       "      <td>United Kingdom</td>\n",
       "      <td>17850</td>\n",
       "    </tr>\n",
       "    <tr>\n",
       "      <th>3</th>\n",
       "      <td>536365</td>\n",
       "      <td>84029G</td>\n",
       "      <td>KNITTED UNION FLAG HOT WATER BOTTLE</td>\n",
       "      <td>6</td>\n",
       "      <td>2010-12-01</td>\n",
       "      <td>3.39</td>\n",
       "      <td>United Kingdom</td>\n",
       "      <td>17850</td>\n",
       "    </tr>\n",
       "    <tr>\n",
       "      <th>4</th>\n",
       "      <td>536365</td>\n",
       "      <td>84029E</td>\n",
       "      <td>RED WOOLLY HOTTIE WHITE HEART.</td>\n",
       "      <td>6</td>\n",
       "      <td>2010-12-01</td>\n",
       "      <td>3.39</td>\n",
       "      <td>United Kingdom</td>\n",
       "      <td>17850</td>\n",
       "    </tr>\n",
       "  </tbody>\n",
       "</table>\n",
       "</div>"
      ],
      "text/plain": [
       "  invoice_no stock_code                          description  quantity  \\\n",
       "0     536365     85123A   WHITE HANGING HEART T-LIGHT HOLDER         6   \n",
       "1     536365      71053                  WHITE METAL LANTERN         6   \n",
       "2     536365     84406B       CREAM CUPID HEARTS COAT HANGER         8   \n",
       "3     536365     84029G  KNITTED UNION FLAG HOT WATER BOTTLE         6   \n",
       "4     536365     84029E       RED WOOLLY HOTTIE WHITE HEART.         6   \n",
       "\n",
       "  invoice_date  unit_price         country  customer_id  \n",
       "0   2010-12-01        2.55  United Kingdom        17850  \n",
       "1   2010-12-01        3.39  United Kingdom        17850  \n",
       "2   2010-12-01        2.75  United Kingdom        17850  \n",
       "3   2010-12-01        3.39  United Kingdom        17850  \n",
       "4   2010-12-01        3.39  United Kingdom        17850  "
      ]
     },
     "execution_count": 12,
     "metadata": {},
     "output_type": "execute_result"
    }
   ],
   "source": [
    "df1['customer_id'] = df1['customer_id'].astype(int)\n",
    "\n",
    "df1['invoice_date'] = pd.to_datetime(df1['invoice_date'])\n",
    "df1['invoice_date'] = df1['invoice_date'].dt.strftime('%Y-%m-%d')\n",
    "df1['invoice_date'] = pd.to_datetime(df1['invoice_date'])\n",
    "\n",
    "df1.head()"
   ]
  },
  {
   "cell_type": "code",
   "execution_count": 13,
   "id": "90219117",
   "metadata": {
    "execution": {
     "iopub.execute_input": "2022-08-22T14:30:25.169489Z",
     "iopub.status.busy": "2022-08-22T14:30:25.168743Z",
     "iopub.status.idle": "2022-08-22T14:30:25.178991Z",
     "shell.execute_reply": "2022-08-22T14:30:25.177798Z"
    },
    "papermill": {
     "duration": 0.050438,
     "end_time": "2022-08-22T14:30:25.182593",
     "exception": false,
     "start_time": "2022-08-22T14:30:25.132155",
     "status": "completed"
    },
    "tags": []
   },
   "outputs": [
    {
     "data": {
      "text/plain": [
       "invoice_no              object\n",
       "stock_code              object\n",
       "description             object\n",
       "quantity                 int64\n",
       "invoice_date    datetime64[ns]\n",
       "unit_price             float64\n",
       "country                 object\n",
       "customer_id              int64\n",
       "dtype: object"
      ]
     },
     "execution_count": 13,
     "metadata": {},
     "output_type": "execute_result"
    }
   ],
   "source": [
    "df1.dtypes"
   ]
  },
  {
   "cell_type": "markdown",
   "id": "64c3994b",
   "metadata": {
    "papermill": {
     "duration": 0.030375,
     "end_time": "2022-08-22T14:30:25.255875",
     "exception": false,
     "start_time": "2022-08-22T14:30:25.225500",
     "status": "completed"
    },
    "tags": []
   },
   "source": [
    "### 1.6 Descriptive Statistics"
   ]
  },
  {
   "cell_type": "markdown",
   "id": "35a55110",
   "metadata": {
    "papermill": {
     "duration": 0.038621,
     "end_time": "2022-08-22T14:30:25.316464",
     "exception": false,
     "start_time": "2022-08-22T14:30:25.277843",
     "status": "completed"
    },
    "tags": []
   },
   "source": [
    "#### 1.6.0  Datasets"
   ]
  },
  {
   "cell_type": "code",
   "execution_count": 14,
   "id": "ae6dcc9b",
   "metadata": {
    "execution": {
     "iopub.execute_input": "2022-08-22T14:30:25.395269Z",
     "iopub.status.busy": "2022-08-22T14:30:25.394313Z",
     "iopub.status.idle": "2022-08-22T14:30:25.400788Z",
     "shell.execute_reply": "2022-08-22T14:30:25.399500Z"
    },
    "papermill": {
     "duration": 0.043494,
     "end_time": "2022-08-22T14:30:25.403384",
     "exception": false,
     "start_time": "2022-08-22T14:30:25.359890",
     "status": "completed"
    },
    "tags": []
   },
   "outputs": [],
   "source": [
    "num_attributes = df1.select_dtypes(include = ['int64', 'float64'])\n",
    "cat_attributes = df1.select_dtypes(exclude = ['int64', 'float64', 'datetime64[ns]'])"
   ]
  },
  {
   "cell_type": "markdown",
   "id": "a2dfb2c4",
   "metadata": {
    "papermill": {
     "duration": 0.041359,
     "end_time": "2022-08-22T14:30:25.467608",
     "exception": false,
     "start_time": "2022-08-22T14:30:25.426249",
     "status": "completed"
    },
    "tags": []
   },
   "source": [
    "#### 1.6.1 Nummerical Attributes"
   ]
  },
  {
   "cell_type": "code",
   "execution_count": 15,
   "id": "86f2bc77",
   "metadata": {
    "execution": {
     "iopub.execute_input": "2022-08-22T14:30:25.547737Z",
     "iopub.status.busy": "2022-08-22T14:30:25.547288Z",
     "iopub.status.idle": "2022-08-22T14:30:26.029809Z",
     "shell.execute_reply": "2022-08-22T14:30:26.028750Z"
    },
    "papermill": {
     "duration": 0.520502,
     "end_time": "2022-08-22T14:30:26.032158",
     "exception": false,
     "start_time": "2022-08-22T14:30:25.511656",
     "status": "completed"
    },
    "tags": []
   },
   "outputs": [
    {
     "data": {
      "text/html": [
       "<div>\n",
       "<style scoped>\n",
       "    .dataframe tbody tr th:only-of-type {\n",
       "        vertical-align: middle;\n",
       "    }\n",
       "\n",
       "    .dataframe tbody tr th {\n",
       "        vertical-align: top;\n",
       "    }\n",
       "\n",
       "    .dataframe thead th {\n",
       "        text-align: right;\n",
       "    }\n",
       "</style>\n",
       "<table border=\"1\" class=\"dataframe\">\n",
       "  <thead>\n",
       "    <tr style=\"text-align: right;\">\n",
       "      <th></th>\n",
       "      <th>index</th>\n",
       "      <th>0</th>\n",
       "      <th>0</th>\n",
       "      <th>0</th>\n",
       "      <th>0</th>\n",
       "      <th>0</th>\n",
       "      <th>0</th>\n",
       "      <th>0</th>\n",
       "      <th>0</th>\n",
       "    </tr>\n",
       "  </thead>\n",
       "  <tbody>\n",
       "    <tr>\n",
       "      <th>0</th>\n",
       "      <td>quantity</td>\n",
       "      <td>-80995.00</td>\n",
       "      <td>80995.0</td>\n",
       "      <td>161990.00</td>\n",
       "      <td>9.552250</td>\n",
       "      <td>3.00</td>\n",
       "      <td>218.080957</td>\n",
       "      <td>-0.264076</td>\n",
       "      <td>119769.160031</td>\n",
       "    </tr>\n",
       "    <tr>\n",
       "      <th>1</th>\n",
       "      <td>unit_price</td>\n",
       "      <td>-11062.06</td>\n",
       "      <td>38970.0</td>\n",
       "      <td>50032.06</td>\n",
       "      <td>4.611114</td>\n",
       "      <td>2.08</td>\n",
       "      <td>96.759764</td>\n",
       "      <td>186.506972</td>\n",
       "      <td>59005.719097</td>\n",
       "    </tr>\n",
       "    <tr>\n",
       "      <th>2</th>\n",
       "      <td>customer_id</td>\n",
       "      <td>12346.00</td>\n",
       "      <td>22709.0</td>\n",
       "      <td>10363.00</td>\n",
       "      <td>16688.840453</td>\n",
       "      <td>16249.00</td>\n",
       "      <td>2911.408666</td>\n",
       "      <td>0.487449</td>\n",
       "      <td>-0.804287</td>\n",
       "    </tr>\n",
       "  </tbody>\n",
       "</table>\n",
       "</div>"
      ],
      "text/plain": [
       "         index         0        0          0             0         0  \\\n",
       "0     quantity -80995.00  80995.0  161990.00      9.552250      3.00   \n",
       "1   unit_price -11062.06  38970.0   50032.06      4.611114      2.08   \n",
       "2  customer_id  12346.00  22709.0   10363.00  16688.840453  16249.00   \n",
       "\n",
       "             0           0              0  \n",
       "0   218.080957   -0.264076  119769.160031  \n",
       "1    96.759764  186.506972   59005.719097  \n",
       "2  2911.408666    0.487449      -0.804287  "
      ]
     },
     "execution_count": 15,
     "metadata": {},
     "output_type": "execute_result"
    }
   ],
   "source": [
    "numerical_metrics(num_attributes)"
   ]
  },
  {
   "cell_type": "markdown",
   "id": "3361f375",
   "metadata": {
    "papermill": {
     "duration": 0.037756,
     "end_time": "2022-08-22T14:30:26.095192",
     "exception": false,
     "start_time": "2022-08-22T14:30:26.057436",
     "status": "completed"
    },
    "tags": []
   },
   "source": [
    "#### 1.6.2 Categorical Attributes"
   ]
  },
  {
   "cell_type": "code",
   "execution_count": 16,
   "id": "db6c484b",
   "metadata": {
    "execution": {
     "iopub.execute_input": "2022-08-22T14:30:26.178293Z",
     "iopub.status.busy": "2022-08-22T14:30:26.177957Z",
     "iopub.status.idle": "2022-08-22T14:30:26.190456Z",
     "shell.execute_reply": "2022-08-22T14:30:26.189412Z"
    },
    "papermill": {
     "duration": 0.058493,
     "end_time": "2022-08-22T14:30:26.192803",
     "exception": false,
     "start_time": "2022-08-22T14:30:26.134310",
     "status": "completed"
    },
    "tags": []
   },
   "outputs": [
    {
     "data": {
      "text/html": [
       "<div>\n",
       "<style scoped>\n",
       "    .dataframe tbody tr th:only-of-type {\n",
       "        vertical-align: middle;\n",
       "    }\n",
       "\n",
       "    .dataframe tbody tr th {\n",
       "        vertical-align: top;\n",
       "    }\n",
       "\n",
       "    .dataframe thead th {\n",
       "        text-align: right;\n",
       "    }\n",
       "</style>\n",
       "<table border=\"1\" class=\"dataframe\">\n",
       "  <thead>\n",
       "    <tr style=\"text-align: right;\">\n",
       "      <th></th>\n",
       "      <th>invoice_no</th>\n",
       "      <th>stock_code</th>\n",
       "      <th>description</th>\n",
       "      <th>country</th>\n",
       "    </tr>\n",
       "  </thead>\n",
       "  <tbody>\n",
       "    <tr>\n",
       "      <th>0</th>\n",
       "      <td>536365</td>\n",
       "      <td>85123A</td>\n",
       "      <td>WHITE HANGING HEART T-LIGHT HOLDER</td>\n",
       "      <td>United Kingdom</td>\n",
       "    </tr>\n",
       "    <tr>\n",
       "      <th>1</th>\n",
       "      <td>536365</td>\n",
       "      <td>71053</td>\n",
       "      <td>WHITE METAL LANTERN</td>\n",
       "      <td>United Kingdom</td>\n",
       "    </tr>\n",
       "    <tr>\n",
       "      <th>2</th>\n",
       "      <td>536365</td>\n",
       "      <td>84406B</td>\n",
       "      <td>CREAM CUPID HEARTS COAT HANGER</td>\n",
       "      <td>United Kingdom</td>\n",
       "    </tr>\n",
       "    <tr>\n",
       "      <th>3</th>\n",
       "      <td>536365</td>\n",
       "      <td>84029G</td>\n",
       "      <td>KNITTED UNION FLAG HOT WATER BOTTLE</td>\n",
       "      <td>United Kingdom</td>\n",
       "    </tr>\n",
       "    <tr>\n",
       "      <th>4</th>\n",
       "      <td>536365</td>\n",
       "      <td>84029E</td>\n",
       "      <td>RED WOOLLY HOTTIE WHITE HEART.</td>\n",
       "      <td>United Kingdom</td>\n",
       "    </tr>\n",
       "  </tbody>\n",
       "</table>\n",
       "</div>"
      ],
      "text/plain": [
       "  invoice_no stock_code                          description         country\n",
       "0     536365     85123A   WHITE HANGING HEART T-LIGHT HOLDER  United Kingdom\n",
       "1     536365      71053                  WHITE METAL LANTERN  United Kingdom\n",
       "2     536365     84406B       CREAM CUPID HEARTS COAT HANGER  United Kingdom\n",
       "3     536365     84029G  KNITTED UNION FLAG HOT WATER BOTTLE  United Kingdom\n",
       "4     536365     84029E       RED WOOLLY HOTTIE WHITE HEART.  United Kingdom"
      ]
     },
     "execution_count": 16,
     "metadata": {},
     "output_type": "execute_result"
    }
   ],
   "source": [
    "cat_attributes.head()"
   ]
  },
  {
   "cell_type": "markdown",
   "id": "f2af7aa4",
   "metadata": {
    "papermill": {
     "duration": 0.035911,
     "end_time": "2022-08-22T14:30:26.251681",
     "exception": false,
     "start_time": "2022-08-22T14:30:26.215770",
     "status": "completed"
    },
    "tags": []
   },
   "source": [
    "##### Invoice No"
   ]
  },
  {
   "cell_type": "code",
   "execution_count": 17,
   "id": "8b2f375b",
   "metadata": {
    "execution": {
     "iopub.execute_input": "2022-08-22T14:30:26.331387Z",
     "iopub.status.busy": "2022-08-22T14:30:26.330942Z",
     "iopub.status.idle": "2022-08-22T14:30:27.231019Z",
     "shell.execute_reply": "2022-08-22T14:30:27.229655Z"
    },
    "papermill": {
     "duration": 0.939274,
     "end_time": "2022-08-22T14:30:27.234208",
     "exception": false,
     "start_time": "2022-08-22T14:30:26.294934",
     "status": "completed"
    },
    "tags": []
   },
   "outputs": [
    {
     "name": "stdout",
     "output_type": "stream",
     "text": [
      "Total invoice_no with letter: 9291\n",
      "Total invoice_no with letter and negative quantity value: 9288\n"
     ]
    }
   ],
   "source": [
    "# Quantidade de registros com letras\n",
    "df_letter_invoice = df1.loc[df1['invoice_no'].apply(lambda x: bool(re.search('[^0-9]+', x))), :]\n",
    "print(f'Total invoice_no with letter: {len(df_letter_invoice)}')\n",
    "print('Total invoice_no with letter and negative quantity value: {}'.format(len(df_letter_invoice[df_letter_invoice['quantity']<0])))"
   ]
  },
  {
   "cell_type": "markdown",
   "id": "a86b6a67",
   "metadata": {
    "papermill": {
     "duration": 0.038311,
     "end_time": "2022-08-22T14:30:27.312465",
     "exception": false,
     "start_time": "2022-08-22T14:30:27.274154",
     "status": "completed"
    },
    "tags": []
   },
   "source": [
    "##### Stock Code"
   ]
  },
  {
   "cell_type": "code",
   "execution_count": 18,
   "id": "d9c581e3",
   "metadata": {
    "execution": {
     "iopub.execute_input": "2022-08-22T14:30:27.396168Z",
     "iopub.status.busy": "2022-08-22T14:30:27.395621Z",
     "iopub.status.idle": "2022-08-22T14:30:29.207992Z",
     "shell.execute_reply": "2022-08-22T14:30:29.207118Z"
    },
    "papermill": {
     "duration": 1.853636,
     "end_time": "2022-08-22T14:30:29.210146",
     "exception": false,
     "start_time": "2022-08-22T14:30:27.356510",
     "status": "completed"
    },
    "tags": []
   },
   "outputs": [
    {
     "data": {
      "text/plain": [
       "array(['POST', 'D', 'DOT', 'M', 'S', 'AMAZONFEE', 'm', 'DCGSSBOY',\n",
       "       'DCGSSGIRL', 'PADS', 'B', 'CRUK'], dtype=object)"
      ]
     },
     "execution_count": 18,
     "metadata": {},
     "output_type": "execute_result"
    }
   ],
   "source": [
    "# The stock_code should be a number\n",
    "df1.loc[df1['stock_code'].apply(lambda x: bool(re.search('^[a-zA-Z]+$', x))), :]\n",
    "df1.loc[df1['stock_code'].apply(lambda x: bool(re.search('^[a-zA-Z]+$', x))), 'stock_code'].unique()\n",
    "\n",
    "# task: remove stock_code in ['POST', 'D', 'M', 'PADS', 'DOT', 'CRUK']"
   ]
  },
  {
   "cell_type": "markdown",
   "id": "a6f7fdbf",
   "metadata": {
    "papermill": {
     "duration": 0.045344,
     "end_time": "2022-08-22T14:30:29.278201",
     "exception": false,
     "start_time": "2022-08-22T14:30:29.232857",
     "status": "completed"
    },
    "tags": []
   },
   "source": [
    "##### Description"
   ]
  },
  {
   "cell_type": "code",
   "execution_count": 19,
   "id": "64acdf75",
   "metadata": {
    "execution": {
     "iopub.execute_input": "2022-08-22T14:30:29.353164Z",
     "iopub.status.busy": "2022-08-22T14:30:29.352791Z",
     "iopub.status.idle": "2022-08-22T14:30:29.357245Z",
     "shell.execute_reply": "2022-08-22T14:30:29.356166Z"
    },
    "papermill": {
     "duration": 0.038459,
     "end_time": "2022-08-22T14:30:29.359540",
     "exception": false,
     "start_time": "2022-08-22T14:30:29.321081",
     "status": "completed"
    },
    "tags": []
   },
   "outputs": [],
   "source": [
    "# Task: delete description"
   ]
  },
  {
   "cell_type": "markdown",
   "id": "f17e21c4",
   "metadata": {
    "papermill": {
     "duration": 0.041883,
     "end_time": "2022-08-22T14:30:29.427961",
     "exception": false,
     "start_time": "2022-08-22T14:30:29.386078",
     "status": "completed"
    },
    "tags": []
   },
   "source": [
    "##### Country"
   ]
  },
  {
   "cell_type": "code",
   "execution_count": 20,
   "id": "9543d31c",
   "metadata": {
    "execution": {
     "iopub.execute_input": "2022-08-22T14:30:29.509203Z",
     "iopub.status.busy": "2022-08-22T14:30:29.508289Z",
     "iopub.status.idle": "2022-08-22T14:30:29.545924Z",
     "shell.execute_reply": "2022-08-22T14:30:29.544833Z"
    },
    "papermill": {
     "duration": 0.076362,
     "end_time": "2022-08-22T14:30:29.548201",
     "exception": false,
     "start_time": "2022-08-22T14:30:29.471839",
     "status": "completed"
    },
    "tags": []
   },
   "outputs": [
    {
     "data": {
      "text/plain": [
       "38"
      ]
     },
     "execution_count": 20,
     "metadata": {},
     "output_type": "execute_result"
    }
   ],
   "source": [
    "len(df1['country'].unique())"
   ]
  },
  {
   "cell_type": "code",
   "execution_count": 21,
   "id": "f80437b6",
   "metadata": {
    "execution": {
     "iopub.execute_input": "2022-08-22T14:30:29.615172Z",
     "iopub.status.busy": "2022-08-22T14:30:29.614619Z",
     "iopub.status.idle": "2022-08-22T14:30:29.694279Z",
     "shell.execute_reply": "2022-08-22T14:30:29.693149Z"
    },
    "papermill": {
     "duration": 0.124708,
     "end_time": "2022-08-22T14:30:29.696882",
     "exception": false,
     "start_time": "2022-08-22T14:30:29.572174",
     "status": "completed"
    },
    "tags": []
   },
   "outputs": [
    {
     "data": {
      "text/plain": [
       "United Kingdom    0.914320\n",
       "Germany           0.017521\n",
       "France            0.015790\n",
       "EIRE              0.015124\n",
       "Spain             0.004674\n",
       "Name: country, dtype: float64"
      ]
     },
     "execution_count": 21,
     "metadata": {},
     "output_type": "execute_result"
    }
   ],
   "source": [
    "df1['country'].value_counts(normalize = True).head()"
   ]
  },
  {
   "cell_type": "code",
   "execution_count": 22,
   "id": "0e6332a7",
   "metadata": {
    "execution": {
     "iopub.execute_input": "2022-08-22T14:30:29.762683Z",
     "iopub.status.busy": "2022-08-22T14:30:29.762173Z",
     "iopub.status.idle": "2022-08-22T14:30:29.847557Z",
     "shell.execute_reply": "2022-08-22T14:30:29.846568Z"
    },
    "papermill": {
     "duration": 0.128064,
     "end_time": "2022-08-22T14:30:29.850037",
     "exception": false,
     "start_time": "2022-08-22T14:30:29.721973",
     "status": "completed"
    },
    "tags": []
   },
   "outputs": [
    {
     "data": {
      "text/html": [
       "<div>\n",
       "<style scoped>\n",
       "    .dataframe tbody tr th:only-of-type {\n",
       "        vertical-align: middle;\n",
       "    }\n",
       "\n",
       "    .dataframe tbody tr th {\n",
       "        vertical-align: top;\n",
       "    }\n",
       "\n",
       "    .dataframe thead th {\n",
       "        text-align: right;\n",
       "    }\n",
       "</style>\n",
       "<table border=\"1\" class=\"dataframe\">\n",
       "  <thead>\n",
       "    <tr style=\"text-align: right;\">\n",
       "      <th></th>\n",
       "      <th>country</th>\n",
       "      <th>customer_id</th>\n",
       "    </tr>\n",
       "  </thead>\n",
       "  <tbody>\n",
       "    <tr>\n",
       "      <th>36</th>\n",
       "      <td>United Kingdom</td>\n",
       "      <td>7587</td>\n",
       "    </tr>\n",
       "    <tr>\n",
       "      <th>14</th>\n",
       "      <td>Germany</td>\n",
       "      <td>95</td>\n",
       "    </tr>\n",
       "    <tr>\n",
       "      <th>13</th>\n",
       "      <td>France</td>\n",
       "      <td>90</td>\n",
       "    </tr>\n",
       "    <tr>\n",
       "      <th>10</th>\n",
       "      <td>EIRE</td>\n",
       "      <td>44</td>\n",
       "    </tr>\n",
       "    <tr>\n",
       "      <th>31</th>\n",
       "      <td>Spain</td>\n",
       "      <td>31</td>\n",
       "    </tr>\n",
       "  </tbody>\n",
       "</table>\n",
       "</div>"
      ],
      "text/plain": [
       "           country  customer_id\n",
       "36  United Kingdom         7587\n",
       "14         Germany           95\n",
       "13          France           90\n",
       "10            EIRE           44\n",
       "31           Spain           31"
      ]
     },
     "execution_count": 22,
     "metadata": {},
     "output_type": "execute_result"
    }
   ],
   "source": [
    "df1[['customer_id', 'country']].drop_duplicates().groupby('country').count().reset_index().sort_values('customer_id', ascending=False).head()"
   ]
  },
  {
   "cell_type": "markdown",
   "id": "545d99e2",
   "metadata": {
    "papermill": {
     "duration": 0.043211,
     "end_time": "2022-08-22T14:30:29.919048",
     "exception": false,
     "start_time": "2022-08-22T14:30:29.875837",
     "status": "completed"
    },
    "tags": []
   },
   "source": [
    "# 2. Data Filtering "
   ]
  },
  {
   "cell_type": "code",
   "execution_count": 23,
   "id": "c3bc808a",
   "metadata": {
    "execution": {
     "iopub.execute_input": "2022-08-22T14:30:30.001050Z",
     "iopub.status.busy": "2022-08-22T14:30:30.000592Z",
     "iopub.status.idle": "2022-08-22T14:30:30.016051Z",
     "shell.execute_reply": "2022-08-22T14:30:30.015173Z"
    },
    "papermill": {
     "duration": 0.052924,
     "end_time": "2022-08-22T14:30:30.018473",
     "exception": false,
     "start_time": "2022-08-22T14:30:29.965549",
     "status": "completed"
    },
    "tags": []
   },
   "outputs": [],
   "source": [
    "df2 = df1.copy()"
   ]
  },
  {
   "cell_type": "code",
   "execution_count": 24,
   "id": "5a05aacd",
   "metadata": {
    "execution": {
     "iopub.execute_input": "2022-08-22T14:30:30.085073Z",
     "iopub.status.busy": "2022-08-22T14:30:30.084252Z",
     "iopub.status.idle": "2022-08-22T14:30:30.412196Z",
     "shell.execute_reply": "2022-08-22T14:30:30.411278Z"
    },
    "papermill": {
     "duration": 0.368977,
     "end_time": "2022-08-22T14:30:30.414709",
     "exception": false,
     "start_time": "2022-08-22T14:30:30.045732",
     "status": "completed"
    },
    "tags": []
   },
   "outputs": [],
   "source": [
    "# ==== Bad Users ====\n",
    "\n",
    "df2 = df2[~df2['customer_id'].isin([16446])]  # Maior número de devolução do conjunto de dados\n",
    "df2 = df2[~df2['customer_id'].isin([17548, 16546, 15823, 13672, 12346, 13762, 18268, 14557, 16878, 13364, 14792, 12607, 12454, 18274, 12558])]  # itens devolvidos >= itens comprados\n",
    "\n",
    "# ==== Cat Attributes ====\n",
    "\n",
    "# Stock Code != ['POST', 'D', 'M', 'PADS', 'DOT', 'CRUK']\n",
    "df2 = df2[~df2['stock_code'].isin(['POST', 'D', 'DOT', 'M', 'S', 'AMAZONFEE', 'm', 'DCGSSBOY', 'DCGSSGIRL', 'PADS', 'B', 'CRUK'])]\n",
    "\n",
    "# Description\n",
    "df2 = df2.drop(columns = 'description', axis = 1)\n",
    "\n",
    "# Country\n",
    "df2 = df2[~df2['country'].isin(['European Community', 'Unspecified'])]\n",
    "\n",
    "\n",
    "# ==== Num Attributes ====\n",
    "\n",
    "# Unit Price > 0.04 \n",
    "df2 = df2.loc[df2['unit_price'] >= 0.04, :]\n",
    "\n",
    "# Quantity\n",
    "df_returns = df2.loc[df2['quantity']<0, :]\n",
    "df_purchases = df2.loc[df2['quantity']>0, :]\n"
   ]
  },
  {
   "cell_type": "markdown",
   "id": "2fc5bff3",
   "metadata": {
    "papermill": {
     "duration": 0.047531,
     "end_time": "2022-08-22T14:30:30.488026",
     "exception": false,
     "start_time": "2022-08-22T14:30:30.440495",
     "status": "completed"
    },
    "tags": []
   },
   "source": [
    "# 3. Feature Engineering"
   ]
  },
  {
   "cell_type": "markdown",
   "id": "d756bfa8",
   "metadata": {
    "papermill": {
     "duration": 0.027541,
     "end_time": "2022-08-22T14:30:30.561335",
     "exception": false,
     "start_time": "2022-08-22T14:30:30.533794",
     "status": "completed"
    },
    "tags": []
   },
   "source": [
    "### 3.0 Dataset"
   ]
  },
  {
   "cell_type": "code",
   "execution_count": 25,
   "id": "c0072d05",
   "metadata": {
    "execution": {
     "iopub.execute_input": "2022-08-22T14:30:30.631573Z",
     "iopub.status.busy": "2022-08-22T14:30:30.631125Z",
     "iopub.status.idle": "2022-08-22T14:30:30.686338Z",
     "shell.execute_reply": "2022-08-22T14:30:30.684528Z"
    },
    "papermill": {
     "duration": 0.103729,
     "end_time": "2022-08-22T14:30:30.689100",
     "exception": false,
     "start_time": "2022-08-22T14:30:30.585371",
     "status": "completed"
    },
    "tags": []
   },
   "outputs": [],
   "source": [
    "df3 = df2.copy()\n",
    "\n",
    "# Data Reference\n",
    "df_ref = df3.drop (['invoice_no', 'stock_code',\n",
    "                    'quantity', 'invoice_date', 'unit_price',\n",
    "                    'country'], axis=1).drop_duplicates(ignore_index=True)"
   ]
  },
  {
   "cell_type": "markdown",
   "id": "d0f6ce00",
   "metadata": {
    "papermill": {
     "duration": 0.043015,
     "end_time": "2022-08-22T14:30:30.757079",
     "exception": false,
     "start_time": "2022-08-22T14:30:30.714064",
     "status": "completed"
    },
    "tags": []
   },
   "source": [
    "### 3.1 Gross Revenue"
   ]
  },
  {
   "cell_type": "code",
   "execution_count": 26,
   "id": "d9f1e8db",
   "metadata": {
    "execution": {
     "iopub.execute_input": "2022-08-22T14:30:30.834989Z",
     "iopub.status.busy": "2022-08-22T14:30:30.834537Z",
     "iopub.status.idle": "2022-08-22T14:30:30.873876Z",
     "shell.execute_reply": "2022-08-22T14:30:30.872797Z"
    },
    "papermill": {
     "duration": 0.073464,
     "end_time": "2022-08-22T14:30:30.876152",
     "exception": false,
     "start_time": "2022-08-22T14:30:30.802688",
     "status": "completed"
    },
    "tags": []
   },
   "outputs": [
    {
     "data": {
      "text/plain": [
       "customer_id       0\n",
       "gross_revenue    91\n",
       "dtype: int64"
      ]
     },
     "execution_count": 26,
     "metadata": {},
     "output_type": "execute_result"
    }
   ],
   "source": [
    "# Monetary (Gross Revenue)\n",
    "df_purchases['gross_revenue'] = df_purchases['quantity'] * df_purchases['unit_price']\n",
    "df_monetary = df_purchases[['customer_id', 'gross_revenue']].groupby('customer_id').sum().reset_index()\n",
    "df_ref = pd.merge (df_ref, df_monetary, on = 'customer_id', how = 'left')\n",
    "\n",
    "df_ref.isna().sum()"
   ]
  },
  {
   "cell_type": "markdown",
   "id": "165a923d",
   "metadata": {
    "papermill": {
     "duration": 0.040006,
     "end_time": "2022-08-22T14:30:30.941317",
     "exception": false,
     "start_time": "2022-08-22T14:30:30.901311",
     "status": "completed"
    },
    "tags": []
   },
   "source": [
    "### 3.2 Recency - Day from last purchase"
   ]
  },
  {
   "cell_type": "code",
   "execution_count": 27,
   "id": "8b5abeb0",
   "metadata": {
    "execution": {
     "iopub.execute_input": "2022-08-22T14:30:31.023336Z",
     "iopub.status.busy": "2022-08-22T14:30:31.022928Z",
     "iopub.status.idle": "2022-08-22T14:30:31.060219Z",
     "shell.execute_reply": "2022-08-22T14:30:31.058899Z"
    },
    "papermill": {
     "duration": 0.075852,
     "end_time": "2022-08-22T14:30:31.063277",
     "exception": false,
     "start_time": "2022-08-22T14:30:30.987425",
     "status": "completed"
    },
    "tags": []
   },
   "outputs": [
    {
     "data": {
      "text/plain": [
       "customer_id       0\n",
       "gross_revenue    91\n",
       "recency_days     91\n",
       "dtype: int64"
      ]
     },
     "execution_count": 27,
     "metadata": {},
     "output_type": "execute_result"
    }
   ],
   "source": [
    "# Recency\n",
    "df_recency = df_purchases[['customer_id', 'invoice_date']].groupby('customer_id').max().reset_index()\n",
    "df_recency['recency_days'] = (df_purchases['invoice_date'].max() - df_recency['invoice_date']).dt.days\n",
    "df_recency = df_recency[['customer_id', 'recency_days']].copy()\n",
    "df_ref = pd.merge(df_ref, df_recency, on = 'customer_id', how = 'left')\n",
    "\n",
    "df_ref.isna().sum()"
   ]
  },
  {
   "cell_type": "markdown",
   "id": "eaed1680",
   "metadata": {
    "papermill": {
     "duration": 0.03907,
     "end_time": "2022-08-22T14:30:31.129866",
     "exception": false,
     "start_time": "2022-08-22T14:30:31.090796",
     "status": "completed"
    },
    "tags": []
   },
   "source": [
    "### 3.3 Quantity of purchases"
   ]
  },
  {
   "cell_type": "code",
   "execution_count": 28,
   "id": "515fa927",
   "metadata": {
    "execution": {
     "iopub.execute_input": "2022-08-22T14:30:31.219118Z",
     "iopub.status.busy": "2022-08-22T14:30:31.218737Z",
     "iopub.status.idle": "2022-08-22T14:30:31.298118Z",
     "shell.execute_reply": "2022-08-22T14:30:31.297118Z"
    },
    "papermill": {
     "duration": 0.124724,
     "end_time": "2022-08-22T14:30:31.300583",
     "exception": false,
     "start_time": "2022-08-22T14:30:31.175859",
     "status": "completed"
    },
    "tags": []
   },
   "outputs": [],
   "source": [
    "df_count = (df_purchases[['customer_id', 'invoice_no']].drop_duplicates()\n",
    "                                                       .groupby('customer_id')\n",
    "                                                       .count()\n",
    "                                                       .reset_index()\n",
    "                                                       .rename(columns={'invoice_no':'purchases_no'}))\n",
    "\n",
    "df_ref = pd.merge(df_ref, df_count, on = 'customer_id', how = 'left')"
   ]
  },
  {
   "cell_type": "markdown",
   "id": "a30116c3",
   "metadata": {
    "papermill": {
     "duration": 0.039789,
     "end_time": "2022-08-22T14:30:31.366491",
     "exception": false,
     "start_time": "2022-08-22T14:30:31.326702",
     "status": "completed"
    },
    "tags": []
   },
   "source": [
    "### 3.4 Quantity of diferent products purchased"
   ]
  },
  {
   "cell_type": "code",
   "execution_count": 29,
   "id": "cbe64c76",
   "metadata": {
    "execution": {
     "iopub.execute_input": "2022-08-22T14:30:31.443683Z",
     "iopub.status.busy": "2022-08-22T14:30:31.443259Z",
     "iopub.status.idle": "2022-08-22T14:30:31.571091Z",
     "shell.execute_reply": "2022-08-22T14:30:31.570198Z"
    },
    "papermill": {
     "duration": 0.161075,
     "end_time": "2022-08-22T14:30:31.573270",
     "exception": false,
     "start_time": "2022-08-22T14:30:31.412195",
     "status": "completed"
    },
    "tags": []
   },
   "outputs": [
    {
     "data": {
      "text/plain": [
       "customer_id       0\n",
       "gross_revenue    91\n",
       "recency_days     91\n",
       "purchases_no     91\n",
       "products_no      91\n",
       "dtype: int64"
      ]
     },
     "execution_count": 29,
     "metadata": {},
     "output_type": "execute_result"
    }
   ],
   "source": [
    "df_prod = (df_purchases[['customer_id', 'stock_code']].groupby('customer_id')\n",
    "                                                      .count()\n",
    "                                                      .reset_index()\n",
    "                                                      .rename(columns={'stock_code':'products_no'}))\n",
    "\n",
    "df_ref = pd.merge(df_ref, df_prod, on = 'customer_id', how = 'left')\n",
    "df_ref.isna().sum()"
   ]
  },
  {
   "cell_type": "markdown",
   "id": "cb3af269",
   "metadata": {
    "papermill": {
     "duration": 0.041612,
     "end_time": "2022-08-22T14:30:31.641272",
     "exception": false,
     "start_time": "2022-08-22T14:30:31.599660",
     "status": "completed"
    },
    "tags": []
   },
   "source": [
    "### 3.5 Quantity of items purchased\n"
   ]
  },
  {
   "cell_type": "code",
   "execution_count": 30,
   "id": "35e98d8c",
   "metadata": {
    "execution": {
     "iopub.execute_input": "2022-08-22T14:30:31.724116Z",
     "iopub.status.busy": "2022-08-22T14:30:31.723748Z",
     "iopub.status.idle": "2022-08-22T14:30:31.760764Z",
     "shell.execute_reply": "2022-08-22T14:30:31.759620Z"
    },
    "papermill": {
     "duration": 0.075333,
     "end_time": "2022-08-22T14:30:31.763143",
     "exception": false,
     "start_time": "2022-08-22T14:30:31.687810",
     "status": "completed"
    },
    "tags": []
   },
   "outputs": [
    {
     "data": {
      "text/plain": [
       "customer_id       0\n",
       "gross_revenue    91\n",
       "recency_days     91\n",
       "purchases_no     91\n",
       "products_no      91\n",
       "items_no         91\n",
       "dtype: int64"
      ]
     },
     "execution_count": 30,
     "metadata": {},
     "output_type": "execute_result"
    }
   ],
   "source": [
    "df_prod = (df_purchases[['customer_id', 'quantity']].groupby('customer_id')\n",
    "                                                    .sum()\n",
    "                                                    .reset_index()\n",
    "                                                    .rename(columns={'quantity':'items_no'}))\n",
    "\n",
    "df_ref = pd.merge(df_ref, df_prod, on = 'customer_id', how = 'left')\n",
    "df_ref.isna().sum()\n"
   ]
  },
  {
   "cell_type": "markdown",
   "id": "3f5a92a9",
   "metadata": {
    "papermill": {
     "duration": 0.041067,
     "end_time": "2022-08-22T14:30:31.830735",
     "exception": false,
     "start_time": "2022-08-22T14:30:31.789668",
     "status": "completed"
    },
    "tags": []
   },
   "source": [
    "### 3.6 Frequency Purchase"
   ]
  },
  {
   "cell_type": "code",
   "execution_count": 31,
   "id": "9d969575",
   "metadata": {
    "execution": {
     "iopub.execute_input": "2022-08-22T14:30:31.904674Z",
     "iopub.status.busy": "2022-08-22T14:30:31.904185Z",
     "iopub.status.idle": "2022-08-22T14:30:33.730803Z",
     "shell.execute_reply": "2022-08-22T14:30:33.729888Z"
    },
    "papermill": {
     "duration": 1.856735,
     "end_time": "2022-08-22T14:30:33.733242",
     "exception": false,
     "start_time": "2022-08-22T14:30:31.876507",
     "status": "completed"
    },
    "tags": []
   },
   "outputs": [
    {
     "data": {
      "text/plain": [
       "customer_id       0\n",
       "gross_revenue    91\n",
       "recency_days     91\n",
       "purchases_no     91\n",
       "products_no      91\n",
       "items_no         91\n",
       "frequency        91\n",
       "dtype: int64"
      ]
     },
     "execution_count": 31,
     "metadata": {},
     "output_type": "execute_result"
    }
   ],
   "source": [
    "df_aux = (df_purchases[['customer_id', 'invoice_no', 'invoice_date']].drop_duplicates()\n",
    "                                                                     .groupby('customer_id')\n",
    "                                                                     .agg(max_    = ('invoice_date', 'max'),\n",
    "                                                                          min_    = ('invoice_date', 'min'),\n",
    "                                                                          days_   = ('invoice_date', lambda x: ((x.max() - x.min()).days) + 1),\n",
    "                                                                          buy_    = ('invoice_no', 'count') ) ).reset_index()\n",
    "\n",
    "df_aux['frequency'] = df_aux[['buy_', 'days_']].apply(lambda x: x['buy_'] / x['days_'] if x['days_'] != 0 else 0, axis = 1)\n",
    "\n",
    "# Merge\n",
    "df_ref = pd.merge(df_ref, df_aux[['customer_id', 'frequency']], on = 'customer_id', how = 'left')\n",
    "df_ref.isna().sum()"
   ]
  },
  {
   "cell_type": "markdown",
   "id": "c7710d9b",
   "metadata": {
    "papermill": {
     "duration": 0.041599,
     "end_time": "2022-08-22T14:30:33.801360",
     "exception": false,
     "start_time": "2022-08-22T14:30:33.759761",
     "status": "completed"
    },
    "tags": []
   },
   "source": [
    "### 3.7 Returns"
   ]
  },
  {
   "cell_type": "code",
   "execution_count": 32,
   "id": "a56e7c5e",
   "metadata": {
    "execution": {
     "iopub.execute_input": "2022-08-22T14:30:33.888119Z",
     "iopub.status.busy": "2022-08-22T14:30:33.887333Z",
     "iopub.status.idle": "2022-08-22T14:30:33.903736Z",
     "shell.execute_reply": "2022-08-22T14:30:33.902847Z"
    },
    "papermill": {
     "duration": 0.057498,
     "end_time": "2022-08-22T14:30:33.906117",
     "exception": false,
     "start_time": "2022-08-22T14:30:33.848619",
     "status": "completed"
    },
    "tags": []
   },
   "outputs": [
    {
     "data": {
      "text/html": [
       "<div>\n",
       "<style scoped>\n",
       "    .dataframe tbody tr th:only-of-type {\n",
       "        vertical-align: middle;\n",
       "    }\n",
       "\n",
       "    .dataframe tbody tr th {\n",
       "        vertical-align: top;\n",
       "    }\n",
       "\n",
       "    .dataframe thead th {\n",
       "        text-align: right;\n",
       "    }\n",
       "</style>\n",
       "<table border=\"1\" class=\"dataframe\">\n",
       "  <thead>\n",
       "    <tr style=\"text-align: right;\">\n",
       "      <th></th>\n",
       "      <th>invoice_no</th>\n",
       "      <th>stock_code</th>\n",
       "      <th>quantity</th>\n",
       "      <th>invoice_date</th>\n",
       "      <th>unit_price</th>\n",
       "      <th>country</th>\n",
       "      <th>customer_id</th>\n",
       "    </tr>\n",
       "  </thead>\n",
       "  <tbody>\n",
       "    <tr>\n",
       "      <th>154</th>\n",
       "      <td>C536383</td>\n",
       "      <td>35004C</td>\n",
       "      <td>-1</td>\n",
       "      <td>2010-12-01</td>\n",
       "      <td>4.65</td>\n",
       "      <td>United Kingdom</td>\n",
       "      <td>15311</td>\n",
       "    </tr>\n",
       "    <tr>\n",
       "      <th>939</th>\n",
       "      <td>C536506</td>\n",
       "      <td>22960</td>\n",
       "      <td>-6</td>\n",
       "      <td>2010-12-01</td>\n",
       "      <td>4.25</td>\n",
       "      <td>United Kingdom</td>\n",
       "      <td>17897</td>\n",
       "    </tr>\n",
       "    <tr>\n",
       "      <th>1441</th>\n",
       "      <td>C536543</td>\n",
       "      <td>22632</td>\n",
       "      <td>-1</td>\n",
       "      <td>2010-12-01</td>\n",
       "      <td>2.10</td>\n",
       "      <td>United Kingdom</td>\n",
       "      <td>17841</td>\n",
       "    </tr>\n",
       "    <tr>\n",
       "      <th>1442</th>\n",
       "      <td>C536543</td>\n",
       "      <td>22355</td>\n",
       "      <td>-2</td>\n",
       "      <td>2010-12-01</td>\n",
       "      <td>0.85</td>\n",
       "      <td>United Kingdom</td>\n",
       "      <td>17841</td>\n",
       "    </tr>\n",
       "    <tr>\n",
       "      <th>1973</th>\n",
       "      <td>C536548</td>\n",
       "      <td>22244</td>\n",
       "      <td>-4</td>\n",
       "      <td>2010-12-01</td>\n",
       "      <td>1.95</td>\n",
       "      <td>Germany</td>\n",
       "      <td>12472</td>\n",
       "    </tr>\n",
       "  </tbody>\n",
       "</table>\n",
       "</div>"
      ],
      "text/plain": [
       "     invoice_no stock_code  quantity invoice_date  unit_price         country  \\\n",
       "154     C536383     35004C        -1   2010-12-01        4.65  United Kingdom   \n",
       "939     C536506      22960        -6   2010-12-01        4.25  United Kingdom   \n",
       "1441    C536543      22632        -1   2010-12-01        2.10  United Kingdom   \n",
       "1442    C536543      22355        -2   2010-12-01        0.85  United Kingdom   \n",
       "1973    C536548      22244        -4   2010-12-01        1.95         Germany   \n",
       "\n",
       "      customer_id  \n",
       "154         15311  \n",
       "939         17897  \n",
       "1441        17841  \n",
       "1442        17841  \n",
       "1973        12472  "
      ]
     },
     "execution_count": 32,
     "metadata": {},
     "output_type": "execute_result"
    }
   ],
   "source": [
    "df_returns.head()"
   ]
  },
  {
   "cell_type": "code",
   "execution_count": 33,
   "id": "db864f5a",
   "metadata": {
    "execution": {
     "iopub.execute_input": "2022-08-22T14:30:33.977481Z",
     "iopub.status.busy": "2022-08-22T14:30:33.976823Z",
     "iopub.status.idle": "2022-08-22T14:30:34.007692Z",
     "shell.execute_reply": "2022-08-22T14:30:34.006474Z"
    },
    "papermill": {
     "duration": 0.079118,
     "end_time": "2022-08-22T14:30:34.010133",
     "exception": false,
     "start_time": "2022-08-22T14:30:33.931015",
     "status": "completed"
    },
    "tags": []
   },
   "outputs": [
    {
     "data": {
      "text/plain": [
       "customer_id       0\n",
       "gross_revenue    91\n",
       "recency_days     91\n",
       "purchases_no     91\n",
       "products_no      91\n",
       "items_no         91\n",
       "frequency        91\n",
       "returns_no        0\n",
       "dtype: int64"
      ]
     },
     "execution_count": 33,
     "metadata": {},
     "output_type": "execute_result"
    }
   ],
   "source": [
    "# Return Number\n",
    "df_returns = df_returns[['customer_id', 'quantity']].groupby('customer_id').sum().reset_index().rename(columns={'quantity' : 'returns_no'})\n",
    "df_returns['returns_no'] = df_returns['returns_no'] * -1\n",
    "\n",
    "df_ref = pd.merge(df_ref, df_returns, how = 'left', on='customer_id')\n",
    "df_ref.loc[df_ref['returns_no'].isna(), 'returns_no'] = 0\n",
    "\n",
    "df_ref.isna().sum()"
   ]
  },
  {
   "cell_type": "markdown",
   "id": "603fa428",
   "metadata": {
    "papermill": {
     "duration": 0.040333,
     "end_time": "2022-08-22T14:30:34.091806",
     "exception": false,
     "start_time": "2022-08-22T14:30:34.051473",
     "status": "completed"
    },
    "tags": []
   },
   "source": [
    "### 3.8 Satisfaction Rate"
   ]
  },
  {
   "cell_type": "code",
   "execution_count": 34,
   "id": "e12e4279",
   "metadata": {
    "execution": {
     "iopub.execute_input": "2022-08-22T14:30:34.178012Z",
     "iopub.status.busy": "2022-08-22T14:30:34.177635Z",
     "iopub.status.idle": "2022-08-22T14:30:34.183205Z",
     "shell.execute_reply": "2022-08-22T14:30:34.182015Z"
    },
    "papermill": {
     "duration": 0.044447,
     "end_time": "2022-08-22T14:30:34.185926",
     "exception": false,
     "start_time": "2022-08-22T14:30:34.141479",
     "status": "completed"
    },
    "tags": []
   },
   "outputs": [],
   "source": [
    "df_ref['satisfaction_rate'] = 1 - df_ref['returns_no'] / df_ref['items_no']"
   ]
  },
  {
   "cell_type": "code",
   "execution_count": 35,
   "id": "3585c05d",
   "metadata": {
    "execution": {
     "iopub.execute_input": "2022-08-22T14:30:34.260975Z",
     "iopub.status.busy": "2022-08-22T14:30:34.260045Z",
     "iopub.status.idle": "2022-08-22T14:30:34.272703Z",
     "shell.execute_reply": "2022-08-22T14:30:34.271533Z"
    },
    "papermill": {
     "duration": 0.05856,
     "end_time": "2022-08-22T14:30:34.275390",
     "exception": false,
     "start_time": "2022-08-22T14:30:34.216830",
     "status": "completed"
    },
    "tags": []
   },
   "outputs": [
    {
     "data": {
      "text/plain": [
       "customer_id           0\n",
       "gross_revenue        91\n",
       "recency_days         91\n",
       "purchases_no         91\n",
       "products_no          91\n",
       "items_no             91\n",
       "frequency            91\n",
       "returns_no            0\n",
       "satisfaction_rate    91\n",
       "dtype: int64"
      ]
     },
     "execution_count": 35,
     "metadata": {},
     "output_type": "execute_result"
    }
   ],
   "source": [
    "df_ref.isna().sum()"
   ]
  },
  {
   "cell_type": "markdown",
   "id": "7b50fd7b",
   "metadata": {
    "papermill": {
     "duration": 0.081071,
     "end_time": "2022-08-22T14:30:34.411282",
     "exception": false,
     "start_time": "2022-08-22T14:30:34.330211",
     "status": "completed"
    },
    "tags": []
   },
   "source": [
    "# 4. Exploratory Data Analysis"
   ]
  },
  {
   "cell_type": "code",
   "execution_count": 36,
   "id": "e2986a2c",
   "metadata": {
    "execution": {
     "iopub.execute_input": "2022-08-22T14:30:34.528332Z",
     "iopub.status.busy": "2022-08-22T14:30:34.527484Z",
     "iopub.status.idle": "2022-08-22T14:30:34.544805Z",
     "shell.execute_reply": "2022-08-22T14:30:34.543541Z"
    },
    "papermill": {
     "duration": 0.06414,
     "end_time": "2022-08-22T14:30:34.548335",
     "exception": false,
     "start_time": "2022-08-22T14:30:34.484195",
     "status": "completed"
    },
    "tags": []
   },
   "outputs": [
    {
     "data": {
      "text/plain": [
       "customer_id          0\n",
       "gross_revenue        0\n",
       "recency_days         0\n",
       "purchases_no         0\n",
       "products_no          0\n",
       "items_no             0\n",
       "frequency            0\n",
       "returns_no           0\n",
       "satisfaction_rate    0\n",
       "dtype: int64"
      ]
     },
     "execution_count": 36,
     "metadata": {},
     "output_type": "execute_result"
    }
   ],
   "source": [
    "df4 = df_ref.dropna().copy()\n",
    "df4.isna().sum()"
   ]
  },
  {
   "cell_type": "code",
   "execution_count": 37,
   "id": "e8718751",
   "metadata": {
    "execution": {
     "iopub.execute_input": "2022-08-22T14:30:34.629559Z",
     "iopub.status.busy": "2022-08-22T14:30:34.629118Z",
     "iopub.status.idle": "2022-08-22T14:30:34.635672Z",
     "shell.execute_reply": "2022-08-22T14:30:34.634361Z"
    },
    "papermill": {
     "duration": 0.052829,
     "end_time": "2022-08-22T14:30:34.639971",
     "exception": false,
     "start_time": "2022-08-22T14:30:34.587142",
     "status": "completed"
    },
    "tags": []
   },
   "outputs": [
    {
     "name": "stdout",
     "output_type": "stream",
     "text": [
      "(5771, 9)\n",
      "(5680, 9)\n"
     ]
    }
   ],
   "source": [
    "print(df_ref.shape)\n",
    "print(df4.shape)"
   ]
  },
  {
   "cell_type": "markdown",
   "id": "e2fbf0fb",
   "metadata": {
    "papermill": {
     "duration": 0.040071,
     "end_time": "2022-08-22T14:30:34.729672",
     "exception": false,
     "start_time": "2022-08-22T14:30:34.689601",
     "status": "completed"
    },
    "tags": []
   },
   "source": [
    "### 4.3 Data Space Study "
   ]
  },
  {
   "cell_type": "markdown",
   "id": "41fad276",
   "metadata": {
    "papermill": {
     "duration": 0.044511,
     "end_time": "2022-08-22T14:30:34.822825",
     "exception": false,
     "start_time": "2022-08-22T14:30:34.778314",
     "status": "completed"
    },
    "tags": []
   },
   "source": [
    "#### 4.3.0 Data Preparation"
   ]
  },
  {
   "cell_type": "code",
   "execution_count": 38,
   "id": "9d28677d",
   "metadata": {
    "execution": {
     "iopub.execute_input": "2022-08-22T14:30:34.897123Z",
     "iopub.status.busy": "2022-08-22T14:30:34.896590Z",
     "iopub.status.idle": "2022-08-22T14:30:34.904308Z",
     "shell.execute_reply": "2022-08-22T14:30:34.902994Z"
    },
    "papermill": {
     "duration": 0.057639,
     "end_time": "2022-08-22T14:30:34.907988",
     "exception": false,
     "start_time": "2022-08-22T14:30:34.850349",
     "status": "completed"
    },
    "tags": []
   },
   "outputs": [],
   "source": [
    "df43 = df4.drop(columns = ['customer_id', 'returns_no'], axis=1).copy()"
   ]
  },
  {
   "cell_type": "code",
   "execution_count": 39,
   "id": "d5f34b23",
   "metadata": {
    "execution": {
     "iopub.execute_input": "2022-08-22T14:30:34.984833Z",
     "iopub.status.busy": "2022-08-22T14:30:34.984397Z",
     "iopub.status.idle": "2022-08-22T14:30:35.019922Z",
     "shell.execute_reply": "2022-08-22T14:30:35.018999Z"
    },
    "papermill": {
     "duration": 0.068007,
     "end_time": "2022-08-22T14:30:35.022735",
     "exception": false,
     "start_time": "2022-08-22T14:30:34.954728",
     "status": "completed"
    },
    "tags": []
   },
   "outputs": [],
   "source": [
    "mm = pp.MinMaxScaler()\n",
    "\n",
    "df43['gross_revenue']               = mm.fit_transform(df43[['gross_revenue']])\n",
    "df43['recency_days']                = mm.fit_transform(df43[['recency_days']])\n",
    "df43['purchases_no']                = mm.fit_transform(df43[['purchases_no']])\n",
    "df43['products_no']                = mm.fit_transform(df43[['products_no']])\n",
    "df43['items_no']                   = mm.fit_transform(df43[['items_no']])\n",
    "df43['frequency']                   = mm.fit_transform(df43[['frequency']])\n",
    "df43['satisfaction_rate']                 = mm.fit_transform(df43[['satisfaction_rate']])\n",
    "\n",
    "#df43['returns_no']                     = mm.fit_transform(df43[['returns_no']])\n"
   ]
  },
  {
   "cell_type": "code",
   "execution_count": 40,
   "id": "769f68a2",
   "metadata": {
    "execution": {
     "iopub.execute_input": "2022-08-22T14:30:35.095821Z",
     "iopub.status.busy": "2022-08-22T14:30:35.095163Z",
     "iopub.status.idle": "2022-08-22T14:30:35.117394Z",
     "shell.execute_reply": "2022-08-22T14:30:35.116059Z"
    },
    "papermill": {
     "duration": 0.070907,
     "end_time": "2022-08-22T14:30:35.120715",
     "exception": false,
     "start_time": "2022-08-22T14:30:35.049808",
     "status": "completed"
    },
    "tags": []
   },
   "outputs": [
    {
     "data": {
      "text/html": [
       "<div>\n",
       "<style scoped>\n",
       "    .dataframe tbody tr th:only-of-type {\n",
       "        vertical-align: middle;\n",
       "    }\n",
       "\n",
       "    .dataframe tbody tr th {\n",
       "        vertical-align: top;\n",
       "    }\n",
       "\n",
       "    .dataframe thead th {\n",
       "        text-align: right;\n",
       "    }\n",
       "</style>\n",
       "<table border=\"1\" class=\"dataframe\">\n",
       "  <thead>\n",
       "    <tr style=\"text-align: right;\">\n",
       "      <th></th>\n",
       "      <th>gross_revenue</th>\n",
       "      <th>recency_days</th>\n",
       "      <th>purchases_no</th>\n",
       "      <th>products_no</th>\n",
       "      <th>items_no</th>\n",
       "      <th>frequency</th>\n",
       "      <th>satisfaction_rate</th>\n",
       "    </tr>\n",
       "  </thead>\n",
       "  <tbody>\n",
       "    <tr>\n",
       "      <th>0</th>\n",
       "      <td>0.019312</td>\n",
       "      <td>0.997319</td>\n",
       "      <td>0.160976</td>\n",
       "      <td>0.037770</td>\n",
       "      <td>0.008799</td>\n",
       "      <td>1.000000</td>\n",
       "      <td>0.976598</td>\n",
       "    </tr>\n",
       "    <tr>\n",
       "      <th>1</th>\n",
       "      <td>0.011579</td>\n",
       "      <td>0.150134</td>\n",
       "      <td>0.039024</td>\n",
       "      <td>0.021692</td>\n",
       "      <td>0.007056</td>\n",
       "      <td>0.001345</td>\n",
       "      <td>0.974470</td>\n",
       "    </tr>\n",
       "    <tr>\n",
       "      <th>2</th>\n",
       "      <td>0.024020</td>\n",
       "      <td>0.005362</td>\n",
       "      <td>0.068293</td>\n",
       "      <td>0.029476</td>\n",
       "      <td>0.025538</td>\n",
       "      <td>0.002052</td>\n",
       "      <td>0.989918</td>\n",
       "    </tr>\n",
       "    <tr>\n",
       "      <th>3</th>\n",
       "      <td>0.003396</td>\n",
       "      <td>0.254692</td>\n",
       "      <td>0.019512</td>\n",
       "      <td>0.003445</td>\n",
       "      <td>0.002225</td>\n",
       "      <td>0.000734</td>\n",
       "      <td>1.000000</td>\n",
       "    </tr>\n",
       "    <tr>\n",
       "      <th>4</th>\n",
       "      <td>0.003137</td>\n",
       "      <td>0.892761</td>\n",
       "      <td>0.009756</td>\n",
       "      <td>0.000255</td>\n",
       "      <td>0.000401</td>\n",
       "      <td>0.003985</td>\n",
       "      <td>0.721181</td>\n",
       "    </tr>\n",
       "  </tbody>\n",
       "</table>\n",
       "</div>"
      ],
      "text/plain": [
       "   gross_revenue  recency_days  purchases_no  products_no  items_no  \\\n",
       "0       0.019312      0.997319      0.160976     0.037770  0.008799   \n",
       "1       0.011579      0.150134      0.039024     0.021692  0.007056   \n",
       "2       0.024020      0.005362      0.068293     0.029476  0.025538   \n",
       "3       0.003396      0.254692      0.019512     0.003445  0.002225   \n",
       "4       0.003137      0.892761      0.009756     0.000255  0.000401   \n",
       "\n",
       "   frequency  satisfaction_rate  \n",
       "0   1.000000           0.976598  \n",
       "1   0.001345           0.974470  \n",
       "2   0.002052           0.989918  \n",
       "3   0.000734           1.000000  \n",
       "4   0.003985           0.721181  "
      ]
     },
     "execution_count": 40,
     "metadata": {},
     "output_type": "execute_result"
    }
   ],
   "source": [
    "X = df43.copy()\n",
    "X.head()"
   ]
  },
  {
   "cell_type": "markdown",
   "id": "c49c791a",
   "metadata": {
    "papermill": {
     "duration": 0.02701,
     "end_time": "2022-08-22T14:30:35.187381",
     "exception": false,
     "start_time": "2022-08-22T14:30:35.160371",
     "status": "completed"
    },
    "tags": []
   },
   "source": [
    "#### 4.3.1 PCA"
   ]
  },
  {
   "cell_type": "code",
   "execution_count": 41,
   "id": "f384b946",
   "metadata": {
    "execution": {
     "iopub.execute_input": "2022-08-22T14:30:35.262044Z",
     "iopub.status.busy": "2022-08-22T14:30:35.261119Z",
     "iopub.status.idle": "2022-08-22T14:30:35.581995Z",
     "shell.execute_reply": "2022-08-22T14:30:35.580938Z"
    },
    "papermill": {
     "duration": 0.367655,
     "end_time": "2022-08-22T14:30:35.584165",
     "exception": false,
     "start_time": "2022-08-22T14:30:35.216510",
     "status": "completed"
    },
    "tags": []
   },
   "outputs": [
    {
     "data": {
      "image/png": "[encoded data removed]",
      "text/plain": [
       "<Figure size 432x288 with 1 Axes>"
      ]
     },
     "metadata": {
      "needs_background": "light"
     },
     "output_type": "display_data"
    }
   ],
   "source": [
    "pca = dd.PCA(n_components = X.shape[1])\n",
    "principal_components = pca.fit_transform(X)\n",
    "\n",
    "# plot explained variable\n",
    "features = range(pca.n_components_)\n",
    "plt.bar(features, pca.explained_variance_ratio_, color = 'black')\n",
    "\n",
    "# pca component\n",
    "df_pca = pd.DataFrame(principal_components)"
   ]
  },
  {
   "cell_type": "code",
   "execution_count": 42,
   "id": "c244561a",
   "metadata": {
    "execution": {
     "iopub.execute_input": "2022-08-22T14:30:35.639245Z",
     "iopub.status.busy": "2022-08-22T14:30:35.638860Z",
     "iopub.status.idle": "2022-08-22T14:30:35.859879Z",
     "shell.execute_reply": "2022-08-22T14:30:35.858816Z"
    },
    "papermill": {
     "duration": 0.251553,
     "end_time": "2022-08-22T14:30:35.862062",
     "exception": false,
     "start_time": "2022-08-22T14:30:35.610509",
     "status": "completed"
    },
    "tags": []
   },
   "outputs": [
    {
     "data": {
      "text/plain": [
       "<AxesSubplot:xlabel='0', ylabel='1'>"
      ]
     },
     "execution_count": 42,
     "metadata": {},
     "output_type": "execute_result"
    },
    {
     "data": {
      "image/png": "[encoded data removed]",
      "text/plain": [
       "<Figure size 432x288 with 1 Axes>"
      ]
     },
     "metadata": {
      "needs_background": "light"
     },
     "output_type": "display_data"
    }
   ],
   "source": [
    "sns.scatterplot(x=0, y=1, data = df_pca)"
   ]
  },
  {
   "cell_type": "markdown",
   "id": "3c326a6a",
   "metadata": {
    "papermill": {
     "duration": 0.048417,
     "end_time": "2022-08-22T14:30:35.938079",
     "exception": false,
     "start_time": "2022-08-22T14:30:35.889662",
     "status": "completed"
    },
    "tags": []
   },
   "source": [
    "#### 4.3.2 UMAP"
   ]
  },
  {
   "cell_type": "code",
   "execution_count": 43,
   "id": "e2b02d3c",
   "metadata": {
    "execution": {
     "iopub.execute_input": "2022-08-22T14:30:36.018184Z",
     "iopub.status.busy": "2022-08-22T14:30:36.017339Z"
    },
    "papermill": {
     "duration": 4.999244,
     "end_time": "2022-08-22T14:30:40.987047",
     "exception": false,
     "start_time": "2022-08-22T14:30:35.987803",
     "status": "completed"
    },
    "tags": []
   },
   "outputs": [],
   "source": [
    "reducer = umap.UMAP(random_state=42)\n",
    "\n",
    "embedding = reducer.fit_transform (X)\n",
    "\n",
    "# embedding\n",
    "df_umap = pd.DataFrame()\n",
    "df_umap['embedding_x'] = embedding[:, 0]\n",
    "df_umap['embedding_y'] = embedding[:, 1]\n",
    "\n",
    "# plto UMAP\n",
    "sns.scatterplot( x='embedding_x',\n",
    "                 y='embedding_y',\n",
    "                 data = df_umap)"
   ]
  },
  {
   "cell_type": "markdown",
   "id": "d00bdf79",
   "metadata": {
    "papermill": {
     "duration": null,
     "end_time": null,
     "exception": null,
     "start_time": null,
     "status": "completed"
    },
    "tags": []
   },
   "source": [
    "#### 4.3.3 t-SNE"
   ]
  },
  {
   "cell_type": "code",
   "execution_count": null,
   "id": "87346993",
   "metadata": {
    "papermill": {
     "duration": null,
     "end_time": null,
     "exception": null,
     "start_time": null,
     "status": "completed"
    },
    "tags": []
   },
   "outputs": [],
   "source": [
    "reducer = mn.TSNE(n_components = 2,\n",
    "                  n_jobs = -1,\n",
    "                  random_state=42)\n",
    "\n",
    "embedding = reducer.fit_transform (X)\n",
    "\n",
    "# embedding\n",
    "df_tsne = pd.DataFrame()\n",
    "df_tsne['embedding_x'] = embedding[:, 0]\n",
    "df_tsne['embedding_y'] = embedding[:, 1]\n",
    "\n",
    "# plto UMAP\n",
    "sns.scatterplot( x='embedding_x',\n",
    "                 y='embedding_y',\n",
    "                 data = df_tsne)"
   ]
  },
  {
   "cell_type": "markdown",
   "id": "1df86d47",
   "metadata": {
    "papermill": {
     "duration": null,
     "end_time": null,
     "exception": null,
     "start_time": null,
     "status": "completed"
    },
    "tags": []
   },
   "source": [
    "#### 4.3.4 Tree-Based Embedding"
   ]
  },
  {
   "cell_type": "code",
   "execution_count": null,
   "id": "b23c042d",
   "metadata": {
    "papermill": {
     "duration": null,
     "end_time": null,
     "exception": null,
     "start_time": null,
     "status": "completed"
    },
    "tags": []
   },
   "outputs": [],
   "source": [
    "# Training Dataset\n",
    "X = df43.drop(columns=['gross_revenue'], axis=1)\n",
    "y = df43['gross_revenue']\n",
    "\n",
    "# Model Definition\n",
    "rf_model = en.RandomForestRegressor(n_estimators=500, random_state=42)\n",
    "\n",
    "# Model Training\n",
    "rf_model.fit(X, y)                                                    \n",
    "\n",
    "# Leaf\n",
    "df_leaf = pd.DataFrame(rf_model.apply(X))                              "
   ]
  },
  {
   "cell_type": "code",
   "execution_count": null,
   "id": "bc9fde77",
   "metadata": {
    "papermill": {
     "duration": null,
     "end_time": null,
     "exception": null,
     "start_time": null,
     "status": "completed"
    },
    "tags": []
   },
   "outputs": [],
   "source": [
    "# Reduzer Dimensionality\n",
    "reducer = umap.UMAP(random_state=42)\n",
    "embedding = reducer.fit_transform (df_leaf)\n",
    "\n",
    "# embedding\n",
    "df_tree = pd.DataFrame()\n",
    "df_tree['embedding_x'] = embedding[:, 0]\n",
    "df_tree['embedding_y'] = embedding[:, 1]\n",
    "\n",
    "# plto UMAP\n",
    "sns.set(rc={'figure.figsize':(20,8)})\n",
    "sns.scatterplot( x='embedding_x',\n",
    "                 y='embedding_y',\n",
    "                 data = df_tree)"
   ]
  },
  {
   "cell_type": "markdown",
   "id": "97eea598",
   "metadata": {
    "papermill": {
     "duration": null,
     "end_time": null,
     "exception": null,
     "start_time": null,
     "status": "completed"
    },
    "tags": []
   },
   "source": [
    "# 5. Hyperparameter Fine-Tunning"
   ]
  },
  {
   "cell_type": "markdown",
   "id": "4d1adc6b",
   "metadata": {
    "papermill": {
     "duration": null,
     "end_time": null,
     "exception": null,
     "start_time": null,
     "status": "completed"
    },
    "tags": []
   },
   "source": [
    "#### 5.0 Cluster Range"
   ]
  },
  {
   "cell_type": "code",
   "execution_count": null,
   "id": "926c52e7",
   "metadata": {
    "papermill": {
     "duration": null,
     "end_time": null,
     "exception": null,
     "start_time": null,
     "status": "completed"
    },
    "tags": []
   },
   "outputs": [],
   "source": [
    "clusters = np.arange(2, 11, 1)"
   ]
  },
  {
   "cell_type": "markdown",
   "id": "926df013",
   "metadata": {
    "papermill": {
     "duration": null,
     "end_time": null,
     "exception": null,
     "start_time": null,
     "status": "completed"
    },
    "tags": []
   },
   "source": [
    "### 5.1 Tree Based Embedding"
   ]
  },
  {
   "cell_type": "code",
   "execution_count": null,
   "id": "8336320c",
   "metadata": {
    "papermill": {
     "duration": null,
     "end_time": null,
     "exception": null,
     "start_time": null,
     "status": "completed"
    },
    "tags": []
   },
   "outputs": [],
   "source": [
    "# Tree Based Embedding\n",
    "X = df_tree.copy()"
   ]
  },
  {
   "cell_type": "code",
   "execution_count": null,
   "id": "9c16b090",
   "metadata": {
    "papermill": {
     "duration": null,
     "end_time": null,
     "exception": null,
     "start_time": null,
     "status": "completed"
    },
    "tags": []
   },
   "outputs": [],
   "source": [
    "# KMeans\n",
    "kmeans_list = []\n",
    "for k in clusters:\n",
    "    # model definition\n",
    "    kmeans_model = c.KMeans(init='random',\n",
    "                            n_clusters=k,\n",
    "                            n_init=10,\n",
    "                            max_iter=300,\n",
    "                            random_state=42)\n",
    "\n",
    "    # model training\n",
    "    kmeans_model.fit(X)\n",
    "\n",
    "    # clustering\n",
    "    labels = kmeans_model.predict(X) \n",
    "\n",
    "    # model performance (SS)\n",
    "    sil = m.silhouette_score(X, labels, metric='euclidean')\n",
    "    kmeans_list.append(sil)\n",
    "\n",
    "# GMM\n",
    "gmm_list = []\n",
    "for k in clusters:\n",
    "    # model definition\n",
    "    gmm_model = mx.GaussianMixture(n_components=k)\n",
    "\n",
    "    # model training\n",
    "    gmm_model.fit(X)\n",
    "\n",
    "    # model predict\n",
    "    labels = gmm_model.predict(X)\n",
    "\n",
    "    # model performance\n",
    "    sil = m.silhouette_score(X, labels, metric='euclidean')\n",
    "    gmm_list.append(sil)\n",
    "\n",
    "# HC\n",
    "hc_list = []\n",
    "for k in clusters:\n",
    "    # model definition and training\n",
    "    hc_model = hc.linkage(X, 'ward')\n",
    "\n",
    "    # model predict\n",
    "    labels = hc.fcluster(hc_model, k, criterion='maxclust')\n",
    "\n",
    "    # model performance\n",
    "    sil = m.silhouette_score(X, labels, metric='euclidean')\n",
    "    hc_list.append(sil)"
   ]
  },
  {
   "cell_type": "code",
   "execution_count": null,
   "id": "b9de1107",
   "metadata": {
    "papermill": {
     "duration": null,
     "end_time": null,
     "exception": null,
     "start_time": null,
     "status": "completed"
    },
    "tags": []
   },
   "outputs": [],
   "source": [
    "# Tree Based Embedding Result\n",
    "df_results_tree = pd.DataFrame(\n",
    "    {'KMeans': kmeans_list,\n",
    "     'GMM': gmm_list,\n",
    "     'HC': hc_list}\n",
    "     ).T\n",
    "\n",
    "df_results_tree.columns = clusters\n",
    "df_results_tree = df_results_tree.style.highlight_max(color = 'blue', axis=1)\n",
    "\n",
    "df_results_tree"
   ]
  },
  {
   "cell_type": "markdown",
   "id": "b92db1c5",
   "metadata": {
    "papermill": {
     "duration": null,
     "end_time": null,
     "exception": null,
     "start_time": null,
     "status": "completed"
    },
    "tags": []
   },
   "source": [
    "### 5.2 UMAP Embedding"
   ]
  },
  {
   "cell_type": "code",
   "execution_count": null,
   "id": "9e78d307",
   "metadata": {
    "papermill": {
     "duration": null,
     "end_time": null,
     "exception": null,
     "start_time": null,
     "status": "completed"
    },
    "tags": []
   },
   "outputs": [],
   "source": [
    "# UMAP Embedding\n",
    "X = df_umap.copy()"
   ]
  },
  {
   "cell_type": "code",
   "execution_count": null,
   "id": "04dffba4",
   "metadata": {
    "papermill": {
     "duration": null,
     "end_time": null,
     "exception": null,
     "start_time": null,
     "status": "completed"
    },
    "tags": []
   },
   "outputs": [],
   "source": [
    "# KMeans\n",
    "kmeans_list = []\n",
    "for k in clusters:\n",
    "    # model definition\n",
    "    kmeans_model = c.KMeans(init='random',\n",
    "                            n_clusters=k,\n",
    "                            n_init=10,\n",
    "                            max_iter=300,\n",
    "                            random_state=42)\n",
    "\n",
    "    # model training\n",
    "    kmeans_model.fit(X)\n",
    "\n",
    "    # clustering\n",
    "    labels = kmeans_model.predict(X) \n",
    "\n",
    "    # model performance (SS)\n",
    "    sil = m.silhouette_score(X, labels, metric='euclidean')\n",
    "    kmeans_list.append(sil)\n",
    "\n",
    "# GMM\n",
    "gmm_list = []\n",
    "for k in clusters:\n",
    "    # model definition\n",
    "    gmm_model = mx.GaussianMixture(n_components=k)\n",
    "\n",
    "    # model training\n",
    "    gmm_model.fit(X)\n",
    "\n",
    "    # model predict\n",
    "    labels = gmm_model.predict(X)\n",
    "\n",
    "    # model performance\n",
    "    sil = m.silhouette_score(X, labels, metric='euclidean')\n",
    "    gmm_list.append(sil)\n",
    "\n",
    "# HC\n",
    "hc_list = []\n",
    "for k in clusters:\n",
    "    # model definition and training\n",
    "    hc_model = hc.linkage(X, 'ward')\n",
    "\n",
    "    # model predict\n",
    "    labels = hc.fcluster(hc_model, k, criterion='maxclust')\n",
    "\n",
    "    # model performance\n",
    "    sil = m.silhouette_score(X, labels, metric='euclidean')\n",
    "    hc_list.append(sil)"
   ]
  },
  {
   "cell_type": "code",
   "execution_count": null,
   "id": "ebe828a4",
   "metadata": {
    "papermill": {
     "duration": null,
     "end_time": null,
     "exception": null,
     "start_time": null,
     "status": "completed"
    },
    "tags": []
   },
   "outputs": [],
   "source": [
    "# UMAP Embedding Result\n",
    "df_results_umap = pd.DataFrame(\n",
    "    {'KMeans': kmeans_list,\n",
    "     'GMM': gmm_list,\n",
    "     'HC': hc_list}\n",
    "     ).T\n",
    "\n",
    "df_results_umap.columns = clusters\n",
    "df_results_umap = df_results_umap.style.highlight_max(color = 'blue', axis=1)\n",
    "\n",
    "df_results_umap"
   ]
  },
  {
   "cell_type": "markdown",
   "id": "43198a0c",
   "metadata": {
    "papermill": {
     "duration": null,
     "end_time": null,
     "exception": null,
     "start_time": null,
     "status": "completed"
    },
    "tags": []
   },
   "source": [
    "### 5.3 TSNE Embedding"
   ]
  },
  {
   "cell_type": "code",
   "execution_count": null,
   "id": "85df5ba3",
   "metadata": {
    "papermill": {
     "duration": null,
     "end_time": null,
     "exception": null,
     "start_time": null,
     "status": "completed"
    },
    "tags": []
   },
   "outputs": [],
   "source": [
    "# TSNE Embedding\n",
    "X = df_tsne.copy()"
   ]
  },
  {
   "cell_type": "code",
   "execution_count": null,
   "id": "b4778661",
   "metadata": {
    "papermill": {
     "duration": null,
     "end_time": null,
     "exception": null,
     "start_time": null,
     "status": "completed"
    },
    "tags": []
   },
   "outputs": [],
   "source": [
    "# KMeans\n",
    "kmeans_list = []\n",
    "for k in clusters:\n",
    "    # model definition\n",
    "    kmeans_model = c.KMeans(init='random',\n",
    "                            n_clusters=k,\n",
    "                            n_init=10,\n",
    "                            max_iter=300,\n",
    "                            random_state=42)\n",
    "\n",
    "    # model training\n",
    "    kmeans_model.fit(X)\n",
    "\n",
    "    # clustering\n",
    "    labels = kmeans_model.predict(X) \n",
    "\n",
    "    # model performance (SS)\n",
    "    sil = m.silhouette_score(X, labels, metric='euclidean')\n",
    "    kmeans_list.append(sil)\n",
    "\n",
    "# GMM\n",
    "gmm_list = []\n",
    "for k in clusters:\n",
    "    # model definition\n",
    "    gmm_model = mx.GaussianMixture(n_components=k)\n",
    "\n",
    "    # model training\n",
    "    gmm_model.fit(X)\n",
    "\n",
    "    # model predict\n",
    "    labels = gmm_model.predict(X)\n",
    "\n",
    "    # model performance\n",
    "    sil = m.silhouette_score(X, labels, metric='euclidean')\n",
    "    gmm_list.append(sil)\n",
    "\n",
    "# HC\n",
    "hc_list = []\n",
    "for k in clusters:\n",
    "    # model definition and training\n",
    "    hc_model = hc.linkage(X, 'ward')\n",
    "\n",
    "    # model predict\n",
    "    labels = hc.fcluster(hc_model, k, criterion='maxclust')\n",
    "\n",
    "    # model performance\n",
    "    sil = m.silhouette_score(X, labels, metric='euclidean')\n",
    "    hc_list.append(sil)"
   ]
  },
  {
   "cell_type": "code",
   "execution_count": null,
   "id": "3994687e",
   "metadata": {
    "papermill": {
     "duration": null,
     "end_time": null,
     "exception": null,
     "start_time": null,
     "status": "completed"
    },
    "tags": []
   },
   "outputs": [],
   "source": [
    "# TSNE Embedding Result\n",
    "df_results_tsne = pd.DataFrame(\n",
    "    {'KMeans': kmeans_list,\n",
    "     'GMM': gmm_list,\n",
    "     'HC': hc_list}\n",
    "     ).T\n",
    "\n",
    "df_results_tsne.columns = clusters\n",
    "df_results_tsne = df_results_tsne.style.highlight_max(color = 'blue', axis=1)"
   ]
  },
  {
   "cell_type": "markdown",
   "id": "d54c1322",
   "metadata": {
    "papermill": {
     "duration": null,
     "end_time": null,
     "exception": null,
     "start_time": null,
     "status": "completed"
    },
    "tags": []
   },
   "source": [
    "### 5.4 Summarize Results"
   ]
  },
  {
   "cell_type": "code",
   "execution_count": null,
   "id": "969a28e3",
   "metadata": {
    "papermill": {
     "duration": null,
     "end_time": null,
     "exception": null,
     "start_time": null,
     "status": "completed"
    },
    "tags": []
   },
   "outputs": [],
   "source": [
    "# TSNE Embedding Results\n",
    "df_results_tsne"
   ]
  },
  {
   "cell_type": "code",
   "execution_count": null,
   "id": "675049f3",
   "metadata": {
    "papermill": {
     "duration": null,
     "end_time": null,
     "exception": null,
     "start_time": null,
     "status": "completed"
    },
    "tags": []
   },
   "outputs": [],
   "source": [
    "# Tree Based Embedding Results\n",
    "df_results_tree"
   ]
  },
  {
   "cell_type": "code",
   "execution_count": null,
   "id": "cb050582",
   "metadata": {
    "papermill": {
     "duration": null,
     "end_time": null,
     "exception": null,
     "start_time": null,
     "status": "completed"
    },
    "tags": []
   },
   "outputs": [],
   "source": [
    "# UMAP Embedding Results\n",
    "df_results_umap"
   ]
  },
  {
   "cell_type": "code",
   "execution_count": null,
   "id": "e6d4e606",
   "metadata": {
    "papermill": {
     "duration": null,
     "end_time": null,
     "exception": null,
     "start_time": null,
     "status": "completed"
    },
    "tags": []
   },
   "outputs": [],
   "source": [
    "# Selecting the best embedding\n",
    "\n",
    "# UMAP Embedding\n",
    "X = df_umap.copy()"
   ]
  },
  {
   "cell_type": "markdown",
   "id": "97becb8a",
   "metadata": {
    "papermill": {
     "duration": null,
     "end_time": null,
     "exception": null,
     "start_time": null,
     "status": "completed"
    },
    "tags": []
   },
   "source": [
    "# 6. Machine Learning Modelling"
   ]
  },
  {
   "cell_type": "markdown",
   "id": "b6f48032",
   "metadata": {
    "papermill": {
     "duration": null,
     "end_time": null,
     "exception": null,
     "start_time": null,
     "status": "completed"
    },
    "tags": []
   },
   "source": [
    "### 6.1 K-Means"
   ]
  },
  {
   "cell_type": "code",
   "execution_count": null,
   "id": "239ccb3f",
   "metadata": {
    "papermill": {
     "duration": null,
     "end_time": null,
     "exception": null,
     "start_time": null,
     "status": "completed"
    },
    "tags": []
   },
   "outputs": [],
   "source": [
    "# model definition\n",
    "k=7\n",
    "kmeans = c.KMeans(init='random',\n",
    "                  n_clusters=k,\n",
    "                  n_init=10,\n",
    "                  max_iter=300,\n",
    "                  random_state=42)\n",
    "\n",
    "# model training\n",
    "kmeans.fit(X)\n",
    "\n",
    "# clustering\n",
    "labels = kmeans.labels_"
   ]
  },
  {
   "cell_type": "markdown",
   "id": "b08d2ff3",
   "metadata": {
    "papermill": {
     "duration": null,
     "end_time": null,
     "exception": null,
     "start_time": null,
     "status": "completed"
    },
    "tags": []
   },
   "source": [
    "### 6.2 GMM"
   ]
  },
  {
   "cell_type": "code",
   "execution_count": null,
   "id": "88a9f9a4",
   "metadata": {
    "papermill": {
     "duration": null,
     "end_time": null,
     "exception": null,
     "start_time": null,
     "status": "completed"
    },
    "tags": []
   },
   "outputs": [],
   "source": [
    "# k=8\n",
    "# # model definition\n",
    "# gmm_model = mx.GaussianMixture(n_components=k, n_init = 300, random_state=32)\n",
    "\n",
    "# # model training\n",
    "# gmm_model.fit(X)\n",
    "\n",
    "# # model predict\n",
    "# labels = gmm_model.predict(X)"
   ]
  },
  {
   "cell_type": "markdown",
   "id": "767083a1",
   "metadata": {
    "papermill": {
     "duration": null,
     "end_time": null,
     "exception": null,
     "start_time": null,
     "status": "completed"
    },
    "tags": []
   },
   "source": [
    "### 6.3 Cluster Validation"
   ]
  },
  {
   "cell_type": "code",
   "execution_count": null,
   "id": "a6a0870a",
   "metadata": {
    "papermill": {
     "duration": null,
     "end_time": null,
     "exception": null,
     "start_time": null,
     "status": "completed"
    },
    "tags": []
   },
   "outputs": [],
   "source": [
    "# WSS\n",
    "print(f'WSS Value:{kmeans.inertia_}')\n",
    "\n",
    "# SS\n",
    "print('SS Value: {}'.format(m.silhouette_score(X, labels, metric='euclidean')))"
   ]
  },
  {
   "cell_type": "markdown",
   "id": "81dec0eb",
   "metadata": {
    "papermill": {
     "duration": null,
     "end_time": null,
     "exception": null,
     "start_time": null,
     "status": "completed"
    },
    "tags": []
   },
   "source": [
    "# 7. Evaluation - Cluster Analysis"
   ]
  },
  {
   "cell_type": "markdown",
   "id": "d4cce567",
   "metadata": {
    "papermill": {
     "duration": null,
     "end_time": null,
     "exception": null,
     "start_time": null,
     "status": "completed"
    },
    "tags": []
   },
   "source": [
    "### 7.1 Visualization Inspection"
   ]
  },
  {
   "cell_type": "code",
   "execution_count": null,
   "id": "2383a9fe",
   "metadata": {
    "papermill": {
     "duration": null,
     "end_time": null,
     "exception": null,
     "start_time": null,
     "status": "completed"
    },
    "tags": []
   },
   "outputs": [],
   "source": [
    "df9 = X.copy()\n",
    "df9['cluster'] = labels\n",
    "df9.head()"
   ]
  },
  {
   "cell_type": "code",
   "execution_count": null,
   "id": "0f368c11",
   "metadata": {
    "papermill": {
     "duration": null,
     "end_time": null,
     "exception": null,
     "start_time": null,
     "status": "completed"
    },
    "tags": []
   },
   "outputs": [],
   "source": [
    "sns.scatterplot(x='embedding_x', y='embedding_y', hue='cluster', data=df9, palette='deep')"
   ]
  },
  {
   "cell_type": "markdown",
   "id": "bb5aa454",
   "metadata": {
    "papermill": {
     "duration": null,
     "end_time": null,
     "exception": null,
     "start_time": null,
     "status": "completed"
    },
    "tags": []
   },
   "source": [
    "### 7.2 Cluster Profile"
   ]
  },
  {
   "cell_type": "code",
   "execution_count": null,
   "id": "5fe88c8a",
   "metadata": {
    "papermill": {
     "duration": null,
     "end_time": null,
     "exception": null,
     "start_time": null,
     "status": "completed"
    },
    "tags": []
   },
   "outputs": [],
   "source": [
    "df92 = df4.copy()\n",
    "df92['cluster'] = labels\n",
    "\n",
    "# Change dtypes\n",
    "df92['recency_days']    = df92['recency_days'].astype(int)\n",
    "df92['purchases_no']    = df92['purchases_no'].astype(int)\n",
    "df92['products_no']     = df92['products_no'].astype(int)\n",
    "df92['items_no']        = df92['items_no'].astype(int)"
   ]
  },
  {
   "cell_type": "code",
   "execution_count": null,
   "id": "c2908998",
   "metadata": {
    "papermill": {
     "duration": null,
     "end_time": null,
     "exception": null,
     "start_time": null,
     "status": "completed"
    },
    "tags": []
   },
   "outputs": [],
   "source": [
    "# Number of customer\n",
    "df_cluster = df92[['customer_id', 'cluster']].groupby('cluster').count().reset_index()\n",
    "df_cluster['perc_customer'] = (df_cluster['customer_id'] / df_cluster['customer_id'].sum())*100\n",
    "\n",
    "# Avg gross revenue\n",
    "df_avg_gross_revenue = df92[['gross_revenue', 'cluster']].groupby('cluster').mean().reset_index()\n",
    "df_cluster = pd.merge(df_cluster, df_avg_gross_revenue, how='inner', on = 'cluster')\n",
    "\n",
    "# Avg recency\n",
    "df_avg_recency = df92[['recency_days', 'cluster']].groupby('cluster').mean().reset_index()\n",
    "df_cluster = pd.merge(df_cluster, df_avg_recency, how='inner', on='cluster')\n",
    "\n",
    "# Avg purchases_no\n",
    "df_avg_purchases_no = df92[['purchases_no', 'cluster']].groupby('cluster').mean().reset_index()\n",
    "df_cluster = pd.merge(df_cluster, df_avg_purchases_no, how='inner', on='cluster')\n",
    "\n",
    "# Avg products_no\n",
    "df_avg_products_no = df92[['products_no', 'cluster']].groupby('cluster').mean().reset_index()\n",
    "df_cluster = pd.merge(df_cluster, df_avg_products_no, how='inner', on='cluster')\n",
    "\n",
    "# Avg items_no\n",
    "df_avg_items_no = df92[['items_no', 'cluster']].groupby('cluster').mean().reset_index()\n",
    "df_cluster = pd.merge(df_cluster, df_avg_items_no, how='inner', on='cluster')\n",
    "\n",
    "# Avg frequency\n",
    "df_frequency = df92[['frequency', 'cluster']].groupby('cluster').mean().reset_index()\n",
    "df_cluster = pd.merge(df_cluster, df_frequency, how='inner', on='cluster')\n",
    "\n",
    "# Avg satisfaction_rate\n",
    "df_satisfaction_rate = df92[['satisfaction_rate', 'cluster']].groupby('cluster').mean().reset_index()\n",
    "df_cluster = pd.merge(df_cluster, df_satisfaction_rate, how='inner', on='cluster')\n",
    "\n",
    "\n",
    "df_cluster.sort_values('gross_revenue', ascending=False)\n"
   ]
  },
  {
   "cell_type": "markdown",
   "id": "a4629bb6",
   "metadata": {
    "papermill": {
     "duration": null,
     "end_time": null,
     "exception": null,
     "start_time": null,
     "status": "completed"
    },
    "tags": []
   },
   "source": [
    "- 1° (5): Insiders\n",
    "- 2° (0): Pre-Insider - aumentar qtde de produtos comprados (cross sell), aumentar a frequencia (cupom de desconto)\n",
    "- 3° (4): Cluster Even More Products\n",
    "- 4° (6): Cluster Spend Money\n",
    "- 5° (3): Improve Recency\n",
    "- 6° (2): Less then 1K\n",
    "- 7° (1): More then 3 months"
   ]
  },
  {
   "cell_type": "markdown",
   "id": "56ce1f80",
   "metadata": {
    "papermill": {
     "duration": null,
     "end_time": null,
     "exception": null,
     "start_time": null,
     "status": "completed"
    },
    "tags": []
   },
   "source": [
    "# 8. Deploy To Production"
   ]
  },
  {
   "cell_type": "markdown",
   "id": "f2ea30e0",
   "metadata": {
    "papermill": {
     "duration": null,
     "end_time": null,
     "exception": null,
     "start_time": null,
     "status": "completed"
    },
    "tags": []
   },
   "source": [
    "### 8.1 Insert into SQLite"
   ]
  },
  {
   "cell_type": "code",
   "execution_count": null,
   "id": "aa97cfea",
   "metadata": {
    "papermill": {
     "duration": null,
     "end_time": null,
     "exception": null,
     "start_time": null,
     "status": "completed"
    },
    "tags": []
   },
   "outputs": [],
   "source": [
    "df92.dtypes"
   ]
  },
  {
   "cell_type": "code",
   "execution_count": null,
   "id": "386c88f5",
   "metadata": {
    "papermill": {
     "duration": null,
     "end_time": null,
     "exception": null,
     "start_time": null,
     "status": "completed"
    },
    "tags": []
   },
   "outputs": [],
   "source": [
    "# Create Tabl\n",
    "# query_create_table_insiders = \"\"\" \n",
    "#     CREATE TABLE insiders(\n",
    "#         customer_id         INTEGER,\n",
    "#         gross_revenue       REAL,\n",
    "#         recency_days        INTEGER,\n",
    "#         purchases_no        INTEGER,\n",
    "#         products_no         INTEGER,\n",
    "#         items_no            INTEGER,\n",
    "#         frequency           REAL,\n",
    "#         returns_no          INTEGER,\n",
    "#         return_rate         REAL,\n",
    "#         cluster             INTEGER\n",
    "#     )\n",
    "# \"\"\"\n",
    "\n",
    "# conn = sqlite3.connect('../data/insiders_db.sqlite')\n",
    "# conn.execute(query_create_table_insiders)\n",
    "# conn.commit()\n",
    "# conn.close()\n",
    "\n",
    "# Insert Data\n",
    "conn = create_engine('sqlite:////home/vitor/Repos/loyalty-program//data/insiders_db.sqlite')\n",
    "#df92.to_sql('insiders', con=conn, if_exists='append', index=False)\n",
    "\n",
    "# Select Data"
   ]
  },
  {
   "cell_type": "code",
   "execution_count": null,
   "id": "c5533719",
   "metadata": {
    "papermill": {
     "duration": null,
     "end_time": null,
     "exception": null,
     "start_time": null,
     "status": "completed"
    },
    "tags": []
   },
   "outputs": [],
   "source": [
    "# Consulting database\n",
    "query = \"\"\"\n",
    "    SELECT * FROM insiders\n",
    "\"\"\"\n",
    "\n",
    "df = pd.read_sql_query(query, conn)\n",
    "\n",
    "df.head()"
   ]
  }
 ],
 "metadata": {
  "kernelspec": {
   "display_name": "Python 3.9.0 64-bit ('LoyaltyProgram')",
   "language": "python",
   "name": "python3"
  },
  "language_info": {
   "codemirror_mode": {
    "name": "ipython",
    "version": 3
   },
   "file_extension": ".py",
   "mimetype": "text/x-python",
   "name": "python",
   "nbconvert_exporter": "python",
   "pygments_lexer": "ipython3",
   "version": "3.9.0"
  },
  "papermill": {
   "default_parameters": {},
   "duration": 37.487075,
   "end_time": "2022-08-22T14:30:43.640542",
   "environment_variables": {},
   "exception": null,
   "input_path": "/home/vitor/Repos/loyalty-program/scr/loyalty_program.ipynb",
   "output_path": "/home/vitor/Repos/loyalty-program/reports/loyalty_program_.ipynb",
   "parameters": {},
   "start_time": "2022-08-22T14:30:06.153467",
   "version": "2.4.0"
  },
  "vscode": {
   "interpreter": {
    "hash": "b3aea487c2939026990446acc39d0068ca11417f375febde9f2cd58727f0d4dc"
   }
  }
 },
 "nbformat": 4,
 "nbformat_minor": 5
}